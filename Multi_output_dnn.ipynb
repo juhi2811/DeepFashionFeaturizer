{
  "cells": [
    {
      "cell_type": "markdown",
      "metadata": {
        "id": "view-in-github",
        "colab_type": "text"
      },
      "source": [
        "<a href=\"https://colab.research.google.com/github/juhi2811/DeepFashion/blob/df_v1/Multi_output_dnn.ipynb\" target=\"_parent\"><img src=\"https://colab.research.google.com/assets/colab-badge.svg\" alt=\"Open In Colab\"/></a>"
      ]
    },
    {
      "cell_type": "markdown",
      "source": [
        "Install libraries"
      ],
      "metadata": {
        "id": "sxvEA-mNaoGQ"
      }
    },
    {
      "cell_type": "code",
      "execution_count": 1,
      "metadata": {
        "colab": {
          "base_uri": "https://localhost:8080/"
        },
        "id": "1i3rYDzNv7_o",
        "outputId": "8bc68a94-8cf4-44f8-a1e8-56e4f9896f84"
      },
      "outputs": [
        {
          "output_type": "stream",
          "name": "stdout",
          "text": [
            "Looking in indexes: https://pypi.org/simple, https://us-python.pkg.dev/colab-wheels/public/simple/\n",
            "Collecting tensorflow-estimator==2.1.*\n",
            "  Downloading tensorflow_estimator-2.1.0-py2.py3-none-any.whl (448 kB)\n",
            "\u001b[K     |████████████████████████████████| 448 kB 5.2 MB/s \n",
            "\u001b[?25hInstalling collected packages: tensorflow-estimator\n",
            "  Attempting uninstall: tensorflow-estimator\n",
            "    Found existing installation: tensorflow-estimator 2.8.0\n",
            "    Uninstalling tensorflow-estimator-2.8.0:\n",
            "      Successfully uninstalled tensorflow-estimator-2.8.0\n",
            "\u001b[31mERROR: pip's dependency resolver does not currently take into account all the packages that are installed. This behaviour is the source of the following dependency conflicts.\n",
            "tensorflow 2.8.2+zzzcolab20220719082949 requires tensorflow-estimator<2.9,>=2.8, but you have tensorflow-estimator 2.1.0 which is incompatible.\u001b[0m\n",
            "Successfully installed tensorflow-estimator-2.1.0\n"
          ]
        }
      ],
      "source": [
        "!pip install tensorflow-estimator==2.1.*"
      ]
    },
    {
      "cell_type": "code",
      "execution_count": 2,
      "metadata": {
        "colab": {
          "base_uri": "https://localhost:8080/"
        },
        "id": "Vla7BajAaVCL",
        "outputId": "5f882dc7-6453-41f7-b2cf-614a8b7b6830"
      },
      "outputs": [
        {
          "output_type": "stream",
          "name": "stdout",
          "text": [
            "Looking in indexes: https://pypi.org/simple, https://us-python.pkg.dev/colab-wheels/public/simple/\n",
            "Collecting webcolors\n",
            "  Downloading webcolors-1.12-py3-none-any.whl (9.9 kB)\n",
            "Installing collected packages: webcolors\n",
            "Successfully installed webcolors-1.12\n"
          ]
        }
      ],
      "source": [
        "!pip install webcolors"
      ]
    },
    {
      "cell_type": "code",
      "execution_count": 3,
      "metadata": {
        "colab": {
          "base_uri": "https://localhost:8080/"
        },
        "id": "xicGkeDVC6sK",
        "outputId": "35921d7e-b580-4d1a-fde2-4a73be938ca4"
      },
      "outputs": [
        {
          "output_type": "stream",
          "name": "stdout",
          "text": [
            "Looking in indexes: https://pypi.org/simple, https://us-python.pkg.dev/colab-wheels/public/simple/\n",
            "Collecting colorthief\n",
            "  Downloading colorthief-0.2.1-py2.py3-none-any.whl (6.1 kB)\n",
            "Requirement already satisfied: Pillow in /usr/local/lib/python3.7/dist-packages (from colorthief) (7.1.2)\n",
            "Installing collected packages: colorthief\n",
            "Successfully installed colorthief-0.2.1\n"
          ]
        }
      ],
      "source": [
        "!pip install colorthief"
      ]
    },
    {
      "cell_type": "markdown",
      "source": [
        "Import modules"
      ],
      "metadata": {
        "id": "EgA_0AL6ueC_"
      }
    },
    {
      "cell_type": "code",
      "execution_count": 3,
      "metadata": {
        "colab": {
          "base_uri": "https://localhost:8080/"
        },
        "id": "pQev6HXEZ3C8",
        "outputId": "dd739447-8dca-4564-b74f-bd13e6258010"
      },
      "outputs": [
        {
          "output_type": "stream",
          "name": "stdout",
          "text": [
            "Colab only includes TensorFlow 2.x; %tensorflow_version has no effect.\n"
          ]
        }
      ],
      "source": [
        "try:\n",
        "  # %tensorflow_version only exists in Colab.\n",
        "  %tensorflow_version 2.x\n",
        "except Exception:\n",
        "  pass\n",
        "\n",
        "import tensorflow as tf\n",
        "\n",
        "import numpy as np\n",
        "import matplotlib.pyplot as plt\n",
        "import pandas as pd\n",
        "import ast \n",
        "from tensorflow.keras.models import Model\n",
        "from tensorflow.keras.layers import Dense, Input\n",
        "from sklearn.model_selection import train_test_split\n",
        "from tensorflow.keras.layers import Input, Flatten, Dense, Dropout, Lambda\n",
        "from tensorflow.keras.optimizers import RMSprop\n",
        "from tensorflow.keras.datasets import fashion_mnist\n",
        "from tensorflow.python.keras.utils.vis_utils import plot_model\n",
        "from tensorflow.keras import backend as K\n",
        "from tensorflow.keras.utils import to_categorical\n",
        "import numpy as np\n",
        "import tensorflow as tf\n",
        "from tensorflow import keras\n",
        "from tensorflow.keras import layers\n",
        "from skimage import io\n",
        "import numpy as np\n",
        "from sklearn.model_selection import train_test_split\n",
        "import pandas as pd\n",
        "import matplotlib.pyplot as plt\n",
        "import PIL\n",
        "from colorthief import ColorThief\n",
        "import scipy\n",
        "from scipy.spatial import KDTree\n",
        "from webcolors import CSS3_HEX_TO_NAMES,hex_to_rgb\n",
        "from PIL import Image, ImageFont, ImageDraw\n",
        "import random\n",
        "import pathlib\n",
        "import os\n",
        "import cv2"
      ]
    },
    {
      "cell_type": "markdown",
      "source": [
        "Mount Google drive"
      ],
      "metadata": {
        "id": "fWiW05Ahaxl8"
      }
    },
    {
      "cell_type": "code",
      "execution_count": 5,
      "metadata": {
        "colab": {
          "base_uri": "https://localhost:8080/"
        },
        "id": "MABoWfufaaEY",
        "outputId": "cc633341-10c6-40ca-9542-8ec77a104fac"
      },
      "outputs": [
        {
          "output_type": "stream",
          "name": "stdout",
          "text": [
            "Mounted at /content/gdrive\n"
          ]
        }
      ],
      "source": [
        "from google.colab import drive\n",
        "drive.mount('/content/gdrive')"
      ]
    },
    {
      "cell_type": "code",
      "execution_count": 4,
      "metadata": {
        "id": "7-Hx9esUYCRH"
      },
      "outputs": [],
      "source": [
        "os.chdir(\"gdrive\")#/Colab Notebooks/DeepFashionCode\")"
      ]
    },
    {
      "cell_type": "code",
      "execution_count": 5,
      "metadata": {
        "colab": {
          "base_uri": "https://localhost:8080/"
        },
        "id": "PiY-skmg_Qgl",
        "outputId": "2d12b85b-981d-4c2d-cdf8-cfecb500368e"
      },
      "outputs": [
        {
          "output_type": "execute_result",
          "data": {
            "text/plain": [
              "['MyDrive', '.shortcut-targets-by-id', '.file-revisions-by-id', '.Trash-0']"
            ]
          },
          "metadata": {},
          "execution_count": 5
        }
      ],
      "source": [
        "os.listdir()"
      ]
    },
    {
      "cell_type": "code",
      "execution_count": 6,
      "metadata": {
        "id": "IjE8BaXO1bxf"
      },
      "outputs": [],
      "source": [
        "df_images=pd.DataFrame(columns=[\"image_folder\",\"image_name\"])\n"
      ]
    },
    {
      "cell_type": "markdown",
      "source": [
        "Read images into a dataframe"
      ],
      "metadata": {
        "id": "b3ATECDZa5pF"
      }
    },
    {
      "cell_type": "code",
      "execution_count": 7,
      "metadata": {
        "id": "lfA1Jtl545la"
      },
      "outputs": [],
      "source": [
        "folders_images=[\"MyDrive/img/\"+f for f in os.listdir(\"MyDrive/img\") if \".\" not in f]"
      ]
    },
    {
      "cell_type": "code",
      "execution_count": 8,
      "metadata": {
        "id": "JAbDOuNLMV_T"
      },
      "outputs": [],
      "source": [
        "for l in folders_images:\n",
        "  if len(l)>0:\n",
        "    df_append=pd.DataFrame(columns=[\"image_folder\",\"image_path\"])\n",
        "    df_append[\"image_folder\"]=[l for idx in range(len(os.listdir(l)))]\n",
        "    df_append[\"image_name\"]=os.listdir(l)\n",
        "    df_images=df_images.append(df_append,ignore_index=True)"
      ]
    },
    {
      "cell_type": "code",
      "execution_count": 9,
      "metadata": {
        "id": "8yNiQjNrMYMy"
      },
      "outputs": [],
      "source": [
        "df_images[\"image_path\"]=df_images[\"image_folder\"]+\"/\"+df_images[\"image_name\"]"
      ]
    },
    {
      "cell_type": "code",
      "execution_count": 10,
      "metadata": {
        "id": "KfAYOni6x2yo"
      },
      "outputs": [],
      "source": [
        "df_images[\"item_class\"]=df_images[\"image_path\"].apply(lambda x: x.split(\"/\")[-2].split(\"_\")[-1])\n",
        "df_images[\"design_class\"]=df_images[\"image_path\"].apply(lambda x: x.split(\"/\")[-2].split(\"_\")[-2])\n",
        "df_images[\"design_pre\"]=df_images[\"image_path\"].apply(lambda x: [x.split(\"/\")[-2].split(\"_\")[-3] if len(x.split(\"/\")[-2].split(\"_\"))>3 else \"\"][0])\n",
        "df_images[\"design_type\"]=df_images[\"design_pre\"]+\" \"+df_images[\"design_class\"]"
      ]
    },
    {
      "cell_type": "code",
      "execution_count": 11,
      "metadata": {
        "colab": {
          "base_uri": "https://localhost:8080/",
          "height": 335
        },
        "id": "LG44DAHIMpon",
        "outputId": "969e1e3c-e359-453c-c507-f80f3c687307"
      },
      "outputs": [
        {
          "output_type": "stream",
          "name": "stdout",
          "text": [
            "img_00000008.jpg\n"
          ]
        },
        {
          "output_type": "execute_result",
          "data": {
            "text/plain": [
              "<PIL.JpegImagePlugin.JpegImageFile image mode=RGB size=226x300 at 0x7F68899EA9D0>"
            ],
            "image/png": "[encoded data removed]"
          },
          "metadata": {},
          "execution_count": 11
        }
      ],
      "source": [
        "print(list(df_images[df_images[\"item_class\"]==\"Blouse\"][\"image_path\"])[1].split(\"/\")[3])\n",
        "PIL.Image.open(list(df_images[df_images[\"design_type\"].str.contains(\"Rose\")][\"image_path\"])[34])"
      ]
    },
    {
      "cell_type": "code",
      "execution_count": 12,
      "metadata": {
        "id": "y-qoVVPB1dLr",
        "colab": {
          "base_uri": "https://localhost:8080/"
        },
        "outputId": "5db6a4fa-eed5-471a-a2f1-96ff813667ce"
      },
      "outputs": [
        {
          "output_type": "stream",
          "name": "stdout",
          "text": [
            "cp: missing destination file operand after '/content/drive/MyDrive/ColabNotebooks/DeepFashionCode/preprocess_images.py'\n",
            "Try 'cp --help' for more information.\n"
          ]
        }
      ],
      "source": [
        "from google.colab import files\n",
        "#import preprocess_images\n",
        "!cp /content/drive/MyDrive/ColabNotebooks/DeepFashionCode/preprocess_images.py"
      ]
    },
    {
      "cell_type": "markdown",
      "source": [
        "Preprocessing images"
      ],
      "metadata": {
        "id": "BJoq7iSebUBz"
      }
    },
    {
      "cell_type": "code",
      "execution_count": 13,
      "metadata": {
        "id": "NBmf8bdmfglg",
        "colab": {
          "base_uri": "https://localhost:8080/",
          "height": 133
        },
        "outputId": "538bea00-ed46-4cb9-8de7-947a98837ccd"
      },
      "outputs": [
        {
          "output_type": "error",
          "ename": "IndentationError",
          "evalue": "ignored",
          "traceback": [
            "\u001b[0;36m  File \u001b[0;32m\"<ipython-input-13-a5163e2cef75>\"\u001b[0;36m, line \u001b[0;32m5\u001b[0m\n\u001b[0;31m    css3_db = CSS3_HEX_TO_NAMES\u001b[0m\n\u001b[0m    ^\u001b[0m\n\u001b[0;31mIndentationError\u001b[0m\u001b[0;31m:\u001b[0m unexpected indent\n"
          ]
        }
      ],
      "source": [
        "\n",
        "def convert_rgb_to_names(rgb_tuple):\n",
        "  \"\"\"Convert rgb tuples to color name\"\"\"\n",
        "    \n",
        "    # a dictionary of all the hex and their respective names in css3\n",
        "    css3_db = CSS3_HEX_TO_NAMES\n",
        "    names = []\n",
        "    rgb_values = []\n",
        "    for color_hex, color_name in css3_db.items():\n",
        "        names.append(color_name)\n",
        "        rgb_values.append(hex_to_rgb(color_hex))\n",
        "    \n",
        "    kdt_db = KDTree(rgb_values)\n",
        "    distance, index = kdt_db.query(rgb_tuple)\n",
        "    return f'closest match: {names[index]}'\n",
        "\n",
        "  def preprocess_resize(df):\n",
        "    \"\"\"Preprocess and resize images to create RGB array of pixels\"\"\"\n",
        "    df[\"content\"] = df[\"image_path\"].apply(lambda x: cv2.imread(x))\n",
        "\n",
        "    df[\"image_resized\"] = df[\"content\"].apply(lambda x: np.array(cv2.resize(x, (32,32))))\n",
        "      # Resize the image to the desired size\n",
        "    #df[\"image_resized\"] = df[\"image_raw\"].apply(lambda x: tf.image.resize(x, [img_height, img_width]))\n",
        "    return df"
      ]
    },
    {
      "cell_type": "code",
      "execution_count": null,
      "metadata": {
        "id": "FPCIUzd8EpZi"
      },
      "outputs": [],
      "source": [
        "color_thief = ColorThief(list(df_images[df_images[\"item_class\"]==\"Hoodie\"][\"image_path\"])[2])\n",
        "# get the dominant color\n",
        "dominant_color = color_thief.get_color(quality=1)\n",
        "closest_dominant_name=convert_rgb_to_names(dominant_color)\n",
        "closest_dominant_name"
      ]
    },
    {
      "cell_type": "markdown",
      "source": [
        "Create category mapping for different attributes"
      ],
      "metadata": {
        "id": "sq6a2HJwcER9"
      }
    },
    {
      "cell_type": "code",
      "execution_count": null,
      "metadata": {
        "id": "JJKeBDyyhM0E"
      },
      "outputs": [],
      "source": [
        "tops=['Cardigan', 'Tee', 'Top', 'Sweater', 'Halter',\n",
        "       'Tank', 'Hoodie', 'Blazer', 'Jacket',\n",
        "       'Blouse', 'Coat', \n",
        "        'Button-Down','Turtleneck', 'Kaftan', 'Flannel',\n",
        "       'Parka', 'Henley', 'Poncho', 'Jersey',\n",
        "       'Anorak', 'Jodhpurs', 'Caftan']\n",
        "bottoms=['Skirt', 'Leggings', 'Sweatpants', \n",
        "       'Shorts', 'Jeans', 'Joggers',   'Chinos',\n",
        "       'Cutoffs', 'Culottes', \n",
        "       'Jeggings', 'Sweatshorts', 'Capris', 'Trunks',\n",
        "       'Gauchos']\n",
        "one_pieces=['Dress',\n",
        "       'Kimono', 'Jumpsuit', 'Coverup', 'Robe', 'Onesie','Romper']\n",
        "formals=['Blazer','Blouse','Jumpsuit','Turtleneck','Skirt','Dress','Coat','Chinos']\n",
        "casuals=[ 'Tee', 'Top', 'Sweater', 'Halter',   'Jacket',\n",
        "        'Button-Down','Kaftan', 'Flannel',\n",
        "       'Parka', 'Henley', 'Poncho','Anorak', 'Jodhpurs', 'Caftan','Leggings','Sweatpants', \n",
        "       'Shorts', 'Jeans', \n",
        "       'Cutoffs', 'Culottes', \n",
        "       'Jeggings', 'Sweatshorts', 'Capris', 'Trunks',\n",
        "       'Gauchos','Kimono','Onesie','Coverup','Romper']\n",
        "# spring=[\"Dress\",\"Jumpsuit\",\"Skirt\"]\n",
        "sporty=['Hoodie','Tank','Jersey','Joggers',  'Hoodie']\n",
        "df_images[\"dress_type\"]=df_images[\"item_class\"].apply(lambda x: [\"top\" if x in tops else \"bottom\" if x in bottoms else \"one_piece\"][0])\n",
        "df_images[\"dress_ocassion\"]=df_images[\"item_class\"].apply(lambda x: [\"sporty\" if x in sporty else \"formal\" if x in formals else \"casual\"][0])\n",
        "df_images[\"broad_design\"]=df_images[\"design_type\"].apply(lambda x: [\"Print\" if (\"print\" in x.lower() or \"floral\" in x.lower() or \"dot\" in x.lower() or \"tulip\" in x.lower() or \"stripe\" in x.lower() or \"boxy\" in x.lower() or \"tulip\" in x.lower() or \"rose\" in x.lower()) else \"Knit\" if (\"knit\" in x.lower()  or \"embroidere\" in x.lower() or \"woven\" in x.lower() or \"crochet\" in x.lower() or \"texture\" in x.lower()) else \"Classic\"][0])"
      ]
    },
    {
      "cell_type": "markdown",
      "metadata": {
        "id": "ZgNwE5A7jL0J"
      },
      "source": []
    },
    {
      "cell_type": "code",
      "execution_count": 21,
      "metadata": {
        "id": "p0dfhAegapty"
      },
      "outputs": [],
      "source": [
        "df_images[\"print_type\"]=df_images[\"design_type\"].apply(lambda x: [\"Dotted\" if (\"dot\" in x.lower() or \"spot\" in x.lower()) else \"Floral\" if  (\"floral\" in x.lower() or \"rose\" in x.lower()) else \"Striped\" if (\"stripe\" in x.lower() and \"lined\" in x.lower()) else \"Boxed\"  if \"boxy\" in x.lower() else \"Graphic\" if \"graphic\" in x.lower() else \"NA\"][0])\n",
        "df_images[\"print_type\"]=df_images.apply(lambda dfx: [\"Other prints\" if (dfx[\"broad_design\"]==\"Print\" and dfx[\"print_type\"]==\"NA\") else dfx[\"print_type\"]][0],axis=1)"
      ]
    },
    {
      "cell_type": "code",
      "execution_count": 22,
      "metadata": {
        "colab": {
          "base_uri": "https://localhost:8080/"
        },
        "id": "HLBkON2NVVNE",
        "outputId": "55f58d26-4356-47ba-b675-0abb26c43901"
      },
      "outputs": [
        {
          "output_type": "execute_result",
          "data": {
            "text/plain": [
              "array(['NA', 'Other prints', 'Floral', 'Dotted', 'Graphic', 'Boxed'],\n",
              "      dtype=object)"
            ]
          },
          "metadata": {},
          "execution_count": 22
        }
      ],
      "source": [
        "df_images[\"print_type\"].unique()"
      ]
    },
    {
      "cell_type": "code",
      "execution_count": 24,
      "metadata": {
        "colab": {
          "base_uri": "https://localhost:8080/",
          "height": 175
        },
        "id": "JLxe_l7hs4BI",
        "outputId": "05673d23-801d-40eb-d1fa-f8b6a278a0e4"
      },
      "outputs": [
        {
          "output_type": "execute_result",
          "data": {
            "text/plain": [
              "            image_folder  image_name  image_path  item_class  design_class  \\\n",
              "dress_type                                                                   \n",
              "bottom             32655       32655       32655       32655         32655   \n",
              "one_piece          51329       51329       51329       51329         51329   \n",
              "top                81883       81883       81883       81883         81883   \n",
              "\n",
              "            design_pre  design_type  dress_ocassion  broad_design  print_type  \n",
              "dress_type                                                                     \n",
              "bottom           32655        32655           32655         32655       32655  \n",
              "one_piece        51329        51329           51329         51329       51329  \n",
              "top              81883        81883           81883         81883       81883  "
            ],
            "text/html": [
              "\n",
              "  <div id=\"df-01cfa4b1-fdeb-4a93-b828-7ab276bde8e0\">\n",
              "    <div class=\"colab-df-container\">\n",
              "      <div>\n",
              "<style scoped>\n",
              "    .dataframe tbody tr th:only-of-type {\n",
              "        vertical-align: middle;\n",
              "    }\n",
              "\n",
              "    .dataframe tbody tr th {\n",
              "        vertical-align: top;\n",
              "    }\n",
              "\n",
              "    .dataframe thead th {\n",
              "        text-align: right;\n",
              "    }\n",
              "</style>\n",
              "<table border=\"1\" class=\"dataframe\">\n",
              "  <thead>\n",
              "    <tr style=\"text-align: right;\">\n",
              "      <th></th>\n",
              "      <th>image_folder</th>\n",
              "      <th>image_name</th>\n",
              "      <th>image_path</th>\n",
              "      <th>item_class</th>\n",
              "      <th>design_class</th>\n",
              "      <th>design_pre</th>\n",
              "      <th>design_type</th>\n",
              "      <th>dress_ocassion</th>\n",
              "      <th>broad_design</th>\n",
              "      <th>print_type</th>\n",
              "    </tr>\n",
              "    <tr>\n",
              "      <th>dress_type</th>\n",
              "      <th></th>\n",
              "      <th></th>\n",
              "      <th></th>\n",
              "      <th></th>\n",
              "      <th></th>\n",
              "      <th></th>\n",
              "      <th></th>\n",
              "      <th></th>\n",
              "      <th></th>\n",
              "      <th></th>\n",
              "    </tr>\n",
              "  </thead>\n",
              "  <tbody>\n",
              "    <tr>\n",
              "      <th>bottom</th>\n",
              "      <td>32655</td>\n",
              "      <td>32655</td>\n",
              "      <td>32655</td>\n",
              "      <td>32655</td>\n",
              "      <td>32655</td>\n",
              "      <td>32655</td>\n",
              "      <td>32655</td>\n",
              "      <td>32655</td>\n",
              "      <td>32655</td>\n",
              "      <td>32655</td>\n",
              "    </tr>\n",
              "    <tr>\n",
              "      <th>one_piece</th>\n",
              "      <td>51329</td>\n",
              "      <td>51329</td>\n",
              "      <td>51329</td>\n",
              "      <td>51329</td>\n",
              "      <td>51329</td>\n",
              "      <td>51329</td>\n",
              "      <td>51329</td>\n",
              "      <td>51329</td>\n",
              "      <td>51329</td>\n",
              "      <td>51329</td>\n",
              "    </tr>\n",
              "    <tr>\n",
              "      <th>top</th>\n",
              "      <td>81883</td>\n",
              "      <td>81883</td>\n",
              "      <td>81883</td>\n",
              "      <td>81883</td>\n",
              "      <td>81883</td>\n",
              "      <td>81883</td>\n",
              "      <td>81883</td>\n",
              "      <td>81883</td>\n",
              "      <td>81883</td>\n",
              "      <td>81883</td>\n",
              "    </tr>\n",
              "  </tbody>\n",
              "</table>\n",
              "</div>\n",
              "      <button class=\"colab-df-convert\" onclick=\"convertToInteractive('df-01cfa4b1-fdeb-4a93-b828-7ab276bde8e0')\"\n",
              "              title=\"Convert this dataframe to an interactive table.\"\n",
              "              style=\"display:none;\">\n",
              "        \n",
              "  <svg xmlns=\"http://www.w3.org/2000/svg\" height=\"24px\"viewBox=\"0 0 24 24\"\n",
              "       width=\"24px\">\n",
              "    <path d=\"M0 0h24v24H0V0z\" fill=\"none\"/>\n",
              "    <path d=\"M18.56 5.44l.94 2.06.94-2.06 2.06-.94-2.06-.94-.94-2.06-.94 2.06-2.06.94zm-11 1L8.5 8.5l.94-2.06 2.06-.94-2.06-.94L8.5 2.5l-.94 2.06-2.06.94zm10 10l.94 2.06.94-2.06 2.06-.94-2.06-.94-.94-2.06-.94 2.06-2.06.94z\"/><path d=\"M17.41 7.96l-1.37-1.37c-.4-.4-.92-.59-1.43-.59-.52 0-1.04.2-1.43.59L10.3 9.45l-7.72 7.72c-.78.78-.78 2.05 0 2.83L4 21.41c.39.39.9.59 1.41.59.51 0 1.02-.2 1.41-.59l7.78-7.78 2.81-2.81c.8-.78.8-2.07 0-2.86zM5.41 20L4 18.59l7.72-7.72 1.47 1.35L5.41 20z\"/>\n",
              "  </svg>\n",
              "      </button>\n",
              "      \n",
              "  <style>\n",
              "    .colab-df-container {\n",
              "      display:flex;\n",
              "      flex-wrap:wrap;\n",
              "      gap: 12px;\n",
              "    }\n",
              "\n",
              "    .colab-df-convert {\n",
              "      background-color: #E8F0FE;\n",
              "      border: none;\n",
              "      border-radius: 50%;\n",
              "      cursor: pointer;\n",
              "      display: none;\n",
              "      fill: #1967D2;\n",
              "      height: 32px;\n",
              "      padding: 0 0 0 0;\n",
              "      width: 32px;\n",
              "    }\n",
              "\n",
              "    .colab-df-convert:hover {\n",
              "      background-color: #E2EBFA;\n",
              "      box-shadow: 0px 1px 2px rgba(60, 64, 67, 0.3), 0px 1px 3px 1px rgba(60, 64, 67, 0.15);\n",
              "      fill: #174EA6;\n",
              "    }\n",
              "\n",
              "    [theme=dark] .colab-df-convert {\n",
              "      background-color: #3B4455;\n",
              "      fill: #D2E3FC;\n",
              "    }\n",
              "\n",
              "    [theme=dark] .colab-df-convert:hover {\n",
              "      background-color: #434B5C;\n",
              "      box-shadow: 0px 1px 3px 1px rgba(0, 0, 0, 0.15);\n",
              "      filter: drop-shadow(0px 1px 2px rgba(0, 0, 0, 0.3));\n",
              "      fill: #FFFFFF;\n",
              "    }\n",
              "  </style>\n",
              "\n",
              "      <script>\n",
              "        const buttonEl =\n",
              "          document.querySelector('#df-01cfa4b1-fdeb-4a93-b828-7ab276bde8e0 button.colab-df-convert');\n",
              "        buttonEl.style.display =\n",
              "          google.colab.kernel.accessAllowed ? 'block' : 'none';\n",
              "\n",
              "        async function convertToInteractive(key) {\n",
              "          const element = document.querySelector('#df-01cfa4b1-fdeb-4a93-b828-7ab276bde8e0');\n",
              "          const dataTable =\n",
              "            await google.colab.kernel.invokeFunction('convertToInteractive',\n",
              "                                                     [key], {});\n",
              "          if (!dataTable) return;\n",
              "\n",
              "          const docLinkHtml = 'Like what you see? Visit the ' +\n",
              "            '<a target=\"_blank\" href=https://colab.research.google.com/notebooks/data_table.ipynb>data table notebook</a>'\n",
              "            + ' to learn more about interactive tables.';\n",
              "          element.innerHTML = '';\n",
              "          dataTable['output_type'] = 'display_data';\n",
              "          await google.colab.output.renderOutput(dataTable, element);\n",
              "          const docLink = document.createElement('div');\n",
              "          docLink.innerHTML = docLinkHtml;\n",
              "          element.appendChild(docLink);\n",
              "        }\n",
              "      </script>\n",
              "    </div>\n",
              "  </div>\n",
              "  "
            ]
          },
          "metadata": {},
          "execution_count": 24
        }
      ],
      "source": [
        "df_images.groupby(\"dress_type\").count()"
      ]
    },
    {
      "cell_type": "code",
      "execution_count": 25,
      "metadata": {
        "colab": {
          "base_uri": "https://localhost:8080/",
          "height": 175
        },
        "id": "8M571X0YuGdX",
        "outputId": "6c34ccff-f560-4a5f-9181-b96e2127820f"
      },
      "outputs": [
        {
          "output_type": "execute_result",
          "data": {
            "text/plain": [
              "                image_folder  image_name  image_path  item_class  \\\n",
              "dress_ocassion                                                     \n",
              "casual                 75867       75867       75867       75867   \n",
              "formal                 75457       75457       75457       75457   \n",
              "sporty                 14543       14543       14543       14543   \n",
              "\n",
              "                design_class  design_pre  design_type  dress_type  \\\n",
              "dress_ocassion                                                      \n",
              "casual                 75867       75867        75867       75867   \n",
              "formal                 75457       75457        75457       75457   \n",
              "sporty                 14543       14543        14543       14543   \n",
              "\n",
              "                broad_design  print_type  \n",
              "dress_ocassion                            \n",
              "casual                 75867       75867  \n",
              "formal                 75457       75457  \n",
              "sporty                 14543       14543  "
            ],
            "text/html": [
              "\n",
              "  <div id=\"df-3ef46ff2-5a22-4929-8ce6-4f346140bdcd\">\n",
              "    <div class=\"colab-df-container\">\n",
              "      <div>\n",
              "<style scoped>\n",
              "    .dataframe tbody tr th:only-of-type {\n",
              "        vertical-align: middle;\n",
              "    }\n",
              "\n",
              "    .dataframe tbody tr th {\n",
              "        vertical-align: top;\n",
              "    }\n",
              "\n",
              "    .dataframe thead th {\n",
              "        text-align: right;\n",
              "    }\n",
              "</style>\n",
              "<table border=\"1\" class=\"dataframe\">\n",
              "  <thead>\n",
              "    <tr style=\"text-align: right;\">\n",
              "      <th></th>\n",
              "      <th>image_folder</th>\n",
              "      <th>image_name</th>\n",
              "      <th>image_path</th>\n",
              "      <th>item_class</th>\n",
              "      <th>design_class</th>\n",
              "      <th>design_pre</th>\n",
              "      <th>design_type</th>\n",
              "      <th>dress_type</th>\n",
              "      <th>broad_design</th>\n",
              "      <th>print_type</th>\n",
              "    </tr>\n",
              "    <tr>\n",
              "      <th>dress_ocassion</th>\n",
              "      <th></th>\n",
              "      <th></th>\n",
              "      <th></th>\n",
              "      <th></th>\n",
              "      <th></th>\n",
              "      <th></th>\n",
              "      <th></th>\n",
              "      <th></th>\n",
              "      <th></th>\n",
              "      <th></th>\n",
              "    </tr>\n",
              "  </thead>\n",
              "  <tbody>\n",
              "    <tr>\n",
              "      <th>casual</th>\n",
              "      <td>75867</td>\n",
              "      <td>75867</td>\n",
              "      <td>75867</td>\n",
              "      <td>75867</td>\n",
              "      <td>75867</td>\n",
              "      <td>75867</td>\n",
              "      <td>75867</td>\n",
              "      <td>75867</td>\n",
              "      <td>75867</td>\n",
              "      <td>75867</td>\n",
              "    </tr>\n",
              "    <tr>\n",
              "      <th>formal</th>\n",
              "      <td>75457</td>\n",
              "      <td>75457</td>\n",
              "      <td>75457</td>\n",
              "      <td>75457</td>\n",
              "      <td>75457</td>\n",
              "      <td>75457</td>\n",
              "      <td>75457</td>\n",
              "      <td>75457</td>\n",
              "      <td>75457</td>\n",
              "      <td>75457</td>\n",
              "    </tr>\n",
              "    <tr>\n",
              "      <th>sporty</th>\n",
              "      <td>14543</td>\n",
              "      <td>14543</td>\n",
              "      <td>14543</td>\n",
              "      <td>14543</td>\n",
              "      <td>14543</td>\n",
              "      <td>14543</td>\n",
              "      <td>14543</td>\n",
              "      <td>14543</td>\n",
              "      <td>14543</td>\n",
              "      <td>14543</td>\n",
              "    </tr>\n",
              "  </tbody>\n",
              "</table>\n",
              "</div>\n",
              "      <button class=\"colab-df-convert\" onclick=\"convertToInteractive('df-3ef46ff2-5a22-4929-8ce6-4f346140bdcd')\"\n",
              "              title=\"Convert this dataframe to an interactive table.\"\n",
              "              style=\"display:none;\">\n",
              "        \n",
              "  <svg xmlns=\"http://www.w3.org/2000/svg\" height=\"24px\"viewBox=\"0 0 24 24\"\n",
              "       width=\"24px\">\n",
              "    <path d=\"M0 0h24v24H0V0z\" fill=\"none\"/>\n",
              "    <path d=\"M18.56 5.44l.94 2.06.94-2.06 2.06-.94-2.06-.94-.94-2.06-.94 2.06-2.06.94zm-11 1L8.5 8.5l.94-2.06 2.06-.94-2.06-.94L8.5 2.5l-.94 2.06-2.06.94zm10 10l.94 2.06.94-2.06 2.06-.94-2.06-.94-.94-2.06-.94 2.06-2.06.94z\"/><path d=\"M17.41 7.96l-1.37-1.37c-.4-.4-.92-.59-1.43-.59-.52 0-1.04.2-1.43.59L10.3 9.45l-7.72 7.72c-.78.78-.78 2.05 0 2.83L4 21.41c.39.39.9.59 1.41.59.51 0 1.02-.2 1.41-.59l7.78-7.78 2.81-2.81c.8-.78.8-2.07 0-2.86zM5.41 20L4 18.59l7.72-7.72 1.47 1.35L5.41 20z\"/>\n",
              "  </svg>\n",
              "      </button>\n",
              "      \n",
              "  <style>\n",
              "    .colab-df-container {\n",
              "      display:flex;\n",
              "      flex-wrap:wrap;\n",
              "      gap: 12px;\n",
              "    }\n",
              "\n",
              "    .colab-df-convert {\n",
              "      background-color: #E8F0FE;\n",
              "      border: none;\n",
              "      border-radius: 50%;\n",
              "      cursor: pointer;\n",
              "      display: none;\n",
              "      fill: #1967D2;\n",
              "      height: 32px;\n",
              "      padding: 0 0 0 0;\n",
              "      width: 32px;\n",
              "    }\n",
              "\n",
              "    .colab-df-convert:hover {\n",
              "      background-color: #E2EBFA;\n",
              "      box-shadow: 0px 1px 2px rgba(60, 64, 67, 0.3), 0px 1px 3px 1px rgba(60, 64, 67, 0.15);\n",
              "      fill: #174EA6;\n",
              "    }\n",
              "\n",
              "    [theme=dark] .colab-df-convert {\n",
              "      background-color: #3B4455;\n",
              "      fill: #D2E3FC;\n",
              "    }\n",
              "\n",
              "    [theme=dark] .colab-df-convert:hover {\n",
              "      background-color: #434B5C;\n",
              "      box-shadow: 0px 1px 3px 1px rgba(0, 0, 0, 0.15);\n",
              "      filter: drop-shadow(0px 1px 2px rgba(0, 0, 0, 0.3));\n",
              "      fill: #FFFFFF;\n",
              "    }\n",
              "  </style>\n",
              "\n",
              "      <script>\n",
              "        const buttonEl =\n",
              "          document.querySelector('#df-3ef46ff2-5a22-4929-8ce6-4f346140bdcd button.colab-df-convert');\n",
              "        buttonEl.style.display =\n",
              "          google.colab.kernel.accessAllowed ? 'block' : 'none';\n",
              "\n",
              "        async function convertToInteractive(key) {\n",
              "          const element = document.querySelector('#df-3ef46ff2-5a22-4929-8ce6-4f346140bdcd');\n",
              "          const dataTable =\n",
              "            await google.colab.kernel.invokeFunction('convertToInteractive',\n",
              "                                                     [key], {});\n",
              "          if (!dataTable) return;\n",
              "\n",
              "          const docLinkHtml = 'Like what you see? Visit the ' +\n",
              "            '<a target=\"_blank\" href=https://colab.research.google.com/notebooks/data_table.ipynb>data table notebook</a>'\n",
              "            + ' to learn more about interactive tables.';\n",
              "          element.innerHTML = '';\n",
              "          dataTable['output_type'] = 'display_data';\n",
              "          await google.colab.output.renderOutput(dataTable, element);\n",
              "          const docLink = document.createElement('div');\n",
              "          docLink.innerHTML = docLinkHtml;\n",
              "          element.appendChild(docLink);\n",
              "        }\n",
              "      </script>\n",
              "    </div>\n",
              "  </div>\n",
              "  "
            ]
          },
          "metadata": {},
          "execution_count": 25
        }
      ],
      "source": [
        "df_images.groupby(\"dress_ocassion\").count()"
      ]
    },
    {
      "cell_type": "code",
      "execution_count": null,
      "metadata": {
        "colab": {
          "base_uri": "https://localhost:8080/",
          "height": 175
        },
        "id": "fxhOIHpueuTF",
        "outputId": "9df6e317-5ecd-4547-b61b-eff50585f29b"
      },
      "outputs": [
        {
          "data": {
            "text/html": [
              "\n",
              "  <div id=\"df-acc10531-d316-462e-a129-d070496f4e2a\">\n",
              "    <div class=\"colab-df-container\">\n",
              "      <div>\n",
              "<style scoped>\n",
              "    .dataframe tbody tr th:only-of-type {\n",
              "        vertical-align: middle;\n",
              "    }\n",
              "\n",
              "    .dataframe tbody tr th {\n",
              "        vertical-align: top;\n",
              "    }\n",
              "\n",
              "    .dataframe thead th {\n",
              "        text-align: right;\n",
              "    }\n",
              "</style>\n",
              "<table border=\"1\" class=\"dataframe\">\n",
              "  <thead>\n",
              "    <tr style=\"text-align: right;\">\n",
              "      <th></th>\n",
              "      <th>image_folder</th>\n",
              "      <th>image_name</th>\n",
              "      <th>image_path</th>\n",
              "      <th>item_class</th>\n",
              "      <th>design_class</th>\n",
              "      <th>design_pre</th>\n",
              "      <th>design_type</th>\n",
              "      <th>dress_type</th>\n",
              "      <th>dress_ocassion</th>\n",
              "      <th>print_type</th>\n",
              "    </tr>\n",
              "    <tr>\n",
              "      <th>broad_design</th>\n",
              "      <th></th>\n",
              "      <th></th>\n",
              "      <th></th>\n",
              "      <th></th>\n",
              "      <th></th>\n",
              "      <th></th>\n",
              "      <th></th>\n",
              "      <th></th>\n",
              "      <th></th>\n",
              "      <th></th>\n",
              "    </tr>\n",
              "  </thead>\n",
              "  <tbody>\n",
              "    <tr>\n",
              "      <th>Classic</th>\n",
              "      <td>115157</td>\n",
              "      <td>115157</td>\n",
              "      <td>115157</td>\n",
              "      <td>115157</td>\n",
              "      <td>115157</td>\n",
              "      <td>115157</td>\n",
              "      <td>115157</td>\n",
              "      <td>115157</td>\n",
              "      <td>115157</td>\n",
              "      <td>115157</td>\n",
              "    </tr>\n",
              "    <tr>\n",
              "      <th>Knit</th>\n",
              "      <td>15707</td>\n",
              "      <td>15707</td>\n",
              "      <td>15707</td>\n",
              "      <td>15707</td>\n",
              "      <td>15707</td>\n",
              "      <td>15707</td>\n",
              "      <td>15707</td>\n",
              "      <td>15707</td>\n",
              "      <td>15707</td>\n",
              "      <td>15707</td>\n",
              "    </tr>\n",
              "    <tr>\n",
              "      <th>Print</th>\n",
              "      <td>35003</td>\n",
              "      <td>35003</td>\n",
              "      <td>35003</td>\n",
              "      <td>35003</td>\n",
              "      <td>35003</td>\n",
              "      <td>35003</td>\n",
              "      <td>35003</td>\n",
              "      <td>35003</td>\n",
              "      <td>35003</td>\n",
              "      <td>35003</td>\n",
              "    </tr>\n",
              "  </tbody>\n",
              "</table>\n",
              "</div>\n",
              "      <button class=\"colab-df-convert\" onclick=\"convertToInteractive('df-acc10531-d316-462e-a129-d070496f4e2a')\"\n",
              "              title=\"Convert this dataframe to an interactive table.\"\n",
              "              style=\"display:none;\">\n",
              "        \n",
              "  <svg xmlns=\"http://www.w3.org/2000/svg\" height=\"24px\"viewBox=\"0 0 24 24\"\n",
              "       width=\"24px\">\n",
              "    <path d=\"M0 0h24v24H0V0z\" fill=\"none\"/>\n",
              "    <path d=\"M18.56 5.44l.94 2.06.94-2.06 2.06-.94-2.06-.94-.94-2.06-.94 2.06-2.06.94zm-11 1L8.5 8.5l.94-2.06 2.06-.94-2.06-.94L8.5 2.5l-.94 2.06-2.06.94zm10 10l.94 2.06.94-2.06 2.06-.94-2.06-.94-.94-2.06-.94 2.06-2.06.94z\"/><path d=\"M17.41 7.96l-1.37-1.37c-.4-.4-.92-.59-1.43-.59-.52 0-1.04.2-1.43.59L10.3 9.45l-7.72 7.72c-.78.78-.78 2.05 0 2.83L4 21.41c.39.39.9.59 1.41.59.51 0 1.02-.2 1.41-.59l7.78-7.78 2.81-2.81c.8-.78.8-2.07 0-2.86zM5.41 20L4 18.59l7.72-7.72 1.47 1.35L5.41 20z\"/>\n",
              "  </svg>\n",
              "      </button>\n",
              "      \n",
              "  <style>\n",
              "    .colab-df-container {\n",
              "      display:flex;\n",
              "      flex-wrap:wrap;\n",
              "      gap: 12px;\n",
              "    }\n",
              "\n",
              "    .colab-df-convert {\n",
              "      background-color: #E8F0FE;\n",
              "      border: none;\n",
              "      border-radius: 50%;\n",
              "      cursor: pointer;\n",
              "      display: none;\n",
              "      fill: #1967D2;\n",
              "      height: 32px;\n",
              "      padding: 0 0 0 0;\n",
              "      width: 32px;\n",
              "    }\n",
              "\n",
              "    .colab-df-convert:hover {\n",
              "      background-color: #E2EBFA;\n",
              "      box-shadow: 0px 1px 2px rgba(60, 64, 67, 0.3), 0px 1px 3px 1px rgba(60, 64, 67, 0.15);\n",
              "      fill: #174EA6;\n",
              "    }\n",
              "\n",
              "    [theme=dark] .colab-df-convert {\n",
              "      background-color: #3B4455;\n",
              "      fill: #D2E3FC;\n",
              "    }\n",
              "\n",
              "    [theme=dark] .colab-df-convert:hover {\n",
              "      background-color: #434B5C;\n",
              "      box-shadow: 0px 1px 3px 1px rgba(0, 0, 0, 0.15);\n",
              "      filter: drop-shadow(0px 1px 2px rgba(0, 0, 0, 0.3));\n",
              "      fill: #FFFFFF;\n",
              "    }\n",
              "  </style>\n",
              "\n",
              "      <script>\n",
              "        const buttonEl =\n",
              "          document.querySelector('#df-acc10531-d316-462e-a129-d070496f4e2a button.colab-df-convert');\n",
              "        buttonEl.style.display =\n",
              "          google.colab.kernel.accessAllowed ? 'block' : 'none';\n",
              "\n",
              "        async function convertToInteractive(key) {\n",
              "          const element = document.querySelector('#df-acc10531-d316-462e-a129-d070496f4e2a');\n",
              "          const dataTable =\n",
              "            await google.colab.kernel.invokeFunction('convertToInteractive',\n",
              "                                                     [key], {});\n",
              "          if (!dataTable) return;\n",
              "\n",
              "          const docLinkHtml = 'Like what you see? Visit the ' +\n",
              "            '<a target=\"_blank\" href=https://colab.research.google.com/notebooks/data_table.ipynb>data table notebook</a>'\n",
              "            + ' to learn more about interactive tables.';\n",
              "          element.innerHTML = '';\n",
              "          dataTable['output_type'] = 'display_data';\n",
              "          await google.colab.output.renderOutput(dataTable, element);\n",
              "          const docLink = document.createElement('div');\n",
              "          docLink.innerHTML = docLinkHtml;\n",
              "          element.appendChild(docLink);\n",
              "        }\n",
              "      </script>\n",
              "    </div>\n",
              "  </div>\n",
              "  "
            ],
            "text/plain": [
              "              image_folder  image_name  image_path  item_class  design_class  \\\n",
              "broad_design                                                                   \n",
              "Classic             115157      115157      115157      115157        115157   \n",
              "Knit                 15707       15707       15707       15707         15707   \n",
              "Print                35003       35003       35003       35003         35003   \n",
              "\n",
              "              design_pre  design_type  dress_type  dress_ocassion  print_type  \n",
              "broad_design                                                                   \n",
              "Classic           115157       115157      115157          115157      115157  \n",
              "Knit               15707        15707       15707           15707       15707  \n",
              "Print              35003        35003       35003           35003       35003  "
            ]
          },
          "execution_count": 24,
          "metadata": {},
          "output_type": "execute_result"
        }
      ],
      "source": [
        "df_images.groupby(\"broad_design\").count()"
      ]
    },
    {
      "cell_type": "code",
      "execution_count": 26,
      "metadata": {
        "colab": {
          "base_uri": "https://localhost:8080/",
          "height": 522
        },
        "id": "6tlih1Iz4KJb",
        "outputId": "c89035e4-f420-4abc-af8e-6f594578ef83"
      },
      "outputs": [
        {
          "output_type": "execute_result",
          "data": {
            "text/plain": [
              "                                image_folder        image_name  \\\n",
              "0        MyDrive/img/Classic_Pullover_Hoodie  img_00000054.jpg   \n",
              "1      MyDrive/img/Striped_V-Neck_Cotton_Tee  img_00000032.jpg   \n",
              "2          MyDrive/img/Striped_Cami_Jumpsuit  img_00000009.jpg   \n",
              "3             MyDrive/img/Denim_Skater_Skirt  img_00000065.jpg   \n",
              "4          MyDrive/img/Floral_Chiffon_Blouse  img_00000095.jpg   \n",
              "...                                      ...               ...   \n",
              "44995     MyDrive/img/Boxy_Soft-Knit_Sweater  img_00000035.jpg   \n",
              "44996        MyDrive/img/Heathered_Knit_Coat  img_00000023.jpg   \n",
              "44997       MyDrive/img/Striped_Knit_Sweater  img_00000011.jpg   \n",
              "44998  MyDrive/img/High-Waisted_Woven_Shorts  img_00000002.jpg   \n",
              "44999      MyDrive/img/Textured_Woven_Blazer  img_00000052.jpg   \n",
              "\n",
              "                                              image_path item_class  \\\n",
              "0      MyDrive/img/Classic_Pullover_Hoodie/img_000000...     Hoodie   \n",
              "1      MyDrive/img/Striped_V-Neck_Cotton_Tee/img_0000...        Tee   \n",
              "2      MyDrive/img/Striped_Cami_Jumpsuit/img_00000009...   Jumpsuit   \n",
              "3        MyDrive/img/Denim_Skater_Skirt/img_00000065.jpg      Skirt   \n",
              "4      MyDrive/img/Floral_Chiffon_Blouse/img_00000095...     Blouse   \n",
              "...                                                  ...        ...   \n",
              "44995  MyDrive/img/Boxy_Soft-Knit_Sweater/img_0000003...    Sweater   \n",
              "44996   MyDrive/img/Heathered_Knit_Coat/img_00000023.jpg       Coat   \n",
              "44997  MyDrive/img/Striped_Knit_Sweater/img_00000011.jpg    Sweater   \n",
              "44998  MyDrive/img/High-Waisted_Woven_Shorts/img_0000...     Shorts   \n",
              "44999  MyDrive/img/Textured_Woven_Blazer/img_00000052...     Blazer   \n",
              "\n",
              "      design_class design_pre    design_type dress_type dress_ocassion  \\\n",
              "0         Pullover                  Pullover        top         sporty   \n",
              "1           Cotton     V-Neck  V-Neck Cotton        top         casual   \n",
              "2             Cami                      Cami  one_piece         formal   \n",
              "3           Skater                    Skater     bottom         formal   \n",
              "4          Chiffon                   Chiffon        top         formal   \n",
              "...            ...        ...            ...        ...            ...   \n",
              "44995    Soft-Knit                 Soft-Knit        top         casual   \n",
              "44996         Knit                      Knit        top         formal   \n",
              "44997         Knit                      Knit        top         casual   \n",
              "44998        Woven                     Woven     bottom         casual   \n",
              "44999        Woven                     Woven        top         formal   \n",
              "\n",
              "      broad_design print_type  \n",
              "0          Classic         NA  \n",
              "1          Classic         NA  \n",
              "2          Classic         NA  \n",
              "3          Classic         NA  \n",
              "4          Classic         NA  \n",
              "...            ...        ...  \n",
              "44995         Knit         NA  \n",
              "44996         Knit         NA  \n",
              "44997         Knit         NA  \n",
              "44998         Knit         NA  \n",
              "44999         Knit         NA  \n",
              "\n",
              "[45000 rows x 11 columns]"
            ],
            "text/html": [
              "\n",
              "  <div id=\"df-1c411fea-2ff0-4397-aca8-7bf96521c043\">\n",
              "    <div class=\"colab-df-container\">\n",
              "      <div>\n",
              "<style scoped>\n",
              "    .dataframe tbody tr th:only-of-type {\n",
              "        vertical-align: middle;\n",
              "    }\n",
              "\n",
              "    .dataframe tbody tr th {\n",
              "        vertical-align: top;\n",
              "    }\n",
              "\n",
              "    .dataframe thead th {\n",
              "        text-align: right;\n",
              "    }\n",
              "</style>\n",
              "<table border=\"1\" class=\"dataframe\">\n",
              "  <thead>\n",
              "    <tr style=\"text-align: right;\">\n",
              "      <th></th>\n",
              "      <th>image_folder</th>\n",
              "      <th>image_name</th>\n",
              "      <th>image_path</th>\n",
              "      <th>item_class</th>\n",
              "      <th>design_class</th>\n",
              "      <th>design_pre</th>\n",
              "      <th>design_type</th>\n",
              "      <th>dress_type</th>\n",
              "      <th>dress_ocassion</th>\n",
              "      <th>broad_design</th>\n",
              "      <th>print_type</th>\n",
              "    </tr>\n",
              "  </thead>\n",
              "  <tbody>\n",
              "    <tr>\n",
              "      <th>0</th>\n",
              "      <td>MyDrive/img/Classic_Pullover_Hoodie</td>\n",
              "      <td>img_00000054.jpg</td>\n",
              "      <td>MyDrive/img/Classic_Pullover_Hoodie/img_000000...</td>\n",
              "      <td>Hoodie</td>\n",
              "      <td>Pullover</td>\n",
              "      <td></td>\n",
              "      <td>Pullover</td>\n",
              "      <td>top</td>\n",
              "      <td>sporty</td>\n",
              "      <td>Classic</td>\n",
              "      <td>NA</td>\n",
              "    </tr>\n",
              "    <tr>\n",
              "      <th>1</th>\n",
              "      <td>MyDrive/img/Striped_V-Neck_Cotton_Tee</td>\n",
              "      <td>img_00000032.jpg</td>\n",
              "      <td>MyDrive/img/Striped_V-Neck_Cotton_Tee/img_0000...</td>\n",
              "      <td>Tee</td>\n",
              "      <td>Cotton</td>\n",
              "      <td>V-Neck</td>\n",
              "      <td>V-Neck Cotton</td>\n",
              "      <td>top</td>\n",
              "      <td>casual</td>\n",
              "      <td>Classic</td>\n",
              "      <td>NA</td>\n",
              "    </tr>\n",
              "    <tr>\n",
              "      <th>2</th>\n",
              "      <td>MyDrive/img/Striped_Cami_Jumpsuit</td>\n",
              "      <td>img_00000009.jpg</td>\n",
              "      <td>MyDrive/img/Striped_Cami_Jumpsuit/img_00000009...</td>\n",
              "      <td>Jumpsuit</td>\n",
              "      <td>Cami</td>\n",
              "      <td></td>\n",
              "      <td>Cami</td>\n",
              "      <td>one_piece</td>\n",
              "      <td>formal</td>\n",
              "      <td>Classic</td>\n",
              "      <td>NA</td>\n",
              "    </tr>\n",
              "    <tr>\n",
              "      <th>3</th>\n",
              "      <td>MyDrive/img/Denim_Skater_Skirt</td>\n",
              "      <td>img_00000065.jpg</td>\n",
              "      <td>MyDrive/img/Denim_Skater_Skirt/img_00000065.jpg</td>\n",
              "      <td>Skirt</td>\n",
              "      <td>Skater</td>\n",
              "      <td></td>\n",
              "      <td>Skater</td>\n",
              "      <td>bottom</td>\n",
              "      <td>formal</td>\n",
              "      <td>Classic</td>\n",
              "      <td>NA</td>\n",
              "    </tr>\n",
              "    <tr>\n",
              "      <th>4</th>\n",
              "      <td>MyDrive/img/Floral_Chiffon_Blouse</td>\n",
              "      <td>img_00000095.jpg</td>\n",
              "      <td>MyDrive/img/Floral_Chiffon_Blouse/img_00000095...</td>\n",
              "      <td>Blouse</td>\n",
              "      <td>Chiffon</td>\n",
              "      <td></td>\n",
              "      <td>Chiffon</td>\n",
              "      <td>top</td>\n",
              "      <td>formal</td>\n",
              "      <td>Classic</td>\n",
              "      <td>NA</td>\n",
              "    </tr>\n",
              "    <tr>\n",
              "      <th>...</th>\n",
              "      <td>...</td>\n",
              "      <td>...</td>\n",
              "      <td>...</td>\n",
              "      <td>...</td>\n",
              "      <td>...</td>\n",
              "      <td>...</td>\n",
              "      <td>...</td>\n",
              "      <td>...</td>\n",
              "      <td>...</td>\n",
              "      <td>...</td>\n",
              "      <td>...</td>\n",
              "    </tr>\n",
              "    <tr>\n",
              "      <th>44995</th>\n",
              "      <td>MyDrive/img/Boxy_Soft-Knit_Sweater</td>\n",
              "      <td>img_00000035.jpg</td>\n",
              "      <td>MyDrive/img/Boxy_Soft-Knit_Sweater/img_0000003...</td>\n",
              "      <td>Sweater</td>\n",
              "      <td>Soft-Knit</td>\n",
              "      <td></td>\n",
              "      <td>Soft-Knit</td>\n",
              "      <td>top</td>\n",
              "      <td>casual</td>\n",
              "      <td>Knit</td>\n",
              "      <td>NA</td>\n",
              "    </tr>\n",
              "    <tr>\n",
              "      <th>44996</th>\n",
              "      <td>MyDrive/img/Heathered_Knit_Coat</td>\n",
              "      <td>img_00000023.jpg</td>\n",
              "      <td>MyDrive/img/Heathered_Knit_Coat/img_00000023.jpg</td>\n",
              "      <td>Coat</td>\n",
              "      <td>Knit</td>\n",
              "      <td></td>\n",
              "      <td>Knit</td>\n",
              "      <td>top</td>\n",
              "      <td>formal</td>\n",
              "      <td>Knit</td>\n",
              "      <td>NA</td>\n",
              "    </tr>\n",
              "    <tr>\n",
              "      <th>44997</th>\n",
              "      <td>MyDrive/img/Striped_Knit_Sweater</td>\n",
              "      <td>img_00000011.jpg</td>\n",
              "      <td>MyDrive/img/Striped_Knit_Sweater/img_00000011.jpg</td>\n",
              "      <td>Sweater</td>\n",
              "      <td>Knit</td>\n",
              "      <td></td>\n",
              "      <td>Knit</td>\n",
              "      <td>top</td>\n",
              "      <td>casual</td>\n",
              "      <td>Knit</td>\n",
              "      <td>NA</td>\n",
              "    </tr>\n",
              "    <tr>\n",
              "      <th>44998</th>\n",
              "      <td>MyDrive/img/High-Waisted_Woven_Shorts</td>\n",
              "      <td>img_00000002.jpg</td>\n",
              "      <td>MyDrive/img/High-Waisted_Woven_Shorts/img_0000...</td>\n",
              "      <td>Shorts</td>\n",
              "      <td>Woven</td>\n",
              "      <td></td>\n",
              "      <td>Woven</td>\n",
              "      <td>bottom</td>\n",
              "      <td>casual</td>\n",
              "      <td>Knit</td>\n",
              "      <td>NA</td>\n",
              "    </tr>\n",
              "    <tr>\n",
              "      <th>44999</th>\n",
              "      <td>MyDrive/img/Textured_Woven_Blazer</td>\n",
              "      <td>img_00000052.jpg</td>\n",
              "      <td>MyDrive/img/Textured_Woven_Blazer/img_00000052...</td>\n",
              "      <td>Blazer</td>\n",
              "      <td>Woven</td>\n",
              "      <td></td>\n",
              "      <td>Woven</td>\n",
              "      <td>top</td>\n",
              "      <td>formal</td>\n",
              "      <td>Knit</td>\n",
              "      <td>NA</td>\n",
              "    </tr>\n",
              "  </tbody>\n",
              "</table>\n",
              "<p>45000 rows × 11 columns</p>\n",
              "</div>\n",
              "      <button class=\"colab-df-convert\" onclick=\"convertToInteractive('df-1c411fea-2ff0-4397-aca8-7bf96521c043')\"\n",
              "              title=\"Convert this dataframe to an interactive table.\"\n",
              "              style=\"display:none;\">\n",
              "        \n",
              "  <svg xmlns=\"http://www.w3.org/2000/svg\" height=\"24px\"viewBox=\"0 0 24 24\"\n",
              "       width=\"24px\">\n",
              "    <path d=\"M0 0h24v24H0V0z\" fill=\"none\"/>\n",
              "    <path d=\"M18.56 5.44l.94 2.06.94-2.06 2.06-.94-2.06-.94-.94-2.06-.94 2.06-2.06.94zm-11 1L8.5 8.5l.94-2.06 2.06-.94-2.06-.94L8.5 2.5l-.94 2.06-2.06.94zm10 10l.94 2.06.94-2.06 2.06-.94-2.06-.94-.94-2.06-.94 2.06-2.06.94z\"/><path d=\"M17.41 7.96l-1.37-1.37c-.4-.4-.92-.59-1.43-.59-.52 0-1.04.2-1.43.59L10.3 9.45l-7.72 7.72c-.78.78-.78 2.05 0 2.83L4 21.41c.39.39.9.59 1.41.59.51 0 1.02-.2 1.41-.59l7.78-7.78 2.81-2.81c.8-.78.8-2.07 0-2.86zM5.41 20L4 18.59l7.72-7.72 1.47 1.35L5.41 20z\"/>\n",
              "  </svg>\n",
              "      </button>\n",
              "      \n",
              "  <style>\n",
              "    .colab-df-container {\n",
              "      display:flex;\n",
              "      flex-wrap:wrap;\n",
              "      gap: 12px;\n",
              "    }\n",
              "\n",
              "    .colab-df-convert {\n",
              "      background-color: #E8F0FE;\n",
              "      border: none;\n",
              "      border-radius: 50%;\n",
              "      cursor: pointer;\n",
              "      display: none;\n",
              "      fill: #1967D2;\n",
              "      height: 32px;\n",
              "      padding: 0 0 0 0;\n",
              "      width: 32px;\n",
              "    }\n",
              "\n",
              "    .colab-df-convert:hover {\n",
              "      background-color: #E2EBFA;\n",
              "      box-shadow: 0px 1px 2px rgba(60, 64, 67, 0.3), 0px 1px 3px 1px rgba(60, 64, 67, 0.15);\n",
              "      fill: #174EA6;\n",
              "    }\n",
              "\n",
              "    [theme=dark] .colab-df-convert {\n",
              "      background-color: #3B4455;\n",
              "      fill: #D2E3FC;\n",
              "    }\n",
              "\n",
              "    [theme=dark] .colab-df-convert:hover {\n",
              "      background-color: #434B5C;\n",
              "      box-shadow: 0px 1px 3px 1px rgba(0, 0, 0, 0.15);\n",
              "      filter: drop-shadow(0px 1px 2px rgba(0, 0, 0, 0.3));\n",
              "      fill: #FFFFFF;\n",
              "    }\n",
              "  </style>\n",
              "\n",
              "      <script>\n",
              "        const buttonEl =\n",
              "          document.querySelector('#df-1c411fea-2ff0-4397-aca8-7bf96521c043 button.colab-df-convert');\n",
              "        buttonEl.style.display =\n",
              "          google.colab.kernel.accessAllowed ? 'block' : 'none';\n",
              "\n",
              "        async function convertToInteractive(key) {\n",
              "          const element = document.querySelector('#df-1c411fea-2ff0-4397-aca8-7bf96521c043');\n",
              "          const dataTable =\n",
              "            await google.colab.kernel.invokeFunction('convertToInteractive',\n",
              "                                                     [key], {});\n",
              "          if (!dataTable) return;\n",
              "\n",
              "          const docLinkHtml = 'Like what you see? Visit the ' +\n",
              "            '<a target=\"_blank\" href=https://colab.research.google.com/notebooks/data_table.ipynb>data table notebook</a>'\n",
              "            + ' to learn more about interactive tables.';\n",
              "          element.innerHTML = '';\n",
              "          dataTable['output_type'] = 'display_data';\n",
              "          await google.colab.output.renderOutput(dataTable, element);\n",
              "          const docLink = document.createElement('div');\n",
              "          docLink.innerHTML = docLinkHtml;\n",
              "          element.appendChild(docLink);\n",
              "        }\n",
              "      </script>\n",
              "    </div>\n",
              "  </div>\n",
              "  "
            ]
          },
          "metadata": {},
          "execution_count": 26
        }
      ],
      "source": [
        "###Sampling for equal number of samples per design \n",
        "df_images_rel_des=pd.DataFrame()\n",
        "for dt in df_images[\"broad_design\"].unique():\n",
        "  df_append=df_images[df_images[\"broad_design\"]==dt].sample(n=15000, replace=True, random_state=44)\n",
        "  df_images_rel_des=df_images_rel_des.append(df_append,ignore_index=True)\n",
        "df_images_rel_des"
      ]
    },
    {
      "cell_type": "code",
      "execution_count": 27,
      "metadata": {
        "colab": {
          "base_uri": "https://localhost:8080/",
          "height": 505
        },
        "id": "vEoZw5Y7PW10",
        "outputId": "b0d9c191-1a71-4ee7-e3fd-63f8b0ebdfb4"
      },
      "outputs": [
        {
          "output_type": "execute_result",
          "data": {
            "text/plain": [
              "                                      image_folder        image_name  \\\n",
              "0        MyDrive/img/Free_Spirit_Floral_Maxi_Dress  img_00000046.jpg   \n",
              "1          MyDrive/img/Sequined_Chiffon_Maxi_Dress  img_00000048.jpg   \n",
              "2       MyDrive/img/Belted_Tribal_Print_Maxi_Dress  img_00000019.jpg   \n",
              "3         MyDrive/img/Crisscross-Back_Skater_Dress  img_00000006.jpg   \n",
              "4      MyDrive/img/Floral_Crochet_Racerback_Romper  img_00000024.jpg   \n",
              "...                                            ...               ...   \n",
              "23995      MyDrive/img/High-Waisted_Capri_Leggings  img_00000024.jpg   \n",
              "23996            MyDrive/img/Textured_Woven_Shorts  img_00000017.jpg   \n",
              "23997       MyDrive/img/Diamond_Embroidered_Shorts  img_00000035.jpg   \n",
              "23998           MyDrive/img/Bleached_Denim_Joggers  img_00000058.jpg   \n",
              "23999          MyDrive/img/Tropical_Print_Leggings  img_00000020.jpg   \n",
              "\n",
              "                                              image_path item_class  \\\n",
              "0      MyDrive/img/Free_Spirit_Floral_Maxi_Dress/img_...      Dress   \n",
              "1      MyDrive/img/Sequined_Chiffon_Maxi_Dress/img_00...      Dress   \n",
              "2      MyDrive/img/Belted_Tribal_Print_Maxi_Dress/img...      Dress   \n",
              "3      MyDrive/img/Crisscross-Back_Skater_Dress/img_0...      Dress   \n",
              "4      MyDrive/img/Floral_Crochet_Racerback_Romper/im...     Romper   \n",
              "...                                                  ...        ...   \n",
              "23995  MyDrive/img/High-Waisted_Capri_Leggings/img_00...   Leggings   \n",
              "23996  MyDrive/img/Textured_Woven_Shorts/img_00000017...     Shorts   \n",
              "23997  MyDrive/img/Diamond_Embroidered_Shorts/img_000...     Shorts   \n",
              "23998  MyDrive/img/Bleached_Denim_Joggers/img_0000005...    Joggers   \n",
              "23999  MyDrive/img/Tropical_Print_Leggings/img_000000...   Leggings   \n",
              "\n",
              "      design_class design_pre        design_type dress_type dress_ocassion  \\\n",
              "0             Maxi     Floral        Floral Maxi  one_piece         formal   \n",
              "1             Maxi    Chiffon       Chiffon Maxi  one_piece         formal   \n",
              "2             Maxi      Print         Print Maxi  one_piece         formal   \n",
              "3           Skater                        Skater  one_piece         formal   \n",
              "4        Racerback    Crochet  Crochet Racerback  one_piece         casual   \n",
              "...            ...        ...                ...        ...            ...   \n",
              "23995        Capri                         Capri     bottom         casual   \n",
              "23996        Woven                         Woven     bottom         casual   \n",
              "23997  Embroidered                   Embroidered     bottom         casual   \n",
              "23998        Denim                         Denim     bottom         sporty   \n",
              "23999        Print                         Print     bottom         casual   \n",
              "\n",
              "      broad_design    print_type  \n",
              "0            Print        Floral  \n",
              "1          Classic            NA  \n",
              "2            Print  Other prints  \n",
              "3          Classic            NA  \n",
              "4             Knit            NA  \n",
              "...            ...           ...  \n",
              "23995      Classic            NA  \n",
              "23996         Knit            NA  \n",
              "23997         Knit            NA  \n",
              "23998      Classic            NA  \n",
              "23999        Print  Other prints  \n",
              "\n",
              "[24000 rows x 11 columns]"
            ],
            "text/html": [
              "\n",
              "  <div id=\"df-9d6b6c4b-1be3-4070-b555-dc5b57a937a6\">\n",
              "    <div class=\"colab-df-container\">\n",
              "      <div>\n",
              "<style scoped>\n",
              "    .dataframe tbody tr th:only-of-type {\n",
              "        vertical-align: middle;\n",
              "    }\n",
              "\n",
              "    .dataframe tbody tr th {\n",
              "        vertical-align: top;\n",
              "    }\n",
              "\n",
              "    .dataframe thead th {\n",
              "        text-align: right;\n",
              "    }\n",
              "</style>\n",
              "<table border=\"1\" class=\"dataframe\">\n",
              "  <thead>\n",
              "    <tr style=\"text-align: right;\">\n",
              "      <th></th>\n",
              "      <th>image_folder</th>\n",
              "      <th>image_name</th>\n",
              "      <th>image_path</th>\n",
              "      <th>item_class</th>\n",
              "      <th>design_class</th>\n",
              "      <th>design_pre</th>\n",
              "      <th>design_type</th>\n",
              "      <th>dress_type</th>\n",
              "      <th>dress_ocassion</th>\n",
              "      <th>broad_design</th>\n",
              "      <th>print_type</th>\n",
              "    </tr>\n",
              "  </thead>\n",
              "  <tbody>\n",
              "    <tr>\n",
              "      <th>0</th>\n",
              "      <td>MyDrive/img/Free_Spirit_Floral_Maxi_Dress</td>\n",
              "      <td>img_00000046.jpg</td>\n",
              "      <td>MyDrive/img/Free_Spirit_Floral_Maxi_Dress/img_...</td>\n",
              "      <td>Dress</td>\n",
              "      <td>Maxi</td>\n",
              "      <td>Floral</td>\n",
              "      <td>Floral Maxi</td>\n",
              "      <td>one_piece</td>\n",
              "      <td>formal</td>\n",
              "      <td>Print</td>\n",
              "      <td>Floral</td>\n",
              "    </tr>\n",
              "    <tr>\n",
              "      <th>1</th>\n",
              "      <td>MyDrive/img/Sequined_Chiffon_Maxi_Dress</td>\n",
              "      <td>img_00000048.jpg</td>\n",
              "      <td>MyDrive/img/Sequined_Chiffon_Maxi_Dress/img_00...</td>\n",
              "      <td>Dress</td>\n",
              "      <td>Maxi</td>\n",
              "      <td>Chiffon</td>\n",
              "      <td>Chiffon Maxi</td>\n",
              "      <td>one_piece</td>\n",
              "      <td>formal</td>\n",
              "      <td>Classic</td>\n",
              "      <td>NA</td>\n",
              "    </tr>\n",
              "    <tr>\n",
              "      <th>2</th>\n",
              "      <td>MyDrive/img/Belted_Tribal_Print_Maxi_Dress</td>\n",
              "      <td>img_00000019.jpg</td>\n",
              "      <td>MyDrive/img/Belted_Tribal_Print_Maxi_Dress/img...</td>\n",
              "      <td>Dress</td>\n",
              "      <td>Maxi</td>\n",
              "      <td>Print</td>\n",
              "      <td>Print Maxi</td>\n",
              "      <td>one_piece</td>\n",
              "      <td>formal</td>\n",
              "      <td>Print</td>\n",
              "      <td>Other prints</td>\n",
              "    </tr>\n",
              "    <tr>\n",
              "      <th>3</th>\n",
              "      <td>MyDrive/img/Crisscross-Back_Skater_Dress</td>\n",
              "      <td>img_00000006.jpg</td>\n",
              "      <td>MyDrive/img/Crisscross-Back_Skater_Dress/img_0...</td>\n",
              "      <td>Dress</td>\n",
              "      <td>Skater</td>\n",
              "      <td></td>\n",
              "      <td>Skater</td>\n",
              "      <td>one_piece</td>\n",
              "      <td>formal</td>\n",
              "      <td>Classic</td>\n",
              "      <td>NA</td>\n",
              "    </tr>\n",
              "    <tr>\n",
              "      <th>4</th>\n",
              "      <td>MyDrive/img/Floral_Crochet_Racerback_Romper</td>\n",
              "      <td>img_00000024.jpg</td>\n",
              "      <td>MyDrive/img/Floral_Crochet_Racerback_Romper/im...</td>\n",
              "      <td>Romper</td>\n",
              "      <td>Racerback</td>\n",
              "      <td>Crochet</td>\n",
              "      <td>Crochet Racerback</td>\n",
              "      <td>one_piece</td>\n",
              "      <td>casual</td>\n",
              "      <td>Knit</td>\n",
              "      <td>NA</td>\n",
              "    </tr>\n",
              "    <tr>\n",
              "      <th>...</th>\n",
              "      <td>...</td>\n",
              "      <td>...</td>\n",
              "      <td>...</td>\n",
              "      <td>...</td>\n",
              "      <td>...</td>\n",
              "      <td>...</td>\n",
              "      <td>...</td>\n",
              "      <td>...</td>\n",
              "      <td>...</td>\n",
              "      <td>...</td>\n",
              "      <td>...</td>\n",
              "    </tr>\n",
              "    <tr>\n",
              "      <th>23995</th>\n",
              "      <td>MyDrive/img/High-Waisted_Capri_Leggings</td>\n",
              "      <td>img_00000024.jpg</td>\n",
              "      <td>MyDrive/img/High-Waisted_Capri_Leggings/img_00...</td>\n",
              "      <td>Leggings</td>\n",
              "      <td>Capri</td>\n",
              "      <td></td>\n",
              "      <td>Capri</td>\n",
              "      <td>bottom</td>\n",
              "      <td>casual</td>\n",
              "      <td>Classic</td>\n",
              "      <td>NA</td>\n",
              "    </tr>\n",
              "    <tr>\n",
              "      <th>23996</th>\n",
              "      <td>MyDrive/img/Textured_Woven_Shorts</td>\n",
              "      <td>img_00000017.jpg</td>\n",
              "      <td>MyDrive/img/Textured_Woven_Shorts/img_00000017...</td>\n",
              "      <td>Shorts</td>\n",
              "      <td>Woven</td>\n",
              "      <td></td>\n",
              "      <td>Woven</td>\n",
              "      <td>bottom</td>\n",
              "      <td>casual</td>\n",
              "      <td>Knit</td>\n",
              "      <td>NA</td>\n",
              "    </tr>\n",
              "    <tr>\n",
              "      <th>23997</th>\n",
              "      <td>MyDrive/img/Diamond_Embroidered_Shorts</td>\n",
              "      <td>img_00000035.jpg</td>\n",
              "      <td>MyDrive/img/Diamond_Embroidered_Shorts/img_000...</td>\n",
              "      <td>Shorts</td>\n",
              "      <td>Embroidered</td>\n",
              "      <td></td>\n",
              "      <td>Embroidered</td>\n",
              "      <td>bottom</td>\n",
              "      <td>casual</td>\n",
              "      <td>Knit</td>\n",
              "      <td>NA</td>\n",
              "    </tr>\n",
              "    <tr>\n",
              "      <th>23998</th>\n",
              "      <td>MyDrive/img/Bleached_Denim_Joggers</td>\n",
              "      <td>img_00000058.jpg</td>\n",
              "      <td>MyDrive/img/Bleached_Denim_Joggers/img_0000005...</td>\n",
              "      <td>Joggers</td>\n",
              "      <td>Denim</td>\n",
              "      <td></td>\n",
              "      <td>Denim</td>\n",
              "      <td>bottom</td>\n",
              "      <td>sporty</td>\n",
              "      <td>Classic</td>\n",
              "      <td>NA</td>\n",
              "    </tr>\n",
              "    <tr>\n",
              "      <th>23999</th>\n",
              "      <td>MyDrive/img/Tropical_Print_Leggings</td>\n",
              "      <td>img_00000020.jpg</td>\n",
              "      <td>MyDrive/img/Tropical_Print_Leggings/img_000000...</td>\n",
              "      <td>Leggings</td>\n",
              "      <td>Print</td>\n",
              "      <td></td>\n",
              "      <td>Print</td>\n",
              "      <td>bottom</td>\n",
              "      <td>casual</td>\n",
              "      <td>Print</td>\n",
              "      <td>Other prints</td>\n",
              "    </tr>\n",
              "  </tbody>\n",
              "</table>\n",
              "<p>24000 rows × 11 columns</p>\n",
              "</div>\n",
              "      <button class=\"colab-df-convert\" onclick=\"convertToInteractive('df-9d6b6c4b-1be3-4070-b555-dc5b57a937a6')\"\n",
              "              title=\"Convert this dataframe to an interactive table.\"\n",
              "              style=\"display:none;\">\n",
              "        \n",
              "  <svg xmlns=\"http://www.w3.org/2000/svg\" height=\"24px\"viewBox=\"0 0 24 24\"\n",
              "       width=\"24px\">\n",
              "    <path d=\"M0 0h24v24H0V0z\" fill=\"none\"/>\n",
              "    <path d=\"M18.56 5.44l.94 2.06.94-2.06 2.06-.94-2.06-.94-.94-2.06-.94 2.06-2.06.94zm-11 1L8.5 8.5l.94-2.06 2.06-.94-2.06-.94L8.5 2.5l-.94 2.06-2.06.94zm10 10l.94 2.06.94-2.06 2.06-.94-2.06-.94-.94-2.06-.94 2.06-2.06.94z\"/><path d=\"M17.41 7.96l-1.37-1.37c-.4-.4-.92-.59-1.43-.59-.52 0-1.04.2-1.43.59L10.3 9.45l-7.72 7.72c-.78.78-.78 2.05 0 2.83L4 21.41c.39.39.9.59 1.41.59.51 0 1.02-.2 1.41-.59l7.78-7.78 2.81-2.81c.8-.78.8-2.07 0-2.86zM5.41 20L4 18.59l7.72-7.72 1.47 1.35L5.41 20z\"/>\n",
              "  </svg>\n",
              "      </button>\n",
              "      \n",
              "  <style>\n",
              "    .colab-df-container {\n",
              "      display:flex;\n",
              "      flex-wrap:wrap;\n",
              "      gap: 12px;\n",
              "    }\n",
              "\n",
              "    .colab-df-convert {\n",
              "      background-color: #E8F0FE;\n",
              "      border: none;\n",
              "      border-radius: 50%;\n",
              "      cursor: pointer;\n",
              "      display: none;\n",
              "      fill: #1967D2;\n",
              "      height: 32px;\n",
              "      padding: 0 0 0 0;\n",
              "      width: 32px;\n",
              "    }\n",
              "\n",
              "    .colab-df-convert:hover {\n",
              "      background-color: #E2EBFA;\n",
              "      box-shadow: 0px 1px 2px rgba(60, 64, 67, 0.3), 0px 1px 3px 1px rgba(60, 64, 67, 0.15);\n",
              "      fill: #174EA6;\n",
              "    }\n",
              "\n",
              "    [theme=dark] .colab-df-convert {\n",
              "      background-color: #3B4455;\n",
              "      fill: #D2E3FC;\n",
              "    }\n",
              "\n",
              "    [theme=dark] .colab-df-convert:hover {\n",
              "      background-color: #434B5C;\n",
              "      box-shadow: 0px 1px 3px 1px rgba(0, 0, 0, 0.15);\n",
              "      filter: drop-shadow(0px 1px 2px rgba(0, 0, 0, 0.3));\n",
              "      fill: #FFFFFF;\n",
              "    }\n",
              "  </style>\n",
              "\n",
              "      <script>\n",
              "        const buttonEl =\n",
              "          document.querySelector('#df-9d6b6c4b-1be3-4070-b555-dc5b57a937a6 button.colab-df-convert');\n",
              "        buttonEl.style.display =\n",
              "          google.colab.kernel.accessAllowed ? 'block' : 'none';\n",
              "\n",
              "        async function convertToInteractive(key) {\n",
              "          const element = document.querySelector('#df-9d6b6c4b-1be3-4070-b555-dc5b57a937a6');\n",
              "          const dataTable =\n",
              "            await google.colab.kernel.invokeFunction('convertToInteractive',\n",
              "                                                     [key], {});\n",
              "          if (!dataTable) return;\n",
              "\n",
              "          const docLinkHtml = 'Like what you see? Visit the ' +\n",
              "            '<a target=\"_blank\" href=https://colab.research.google.com/notebooks/data_table.ipynb>data table notebook</a>'\n",
              "            + ' to learn more about interactive tables.';\n",
              "          element.innerHTML = '';\n",
              "          dataTable['output_type'] = 'display_data';\n",
              "          await google.colab.output.renderOutput(dataTable, element);\n",
              "          const docLink = document.createElement('div');\n",
              "          docLink.innerHTML = docLinkHtml;\n",
              "          element.appendChild(docLink);\n",
              "        }\n",
              "      </script>\n",
              "    </div>\n",
              "  </div>\n",
              "  "
            ]
          },
          "metadata": {},
          "execution_count": 27
        }
      ],
      "source": [
        "###Sampling for equal number of samples per dress type \n",
        "df_images_rel=pd.DataFrame()\n",
        "for dt in df_images[\"dress_type\"].unique():\n",
        "  df_append=df_images_rel_des[df_images_rel_des[\"dress_type\"]==dt].sample(n=8000, replace=True, random_state=33)\n",
        "  df_images_rel=df_images_rel.append(df_append,ignore_index=True)\n",
        "df_images_rel"
      ]
    },
    {
      "cell_type": "markdown",
      "source": [],
      "metadata": {
        "id": "cZCG1vUwc3Gl"
      }
    },
    {
      "cell_type": "markdown",
      "source": [
        "Declare image variables"
      ],
      "metadata": {
        "id": "_AFXAuAadJBD"
      }
    },
    {
      "cell_type": "code",
      "execution_count": 30,
      "metadata": {
        "id": "UnXTt0tAw_WW"
      },
      "outputs": [],
      "source": [
        "batch_size = 32\n",
        "img_height = 32\n",
        "img_width = 32"
      ]
    },
    {
      "cell_type": "code",
      "execution_count": 33,
      "metadata": {
        "colab": {
          "base_uri": "https://localhost:8080/"
        },
        "id": "FFWOFpDSPm46",
        "outputId": "61d24e53-fc16-4f2f-c885-1e35bd4dec2f"
      },
      "outputs": [
        {
          "output_type": "execute_result",
          "data": {
            "text/plain": [
              "['MyDrive', '.shortcut-targets-by-id', '.file-revisions-by-id', '.Trash-0']"
            ]
          },
          "metadata": {},
          "execution_count": 33
        }
      ],
      "source": [
        "os.listdir()"
      ]
    },
    {
      "cell_type": "markdown",
      "source": [
        "**Create models**"
      ],
      "metadata": {
        "id": "8BqrDKepdO9K"
      }
    },
    {
      "cell_type": "markdown",
      "metadata": {
        "id": "8dMc3xFQg4if"
      },
      "source": [
        "Cloth categorizer"
      ]
    },
    {
      "cell_type": "code",
      "execution_count": 34,
      "metadata": {
        "id": "KESc9Ef-z1Ze"
      },
      "outputs": [],
      "source": [
        "dense = layers.Dense(64, activation=\"relu\")\n",
        "inputs = keras.Input(shape=(32*32*3,))\n",
        "x = dense(inputs)\n",
        "x = layers.Dense(64, activation=\"relu\")(x)\n",
        "x = layers.Dense(64, activation=\"relu\")(x)\n",
        "x = layers.Dense(64, activation=\"relu\")(x)\n",
        "outputs1 = layers.Dense(3,activation=\"softmax\")(x)\n",
        "outputs2 = layers.Dense(3,activation=\"softmax\")(x)\n",
        "outputs3 = layers.Dense(3,activation=\"softmax\")(x)\n",
        "\n",
        "model_multi = keras.Model(inputs=inputs, outputs=[outputs1,outputs2,outputs3], name=\"cloth_design_categorizer\")\n",
        "model = keras.Model(inputs=inputs, outputs=outputs1, name=\"cloth_categorizer\")\n"
      ]
    },
    {
      "cell_type": "markdown",
      "metadata": {
        "id": "vVfT2nJahFGP"
      },
      "source": [
        "Print categorizer"
      ]
    },
    {
      "cell_type": "code",
      "execution_count": 35,
      "metadata": {
        "id": "SBC6UY2IhDzP"
      },
      "outputs": [],
      "source": [
        "dense = layers.Dense(64, activation=\"relu\")\n",
        "inputs = keras.Input(shape=(32*32*3,))\n",
        "x = dense(inputs)\n",
        "x = layers.Dense(64, activation=\"relu\")(x)\n",
        "x = layers.Dense(64, activation=\"relu\")(x)\n",
        "x = layers.Dense(64, activation=\"relu\")(x)\n",
        "outputs = layers.Dense(5,activation=\"softmax\")(x)\n",
        "\n",
        "model_print = keras.Model(inputs=inputs, outputs=outputs, name=\"cloth_print_categorizer\")\n"
      ]
    },
    {
      "cell_type": "code",
      "source": [
        "len(df_images_rel)"
      ],
      "metadata": {
        "colab": {
          "base_uri": "https://localhost:8080/",
          "height": 169
        },
        "id": "ZB2BJkkZ5T_Z",
        "outputId": "a58e129a-f0aa-49d1-faee-f3122c034c46"
      },
      "execution_count": 2,
      "outputs": [
        {
          "output_type": "error",
          "ename": "NameError",
          "evalue": "ignored",
          "traceback": [
            "\u001b[0;31m---------------------------------------------------------------------------\u001b[0m",
            "\u001b[0;31mNameError\u001b[0m                                 Traceback (most recent call last)",
            "\u001b[0;32m<ipython-input-2-1eef6426bc7f>\u001b[0m in \u001b[0;36m<module>\u001b[0;34m\u001b[0m\n\u001b[0;32m----> 1\u001b[0;31m \u001b[0mlen\u001b[0m\u001b[0;34m(\u001b[0m\u001b[0mdf_images_rel\u001b[0m\u001b[0;34m)\u001b[0m\u001b[0;34m\u001b[0m\u001b[0;34m\u001b[0m\u001b[0m\n\u001b[0m",
            "\u001b[0;31mNameError\u001b[0m: name 'df_images_rel' is not defined"
          ]
        }
      ]
    },
    {
      "cell_type": "markdown",
      "source": [
        "**Preprocessing images**"
      ],
      "metadata": {
        "id": "eU__bPFpdnS0"
      }
    },
    {
      "cell_type": "code",
      "execution_count": null,
      "metadata": {
        "colab": {
          "base_uri": "https://localhost:8080/"
        },
        "id": "Dx4aX4GIdfKb",
        "outputId": "d06f52fc-6002-451c-a17d-d7b008c8c042"
      },
      "outputs": [
        {
          "output_type": "stream",
          "name": "stdout",
          "text": [
            "if 0\n"
          ]
        },
        {
          "output_type": "stream",
          "name": "stderr",
          "text": [
            "/usr/local/lib/python3.7/dist-packages/ipykernel_launcher.py:2: SettingWithCopyWarning: \n",
            "A value is trying to be set on a copy of a slice from a DataFrame.\n",
            "Try using .loc[row_indexer,col_indexer] = value instead\n",
            "\n",
            "See the caveats in the documentation: https://pandas.pydata.org/pandas-docs/stable/user_guide/indexing.html#returning-a-view-versus-a-copy\n",
            "  \n",
            "/usr/local/lib/python3.7/dist-packages/ipykernel_launcher.py:4: SettingWithCopyWarning: \n",
            "A value is trying to be set on a copy of a slice from a DataFrame.\n",
            "Try using .loc[row_indexer,col_indexer] = value instead\n",
            "\n",
            "See the caveats in the documentation: https://pandas.pydata.org/pandas-docs/stable/user_guide/indexing.html#returning-a-view-versus-a-copy\n",
            "  after removing the cwd from sys.path.\n"
          ]
        },
        {
          "output_type": "stream",
          "name": "stdout",
          "text": [
            "if 5000\n",
            "if 10000\n",
            "if 15000\n"
          ]
        }
      ],
      "source": [
        "df_images_preprocessed=pd.DataFrame()\n",
        "idx=0\n",
        "for idx in range(idx,len(df_images_rel),5000):\n",
        "  if idx+5000<len(df_images_rel):\n",
        "    print(\"if\", idx)\n",
        "    df_images_preprocessed_sub=preprocess_resize(df_images_rel[idx:idx+5000])\n",
        "    df_images_preprocessed=df_images_preprocessed.append(df_images_preprocessed_sub,ignore_index=True)\n",
        "    idx=idx+5000\n",
        "  elif idx==len(df_images_rel):\n",
        "    print(\"elif\", idx)\n",
        "    df_images_preprocessed=df_images_preprocessed\n",
        "  else:\n",
        "    print(\"else\", idx)\n",
        "    print(\"now last few idx:\",idx)\n",
        "    df_images_preprocessed_sub=preprocess_resize(df_images_rel[idx:])\n",
        "    df_images_preprocessed=df_images_preprocessed.append(df_images_preprocessed_sub,ignore_index=True)\n",
        "    idx=idx+5000\n",
        "\n",
        "  #df_images_preprocessed[\"image_resized\"]"
      ]
    },
    {
      "cell_type": "code",
      "execution_count": null,
      "metadata": {
        "id": "xFO-_nYYVJMW"
      },
      "outputs": [],
      "source": [
        "###One time export\n",
        "from google.colab import drive\n",
        "\n",
        "# drive.mount('/content/drive')\n",
        "path = 'My Drive/Colab Noteboooks/Preprocessed_images.csv'\n",
        "\n",
        "with open(path, 'w', encoding = 'utf-8-sig') as f:\n",
        "  df_images_preprocessed.to_csv(f)\n",
        "\n",
        "# df_images_preprocessed.to_csv(\"Preprocessed_images.csv\")"
      ]
    },
    {
      "cell_type": "markdown",
      "source": [
        "Save preprocessed images"
      ],
      "metadata": {
        "id": "bPHucaWcdva3"
      }
    },
    {
      "cell_type": "code",
      "execution_count": null,
      "metadata": {
        "id": "zus35Bd4Rkju"
      },
      "outputs": [],
      "source": [
        "path = 'My Drive/Preprocessed_images.csv'\n",
        "import ast\n",
        "import numpy as np\n",
        "def from_np_array(array_string):\n",
        "    array_string = ','.join(array_string.replace(\"\\n\",\"\").replace('[ ', '[').split())\n",
        "    #print(array_string)\n",
        "    return array_string\n",
        "    # return np.array(ast.literal_eval(array_string))"
      ]
    },
    {
      "cell_type": "code",
      "execution_count": 59,
      "metadata": {
        "colab": {
          "base_uri": "https://localhost:8080/",
          "height": 808
        },
        "id": "dC4spYUuXSyl",
        "outputId": "b62cd6f0-bee2-47df-9814-79f680f9cce7"
      },
      "outputs": [
        {
          "output_type": "execute_result",
          "data": {
            "text/plain": [
              "   Unnamed: 0                                 image_folder        image_name  \\\n",
              "0           0    MyDrive/img/Free_Spirit_Floral_Maxi_Dress  img_00000046.jpg   \n",
              "1           1      MyDrive/img/Sequined_Chiffon_Maxi_Dress  img_00000048.jpg   \n",
              "2           2   MyDrive/img/Belted_Tribal_Print_Maxi_Dress  img_00000019.jpg   \n",
              "3           3     MyDrive/img/Crisscross-Back_Skater_Dress  img_00000006.jpg   \n",
              "4           4  MyDrive/img/Floral_Crochet_Racerback_Romper  img_00000024.jpg   \n",
              "\n",
              "                                          image_path item_class design_class  \\\n",
              "0  MyDrive/img/Free_Spirit_Floral_Maxi_Dress/img_...      Dress         Maxi   \n",
              "1  MyDrive/img/Sequined_Chiffon_Maxi_Dress/img_00...      Dress         Maxi   \n",
              "2  MyDrive/img/Belted_Tribal_Print_Maxi_Dress/img...      Dress         Maxi   \n",
              "3  MyDrive/img/Crisscross-Back_Skater_Dress/img_0...      Dress       Skater   \n",
              "4  MyDrive/img/Floral_Crochet_Racerback_Romper/im...     Romper    Racerback   \n",
              "\n",
              "  design_pre        design_type dress_type dress_ocassion broad_design  \\\n",
              "0     Floral        Floral Maxi  one_piece         formal        Print   \n",
              "1    Chiffon       Chiffon Maxi  one_piece         formal      Classic   \n",
              "2      Print         Print Maxi  one_piece         formal        Print   \n",
              "3        NaN             Skater  one_piece         formal      Classic   \n",
              "4    Crochet  Crochet Racerback  one_piece         casual         Knit   \n",
              "\n",
              "     print_type                                            content  \\\n",
              "0        Floral  [[[242 242 242]\\n  [242 242 242]\\n  [242 242 2...   \n",
              "1           NaN  [[[176 155 154]\\n  [176 155 154]\\n  [175 154 1...   \n",
              "2  Other prints  [[[255 255 255]\\n  [255 255 255]\\n  [255 255 2...   \n",
              "3           NaN  [[[255 255 255]\\n  [255 255 255]\\n  [255 255 2...   \n",
              "4           NaN  [[[255 255 255]\\n  [255 255 255]\\n  [255 255 2...   \n",
              "\n",
              "                                       image_resized  dress_type_num  \\\n",
              "0  [[[242 242 242]  [242 242 242]  [242 242 242] ...               2   \n",
              "1  [[[175 155 153]  [176 156 154]  [172 153 150] ...               2   \n",
              "2  [[[255 255 255]  [255 255 255]  [255 255 255] ...               2   \n",
              "3  [[[255 255 255]  [255 255 255]  [255 255 255] ...               2   \n",
              "4  [[[255 255 255]  [255 255 255]  [255 255 255] ...               2   \n",
              "\n",
              "   broad_design_num  dress_occasion_num  \n",
              "0                 0                   0  \n",
              "1                 2                   0  \n",
              "2                 0                   0  \n",
              "3                 2                   0  \n",
              "4                 1                   1  "
            ],
            "text/html": [
              "\n",
              "  <div id=\"df-5349be84-e12f-42fd-9c27-cf3cb6dbd6b5\">\n",
              "    <div class=\"colab-df-container\">\n",
              "      <div>\n",
              "<style scoped>\n",
              "    .dataframe tbody tr th:only-of-type {\n",
              "        vertical-align: middle;\n",
              "    }\n",
              "\n",
              "    .dataframe tbody tr th {\n",
              "        vertical-align: top;\n",
              "    }\n",
              "\n",
              "    .dataframe thead th {\n",
              "        text-align: right;\n",
              "    }\n",
              "</style>\n",
              "<table border=\"1\" class=\"dataframe\">\n",
              "  <thead>\n",
              "    <tr style=\"text-align: right;\">\n",
              "      <th></th>\n",
              "      <th>Unnamed: 0</th>\n",
              "      <th>image_folder</th>\n",
              "      <th>image_name</th>\n",
              "      <th>image_path</th>\n",
              "      <th>item_class</th>\n",
              "      <th>design_class</th>\n",
              "      <th>design_pre</th>\n",
              "      <th>design_type</th>\n",
              "      <th>dress_type</th>\n",
              "      <th>dress_ocassion</th>\n",
              "      <th>broad_design</th>\n",
              "      <th>print_type</th>\n",
              "      <th>content</th>\n",
              "      <th>image_resized</th>\n",
              "      <th>dress_type_num</th>\n",
              "      <th>broad_design_num</th>\n",
              "      <th>dress_occasion_num</th>\n",
              "    </tr>\n",
              "  </thead>\n",
              "  <tbody>\n",
              "    <tr>\n",
              "      <th>0</th>\n",
              "      <td>0</td>\n",
              "      <td>MyDrive/img/Free_Spirit_Floral_Maxi_Dress</td>\n",
              "      <td>img_00000046.jpg</td>\n",
              "      <td>MyDrive/img/Free_Spirit_Floral_Maxi_Dress/img_...</td>\n",
              "      <td>Dress</td>\n",
              "      <td>Maxi</td>\n",
              "      <td>Floral</td>\n",
              "      <td>Floral Maxi</td>\n",
              "      <td>one_piece</td>\n",
              "      <td>formal</td>\n",
              "      <td>Print</td>\n",
              "      <td>Floral</td>\n",
              "      <td>[[[242 242 242]\\n  [242 242 242]\\n  [242 242 2...</td>\n",
              "      <td>[[[242 242 242]  [242 242 242]  [242 242 242] ...</td>\n",
              "      <td>2</td>\n",
              "      <td>0</td>\n",
              "      <td>0</td>\n",
              "    </tr>\n",
              "    <tr>\n",
              "      <th>1</th>\n",
              "      <td>1</td>\n",
              "      <td>MyDrive/img/Sequined_Chiffon_Maxi_Dress</td>\n",
              "      <td>img_00000048.jpg</td>\n",
              "      <td>MyDrive/img/Sequined_Chiffon_Maxi_Dress/img_00...</td>\n",
              "      <td>Dress</td>\n",
              "      <td>Maxi</td>\n",
              "      <td>Chiffon</td>\n",
              "      <td>Chiffon Maxi</td>\n",
              "      <td>one_piece</td>\n",
              "      <td>formal</td>\n",
              "      <td>Classic</td>\n",
              "      <td>NaN</td>\n",
              "      <td>[[[176 155 154]\\n  [176 155 154]\\n  [175 154 1...</td>\n",
              "      <td>[[[175 155 153]  [176 156 154]  [172 153 150] ...</td>\n",
              "      <td>2</td>\n",
              "      <td>2</td>\n",
              "      <td>0</td>\n",
              "    </tr>\n",
              "    <tr>\n",
              "      <th>2</th>\n",
              "      <td>2</td>\n",
              "      <td>MyDrive/img/Belted_Tribal_Print_Maxi_Dress</td>\n",
              "      <td>img_00000019.jpg</td>\n",
              "      <td>MyDrive/img/Belted_Tribal_Print_Maxi_Dress/img...</td>\n",
              "      <td>Dress</td>\n",
              "      <td>Maxi</td>\n",
              "      <td>Print</td>\n",
              "      <td>Print Maxi</td>\n",
              "      <td>one_piece</td>\n",
              "      <td>formal</td>\n",
              "      <td>Print</td>\n",
              "      <td>Other prints</td>\n",
              "      <td>[[[255 255 255]\\n  [255 255 255]\\n  [255 255 2...</td>\n",
              "      <td>[[[255 255 255]  [255 255 255]  [255 255 255] ...</td>\n",
              "      <td>2</td>\n",
              "      <td>0</td>\n",
              "      <td>0</td>\n",
              "    </tr>\n",
              "    <tr>\n",
              "      <th>3</th>\n",
              "      <td>3</td>\n",
              "      <td>MyDrive/img/Crisscross-Back_Skater_Dress</td>\n",
              "      <td>img_00000006.jpg</td>\n",
              "      <td>MyDrive/img/Crisscross-Back_Skater_Dress/img_0...</td>\n",
              "      <td>Dress</td>\n",
              "      <td>Skater</td>\n",
              "      <td>NaN</td>\n",
              "      <td>Skater</td>\n",
              "      <td>one_piece</td>\n",
              "      <td>formal</td>\n",
              "      <td>Classic</td>\n",
              "      <td>NaN</td>\n",
              "      <td>[[[255 255 255]\\n  [255 255 255]\\n  [255 255 2...</td>\n",
              "      <td>[[[255 255 255]  [255 255 255]  [255 255 255] ...</td>\n",
              "      <td>2</td>\n",
              "      <td>2</td>\n",
              "      <td>0</td>\n",
              "    </tr>\n",
              "    <tr>\n",
              "      <th>4</th>\n",
              "      <td>4</td>\n",
              "      <td>MyDrive/img/Floral_Crochet_Racerback_Romper</td>\n",
              "      <td>img_00000024.jpg</td>\n",
              "      <td>MyDrive/img/Floral_Crochet_Racerback_Romper/im...</td>\n",
              "      <td>Romper</td>\n",
              "      <td>Racerback</td>\n",
              "      <td>Crochet</td>\n",
              "      <td>Crochet Racerback</td>\n",
              "      <td>one_piece</td>\n",
              "      <td>casual</td>\n",
              "      <td>Knit</td>\n",
              "      <td>NaN</td>\n",
              "      <td>[[[255 255 255]\\n  [255 255 255]\\n  [255 255 2...</td>\n",
              "      <td>[[[255 255 255]  [255 255 255]  [255 255 255] ...</td>\n",
              "      <td>2</td>\n",
              "      <td>1</td>\n",
              "      <td>1</td>\n",
              "    </tr>\n",
              "  </tbody>\n",
              "</table>\n",
              "</div>\n",
              "      <button class=\"colab-df-convert\" onclick=\"convertToInteractive('df-5349be84-e12f-42fd-9c27-cf3cb6dbd6b5')\"\n",
              "              title=\"Convert this dataframe to an interactive table.\"\n",
              "              style=\"display:none;\">\n",
              "        \n",
              "  <svg xmlns=\"http://www.w3.org/2000/svg\" height=\"24px\"viewBox=\"0 0 24 24\"\n",
              "       width=\"24px\">\n",
              "    <path d=\"M0 0h24v24H0V0z\" fill=\"none\"/>\n",
              "    <path d=\"M18.56 5.44l.94 2.06.94-2.06 2.06-.94-2.06-.94-.94-2.06-.94 2.06-2.06.94zm-11 1L8.5 8.5l.94-2.06 2.06-.94-2.06-.94L8.5 2.5l-.94 2.06-2.06.94zm10 10l.94 2.06.94-2.06 2.06-.94-2.06-.94-.94-2.06-.94 2.06-2.06.94z\"/><path d=\"M17.41 7.96l-1.37-1.37c-.4-.4-.92-.59-1.43-.59-.52 0-1.04.2-1.43.59L10.3 9.45l-7.72 7.72c-.78.78-.78 2.05 0 2.83L4 21.41c.39.39.9.59 1.41.59.51 0 1.02-.2 1.41-.59l7.78-7.78 2.81-2.81c.8-.78.8-2.07 0-2.86zM5.41 20L4 18.59l7.72-7.72 1.47 1.35L5.41 20z\"/>\n",
              "  </svg>\n",
              "      </button>\n",
              "      \n",
              "  <style>\n",
              "    .colab-df-container {\n",
              "      display:flex;\n",
              "      flex-wrap:wrap;\n",
              "      gap: 12px;\n",
              "    }\n",
              "\n",
              "    .colab-df-convert {\n",
              "      background-color: #E8F0FE;\n",
              "      border: none;\n",
              "      border-radius: 50%;\n",
              "      cursor: pointer;\n",
              "      display: none;\n",
              "      fill: #1967D2;\n",
              "      height: 32px;\n",
              "      padding: 0 0 0 0;\n",
              "      width: 32px;\n",
              "    }\n",
              "\n",
              "    .colab-df-convert:hover {\n",
              "      background-color: #E2EBFA;\n",
              "      box-shadow: 0px 1px 2px rgba(60, 64, 67, 0.3), 0px 1px 3px 1px rgba(60, 64, 67, 0.15);\n",
              "      fill: #174EA6;\n",
              "    }\n",
              "\n",
              "    [theme=dark] .colab-df-convert {\n",
              "      background-color: #3B4455;\n",
              "      fill: #D2E3FC;\n",
              "    }\n",
              "\n",
              "    [theme=dark] .colab-df-convert:hover {\n",
              "      background-color: #434B5C;\n",
              "      box-shadow: 0px 1px 3px 1px rgba(0, 0, 0, 0.15);\n",
              "      filter: drop-shadow(0px 1px 2px rgba(0, 0, 0, 0.3));\n",
              "      fill: #FFFFFF;\n",
              "    }\n",
              "  </style>\n",
              "\n",
              "      <script>\n",
              "        const buttonEl =\n",
              "          document.querySelector('#df-5349be84-e12f-42fd-9c27-cf3cb6dbd6b5 button.colab-df-convert');\n",
              "        buttonEl.style.display =\n",
              "          google.colab.kernel.accessAllowed ? 'block' : 'none';\n",
              "\n",
              "        async function convertToInteractive(key) {\n",
              "          const element = document.querySelector('#df-5349be84-e12f-42fd-9c27-cf3cb6dbd6b5');\n",
              "          const dataTable =\n",
              "            await google.colab.kernel.invokeFunction('convertToInteractive',\n",
              "                                                     [key], {});\n",
              "          if (!dataTable) return;\n",
              "\n",
              "          const docLinkHtml = 'Like what you see? Visit the ' +\n",
              "            '<a target=\"_blank\" href=https://colab.research.google.com/notebooks/data_table.ipynb>data table notebook</a>'\n",
              "            + ' to learn more about interactive tables.';\n",
              "          element.innerHTML = '';\n",
              "          dataTable['output_type'] = 'display_data';\n",
              "          await google.colab.output.renderOutput(dataTable, element);\n",
              "          const docLink = document.createElement('div');\n",
              "          docLink.innerHTML = docLinkHtml;\n",
              "          element.appendChild(docLink);\n",
              "        }\n",
              "      </script>\n",
              "    </div>\n",
              "  </div>\n",
              "  "
            ]
          },
          "metadata": {},
          "execution_count": 59
        }
      ],
      "source": [
        "df_in=pd.read_csv(path)\n",
        "df_in.head()"
      ]
    },
    {
      "cell_type": "code",
      "execution_count": 64,
      "metadata": {
        "id": "aZ_TxRPgqT0k",
        "colab": {
          "base_uri": "https://localhost:8080/",
          "height": 722
        },
        "outputId": "f9570767-9503-44e4-a82e-73a7e61ebd4e"
      },
      "outputs": [
        {
          "output_type": "error",
          "ename": "SyntaxError",
          "evalue": "ignored",
          "traceback": [
            "Traceback \u001b[0;36m(most recent call last)\u001b[0m:\n",
            "  File \u001b[1;32m\"/usr/local/lib/python3.7/dist-packages/IPython/core/interactiveshell.py\"\u001b[0m, line \u001b[1;32m3326\u001b[0m, in \u001b[1;35mrun_code\u001b[0m\n    exec(code_obj, self.user_global_ns, self.user_ns)\n",
            "  File \u001b[1;32m\"<ipython-input-64-26801add2dcc>\"\u001b[0m, line \u001b[1;32m1\u001b[0m, in \u001b[1;35m<module>\u001b[0m\n    df_in[\"image_resized\"]=df_in[\"image_resized\"].apply(lambda x: np.array(ast.literal_eval(x.replace('[ ', '[').replace(' ', ',').replace(',,', '').replace('..', ''))))\n",
            "  File \u001b[1;32m\"/usr/local/lib/python3.7/dist-packages/pandas/core/series.py\"\u001b[0m, line \u001b[1;32m4357\u001b[0m, in \u001b[1;35mapply\u001b[0m\n    return SeriesApply(self, func, convert_dtype, args, kwargs).apply()\n",
            "  File \u001b[1;32m\"/usr/local/lib/python3.7/dist-packages/pandas/core/apply.py\"\u001b[0m, line \u001b[1;32m1043\u001b[0m, in \u001b[1;35mapply\u001b[0m\n    return self.apply_standard()\n",
            "  File \u001b[1;32m\"/usr/local/lib/python3.7/dist-packages/pandas/core/apply.py\"\u001b[0m, line \u001b[1;32m1101\u001b[0m, in \u001b[1;35mapply_standard\u001b[0m\n    convert=self.convert_dtype,\n",
            "  File \u001b[1;32m\"pandas/_libs/lib.pyx\"\u001b[0m, line \u001b[1;32m2859\u001b[0m, in \u001b[1;35mpandas._libs.lib.map_infer\u001b[0m\n",
            "  File \u001b[1;32m\"<ipython-input-64-26801add2dcc>\"\u001b[0m, line \u001b[1;32m1\u001b[0m, in \u001b[1;35m<lambda>\u001b[0m\n    df_in[\"image_resized\"]=df_in[\"image_resized\"].apply(lambda x: np.array(ast.literal_eval(x.replace('[ ', '[').replace(' ', ',').replace(',,', '').replace('..', ''))))\n",
            "  File \u001b[1;32m\"/usr/lib/python3.7/ast.py\"\u001b[0m, line \u001b[1;32m46\u001b[0m, in \u001b[1;35mliteral_eval\u001b[0m\n    node_or_string = parse(node_or_string, mode='eval')\n",
            "\u001b[0;36m  File \u001b[0;32m\"/usr/lib/python3.7/ast.py\"\u001b[0;36m, line \u001b[0;32m35\u001b[0;36m, in \u001b[0;35mparse\u001b[0;36m\u001b[0m\n\u001b[0;31m    return compile(source, filename, mode, PyCF_ONLY_AST)\u001b[0m\n",
            "\u001b[0;36m  File \u001b[0;32m\"<unknown>\"\u001b[0;36m, line \u001b[0;32m1\u001b[0m\n\u001b[0;31m    [[[242,242,242][242,242,242][242,242,242].[241,241,241][241,241,241][238,238,238]],[[242,242,242][242,242,242][242,242,242].[242,242,242][241,241,241][240,240,240]],[[242,242,242][242,242,242][242,242,242].[242,242,242][241,241,241][240,240,240]],.,[[240,240,240][238,238,238][237,237,237].[227,227,227][226,226,226][224,224,224]],[[238,238,238][240,240,240][240,240,240].[227,227,227][225,225,225][223,223,223]],[[240,240,240][239,239,239][239,239,239].[227,227,227][227,227,227][224,224,224]]]\u001b[0m\n\u001b[0m                                              ^\u001b[0m\n\u001b[0;31mSyntaxError\u001b[0m\u001b[0;31m:\u001b[0m invalid syntax\n"
          ]
        }
      ],
      "source": [
        "# df_in[\"image_resized\"]=df_in[\"image_resized\"].apply(lambda x: np.array(ast.literal_eval(x.replace('[ ', '[').replace(' ', ',').replace(',,', '').replace('..', ''))))\n",
        "#new_df['array_col'] = new_df['sample'].apply(lambda x: np.array(literal_eval(x.replace('[ ', '[').replace(' ', ','))))\n"
      ]
    },
    {
      "cell_type": "code",
      "execution_count": null,
      "metadata": {
        "colab": {
          "base_uri": "https://localhost:8080/"
        },
        "id": "3bGD8IbSSXpY",
        "outputId": "3f543c5e-8254-4b23-d736-f34056a2315a"
      },
      "outputs": [
        {
          "name": "stderr",
          "output_type": "stream",
          "text": [
            "/usr/local/lib/python3.7/dist-packages/ipykernel_launcher.py:1: DeprecationWarning: string or file could not be read to its end due to unmatched data; this will raise a ValueError in the future.\n",
            "  \"\"\"Entry point for launching an IPython kernel.\n"
          ]
        }
      ],
      "source": [
        "# df_in[\"image_resized\"]=df_in[\"image_resized\"].apply(lambda x: np.fromstring(x, sep='\\n'))\n",
        "# df_images_preprocessed=df_in.copy()"
      ]
    },
    {
      "cell_type": "markdown",
      "metadata": {
        "id": "lNXCjup3lo4h"
      },
      "source": [
        "Training sets: Multi **model**"
      ]
    },
    {
      "cell_type": "code",
      "execution_count": 41,
      "metadata": {
        "id": "Can7KSxrR6UX"
      },
      "outputs": [],
      "source": [
        "X=df_images_preprocessed[\"image_resized\"].array\n",
        "X=np.asarray(list(X)).astype(np.float32)\n",
        "df_images_preprocessed[\"dress_type_num\"]=df_images_preprocessed[\"dress_type\"].replace([\"top\",\"bottom\",\"one_piece\"],[0,1,2])\n",
        "df_images_preprocessed[\"broad_design_num\"]=df_images_preprocessed[\"broad_design\"].replace([\"Print\",\"Knit\",\"Classic\"],[0,1,2])\n",
        "df_images_preprocessed[\"dress_occasion_num\"]=df_images_preprocessed[\"dress_ocassion\"].replace([\"formal\",\"casual\",\"sporty\"],[0,1,2])\n",
        "\n",
        "y=df_images_preprocessed[[\"dress_type_num\",\"broad_design_num\",\"dress_occasion_num\"]]\n",
        "\n",
        "y_1=to_categorical(y[\"dress_type_num\"])\n",
        "\n",
        "y_2=to_categorical(y[\"broad_design_num\"])\n",
        "\n",
        "y_3=to_categorical(y[\"dress_occasion_num\"])"
      ]
    },
    {
      "cell_type": "code",
      "execution_count": 42,
      "metadata": {
        "id": "Ow5HOtFrbARK",
        "colab": {
          "base_uri": "https://localhost:8080/"
        },
        "outputId": "ec71f8c9-5d2a-4377-b419-5f784f3ff18a"
      },
      "outputs": [
        {
          "output_type": "execute_result",
          "data": {
            "text/plain": [
              "24000"
            ]
          },
          "metadata": {},
          "execution_count": 42
        }
      ],
      "source": [
        "len(X)"
      ]
    },
    {
      "cell_type": "markdown",
      "metadata": {
        "id": "cYWE9y_GltWl"
      },
      "source": [
        "raining sets: Print model 2"
      ]
    },
    {
      "cell_type": "code",
      "execution_count": 43,
      "metadata": {
        "id": "7_VtCC0Elvmw",
        "colab": {
          "base_uri": "https://localhost:8080/"
        },
        "outputId": "4e5cb5d0-ea5f-4ff1-f04a-b276a5a52831"
      },
      "outputs": [
        {
          "output_type": "stream",
          "name": "stderr",
          "text": [
            "/usr/local/lib/python3.7/dist-packages/ipykernel_launcher.py:5: SettingWithCopyWarning: \n",
            "A value is trying to be set on a copy of a slice from a DataFrame.\n",
            "Try using .loc[row_indexer,col_indexer] = value instead\n",
            "\n",
            "See the caveats in the documentation: https://pandas.pydata.org/pandas-docs/stable/user_guide/indexing.html#returning-a-view-versus-a-copy\n",
            "  \"\"\"\n"
          ]
        }
      ],
      "source": [
        "df_images_prep_model2=df_images_preprocessed[df_images_preprocessed[\"broad_design\"]==\"Print\"]\n",
        "X_p=df_images_prep_model2[\"image_resized\"].array\n",
        "X_p=np.asarray(list(X_p)).astype(np.float32)\n",
        "#'Other prints', 'Floral', 'Dotted', 'Graphic', 'Boxed'\n",
        "df_images_prep_model2[\"print_type_num\"]=df_images_prep_model2[\"print_type\"].replace(['Floral', 'Dotted', 'Graphic', 'Boxed','Other prints'],[0,1,2,3,4])\n",
        "\n",
        "y_p=df_images_prep_model2[[\"print_type_num\"]]\n",
        "\n",
        "y_p1=to_categorical(y_p[\"print_type_num\"])\n",
        "\n"
      ]
    },
    {
      "cell_type": "code",
      "execution_count": 44,
      "metadata": {
        "colab": {
          "base_uri": "https://localhost:8080/"
        },
        "id": "NRdel-lGHsyc",
        "outputId": "3c0dbbae-180f-4878-8bcd-e68dd525c0d4"
      },
      "outputs": [
        {
          "output_type": "stream",
          "name": "stdout",
          "text": [
            "Model: \"cloth_design_categorizer\"\n",
            "__________________________________________________________________________________________________\n",
            " Layer (type)                   Output Shape         Param #     Connected to                     \n",
            "==================================================================================================\n",
            " input_1 (InputLayer)           [(None, 3072)]       0           []                               \n",
            "                                                                                                  \n",
            " dense (Dense)                  (None, 64)           196672      ['input_1[0][0]']                \n",
            "                                                                                                  \n",
            " dense_1 (Dense)                (None, 64)           4160        ['dense[0][0]']                  \n",
            "                                                                                                  \n",
            " dense_2 (Dense)                (None, 64)           4160        ['dense_1[0][0]']                \n",
            "                                                                                                  \n",
            " dense_3 (Dense)                (None, 64)           4160        ['dense_2[0][0]']                \n",
            "                                                                                                  \n",
            " dense_4 (Dense)                (None, 3)            195         ['dense_3[0][0]']                \n",
            "                                                                                                  \n",
            " dense_5 (Dense)                (None, 3)            195         ['dense_3[0][0]']                \n",
            "                                                                                                  \n",
            " dense_6 (Dense)                (None, 3)            195         ['dense_3[0][0]']                \n",
            "                                                                                                  \n",
            "==================================================================================================\n",
            "Total params: 209,737\n",
            "Trainable params: 209,737\n",
            "Non-trainable params: 0\n",
            "__________________________________________________________________________________________________\n"
          ]
        }
      ],
      "source": [
        "model_multi.summary()"
      ]
    },
    {
      "cell_type": "code",
      "execution_count": 45,
      "metadata": {
        "colab": {
          "base_uri": "https://localhost:8080/"
        },
        "id": "ytgfHgMNdvMS",
        "outputId": "f51d4f1b-3a77-4c56-cbfc-a7c162726b76"
      },
      "outputs": [
        {
          "output_type": "stream",
          "name": "stdout",
          "text": [
            "Model: \"cloth_print_categorizer\"\n",
            "_________________________________________________________________\n",
            " Layer (type)                Output Shape              Param #   \n",
            "=================================================================\n",
            " input_2 (InputLayer)        [(None, 3072)]            0         \n",
            "                                                                 \n",
            " dense_7 (Dense)             (None, 64)                196672    \n",
            "                                                                 \n",
            " dense_8 (Dense)             (None, 64)                4160      \n",
            "                                                                 \n",
            " dense_9 (Dense)             (None, 64)                4160      \n",
            "                                                                 \n",
            " dense_10 (Dense)            (None, 64)                4160      \n",
            "                                                                 \n",
            " dense_11 (Dense)            (None, 5)                 325       \n",
            "                                                                 \n",
            "=================================================================\n",
            "Total params: 209,477\n",
            "Trainable params: 209,477\n",
            "Non-trainable params: 0\n",
            "_________________________________________________________________\n"
          ]
        }
      ],
      "source": [
        "model_print.summary()"
      ]
    },
    {
      "cell_type": "markdown",
      "source": [
        "Save architecture diagrams"
      ],
      "metadata": {
        "id": "QKV3cON9ehkA"
      }
    },
    {
      "cell_type": "code",
      "execution_count": null,
      "metadata": {
        "id": "_kD4lcoZ-6lq"
      },
      "outputs": [],
      "source": [
        "keras.utils.plot_model(model_multi, \"MyDrive/my_first_model.png\")\n",
        "keras.utils.plot_model(model_print, \"MyDrive/My_print_model.png\")"
      ]
    },
    {
      "cell_type": "code",
      "execution_count": null,
      "metadata": {
        "id": "7d4K_38tvKk8"
      },
      "outputs": [],
      "source": []
    },
    {
      "cell_type": "code",
      "execution_count": 46,
      "metadata": {
        "colab": {
          "base_uri": "https://localhost:8080/"
        },
        "id": "EzDUqfCC-ypp",
        "outputId": "21249c71-1212-479d-ba76-5f3f59982b35"
      },
      "outputs": [
        {
          "output_type": "execute_result",
          "data": {
            "text/plain": [
              "((24000, 32, 32, 3), (24000, 3), (24000, 3), (24000, 3))"
            ]
          },
          "metadata": {},
          "execution_count": 46
        }
      ],
      "source": [
        "X.shape,y_1.shape,y_2.shape,y_3.shape"
      ]
    },
    {
      "cell_type": "markdown",
      "source": [
        "**Train models**"
      ],
      "metadata": {
        "id": "qgDGxGWuepUt"
      }
    },
    {
      "cell_type": "markdown",
      "metadata": {
        "id": "K6YPWhA6vhRj"
      },
      "source": [
        "Train multioutput model"
      ]
    },
    {
      "cell_type": "code",
      "execution_count": 47,
      "metadata": {
        "colab": {
          "base_uri": "https://localhost:8080/"
        },
        "id": "iegmPqYCUi3C",
        "outputId": "02673812-9ff6-4eef-af17-a95c3c0c1201"
      },
      "outputs": [
        {
          "output_type": "stream",
          "name": "stdout",
          "text": [
            "Epoch 1/100\n"
          ]
        },
        {
          "output_type": "stream",
          "name": "stderr",
          "text": [
            "/usr/local/lib/python3.7/dist-packages/tensorflow/python/util/dispatch.py:1082: UserWarning: \"`categorical_crossentropy` received `from_logits=True`, but the `output` argument was produced by a sigmoid or softmax activation and thus does not represent logits. Was this intended?\"\n",
            "  return dispatch_target(*args, **kwargs)\n"
          ]
        },
        {
          "output_type": "stream",
          "name": "stdout",
          "text": [
            "563/563 [==============================] - 7s 8ms/step - loss: 2.9227 - dense_4_loss: 0.9249 - dense_5_loss: 1.1012 - dense_6_loss: 0.8966 - dense_4_accuracy: 0.5442 - dense_5_accuracy: 0.3479 - dense_6_accuracy: 0.5445 - val_loss: 4.4174 - val_dense_4_loss: 2.2864 - val_dense_5_loss: 1.0985 - val_dense_6_loss: 1.0325 - val_dense_4_accuracy: 0.0000e+00 - val_dense_5_accuracy: 0.3975 - val_dense_6_accuracy: 0.3417\n",
            "Epoch 2/100\n",
            "563/563 [==============================] - 3s 5ms/step - loss: 2.8273 - dense_4_loss: 0.8635 - dense_5_loss: 1.0947 - dense_6_loss: 0.8691 - dense_4_accuracy: 0.5943 - dense_5_accuracy: 0.3649 - dense_6_accuracy: 0.5759 - val_loss: 4.1729 - val_dense_4_loss: 1.9587 - val_dense_5_loss: 1.0844 - val_dense_6_loss: 1.1298 - val_dense_4_accuracy: 0.0122 - val_dense_5_accuracy: 0.3940 - val_dense_6_accuracy: 0.3282\n",
            "Epoch 3/100\n",
            "563/563 [==============================] - 3s 5ms/step - loss: 2.7787 - dense_4_loss: 0.8313 - dense_5_loss: 1.0926 - dense_6_loss: 0.8548 - dense_4_accuracy: 0.6174 - dense_5_accuracy: 0.3775 - dense_6_accuracy: 0.5891 - val_loss: 4.4363 - val_dense_4_loss: 2.2346 - val_dense_5_loss: 1.0877 - val_dense_6_loss: 1.1141 - val_dense_4_accuracy: 0.0145 - val_dense_5_accuracy: 0.4067 - val_dense_6_accuracy: 0.3557\n",
            "Epoch 4/100\n",
            "563/563 [==============================] - 3s 5ms/step - loss: 2.7407 - dense_4_loss: 0.8083 - dense_5_loss: 1.0890 - dense_6_loss: 0.8434 - dense_4_accuracy: 0.6351 - dense_5_accuracy: 0.3824 - dense_6_accuracy: 0.6042 - val_loss: 4.5995 - val_dense_4_loss: 2.2505 - val_dense_5_loss: 1.0973 - val_dense_6_loss: 1.2517 - val_dense_4_accuracy: 0.0260 - val_dense_5_accuracy: 0.3723 - val_dense_6_accuracy: 0.3497\n",
            "Epoch 5/100\n",
            "563/563 [==============================] - 5s 9ms/step - loss: 2.7111 - dense_4_loss: 0.7903 - dense_5_loss: 1.0852 - dense_6_loss: 0.8355 - dense_4_accuracy: 0.6476 - dense_5_accuracy: 0.3886 - dense_6_accuracy: 0.6098 - val_loss: 4.4215 - val_dense_4_loss: 2.2553 - val_dense_5_loss: 1.0955 - val_dense_6_loss: 1.0708 - val_dense_4_accuracy: 0.0425 - val_dense_5_accuracy: 0.3750 - val_dense_6_accuracy: 0.4048\n",
            "Epoch 6/100\n",
            "563/563 [==============================] - 4s 7ms/step - loss: 2.6891 - dense_4_loss: 0.7777 - dense_5_loss: 1.0821 - dense_6_loss: 0.8293 - dense_4_accuracy: 0.6551 - dense_5_accuracy: 0.3996 - dense_6_accuracy: 0.6158 - val_loss: 3.5362 - val_dense_4_loss: 1.5255 - val_dense_5_loss: 1.0779 - val_dense_6_loss: 0.9328 - val_dense_4_accuracy: 0.1642 - val_dense_5_accuracy: 0.3935 - val_dense_6_accuracy: 0.5177\n",
            "Epoch 7/100\n",
            "563/563 [==============================] - 3s 5ms/step - loss: 2.6703 - dense_4_loss: 0.7682 - dense_5_loss: 1.0793 - dense_6_loss: 0.8229 - dense_4_accuracy: 0.6615 - dense_5_accuracy: 0.4066 - dense_6_accuracy: 0.6213 - val_loss: 3.4825 - val_dense_4_loss: 1.4710 - val_dense_5_loss: 1.0914 - val_dense_6_loss: 0.9201 - val_dense_4_accuracy: 0.2855 - val_dense_5_accuracy: 0.3897 - val_dense_6_accuracy: 0.5440\n",
            "Epoch 8/100\n",
            "563/563 [==============================] - 3s 5ms/step - loss: 2.6421 - dense_4_loss: 0.7512 - dense_5_loss: 1.0738 - dense_6_loss: 0.8171 - dense_4_accuracy: 0.6729 - dense_5_accuracy: 0.4175 - dense_6_accuracy: 0.6249 - val_loss: 4.1258 - val_dense_4_loss: 1.9247 - val_dense_5_loss: 1.0948 - val_dense_6_loss: 1.1063 - val_dense_4_accuracy: 0.1392 - val_dense_5_accuracy: 0.3772 - val_dense_6_accuracy: 0.4143\n",
            "Epoch 9/100\n",
            "563/563 [==============================] - 3s 5ms/step - loss: 2.6277 - dense_4_loss: 0.7419 - dense_5_loss: 1.0708 - dense_6_loss: 0.8149 - dense_4_accuracy: 0.6828 - dense_5_accuracy: 0.4154 - dense_6_accuracy: 0.6249 - val_loss: 3.4482 - val_dense_4_loss: 1.4484 - val_dense_5_loss: 1.0794 - val_dense_6_loss: 0.9204 - val_dense_4_accuracy: 0.3088 - val_dense_5_accuracy: 0.4012 - val_dense_6_accuracy: 0.5587\n",
            "Epoch 10/100\n",
            "563/563 [==============================] - 4s 6ms/step - loss: 2.6096 - dense_4_loss: 0.7329 - dense_5_loss: 1.0677 - dense_6_loss: 0.8091 - dense_4_accuracy: 0.6832 - dense_5_accuracy: 0.4193 - dense_6_accuracy: 0.6331 - val_loss: 3.5227 - val_dense_4_loss: 1.5022 - val_dense_5_loss: 1.0962 - val_dense_6_loss: 0.9243 - val_dense_4_accuracy: 0.2932 - val_dense_5_accuracy: 0.3733 - val_dense_6_accuracy: 0.5505\n",
            "Epoch 11/100\n",
            "563/563 [==============================] - 4s 7ms/step - loss: 2.5935 - dense_4_loss: 0.7244 - dense_5_loss: 1.0638 - dense_6_loss: 0.8053 - dense_4_accuracy: 0.6897 - dense_5_accuracy: 0.4272 - dense_6_accuracy: 0.6349 - val_loss: 3.8874 - val_dense_4_loss: 1.8646 - val_dense_5_loss: 1.0791 - val_dense_6_loss: 0.9437 - val_dense_4_accuracy: 0.1228 - val_dense_5_accuracy: 0.3932 - val_dense_6_accuracy: 0.5242\n",
            "Epoch 12/100\n",
            "563/563 [==============================] - 3s 5ms/step - loss: 2.5792 - dense_4_loss: 0.7156 - dense_5_loss: 1.0637 - dense_6_loss: 0.7998 - dense_4_accuracy: 0.6944 - dense_5_accuracy: 0.4280 - dense_6_accuracy: 0.6391 - val_loss: 3.2064 - val_dense_4_loss: 1.1746 - val_dense_5_loss: 1.0816 - val_dense_6_loss: 0.9502 - val_dense_4_accuracy: 0.4163 - val_dense_5_accuracy: 0.4012 - val_dense_6_accuracy: 0.5328\n",
            "Epoch 13/100\n",
            "563/563 [==============================] - 4s 7ms/step - loss: 2.5635 - dense_4_loss: 0.7076 - dense_5_loss: 1.0595 - dense_6_loss: 0.7964 - dense_4_accuracy: 0.6982 - dense_5_accuracy: 0.4353 - dense_6_accuracy: 0.6443 - val_loss: 3.8070 - val_dense_4_loss: 1.7102 - val_dense_5_loss: 1.0883 - val_dense_6_loss: 1.0084 - val_dense_4_accuracy: 0.2347 - val_dense_5_accuracy: 0.3937 - val_dense_6_accuracy: 0.4843\n",
            "Epoch 14/100\n",
            "563/563 [==============================] - 3s 6ms/step - loss: 2.5525 - dense_4_loss: 0.7012 - dense_5_loss: 1.0584 - dense_6_loss: 0.7930 - dense_4_accuracy: 0.7006 - dense_5_accuracy: 0.4358 - dense_6_accuracy: 0.6454 - val_loss: 3.9019 - val_dense_4_loss: 1.8444 - val_dense_5_loss: 1.0709 - val_dense_6_loss: 0.9866 - val_dense_4_accuracy: 0.1867 - val_dense_5_accuracy: 0.4025 - val_dense_6_accuracy: 0.4912\n",
            "Epoch 15/100\n",
            "563/563 [==============================] - 3s 5ms/step - loss: 2.5377 - dense_4_loss: 0.6939 - dense_5_loss: 1.0547 - dense_6_loss: 0.7891 - dense_4_accuracy: 0.7077 - dense_5_accuracy: 0.4401 - dense_6_accuracy: 0.6482 - val_loss: 3.9780 - val_dense_4_loss: 1.9250 - val_dense_5_loss: 1.0760 - val_dense_6_loss: 0.9770 - val_dense_4_accuracy: 0.1150 - val_dense_5_accuracy: 0.4063 - val_dense_6_accuracy: 0.4698\n",
            "Epoch 16/100\n",
            "563/563 [==============================] - 3s 5ms/step - loss: 2.5245 - dense_4_loss: 0.6848 - dense_5_loss: 1.0543 - dense_6_loss: 0.7854 - dense_4_accuracy: 0.7136 - dense_5_accuracy: 0.4390 - dense_6_accuracy: 0.6483 - val_loss: 3.5120 - val_dense_4_loss: 1.4424 - val_dense_5_loss: 1.1125 - val_dense_6_loss: 0.9571 - val_dense_4_accuracy: 0.3875 - val_dense_5_accuracy: 0.3805 - val_dense_6_accuracy: 0.5467\n",
            "Epoch 17/100\n",
            "563/563 [==============================] - 3s 5ms/step - loss: 2.5133 - dense_4_loss: 0.6805 - dense_5_loss: 1.0497 - dense_6_loss: 0.7832 - dense_4_accuracy: 0.7153 - dense_5_accuracy: 0.4424 - dense_6_accuracy: 0.6518 - val_loss: 3.3850 - val_dense_4_loss: 1.3834 - val_dense_5_loss: 1.1012 - val_dense_6_loss: 0.9004 - val_dense_4_accuracy: 0.3882 - val_dense_5_accuracy: 0.3760 - val_dense_6_accuracy: 0.5940\n",
            "Epoch 18/100\n",
            "563/563 [==============================] - 3s 5ms/step - loss: 2.4985 - dense_4_loss: 0.6723 - dense_5_loss: 1.0486 - dense_6_loss: 0.7777 - dense_4_accuracy: 0.7193 - dense_5_accuracy: 0.4459 - dense_6_accuracy: 0.6572 - val_loss: 3.7912 - val_dense_4_loss: 1.7389 - val_dense_5_loss: 1.0730 - val_dense_6_loss: 0.9794 - val_dense_4_accuracy: 0.2088 - val_dense_5_accuracy: 0.4175 - val_dense_6_accuracy: 0.5198\n",
            "Epoch 19/100\n",
            "563/563 [==============================] - 3s 5ms/step - loss: 2.4750 - dense_4_loss: 0.6611 - dense_5_loss: 1.0444 - dense_6_loss: 0.7695 - dense_4_accuracy: 0.7249 - dense_5_accuracy: 0.4562 - dense_6_accuracy: 0.6601 - val_loss: 3.9806 - val_dense_4_loss: 1.9749 - val_dense_5_loss: 1.0708 - val_dense_6_loss: 0.9349 - val_dense_4_accuracy: 0.1703 - val_dense_5_accuracy: 0.4182 - val_dense_6_accuracy: 0.5462\n",
            "Epoch 20/100\n",
            "563/563 [==============================] - 3s 5ms/step - loss: 2.4710 - dense_4_loss: 0.6576 - dense_5_loss: 1.0443 - dense_6_loss: 0.7691 - dense_4_accuracy: 0.7282 - dense_5_accuracy: 0.4532 - dense_6_accuracy: 0.6600 - val_loss: 3.8288 - val_dense_4_loss: 1.7563 - val_dense_5_loss: 1.0999 - val_dense_6_loss: 0.9726 - val_dense_4_accuracy: 0.2525 - val_dense_5_accuracy: 0.3867 - val_dense_6_accuracy: 0.5077\n",
            "Epoch 21/100\n",
            "563/563 [==============================] - 4s 7ms/step - loss: 2.4602 - dense_4_loss: 0.6503 - dense_5_loss: 1.0426 - dense_6_loss: 0.7672 - dense_4_accuracy: 0.7307 - dense_5_accuracy: 0.4535 - dense_6_accuracy: 0.6602 - val_loss: 3.9122 - val_dense_4_loss: 1.8125 - val_dense_5_loss: 1.0834 - val_dense_6_loss: 1.0162 - val_dense_4_accuracy: 0.2082 - val_dense_5_accuracy: 0.4117 - val_dense_6_accuracy: 0.4882\n",
            "Epoch 22/100\n",
            "563/563 [==============================] - 4s 7ms/step - loss: 2.4497 - dense_4_loss: 0.6466 - dense_5_loss: 1.0399 - dense_6_loss: 0.7632 - dense_4_accuracy: 0.7354 - dense_5_accuracy: 0.4557 - dense_6_accuracy: 0.6653 - val_loss: 3.5936 - val_dense_4_loss: 1.5939 - val_dense_5_loss: 1.0745 - val_dense_6_loss: 0.9251 - val_dense_4_accuracy: 0.2873 - val_dense_5_accuracy: 0.4195 - val_dense_6_accuracy: 0.5638\n",
            "Epoch 23/100\n",
            "563/563 [==============================] - 3s 5ms/step - loss: 2.4314 - dense_4_loss: 0.6386 - dense_5_loss: 1.0343 - dense_6_loss: 0.7586 - dense_4_accuracy: 0.7363 - dense_5_accuracy: 0.4642 - dense_6_accuracy: 0.6668 - val_loss: 3.6486 - val_dense_4_loss: 1.6475 - val_dense_5_loss: 1.0790 - val_dense_6_loss: 0.9221 - val_dense_4_accuracy: 0.2713 - val_dense_5_accuracy: 0.4172 - val_dense_6_accuracy: 0.5540\n",
            "Epoch 24/100\n",
            "563/563 [==============================] - 3s 5ms/step - loss: 2.4204 - dense_4_loss: 0.6336 - dense_5_loss: 1.0314 - dense_6_loss: 0.7554 - dense_4_accuracy: 0.7389 - dense_5_accuracy: 0.4655 - dense_6_accuracy: 0.6646 - val_loss: 4.5234 - val_dense_4_loss: 2.4810 - val_dense_5_loss: 1.0751 - val_dense_6_loss: 0.9673 - val_dense_4_accuracy: 0.1637 - val_dense_5_accuracy: 0.4200 - val_dense_6_accuracy: 0.5253\n",
            "Epoch 25/100\n",
            "563/563 [==============================] - 3s 5ms/step - loss: 2.4148 - dense_4_loss: 0.6311 - dense_5_loss: 1.0325 - dense_6_loss: 0.7511 - dense_4_accuracy: 0.7416 - dense_5_accuracy: 0.4623 - dense_6_accuracy: 0.6729 - val_loss: 3.8311 - val_dense_4_loss: 1.7562 - val_dense_5_loss: 1.0879 - val_dense_6_loss: 0.9869 - val_dense_4_accuracy: 0.2758 - val_dense_5_accuracy: 0.4105 - val_dense_6_accuracy: 0.5242\n",
            "Epoch 26/100\n",
            "563/563 [==============================] - 3s 5ms/step - loss: 2.3996 - dense_4_loss: 0.6230 - dense_5_loss: 1.0286 - dense_6_loss: 0.7480 - dense_4_accuracy: 0.7440 - dense_5_accuracy: 0.4693 - dense_6_accuracy: 0.6751 - val_loss: 3.6723 - val_dense_4_loss: 1.5351 - val_dense_5_loss: 1.0773 - val_dense_6_loss: 1.0599 - val_dense_4_accuracy: 0.3205 - val_dense_5_accuracy: 0.4325 - val_dense_6_accuracy: 0.4903\n",
            "Epoch 27/100\n",
            "563/563 [==============================] - 3s 5ms/step - loss: 2.3886 - dense_4_loss: 0.6171 - dense_5_loss: 1.0265 - dense_6_loss: 0.7450 - dense_4_accuracy: 0.7477 - dense_5_accuracy: 0.4719 - dense_6_accuracy: 0.6737 - val_loss: 3.8012 - val_dense_4_loss: 1.7759 - val_dense_5_loss: 1.0889 - val_dense_6_loss: 0.9365 - val_dense_4_accuracy: 0.1588 - val_dense_5_accuracy: 0.3957 - val_dense_6_accuracy: 0.5317\n",
            "Epoch 28/100\n",
            "563/563 [==============================] - 3s 5ms/step - loss: 2.3801 - dense_4_loss: 0.6126 - dense_5_loss: 1.0247 - dense_6_loss: 0.7428 - dense_4_accuracy: 0.7498 - dense_5_accuracy: 0.4722 - dense_6_accuracy: 0.6758 - val_loss: 3.9700 - val_dense_4_loss: 1.9552 - val_dense_5_loss: 1.0825 - val_dense_6_loss: 0.9324 - val_dense_4_accuracy: 0.2333 - val_dense_5_accuracy: 0.4135 - val_dense_6_accuracy: 0.5460\n",
            "Epoch 29/100\n",
            "563/563 [==============================] - 3s 5ms/step - loss: 2.3571 - dense_4_loss: 0.6021 - dense_5_loss: 1.0216 - dense_6_loss: 0.7334 - dense_4_accuracy: 0.7561 - dense_5_accuracy: 0.4761 - dense_6_accuracy: 0.6841 - val_loss: 4.3109 - val_dense_4_loss: 2.1126 - val_dense_5_loss: 1.1236 - val_dense_6_loss: 1.0747 - val_dense_4_accuracy: 0.1893 - val_dense_5_accuracy: 0.3997 - val_dense_6_accuracy: 0.4755\n",
            "Epoch 30/100\n",
            "563/563 [==============================] - 3s 5ms/step - loss: 2.3522 - dense_4_loss: 0.6021 - dense_5_loss: 1.0167 - dense_6_loss: 0.7334 - dense_4_accuracy: 0.7538 - dense_5_accuracy: 0.4810 - dense_6_accuracy: 0.6791 - val_loss: 4.1186 - val_dense_4_loss: 2.0105 - val_dense_5_loss: 1.0758 - val_dense_6_loss: 1.0323 - val_dense_4_accuracy: 0.2078 - val_dense_5_accuracy: 0.4297 - val_dense_6_accuracy: 0.5033\n",
            "Epoch 31/100\n",
            "563/563 [==============================] - 3s 6ms/step - loss: 2.3419 - dense_4_loss: 0.5948 - dense_5_loss: 1.0148 - dense_6_loss: 0.7324 - dense_4_accuracy: 0.7611 - dense_5_accuracy: 0.4829 - dense_6_accuracy: 0.6821 - val_loss: 4.3920 - val_dense_4_loss: 2.1971 - val_dense_5_loss: 1.0956 - val_dense_6_loss: 1.0993 - val_dense_4_accuracy: 0.2232 - val_dense_5_accuracy: 0.4080 - val_dense_6_accuracy: 0.4873\n",
            "Epoch 32/100\n",
            "563/563 [==============================] - 3s 5ms/step - loss: 2.3358 - dense_4_loss: 0.5951 - dense_5_loss: 1.0122 - dense_6_loss: 0.7285 - dense_4_accuracy: 0.7596 - dense_5_accuracy: 0.4852 - dense_6_accuracy: 0.6835 - val_loss: 3.9699 - val_dense_4_loss: 1.9676 - val_dense_5_loss: 1.0945 - val_dense_6_loss: 0.9077 - val_dense_4_accuracy: 0.2045 - val_dense_5_accuracy: 0.4287 - val_dense_6_accuracy: 0.5857\n",
            "Epoch 33/100\n",
            "563/563 [==============================] - 3s 5ms/step - loss: 2.3211 - dense_4_loss: 0.5866 - dense_5_loss: 1.0105 - dense_6_loss: 0.7240 - dense_4_accuracy: 0.7601 - dense_5_accuracy: 0.4834 - dense_6_accuracy: 0.6860 - val_loss: 3.8858 - val_dense_4_loss: 1.6657 - val_dense_5_loss: 1.1399 - val_dense_6_loss: 1.0803 - val_dense_4_accuracy: 0.3002 - val_dense_5_accuracy: 0.3932 - val_dense_6_accuracy: 0.5002\n",
            "Epoch 34/100\n",
            "563/563 [==============================] - 3s 5ms/step - loss: 2.3103 - dense_4_loss: 0.5831 - dense_5_loss: 1.0068 - dense_6_loss: 0.7204 - dense_4_accuracy: 0.7633 - dense_5_accuracy: 0.4863 - dense_6_accuracy: 0.6862 - val_loss: 3.4008 - val_dense_4_loss: 1.3737 - val_dense_5_loss: 1.1056 - val_dense_6_loss: 0.9216 - val_dense_4_accuracy: 0.4213 - val_dense_5_accuracy: 0.4087 - val_dense_6_accuracy: 0.5708\n",
            "Epoch 35/100\n",
            "563/563 [==============================] - 3s 5ms/step - loss: 2.3008 - dense_4_loss: 0.5790 - dense_5_loss: 1.0037 - dense_6_loss: 0.7182 - dense_4_accuracy: 0.7662 - dense_5_accuracy: 0.4911 - dense_6_accuracy: 0.6903 - val_loss: 4.3757 - val_dense_4_loss: 2.3168 - val_dense_5_loss: 1.0827 - val_dense_6_loss: 0.9762 - val_dense_4_accuracy: 0.1707 - val_dense_5_accuracy: 0.4210 - val_dense_6_accuracy: 0.5445\n",
            "Epoch 36/100\n",
            "563/563 [==============================] - 3s 5ms/step - loss: 2.2858 - dense_4_loss: 0.5705 - dense_5_loss: 1.0023 - dense_6_loss: 0.7130 - dense_4_accuracy: 0.7720 - dense_5_accuracy: 0.4887 - dense_6_accuracy: 0.6939 - val_loss: 4.0418 - val_dense_4_loss: 1.9009 - val_dense_5_loss: 1.0758 - val_dense_6_loss: 1.0651 - val_dense_4_accuracy: 0.2852 - val_dense_5_accuracy: 0.4305 - val_dense_6_accuracy: 0.5130\n",
            "Epoch 37/100\n",
            "563/563 [==============================] - 3s 5ms/step - loss: 2.2780 - dense_4_loss: 0.5687 - dense_5_loss: 0.9995 - dense_6_loss: 0.7098 - dense_4_accuracy: 0.7716 - dense_5_accuracy: 0.4978 - dense_6_accuracy: 0.6961 - val_loss: 3.8738 - val_dense_4_loss: 1.7433 - val_dense_5_loss: 1.0820 - val_dense_6_loss: 1.0484 - val_dense_4_accuracy: 0.3102 - val_dense_5_accuracy: 0.4213 - val_dense_6_accuracy: 0.5113\n",
            "Epoch 38/100\n",
            "563/563 [==============================] - 3s 6ms/step - loss: 2.2663 - dense_4_loss: 0.5609 - dense_5_loss: 0.9987 - dense_6_loss: 0.7067 - dense_4_accuracy: 0.7759 - dense_5_accuracy: 0.5003 - dense_6_accuracy: 0.6975 - val_loss: 3.8815 - val_dense_4_loss: 1.7796 - val_dense_5_loss: 1.0849 - val_dense_6_loss: 1.0170 - val_dense_4_accuracy: 0.2818 - val_dense_5_accuracy: 0.4393 - val_dense_6_accuracy: 0.5390\n",
            "Epoch 39/100\n",
            "563/563 [==============================] - 3s 5ms/step - loss: 2.2491 - dense_4_loss: 0.5522 - dense_5_loss: 0.9922 - dense_6_loss: 0.7047 - dense_4_accuracy: 0.7803 - dense_5_accuracy: 0.5036 - dense_6_accuracy: 0.6985 - val_loss: 3.7905 - val_dense_4_loss: 1.5254 - val_dense_5_loss: 1.1241 - val_dense_6_loss: 1.1410 - val_dense_4_accuracy: 0.4395 - val_dense_5_accuracy: 0.4182 - val_dense_6_accuracy: 0.4962\n",
            "Epoch 40/100\n",
            "563/563 [==============================] - 4s 6ms/step - loss: 2.2503 - dense_4_loss: 0.5535 - dense_5_loss: 0.9924 - dense_6_loss: 0.7044 - dense_4_accuracy: 0.7784 - dense_5_accuracy: 0.4947 - dense_6_accuracy: 0.6939 - val_loss: 3.6298 - val_dense_4_loss: 1.5838 - val_dense_5_loss: 1.0804 - val_dense_6_loss: 0.9656 - val_dense_4_accuracy: 0.3432 - val_dense_5_accuracy: 0.4300 - val_dense_6_accuracy: 0.5308\n",
            "Epoch 41/100\n",
            "563/563 [==============================] - 3s 5ms/step - loss: 2.2257 - dense_4_loss: 0.5446 - dense_5_loss: 0.9891 - dense_6_loss: 0.6921 - dense_4_accuracy: 0.7813 - dense_5_accuracy: 0.5016 - dense_6_accuracy: 0.7048 - val_loss: 3.4186 - val_dense_4_loss: 1.3864 - val_dense_5_loss: 1.0899 - val_dense_6_loss: 0.9423 - val_dense_4_accuracy: 0.4410 - val_dense_5_accuracy: 0.4198 - val_dense_6_accuracy: 0.5808\n",
            "Epoch 42/100\n",
            "563/563 [==============================] - 3s 5ms/step - loss: 2.2165 - dense_4_loss: 0.5417 - dense_5_loss: 0.9836 - dense_6_loss: 0.6911 - dense_4_accuracy: 0.7847 - dense_5_accuracy: 0.5080 - dense_6_accuracy: 0.7050 - val_loss: 3.6623 - val_dense_4_loss: 1.5978 - val_dense_5_loss: 1.1176 - val_dense_6_loss: 0.9469 - val_dense_4_accuracy: 0.3667 - val_dense_5_accuracy: 0.3930 - val_dense_6_accuracy: 0.5663\n",
            "Epoch 43/100\n",
            "563/563 [==============================] - 3s 5ms/step - loss: 2.2231 - dense_4_loss: 0.5458 - dense_5_loss: 0.9828 - dense_6_loss: 0.6945 - dense_4_accuracy: 0.7825 - dense_5_accuracy: 0.5126 - dense_6_accuracy: 0.6978 - val_loss: 3.1252 - val_dense_4_loss: 1.0656 - val_dense_5_loss: 1.1398 - val_dense_6_loss: 0.9198 - val_dense_4_accuracy: 0.5298 - val_dense_5_accuracy: 0.3823 - val_dense_6_accuracy: 0.6002\n",
            "Epoch 44/100\n",
            "563/563 [==============================] - 3s 5ms/step - loss: 2.1991 - dense_4_loss: 0.5353 - dense_5_loss: 0.9784 - dense_6_loss: 0.6854 - dense_4_accuracy: 0.7883 - dense_5_accuracy: 0.5097 - dense_6_accuracy: 0.7081 - val_loss: 3.1364 - val_dense_4_loss: 1.1121 - val_dense_5_loss: 1.0826 - val_dense_6_loss: 0.9417 - val_dense_4_accuracy: 0.5293 - val_dense_5_accuracy: 0.4328 - val_dense_6_accuracy: 0.5743\n",
            "Epoch 45/100\n",
            "563/563 [==============================] - 3s 5ms/step - loss: 2.1869 - dense_4_loss: 0.5275 - dense_5_loss: 0.9767 - dense_6_loss: 0.6826 - dense_4_accuracy: 0.7914 - dense_5_accuracy: 0.5173 - dense_6_accuracy: 0.7079 - val_loss: 3.6297 - val_dense_4_loss: 1.5621 - val_dense_5_loss: 1.1160 - val_dense_6_loss: 0.9516 - val_dense_4_accuracy: 0.3790 - val_dense_5_accuracy: 0.4048 - val_dense_6_accuracy: 0.5617\n",
            "Epoch 46/100\n",
            "563/563 [==============================] - 3s 5ms/step - loss: 2.1790 - dense_4_loss: 0.5273 - dense_5_loss: 0.9715 - dense_6_loss: 0.6802 - dense_4_accuracy: 0.7907 - dense_5_accuracy: 0.5165 - dense_6_accuracy: 0.7078 - val_loss: 3.3814 - val_dense_4_loss: 1.2971 - val_dense_5_loss: 1.1183 - val_dense_6_loss: 0.9660 - val_dense_4_accuracy: 0.4668 - val_dense_5_accuracy: 0.4133 - val_dense_6_accuracy: 0.5752\n",
            "Epoch 47/100\n",
            "563/563 [==============================] - 3s 6ms/step - loss: 2.1745 - dense_4_loss: 0.5246 - dense_5_loss: 0.9702 - dense_6_loss: 0.6797 - dense_4_accuracy: 0.7946 - dense_5_accuracy: 0.5191 - dense_6_accuracy: 0.7104 - val_loss: 4.0709 - val_dense_4_loss: 1.9096 - val_dense_5_loss: 1.1352 - val_dense_6_loss: 1.0261 - val_dense_4_accuracy: 0.2840 - val_dense_5_accuracy: 0.3970 - val_dense_6_accuracy: 0.5458\n",
            "Epoch 48/100\n",
            "563/563 [==============================] - 3s 5ms/step - loss: 2.1631 - dense_4_loss: 0.5174 - dense_5_loss: 0.9681 - dense_6_loss: 0.6776 - dense_4_accuracy: 0.7955 - dense_5_accuracy: 0.5178 - dense_6_accuracy: 0.7113 - val_loss: 4.2533 - val_dense_4_loss: 2.1909 - val_dense_5_loss: 1.1126 - val_dense_6_loss: 0.9499 - val_dense_4_accuracy: 0.2473 - val_dense_5_accuracy: 0.4192 - val_dense_6_accuracy: 0.5763\n",
            "Epoch 49/100\n",
            "563/563 [==============================] - 3s 5ms/step - loss: 2.1617 - dense_4_loss: 0.5190 - dense_5_loss: 0.9676 - dense_6_loss: 0.6751 - dense_4_accuracy: 0.7924 - dense_5_accuracy: 0.5235 - dense_6_accuracy: 0.7068 - val_loss: 3.4791 - val_dense_4_loss: 1.4475 - val_dense_5_loss: 1.1123 - val_dense_6_loss: 0.9194 - val_dense_4_accuracy: 0.3997 - val_dense_5_accuracy: 0.4318 - val_dense_6_accuracy: 0.5830\n",
            "Epoch 50/100\n",
            "563/563 [==============================] - 3s 5ms/step - loss: 2.1522 - dense_4_loss: 0.5179 - dense_5_loss: 0.9625 - dense_6_loss: 0.6718 - dense_4_accuracy: 0.7950 - dense_5_accuracy: 0.5282 - dense_6_accuracy: 0.7132 - val_loss: 3.5099 - val_dense_4_loss: 1.4503 - val_dense_5_loss: 1.1111 - val_dense_6_loss: 0.9485 - val_dense_4_accuracy: 0.4273 - val_dense_5_accuracy: 0.4260 - val_dense_6_accuracy: 0.5707\n",
            "Epoch 51/100\n",
            "563/563 [==============================] - 3s 5ms/step - loss: 2.1192 - dense_4_loss: 0.4989 - dense_5_loss: 0.9568 - dense_6_loss: 0.6635 - dense_4_accuracy: 0.8038 - dense_5_accuracy: 0.5298 - dense_6_accuracy: 0.7183 - val_loss: 4.4285 - val_dense_4_loss: 2.2999 - val_dense_5_loss: 1.1170 - val_dense_6_loss: 1.0117 - val_dense_4_accuracy: 0.2333 - val_dense_5_accuracy: 0.4162 - val_dense_6_accuracy: 0.5118\n",
            "Epoch 52/100\n",
            "563/563 [==============================] - 3s 5ms/step - loss: 2.1125 - dense_4_loss: 0.4990 - dense_5_loss: 0.9547 - dense_6_loss: 0.6589 - dense_4_accuracy: 0.8024 - dense_5_accuracy: 0.5298 - dense_6_accuracy: 0.7216 - val_loss: 4.1293 - val_dense_4_loss: 1.9183 - val_dense_5_loss: 1.1320 - val_dense_6_loss: 1.0791 - val_dense_4_accuracy: 0.3275 - val_dense_5_accuracy: 0.4443 - val_dense_6_accuracy: 0.5218\n",
            "Epoch 53/100\n",
            "563/563 [==============================] - 3s 5ms/step - loss: 2.1094 - dense_4_loss: 0.5007 - dense_5_loss: 0.9519 - dense_6_loss: 0.6568 - dense_4_accuracy: 0.8050 - dense_5_accuracy: 0.5311 - dense_6_accuracy: 0.7201 - val_loss: 3.4784 - val_dense_4_loss: 1.4065 - val_dense_5_loss: 1.1456 - val_dense_6_loss: 0.9264 - val_dense_4_accuracy: 0.4250 - val_dense_5_accuracy: 0.3868 - val_dense_6_accuracy: 0.6105\n",
            "Epoch 54/100\n",
            "563/563 [==============================] - 3s 5ms/step - loss: 2.1003 - dense_4_loss: 0.4984 - dense_5_loss: 0.9482 - dense_6_loss: 0.6537 - dense_4_accuracy: 0.8033 - dense_5_accuracy: 0.5352 - dense_6_accuracy: 0.7188 - val_loss: 3.3757 - val_dense_4_loss: 1.3319 - val_dense_5_loss: 1.0994 - val_dense_6_loss: 0.9444 - val_dense_4_accuracy: 0.4855 - val_dense_5_accuracy: 0.4338 - val_dense_6_accuracy: 0.5813\n",
            "Epoch 55/100\n",
            "563/563 [==============================] - 3s 5ms/step - loss: 2.0950 - dense_4_loss: 0.4954 - dense_5_loss: 0.9455 - dense_6_loss: 0.6541 - dense_4_accuracy: 0.8062 - dense_5_accuracy: 0.5358 - dense_6_accuracy: 0.7209 - val_loss: 4.5880 - val_dense_4_loss: 2.4350 - val_dense_5_loss: 1.0926 - val_dense_6_loss: 1.0604 - val_dense_4_accuracy: 0.2133 - val_dense_5_accuracy: 0.4255 - val_dense_6_accuracy: 0.5203\n",
            "Epoch 56/100\n",
            "563/563 [==============================] - 3s 5ms/step - loss: 2.0714 - dense_4_loss: 0.4825 - dense_5_loss: 0.9397 - dense_6_loss: 0.6492 - dense_4_accuracy: 0.8134 - dense_5_accuracy: 0.5389 - dense_6_accuracy: 0.7216 - val_loss: 4.0072 - val_dense_4_loss: 1.9014 - val_dense_5_loss: 1.1866 - val_dense_6_loss: 0.9192 - val_dense_4_accuracy: 0.3283 - val_dense_5_accuracy: 0.4142 - val_dense_6_accuracy: 0.5950\n",
            "Epoch 57/100\n",
            "563/563 [==============================] - 3s 5ms/step - loss: 2.0616 - dense_4_loss: 0.4783 - dense_5_loss: 0.9397 - dense_6_loss: 0.6435 - dense_4_accuracy: 0.8104 - dense_5_accuracy: 0.5398 - dense_6_accuracy: 0.7297 - val_loss: 3.3092 - val_dense_4_loss: 1.2336 - val_dense_5_loss: 1.1383 - val_dense_6_loss: 0.9373 - val_dense_4_accuracy: 0.4627 - val_dense_5_accuracy: 0.4175 - val_dense_6_accuracy: 0.5983\n",
            "Epoch 58/100\n",
            "563/563 [==============================] - 5s 8ms/step - loss: 2.0624 - dense_4_loss: 0.4822 - dense_5_loss: 0.9366 - dense_6_loss: 0.6436 - dense_4_accuracy: 0.8108 - dense_5_accuracy: 0.5397 - dense_6_accuracy: 0.7264 - val_loss: 3.7836 - val_dense_4_loss: 1.6698 - val_dense_5_loss: 1.1621 - val_dense_6_loss: 0.9517 - val_dense_4_accuracy: 0.3972 - val_dense_5_accuracy: 0.3940 - val_dense_6_accuracy: 0.5760\n",
            "Epoch 59/100\n",
            "563/563 [==============================] - 3s 5ms/step - loss: 2.0387 - dense_4_loss: 0.4684 - dense_5_loss: 0.9360 - dense_6_loss: 0.6343 - dense_4_accuracy: 0.8179 - dense_5_accuracy: 0.5421 - dense_6_accuracy: 0.7322 - val_loss: 4.4034 - val_dense_4_loss: 2.0278 - val_dense_5_loss: 1.2681 - val_dense_6_loss: 1.1074 - val_dense_4_accuracy: 0.2943 - val_dense_5_accuracy: 0.3507 - val_dense_6_accuracy: 0.5133\n",
            "Epoch 60/100\n",
            "563/563 [==============================] - 3s 5ms/step - loss: 2.0436 - dense_4_loss: 0.4748 - dense_5_loss: 0.9323 - dense_6_loss: 0.6365 - dense_4_accuracy: 0.8156 - dense_5_accuracy: 0.5427 - dense_6_accuracy: 0.7298 - val_loss: 3.8038 - val_dense_4_loss: 1.6471 - val_dense_5_loss: 1.1117 - val_dense_6_loss: 1.0450 - val_dense_4_accuracy: 0.3980 - val_dense_5_accuracy: 0.4342 - val_dense_6_accuracy: 0.5518\n",
            "Epoch 61/100\n",
            "563/563 [==============================] - 3s 6ms/step - loss: 2.0349 - dense_4_loss: 0.4717 - dense_5_loss: 0.9297 - dense_6_loss: 0.6335 - dense_4_accuracy: 0.8162 - dense_5_accuracy: 0.5486 - dense_6_accuracy: 0.7343 - val_loss: 3.8892 - val_dense_4_loss: 1.7375 - val_dense_5_loss: 1.1118 - val_dense_6_loss: 1.0399 - val_dense_4_accuracy: 0.3557 - val_dense_5_accuracy: 0.4300 - val_dense_6_accuracy: 0.5480\n",
            "Epoch 62/100\n",
            "563/563 [==============================] - 3s 5ms/step - loss: 2.0197 - dense_4_loss: 0.4643 - dense_5_loss: 0.9249 - dense_6_loss: 0.6306 - dense_4_accuracy: 0.8193 - dense_5_accuracy: 0.5495 - dense_6_accuracy: 0.7334 - val_loss: 3.6621 - val_dense_4_loss: 1.5607 - val_dense_5_loss: 1.1768 - val_dense_6_loss: 0.9247 - val_dense_4_accuracy: 0.4150 - val_dense_5_accuracy: 0.3988 - val_dense_6_accuracy: 0.5952\n",
            "Epoch 63/100\n",
            "563/563 [==============================] - 3s 5ms/step - loss: 2.0105 - dense_4_loss: 0.4589 - dense_5_loss: 0.9256 - dense_6_loss: 0.6260 - dense_4_accuracy: 0.8213 - dense_5_accuracy: 0.5490 - dense_6_accuracy: 0.7347 - val_loss: 3.8953 - val_dense_4_loss: 1.7310 - val_dense_5_loss: 1.2037 - val_dense_6_loss: 0.9607 - val_dense_4_accuracy: 0.4145 - val_dense_5_accuracy: 0.4302 - val_dense_6_accuracy: 0.5938\n",
            "Epoch 64/100\n",
            "563/563 [==============================] - 3s 6ms/step - loss: 1.9965 - dense_4_loss: 0.4611 - dense_5_loss: 0.9161 - dense_6_loss: 0.6193 - dense_4_accuracy: 0.8212 - dense_5_accuracy: 0.5574 - dense_6_accuracy: 0.7372 - val_loss: 3.7230 - val_dense_4_loss: 1.6190 - val_dense_5_loss: 1.1195 - val_dense_6_loss: 0.9844 - val_dense_4_accuracy: 0.4343 - val_dense_5_accuracy: 0.4503 - val_dense_6_accuracy: 0.5767\n",
            "Epoch 65/100\n",
            "563/563 [==============================] - 3s 5ms/step - loss: 1.9896 - dense_4_loss: 0.4508 - dense_5_loss: 0.9168 - dense_6_loss: 0.6219 - dense_4_accuracy: 0.8264 - dense_5_accuracy: 0.5567 - dense_6_accuracy: 0.7407 - val_loss: 3.4634 - val_dense_4_loss: 1.2347 - val_dense_5_loss: 1.1667 - val_dense_6_loss: 1.0620 - val_dense_4_accuracy: 0.5508 - val_dense_5_accuracy: 0.4080 - val_dense_6_accuracy: 0.5512\n",
            "Epoch 66/100\n",
            "563/563 [==============================] - 3s 5ms/step - loss: 1.9841 - dense_4_loss: 0.4521 - dense_5_loss: 0.9126 - dense_6_loss: 0.6194 - dense_4_accuracy: 0.8242 - dense_5_accuracy: 0.5599 - dense_6_accuracy: 0.7394 - val_loss: 3.3660 - val_dense_4_loss: 1.2950 - val_dense_5_loss: 1.1203 - val_dense_6_loss: 0.9508 - val_dense_4_accuracy: 0.4997 - val_dense_5_accuracy: 0.4543 - val_dense_6_accuracy: 0.5713\n",
            "Epoch 67/100\n",
            "563/563 [==============================] - 3s 5ms/step - loss: 1.9671 - dense_4_loss: 0.4486 - dense_5_loss: 0.9058 - dense_6_loss: 0.6128 - dense_4_accuracy: 0.8261 - dense_5_accuracy: 0.5653 - dense_6_accuracy: 0.7434 - val_loss: 3.4852 - val_dense_4_loss: 1.3879 - val_dense_5_loss: 1.1691 - val_dense_6_loss: 0.9281 - val_dense_4_accuracy: 0.4502 - val_dense_5_accuracy: 0.3995 - val_dense_6_accuracy: 0.6295\n",
            "Epoch 68/100\n",
            "563/563 [==============================] - 3s 5ms/step - loss: 1.9700 - dense_4_loss: 0.4498 - dense_5_loss: 0.9080 - dense_6_loss: 0.6122 - dense_4_accuracy: 0.8256 - dense_5_accuracy: 0.5613 - dense_6_accuracy: 0.7435 - val_loss: 3.9394 - val_dense_4_loss: 1.8576 - val_dense_5_loss: 1.1415 - val_dense_6_loss: 0.9403 - val_dense_4_accuracy: 0.3417 - val_dense_5_accuracy: 0.4375 - val_dense_6_accuracy: 0.5833\n",
            "Epoch 69/100\n",
            "563/563 [==============================] - 3s 5ms/step - loss: 1.9458 - dense_4_loss: 0.4392 - dense_5_loss: 0.9011 - dense_6_loss: 0.6054 - dense_4_accuracy: 0.8294 - dense_5_accuracy: 0.5674 - dense_6_accuracy: 0.7433 - val_loss: 3.5783 - val_dense_4_loss: 1.4801 - val_dense_5_loss: 1.1423 - val_dense_6_loss: 0.9558 - val_dense_4_accuracy: 0.4732 - val_dense_5_accuracy: 0.4492 - val_dense_6_accuracy: 0.5913\n",
            "Epoch 70/100\n",
            "563/563 [==============================] - 3s 5ms/step - loss: 1.9367 - dense_4_loss: 0.4319 - dense_5_loss: 0.9003 - dense_6_loss: 0.6045 - dense_4_accuracy: 0.8319 - dense_5_accuracy: 0.5677 - dense_6_accuracy: 0.7469 - val_loss: 3.8359 - val_dense_4_loss: 1.6519 - val_dense_5_loss: 1.1556 - val_dense_6_loss: 1.0283 - val_dense_4_accuracy: 0.4450 - val_dense_5_accuracy: 0.4107 - val_dense_6_accuracy: 0.5687\n",
            "Epoch 71/100\n",
            "563/563 [==============================] - 3s 5ms/step - loss: 1.9316 - dense_4_loss: 0.4349 - dense_5_loss: 0.8943 - dense_6_loss: 0.6024 - dense_4_accuracy: 0.8302 - dense_5_accuracy: 0.5679 - dense_6_accuracy: 0.7467 - val_loss: 3.5141 - val_dense_4_loss: 1.3767 - val_dense_5_loss: 1.1540 - val_dense_6_loss: 0.9834 - val_dense_4_accuracy: 0.4873 - val_dense_5_accuracy: 0.4247 - val_dense_6_accuracy: 0.5785\n",
            "Epoch 72/100\n",
            "563/563 [==============================] - 3s 5ms/step - loss: 1.9177 - dense_4_loss: 0.4302 - dense_5_loss: 0.8904 - dense_6_loss: 0.5971 - dense_4_accuracy: 0.8341 - dense_5_accuracy: 0.5748 - dense_6_accuracy: 0.7501 - val_loss: 3.3364 - val_dense_4_loss: 1.2442 - val_dense_5_loss: 1.1183 - val_dense_6_loss: 0.9739 - val_dense_4_accuracy: 0.5333 - val_dense_5_accuracy: 0.4418 - val_dense_6_accuracy: 0.5777\n",
            "Epoch 73/100\n",
            "563/563 [==============================] - 3s 5ms/step - loss: 1.9024 - dense_4_loss: 0.4244 - dense_5_loss: 0.8848 - dense_6_loss: 0.5933 - dense_4_accuracy: 0.8372 - dense_5_accuracy: 0.5742 - dense_6_accuracy: 0.7527 - val_loss: 4.2447 - val_dense_4_loss: 1.9989 - val_dense_5_loss: 1.2678 - val_dense_6_loss: 0.9779 - val_dense_4_accuracy: 0.3377 - val_dense_5_accuracy: 0.3935 - val_dense_6_accuracy: 0.5952\n",
            "Epoch 74/100\n",
            "563/563 [==============================] - 3s 6ms/step - loss: 1.9046 - dense_4_loss: 0.4265 - dense_5_loss: 0.8894 - dense_6_loss: 0.5886 - dense_4_accuracy: 0.8373 - dense_5_accuracy: 0.5759 - dense_6_accuracy: 0.7530 - val_loss: 4.2116 - val_dense_4_loss: 2.0732 - val_dense_5_loss: 1.1347 - val_dense_6_loss: 1.0036 - val_dense_4_accuracy: 0.3163 - val_dense_5_accuracy: 0.4475 - val_dense_6_accuracy: 0.5688\n",
            "Epoch 75/100\n",
            "563/563 [==============================] - 3s 5ms/step - loss: 1.8983 - dense_4_loss: 0.4227 - dense_5_loss: 0.8837 - dense_6_loss: 0.5919 - dense_4_accuracy: 0.8364 - dense_5_accuracy: 0.5779 - dense_6_accuracy: 0.7520 - val_loss: 3.8526 - val_dense_4_loss: 1.7092 - val_dense_5_loss: 1.1991 - val_dense_6_loss: 0.9444 - val_dense_4_accuracy: 0.4327 - val_dense_5_accuracy: 0.4197 - val_dense_6_accuracy: 0.5997\n",
            "Epoch 76/100\n",
            "563/563 [==============================] - 3s 5ms/step - loss: 1.8916 - dense_4_loss: 0.4239 - dense_5_loss: 0.8785 - dense_6_loss: 0.5892 - dense_4_accuracy: 0.8357 - dense_5_accuracy: 0.5812 - dense_6_accuracy: 0.7557 - val_loss: 3.6997 - val_dense_4_loss: 1.5964 - val_dense_5_loss: 1.1464 - val_dense_6_loss: 0.9569 - val_dense_4_accuracy: 0.4470 - val_dense_5_accuracy: 0.4472 - val_dense_6_accuracy: 0.5848\n",
            "Epoch 77/100\n",
            "563/563 [==============================] - 4s 8ms/step - loss: 1.8745 - dense_4_loss: 0.4167 - dense_5_loss: 0.8765 - dense_6_loss: 0.5812 - dense_4_accuracy: 0.8400 - dense_5_accuracy: 0.5809 - dense_6_accuracy: 0.7561 - val_loss: 4.2529 - val_dense_4_loss: 2.0545 - val_dense_5_loss: 1.1993 - val_dense_6_loss: 0.9991 - val_dense_4_accuracy: 0.3515 - val_dense_5_accuracy: 0.4103 - val_dense_6_accuracy: 0.5817\n",
            "Epoch 78/100\n",
            "563/563 [==============================] - 3s 5ms/step - loss: 1.8618 - dense_4_loss: 0.4094 - dense_5_loss: 0.8687 - dense_6_loss: 0.5836 - dense_4_accuracy: 0.8409 - dense_5_accuracy: 0.5846 - dense_6_accuracy: 0.7544 - val_loss: 3.7223 - val_dense_4_loss: 1.5716 - val_dense_5_loss: 1.1573 - val_dense_6_loss: 0.9934 - val_dense_4_accuracy: 0.4478 - val_dense_5_accuracy: 0.4540 - val_dense_6_accuracy: 0.5767\n",
            "Epoch 79/100\n",
            "563/563 [==============================] - 3s 5ms/step - loss: 1.8577 - dense_4_loss: 0.4114 - dense_5_loss: 0.8695 - dense_6_loss: 0.5767 - dense_4_accuracy: 0.8441 - dense_5_accuracy: 0.5856 - dense_6_accuracy: 0.7620 - val_loss: 3.9487 - val_dense_4_loss: 1.6980 - val_dense_5_loss: 1.3015 - val_dense_6_loss: 0.9492 - val_dense_4_accuracy: 0.4467 - val_dense_5_accuracy: 0.3837 - val_dense_6_accuracy: 0.5835\n",
            "Epoch 80/100\n",
            "563/563 [==============================] - 3s 5ms/step - loss: 1.8454 - dense_4_loss: 0.4093 - dense_5_loss: 0.8626 - dense_6_loss: 0.5735 - dense_4_accuracy: 0.8418 - dense_5_accuracy: 0.5882 - dense_6_accuracy: 0.7615 - val_loss: 3.9179 - val_dense_4_loss: 1.7238 - val_dense_5_loss: 1.1965 - val_dense_6_loss: 0.9976 - val_dense_4_accuracy: 0.4213 - val_dense_5_accuracy: 0.4362 - val_dense_6_accuracy: 0.5605\n",
            "Epoch 81/100\n",
            "563/563 [==============================] - 3s 6ms/step - loss: 1.8488 - dense_4_loss: 0.4125 - dense_5_loss: 0.8632 - dense_6_loss: 0.5731 - dense_4_accuracy: 0.8429 - dense_5_accuracy: 0.5889 - dense_6_accuracy: 0.7613 - val_loss: 4.0753 - val_dense_4_loss: 1.8923 - val_dense_5_loss: 1.1952 - val_dense_6_loss: 0.9879 - val_dense_4_accuracy: 0.3802 - val_dense_5_accuracy: 0.4332 - val_dense_6_accuracy: 0.6100\n",
            "Epoch 82/100\n",
            "563/563 [==============================] - 3s 5ms/step - loss: 1.8392 - dense_4_loss: 0.4085 - dense_5_loss: 0.8603 - dense_6_loss: 0.5704 - dense_4_accuracy: 0.8426 - dense_5_accuracy: 0.5897 - dense_6_accuracy: 0.7626 - val_loss: 3.9690 - val_dense_4_loss: 1.8214 - val_dense_5_loss: 1.1524 - val_dense_6_loss: 0.9952 - val_dense_4_accuracy: 0.4128 - val_dense_5_accuracy: 0.4428 - val_dense_6_accuracy: 0.5863\n",
            "Epoch 83/100\n",
            "563/563 [==============================] - 3s 5ms/step - loss: 1.8246 - dense_4_loss: 0.4004 - dense_5_loss: 0.8575 - dense_6_loss: 0.5667 - dense_4_accuracy: 0.8479 - dense_5_accuracy: 0.5923 - dense_6_accuracy: 0.7637 - val_loss: 3.5629 - val_dense_4_loss: 1.3801 - val_dense_5_loss: 1.1790 - val_dense_6_loss: 1.0038 - val_dense_4_accuracy: 0.5255 - val_dense_5_accuracy: 0.4428 - val_dense_6_accuracy: 0.5827\n",
            "Epoch 84/100\n",
            "563/563 [==============================] - 3s 6ms/step - loss: 1.8204 - dense_4_loss: 0.4020 - dense_5_loss: 0.8545 - dense_6_loss: 0.5638 - dense_4_accuracy: 0.8457 - dense_5_accuracy: 0.5953 - dense_6_accuracy: 0.7643 - val_loss: 3.9991 - val_dense_4_loss: 1.6840 - val_dense_5_loss: 1.2069 - val_dense_6_loss: 1.1083 - val_dense_4_accuracy: 0.4652 - val_dense_5_accuracy: 0.4510 - val_dense_6_accuracy: 0.5628\n",
            "Epoch 85/100\n",
            "563/563 [==============================] - 3s 6ms/step - loss: 1.7967 - dense_4_loss: 0.3963 - dense_5_loss: 0.8484 - dense_6_loss: 0.5521 - dense_4_accuracy: 0.8477 - dense_5_accuracy: 0.5999 - dense_6_accuracy: 0.7702 - val_loss: 4.5128 - val_dense_4_loss: 2.1515 - val_dense_5_loss: 1.2493 - val_dense_6_loss: 1.1119 - val_dense_4_accuracy: 0.3592 - val_dense_5_accuracy: 0.4478 - val_dense_6_accuracy: 0.5648\n",
            "Epoch 86/100\n",
            "563/563 [==============================] - 3s 5ms/step - loss: 1.7905 - dense_4_loss: 0.3956 - dense_5_loss: 0.8420 - dense_6_loss: 0.5529 - dense_4_accuracy: 0.8494 - dense_5_accuracy: 0.6008 - dense_6_accuracy: 0.7709 - val_loss: 3.9875 - val_dense_4_loss: 1.8143 - val_dense_5_loss: 1.1942 - val_dense_6_loss: 0.9789 - val_dense_4_accuracy: 0.3948 - val_dense_5_accuracy: 0.4427 - val_dense_6_accuracy: 0.5792\n",
            "Epoch 87/100\n",
            "563/563 [==============================] - 3s 5ms/step - loss: 1.7884 - dense_4_loss: 0.3914 - dense_5_loss: 0.8474 - dense_6_loss: 0.5496 - dense_4_accuracy: 0.8526 - dense_5_accuracy: 0.5977 - dense_6_accuracy: 0.7704 - val_loss: 3.5788 - val_dense_4_loss: 1.4284 - val_dense_5_loss: 1.1686 - val_dense_6_loss: 0.9818 - val_dense_4_accuracy: 0.5123 - val_dense_5_accuracy: 0.4578 - val_dense_6_accuracy: 0.6098\n",
            "Epoch 88/100\n",
            "563/563 [==============================] - 3s 6ms/step - loss: 1.7738 - dense_4_loss: 0.3866 - dense_5_loss: 0.8397 - dense_6_loss: 0.5475 - dense_4_accuracy: 0.8541 - dense_5_accuracy: 0.6006 - dense_6_accuracy: 0.7737 - val_loss: 3.6805 - val_dense_4_loss: 1.4355 - val_dense_5_loss: 1.2224 - val_dense_6_loss: 1.0226 - val_dense_4_accuracy: 0.5082 - val_dense_5_accuracy: 0.4510 - val_dense_6_accuracy: 0.5868\n",
            "Epoch 89/100\n",
            "563/563 [==============================] - 3s 6ms/step - loss: 1.7681 - dense_4_loss: 0.3863 - dense_5_loss: 0.8360 - dense_6_loss: 0.5457 - dense_4_accuracy: 0.8526 - dense_5_accuracy: 0.6085 - dense_6_accuracy: 0.7733 - val_loss: 4.3407 - val_dense_4_loss: 2.0348 - val_dense_5_loss: 1.2258 - val_dense_6_loss: 1.0801 - val_dense_4_accuracy: 0.3795 - val_dense_5_accuracy: 0.4288 - val_dense_6_accuracy: 0.5697\n",
            "Epoch 90/100\n",
            "563/563 [==============================] - 3s 6ms/step - loss: 1.7724 - dense_4_loss: 0.3880 - dense_5_loss: 0.8358 - dense_6_loss: 0.5487 - dense_4_accuracy: 0.8524 - dense_5_accuracy: 0.6020 - dense_6_accuracy: 0.7728 - val_loss: 4.1663 - val_dense_4_loss: 1.7949 - val_dense_5_loss: 1.2641 - val_dense_6_loss: 1.1073 - val_dense_4_accuracy: 0.4360 - val_dense_5_accuracy: 0.4490 - val_dense_6_accuracy: 0.5723\n",
            "Epoch 91/100\n",
            "563/563 [==============================] - 3s 6ms/step - loss: 1.7526 - dense_4_loss: 0.3789 - dense_5_loss: 0.8320 - dense_6_loss: 0.5417 - dense_4_accuracy: 0.8551 - dense_5_accuracy: 0.6049 - dense_6_accuracy: 0.7748 - val_loss: 3.6543 - val_dense_4_loss: 1.3643 - val_dense_5_loss: 1.2492 - val_dense_6_loss: 1.0408 - val_dense_4_accuracy: 0.5732 - val_dense_5_accuracy: 0.4330 - val_dense_6_accuracy: 0.6107\n",
            "Epoch 92/100\n",
            "563/563 [==============================] - 3s 6ms/step - loss: 1.7455 - dense_4_loss: 0.3823 - dense_5_loss: 0.8250 - dense_6_loss: 0.5382 - dense_4_accuracy: 0.8534 - dense_5_accuracy: 0.6111 - dense_6_accuracy: 0.7734 - val_loss: 3.9446 - val_dense_4_loss: 1.7203 - val_dense_5_loss: 1.2472 - val_dense_6_loss: 0.9771 - val_dense_4_accuracy: 0.4572 - val_dense_5_accuracy: 0.4440 - val_dense_6_accuracy: 0.6052\n",
            "Epoch 93/100\n",
            "563/563 [==============================] - 3s 5ms/step - loss: 1.7352 - dense_4_loss: 0.3732 - dense_5_loss: 0.8220 - dense_6_loss: 0.5400 - dense_4_accuracy: 0.8571 - dense_5_accuracy: 0.6180 - dense_6_accuracy: 0.7759 - val_loss: 4.0445 - val_dense_4_loss: 1.7327 - val_dense_5_loss: 1.2313 - val_dense_6_loss: 1.0805 - val_dense_4_accuracy: 0.4702 - val_dense_5_accuracy: 0.4498 - val_dense_6_accuracy: 0.5900\n",
            "Epoch 94/100\n",
            "563/563 [==============================] - 3s 6ms/step - loss: 1.7335 - dense_4_loss: 0.3785 - dense_5_loss: 0.8194 - dense_6_loss: 0.5356 - dense_4_accuracy: 0.8556 - dense_5_accuracy: 0.6155 - dense_6_accuracy: 0.7788 - val_loss: 4.3245 - val_dense_4_loss: 1.8670 - val_dense_5_loss: 1.3390 - val_dense_6_loss: 1.1185 - val_dense_4_accuracy: 0.4473 - val_dense_5_accuracy: 0.4185 - val_dense_6_accuracy: 0.5607\n",
            "Epoch 95/100\n",
            "563/563 [==============================] - 3s 5ms/step - loss: 1.7213 - dense_4_loss: 0.3699 - dense_5_loss: 0.8168 - dense_6_loss: 0.5345 - dense_4_accuracy: 0.8595 - dense_5_accuracy: 0.6127 - dense_6_accuracy: 0.7774 - val_loss: 4.0582 - val_dense_4_loss: 1.6215 - val_dense_5_loss: 1.3074 - val_dense_6_loss: 1.1293 - val_dense_4_accuracy: 0.4712 - val_dense_5_accuracy: 0.4195 - val_dense_6_accuracy: 0.5410\n",
            "Epoch 96/100\n",
            "563/563 [==============================] - 3s 5ms/step - loss: 1.7189 - dense_4_loss: 0.3744 - dense_5_loss: 0.8122 - dense_6_loss: 0.5324 - dense_4_accuracy: 0.8593 - dense_5_accuracy: 0.6204 - dense_6_accuracy: 0.7794 - val_loss: 4.0632 - val_dense_4_loss: 1.7780 - val_dense_5_loss: 1.2627 - val_dense_6_loss: 1.0225 - val_dense_4_accuracy: 0.4668 - val_dense_5_accuracy: 0.4492 - val_dense_6_accuracy: 0.5828\n",
            "Epoch 97/100\n",
            "563/563 [==============================] - 3s 5ms/step - loss: 1.7123 - dense_4_loss: 0.3705 - dense_5_loss: 0.8125 - dense_6_loss: 0.5294 - dense_4_accuracy: 0.8590 - dense_5_accuracy: 0.6174 - dense_6_accuracy: 0.7822 - val_loss: 4.3787 - val_dense_4_loss: 1.9815 - val_dense_5_loss: 1.3440 - val_dense_6_loss: 1.0531 - val_dense_4_accuracy: 0.3960 - val_dense_5_accuracy: 0.4108 - val_dense_6_accuracy: 0.6042\n",
            "Epoch 98/100\n",
            "563/563 [==============================] - 3s 5ms/step - loss: 1.6927 - dense_4_loss: 0.3616 - dense_5_loss: 0.8089 - dense_6_loss: 0.5222 - dense_4_accuracy: 0.8626 - dense_5_accuracy: 0.6197 - dense_6_accuracy: 0.7848 - val_loss: 4.6663 - val_dense_4_loss: 2.2649 - val_dense_5_loss: 1.2176 - val_dense_6_loss: 1.1837 - val_dense_4_accuracy: 0.3150 - val_dense_5_accuracy: 0.4523 - val_dense_6_accuracy: 0.5240\n",
            "Epoch 99/100\n",
            "563/563 [==============================] - 3s 5ms/step - loss: 1.6909 - dense_4_loss: 0.3686 - dense_5_loss: 0.8016 - dense_6_loss: 0.5207 - dense_4_accuracy: 0.8597 - dense_5_accuracy: 0.6244 - dense_6_accuracy: 0.7818 - val_loss: 4.7729 - val_dense_4_loss: 2.3890 - val_dense_5_loss: 1.2826 - val_dense_6_loss: 1.1013 - val_dense_4_accuracy: 0.3725 - val_dense_5_accuracy: 0.4545 - val_dense_6_accuracy: 0.5880\n",
            "Epoch 100/100\n",
            "563/563 [==============================] - 3s 5ms/step - loss: 1.6787 - dense_4_loss: 0.3559 - dense_5_loss: 0.8031 - dense_6_loss: 0.5197 - dense_4_accuracy: 0.8653 - dense_5_accuracy: 0.6229 - dense_6_accuracy: 0.7846 - val_loss: 3.9243 - val_dense_4_loss: 1.4965 - val_dense_5_loss: 1.2944 - val_dense_6_loss: 1.1334 - val_dense_4_accuracy: 0.5145 - val_dense_5_accuracy: 0.4087 - val_dense_6_accuracy: 0.5620\n"
          ]
        }
      ],
      "source": [
        "x = X.reshape(len(X), 32*32*3).astype(np.float32) / 255\n",
        "\n",
        "model_multi.compile(\n",
        "    loss=keras.losses.CategoricalCrossentropy(from_logits=True),\n",
        "    optimizer=keras.optimizers.SGD(),\n",
        "    metrics=[\"accuracy\"],\n",
        ")\n",
        "\n",
        "history = model_multi.fit(x, [y_1,y_2,y_3], batch_size=32, epochs=100, validation_split=0.25)"
      ]
    },
    {
      "cell_type": "markdown",
      "source": [
        "Predicting the multi- labels from multi output model"
      ],
      "metadata": {
        "id": "u4aKTBlyeyo-"
      }
    },
    {
      "cell_type": "code",
      "execution_count": null,
      "metadata": {
        "colab": {
          "background_save": true
        },
        "id": "TsQ1vdnb9-Fw"
      },
      "outputs": [],
      "source": [
        "# ##Testing the model"
      ]
    },
    {
      "cell_type": "code",
      "execution_count": 48,
      "metadata": {
        "id": "y7NtuQnXZ0wn"
      },
      "outputs": [],
      "source": [
        "df_validation=df_images[~df_images[\"image_path\"].isin(df_images_rel[\"image_path\"].unique())].sample(n=2000)\n",
        "df_validation=preprocess_resize(df_validation)"
      ]
    },
    {
      "cell_type": "code",
      "execution_count": 49,
      "metadata": {
        "id": "BodLwkfAjE1z"
      },
      "outputs": [],
      "source": [
        "X_val=df_validation[\"image_resized\"].array\n",
        "X_val=np.asarray(list(X_val)).astype(np.float32)\n",
        "X_val=X_val.reshape(len(X_val), 32*32*3).astype(np.float32) / 255\n",
        "df_validation[\"dress_type_num\"]=df_validation[\"dress_type\"].replace([\"top\",\"bottom\",\"one_piece\"],[0,1,2])\n",
        "df_validation[\"broad_design_num\"]=df_validation[\"broad_design\"].replace([\"Print\",\"Knit\",\"Classic\"],[0,1,2])\n",
        "df_validation[\"dress_occasion_num\"]=df_validation[\"dress_ocassion\"].replace([\"formal\",\"casual\",\"sporty\"],[0,1,2])\n",
        "\n",
        "y_val1=df_validation[\"dress_type_num\"]\n",
        "y_val2=df_validation[\"broad_design_num\"]\n",
        "y_val3=df_validation[\"dress_occasion_num\"]"
      ]
    },
    {
      "cell_type": "code",
      "execution_count": 50,
      "metadata": {
        "id": "0WAR2MPehGcK"
      },
      "outputs": [],
      "source": [
        "predictions = model_multi.predict(X_val)"
      ]
    },
    {
      "cell_type": "code",
      "execution_count": 52,
      "metadata": {
        "colab": {
          "base_uri": "https://localhost:8080/",
          "height": 133
        },
        "id": "5bpx2KFohh9O",
        "outputId": "5d027543-cce7-4e3b-f9d8-023b77c1fa04"
      },
      "outputs": [
        {
          "output_type": "error",
          "ename": "SyntaxError",
          "evalue": "ignored",
          "traceback": [
            "\u001b[0;36m  File \u001b[0;32m\"<ipython-input-52-1d0754a13cf1>\"\u001b[0;36m, line \u001b[0;32m1\u001b[0m\n\u001b[0;31m    [argmax(to_categorical(x, k))) for x in predictions]\u001b[0m\n\u001b[0m                                 ^\u001b[0m\n\u001b[0;31mSyntaxError\u001b[0m\u001b[0;31m:\u001b[0m invalid syntax\n"
          ]
        }
      ],
      "source": [
        "[argmax(to_categorical(x, k))) for x in predictions]"
      ]
    },
    {
      "cell_type": "markdown",
      "metadata": {
        "id": "EulI7rzovmS5"
      },
      "source": []
    },
    {
      "cell_type": "code",
      "execution_count": null,
      "metadata": {
        "colab": {
          "background_save": true
        },
        "id": "YhNd_tp0h_2W"
      },
      "outputs": [],
      "source": [
        "\n",
        "# X_val=df_validation[\"image_resized\"].array\n",
        "# X_val=np.asarray(list(X_val)).astype(np.float32)\n",
        "# X_val=X_val.reshape(len(X_val), 32*32*3).astype(np.float32) / 255\n",
        "# df_validation[\"dress_type_num\"]=df_validation[\"dress_type\"].replace([\"top\",\"bottom\",\"one_piece\"],[0,1,2])\n",
        "# df_validation[\"broad_design_num\"]=df_validation[\"broad_design\"].replace([\"Print\",\"Knit\",\"Classic\"],[0,1,2])\n",
        "\n",
        "# y_val1=np.array(df_validation[\"dress_type_num\"])\n",
        "# y_val2=np.array(df_images_preprocessed[\"broad_design_num\"])\n",
        "# y_predict=model_multi.predict(X_val)\n"
      ]
    },
    {
      "cell_type": "code",
      "execution_count": 53,
      "metadata": {
        "id": "xLAWJCVXeRLI"
      },
      "outputs": [],
      "source": [
        "y_predict1=predictions[0]\n",
        "y_predict_val1=np.array([list(y).index(max(list(y))) for y in list(y_predict1)])\n",
        "##argmax(to_categorical(x, k)))\n",
        "\n",
        "y_predict2=predictions[1]\n",
        "y_predict_val2=np.array([list(y).index(max(list(y))) for y in list(y_predict2)])\n",
        "\n",
        "\n",
        "y_predict3=predictions[2]\n",
        "y_predict_val3=np.array([list(y).index(max(list(y))) for y in list(y_predict3)])\n",
        "\n",
        "df_validation[\"y_predict_val1\"]=y_predict_val1\n",
        "df_validation[\"y_predict_val2\"]=y_predict_val2\n",
        "df_validation[\"y_predict_val3\"]=y_predict_val3\n",
        "\n",
        "df_validation[\"y_predict_val_dress_type\"]=df_validation[\"y_predict_val1\"].replace([0,1,2],[\"top\",\"bottom\",\"one_piece\"])\n",
        "df_validation[\"y_predict_val_broad_design\"]=df_validation[\"y_predict_val2\"].replace([0,1,2],[\"Print\",\"Knit\",\"Classic\"])\n",
        "df_validation[\"y_predict_val_dress_occassion\"]=df_validation[\"y_predict_val3\"].replace([0,1,2],[\"formal\",\"casual\",\"sporty\"])\n"
      ]
    },
    {
      "cell_type": "markdown",
      "metadata": {
        "id": "UIMv9OQLgVAp"
      },
      "source": [
        "Next part of the model: if broad_design: Print"
      ]
    },
    {
      "cell_type": "markdown",
      "metadata": {
        "id": "FRm517JovzVT"
      },
      "source": [
        "Train print model"
      ]
    },
    {
      "cell_type": "code",
      "execution_count": 54,
      "metadata": {
        "colab": {
          "base_uri": "https://localhost:8080/"
        },
        "id": "hQAajCQSeYZV",
        "outputId": "50c61156-8cc9-46d0-f34f-b1f580bf5c3a"
      },
      "outputs": [
        {
          "output_type": "stream",
          "name": "stdout",
          "text": [
            "Epoch 1/100\n",
            "202/202 [==============================] - 3s 9ms/step - loss: 0.7947 - accuracy: 0.7360 - val_loss: 0.8791 - val_accuracy: 0.6866\n",
            "Epoch 2/100\n",
            "202/202 [==============================] - 2s 8ms/step - loss: 0.7775 - accuracy: 0.7393 - val_loss: 0.8989 - val_accuracy: 0.6866\n",
            "Epoch 3/100\n",
            "202/202 [==============================] - 2s 8ms/step - loss: 0.7704 - accuracy: 0.7393 - val_loss: 0.8882 - val_accuracy: 0.6866\n",
            "Epoch 4/100\n",
            "202/202 [==============================] - 2s 8ms/step - loss: 0.7681 - accuracy: 0.7393 - val_loss: 0.8630 - val_accuracy: 0.6866\n",
            "Epoch 5/100\n",
            "202/202 [==============================] - 2s 8ms/step - loss: 0.7665 - accuracy: 0.7393 - val_loss: 0.8826 - val_accuracy: 0.6866\n",
            "Epoch 6/100\n",
            "202/202 [==============================] - 2s 9ms/step - loss: 0.7638 - accuracy: 0.7393 - val_loss: 0.8862 - val_accuracy: 0.6866\n",
            "Epoch 7/100\n",
            "202/202 [==============================] - 2s 9ms/step - loss: 0.7629 - accuracy: 0.7393 - val_loss: 0.8621 - val_accuracy: 0.6866\n",
            "Epoch 8/100\n",
            "202/202 [==============================] - 2s 8ms/step - loss: 0.7577 - accuracy: 0.7393 - val_loss: 0.8703 - val_accuracy: 0.6866\n",
            "Epoch 9/100\n",
            "202/202 [==============================] - 2s 8ms/step - loss: 0.7573 - accuracy: 0.7393 - val_loss: 0.8622 - val_accuracy: 0.6866\n",
            "Epoch 10/100\n",
            "202/202 [==============================] - 2s 8ms/step - loss: 0.7554 - accuracy: 0.7393 - val_loss: 0.8714 - val_accuracy: 0.6866\n",
            "Epoch 11/100\n",
            "202/202 [==============================] - 2s 8ms/step - loss: 0.7541 - accuracy: 0.7393 - val_loss: 0.8636 - val_accuracy: 0.6866\n",
            "Epoch 12/100\n",
            "202/202 [==============================] - 2s 8ms/step - loss: 0.7513 - accuracy: 0.7394 - val_loss: 0.8658 - val_accuracy: 0.6866\n",
            "Epoch 13/100\n",
            "202/202 [==============================] - 2s 8ms/step - loss: 0.7496 - accuracy: 0.7393 - val_loss: 0.8644 - val_accuracy: 0.6866\n",
            "Epoch 14/100\n",
            "202/202 [==============================] - 2s 8ms/step - loss: 0.7458 - accuracy: 0.7393 - val_loss: 0.8553 - val_accuracy: 0.6866\n",
            "Epoch 15/100\n",
            "202/202 [==============================] - 2s 9ms/step - loss: 0.7428 - accuracy: 0.7393 - val_loss: 0.8664 - val_accuracy: 0.6866\n",
            "Epoch 16/100\n",
            "202/202 [==============================] - 2s 8ms/step - loss: 0.7421 - accuracy: 0.7391 - val_loss: 0.8714 - val_accuracy: 0.6866\n",
            "Epoch 17/100\n",
            "202/202 [==============================] - 2s 10ms/step - loss: 0.7385 - accuracy: 0.7393 - val_loss: 0.8659 - val_accuracy: 0.6866\n",
            "Epoch 18/100\n",
            "202/202 [==============================] - 2s 9ms/step - loss: 0.7373 - accuracy: 0.7393 - val_loss: 0.8579 - val_accuracy: 0.6866\n",
            "Epoch 19/100\n",
            "202/202 [==============================] - 2s 8ms/step - loss: 0.7354 - accuracy: 0.7394 - val_loss: 0.8467 - val_accuracy: 0.6866\n",
            "Epoch 20/100\n",
            "202/202 [==============================] - 1s 7ms/step - loss: 0.7292 - accuracy: 0.7385 - val_loss: 0.8734 - val_accuracy: 0.6866\n",
            "Epoch 21/100\n",
            "202/202 [==============================] - 1s 4ms/step - loss: 0.7247 - accuracy: 0.7397 - val_loss: 0.8716 - val_accuracy: 0.6866\n",
            "Epoch 22/100\n",
            "202/202 [==============================] - 1s 4ms/step - loss: 0.7258 - accuracy: 0.7393 - val_loss: 0.8546 - val_accuracy: 0.6866\n",
            "Epoch 23/100\n",
            "202/202 [==============================] - 1s 4ms/step - loss: 0.7202 - accuracy: 0.7397 - val_loss: 0.8475 - val_accuracy: 0.6866\n",
            "Epoch 24/100\n",
            "202/202 [==============================] - 1s 5ms/step - loss: 0.7204 - accuracy: 0.7387 - val_loss: 0.8494 - val_accuracy: 0.6866\n",
            "Epoch 25/100\n",
            "202/202 [==============================] - 1s 4ms/step - loss: 0.7161 - accuracy: 0.7397 - val_loss: 0.9048 - val_accuracy: 0.6866\n",
            "Epoch 26/100\n",
            "202/202 [==============================] - 1s 5ms/step - loss: 0.7154 - accuracy: 0.7390 - val_loss: 0.8485 - val_accuracy: 0.6866\n",
            "Epoch 27/100\n",
            "202/202 [==============================] - 1s 5ms/step - loss: 0.7129 - accuracy: 0.7408 - val_loss: 0.8572 - val_accuracy: 0.6866\n",
            "Epoch 28/100\n",
            "202/202 [==============================] - 1s 5ms/step - loss: 0.7090 - accuracy: 0.7421 - val_loss: 0.8635 - val_accuracy: 0.6866\n",
            "Epoch 29/100\n",
            "202/202 [==============================] - 1s 5ms/step - loss: 0.6985 - accuracy: 0.7418 - val_loss: 0.8981 - val_accuracy: 0.6866\n",
            "Epoch 30/100\n",
            "202/202 [==============================] - 1s 5ms/step - loss: 0.6974 - accuracy: 0.7404 - val_loss: 0.8645 - val_accuracy: 0.6890\n",
            "Epoch 31/100\n",
            "202/202 [==============================] - 1s 5ms/step - loss: 0.6979 - accuracy: 0.7450 - val_loss: 0.8757 - val_accuracy: 0.6862\n",
            "Epoch 32/100\n",
            "202/202 [==============================] - 1s 5ms/step - loss: 0.6937 - accuracy: 0.7436 - val_loss: 0.8719 - val_accuracy: 0.6769\n",
            "Epoch 33/100\n",
            "202/202 [==============================] - 1s 5ms/step - loss: 0.6933 - accuracy: 0.7435 - val_loss: 0.8203 - val_accuracy: 0.6913\n",
            "Epoch 34/100\n",
            "202/202 [==============================] - 1s 5ms/step - loss: 0.6847 - accuracy: 0.7469 - val_loss: 0.8443 - val_accuracy: 0.6764\n",
            "Epoch 35/100\n",
            "202/202 [==============================] - 1s 5ms/step - loss: 0.6811 - accuracy: 0.7475 - val_loss: 0.8824 - val_accuracy: 0.6899\n",
            "Epoch 36/100\n",
            "202/202 [==============================] - 1s 4ms/step - loss: 0.6800 - accuracy: 0.7430 - val_loss: 0.9704 - val_accuracy: 0.6866\n",
            "Epoch 37/100\n",
            "202/202 [==============================] - 1s 5ms/step - loss: 0.6747 - accuracy: 0.7473 - val_loss: 0.8364 - val_accuracy: 0.6908\n",
            "Epoch 38/100\n",
            "202/202 [==============================] - 1s 5ms/step - loss: 0.6683 - accuracy: 0.7507 - val_loss: 0.8867 - val_accuracy: 0.6843\n",
            "Epoch 39/100\n",
            "202/202 [==============================] - 1s 5ms/step - loss: 0.6687 - accuracy: 0.7489 - val_loss: 0.8440 - val_accuracy: 0.6913\n",
            "Epoch 40/100\n",
            "202/202 [==============================] - 1s 5ms/step - loss: 0.6649 - accuracy: 0.7520 - val_loss: 0.8623 - val_accuracy: 0.6941\n",
            "Epoch 41/100\n",
            "202/202 [==============================] - 1s 4ms/step - loss: 0.6545 - accuracy: 0.7520 - val_loss: 0.8353 - val_accuracy: 0.6950\n",
            "Epoch 42/100\n",
            "202/202 [==============================] - 1s 5ms/step - loss: 0.6594 - accuracy: 0.7524 - val_loss: 0.8124 - val_accuracy: 0.6964\n",
            "Epoch 43/100\n",
            "202/202 [==============================] - 1s 5ms/step - loss: 0.6487 - accuracy: 0.7534 - val_loss: 0.8363 - val_accuracy: 0.6955\n",
            "Epoch 44/100\n",
            "202/202 [==============================] - 1s 5ms/step - loss: 0.6484 - accuracy: 0.7630 - val_loss: 0.8333 - val_accuracy: 0.6894\n",
            "Epoch 45/100\n",
            "202/202 [==============================] - 1s 5ms/step - loss: 0.6501 - accuracy: 0.7563 - val_loss: 0.8667 - val_accuracy: 0.6996\n",
            "Epoch 46/100\n",
            "202/202 [==============================] - 1s 5ms/step - loss: 0.6364 - accuracy: 0.7602 - val_loss: 0.8491 - val_accuracy: 0.6922\n",
            "Epoch 47/100\n",
            "202/202 [==============================] - 1s 5ms/step - loss: 0.6318 - accuracy: 0.7610 - val_loss: 0.9340 - val_accuracy: 0.5617\n",
            "Epoch 48/100\n",
            "202/202 [==============================] - 1s 5ms/step - loss: 0.6286 - accuracy: 0.7588 - val_loss: 0.8305 - val_accuracy: 0.6862\n",
            "Epoch 49/100\n",
            "202/202 [==============================] - 1s 5ms/step - loss: 0.6237 - accuracy: 0.7606 - val_loss: 0.8491 - val_accuracy: 0.6982\n",
            "Epoch 50/100\n",
            "202/202 [==============================] - 1s 5ms/step - loss: 0.6167 - accuracy: 0.7668 - val_loss: 1.0125 - val_accuracy: 0.6903\n",
            "Epoch 51/100\n",
            "202/202 [==============================] - 1s 4ms/step - loss: 0.6194 - accuracy: 0.7696 - val_loss: 0.8574 - val_accuracy: 0.7001\n",
            "Epoch 52/100\n",
            "202/202 [==============================] - 1s 4ms/step - loss: 0.6083 - accuracy: 0.7693 - val_loss: 0.8649 - val_accuracy: 0.6987\n",
            "Epoch 53/100\n",
            "202/202 [==============================] - 1s 5ms/step - loss: 0.6229 - accuracy: 0.7647 - val_loss: 0.8733 - val_accuracy: 0.6955\n",
            "Epoch 54/100\n",
            "202/202 [==============================] - 1s 5ms/step - loss: 0.6154 - accuracy: 0.7616 - val_loss: 1.0578 - val_accuracy: 0.6899\n",
            "Epoch 55/100\n",
            "202/202 [==============================] - 1s 5ms/step - loss: 0.6040 - accuracy: 0.7702 - val_loss: 0.9083 - val_accuracy: 0.6764\n",
            "Epoch 56/100\n",
            "202/202 [==============================] - 1s 5ms/step - loss: 0.6017 - accuracy: 0.7724 - val_loss: 0.8823 - val_accuracy: 0.6736\n",
            "Epoch 57/100\n",
            "202/202 [==============================] - 1s 5ms/step - loss: 0.6009 - accuracy: 0.7732 - val_loss: 0.8290 - val_accuracy: 0.6922\n",
            "Epoch 58/100\n",
            "202/202 [==============================] - 1s 5ms/step - loss: 0.6068 - accuracy: 0.7661 - val_loss: 0.8847 - val_accuracy: 0.6950\n",
            "Epoch 59/100\n",
            "202/202 [==============================] - 1s 5ms/step - loss: 0.5865 - accuracy: 0.7781 - val_loss: 0.8425 - val_accuracy: 0.6955\n",
            "Epoch 60/100\n",
            "202/202 [==============================] - 1s 5ms/step - loss: 0.5706 - accuracy: 0.7860 - val_loss: 1.0604 - val_accuracy: 0.5539\n",
            "Epoch 61/100\n",
            "202/202 [==============================] - 1s 5ms/step - loss: 0.5785 - accuracy: 0.7780 - val_loss: 0.9195 - val_accuracy: 0.7057\n",
            "Epoch 62/100\n",
            "202/202 [==============================] - 1s 5ms/step - loss: 0.5758 - accuracy: 0.7809 - val_loss: 0.8516 - val_accuracy: 0.7057\n",
            "Epoch 63/100\n",
            "202/202 [==============================] - 1s 5ms/step - loss: 0.5681 - accuracy: 0.7887 - val_loss: 0.9268 - val_accuracy: 0.6383\n",
            "Epoch 64/100\n",
            "202/202 [==============================] - 1s 5ms/step - loss: 0.5705 - accuracy: 0.7836 - val_loss: 1.1708 - val_accuracy: 0.4341\n",
            "Epoch 65/100\n",
            "202/202 [==============================] - 1s 5ms/step - loss: 0.5682 - accuracy: 0.7859 - val_loss: 0.9247 - val_accuracy: 0.7066\n",
            "Epoch 66/100\n",
            "202/202 [==============================] - 1s 4ms/step - loss: 0.5635 - accuracy: 0.7877 - val_loss: 0.8284 - val_accuracy: 0.6908\n",
            "Epoch 67/100\n",
            "202/202 [==============================] - 1s 4ms/step - loss: 0.5448 - accuracy: 0.7946 - val_loss: 0.9129 - val_accuracy: 0.7163\n",
            "Epoch 68/100\n",
            "202/202 [==============================] - 1s 4ms/step - loss: 0.5389 - accuracy: 0.7987 - val_loss: 1.1099 - val_accuracy: 0.7024\n",
            "Epoch 69/100\n",
            "202/202 [==============================] - 1s 5ms/step - loss: 0.5433 - accuracy: 0.7964 - val_loss: 0.8435 - val_accuracy: 0.7057\n",
            "Epoch 70/100\n",
            "202/202 [==============================] - 1s 5ms/step - loss: 0.5296 - accuracy: 0.8004 - val_loss: 0.8645 - val_accuracy: 0.7047\n",
            "Epoch 71/100\n",
            "202/202 [==============================] - 1s 5ms/step - loss: 0.5245 - accuracy: 0.8017 - val_loss: 0.8648 - val_accuracy: 0.6973\n",
            "Epoch 72/100\n",
            "202/202 [==============================] - 1s 5ms/step - loss: 0.5353 - accuracy: 0.7950 - val_loss: 0.9067 - val_accuracy: 0.7196\n",
            "Epoch 73/100\n",
            "202/202 [==============================] - 1s 4ms/step - loss: 0.5267 - accuracy: 0.8023 - val_loss: 1.0429 - val_accuracy: 0.7061\n",
            "Epoch 74/100\n",
            "202/202 [==============================] - 1s 5ms/step - loss: 0.5327 - accuracy: 0.7966 - val_loss: 0.9176 - val_accuracy: 0.7131\n",
            "Epoch 75/100\n",
            "202/202 [==============================] - 1s 5ms/step - loss: 0.5207 - accuracy: 0.7955 - val_loss: 0.8832 - val_accuracy: 0.6773\n",
            "Epoch 76/100\n",
            "202/202 [==============================] - 1s 5ms/step - loss: 0.5662 - accuracy: 0.7823 - val_loss: 0.9611 - val_accuracy: 0.6509\n",
            "Epoch 77/100\n",
            "202/202 [==============================] - 1s 5ms/step - loss: 0.5566 - accuracy: 0.7877 - val_loss: 0.9517 - val_accuracy: 0.7006\n",
            "Epoch 78/100\n",
            "202/202 [==============================] - 1s 5ms/step - loss: 0.5382 - accuracy: 0.7913 - val_loss: 0.9565 - val_accuracy: 0.7029\n",
            "Epoch 79/100\n",
            "202/202 [==============================] - 1s 5ms/step - loss: 0.5321 - accuracy: 0.7935 - val_loss: 0.9226 - val_accuracy: 0.6769\n",
            "Epoch 80/100\n",
            "202/202 [==============================] - 1s 5ms/step - loss: 0.5315 - accuracy: 0.7941 - val_loss: 0.8959 - val_accuracy: 0.7080\n",
            "Epoch 81/100\n",
            "202/202 [==============================] - 1s 5ms/step - loss: 0.5121 - accuracy: 0.8018 - val_loss: 0.8842 - val_accuracy: 0.7149\n",
            "Epoch 82/100\n",
            "202/202 [==============================] - 1s 5ms/step - loss: 0.5226 - accuracy: 0.7997 - val_loss: 1.0146 - val_accuracy: 0.7098\n",
            "Epoch 83/100\n",
            "202/202 [==============================] - 1s 5ms/step - loss: 0.5166 - accuracy: 0.8040 - val_loss: 0.9044 - val_accuracy: 0.6787\n",
            "Epoch 84/100\n",
            "202/202 [==============================] - 1s 4ms/step - loss: 0.5049 - accuracy: 0.8100 - val_loss: 1.0449 - val_accuracy: 0.6476\n",
            "Epoch 85/100\n",
            "202/202 [==============================] - 1s 5ms/step - loss: 0.4967 - accuracy: 0.8113 - val_loss: 1.0222 - val_accuracy: 0.6982\n",
            "Epoch 86/100\n",
            "202/202 [==============================] - 1s 5ms/step - loss: 0.4991 - accuracy: 0.8069 - val_loss: 1.0273 - val_accuracy: 0.7084\n",
            "Epoch 87/100\n",
            "202/202 [==============================] - 1s 5ms/step - loss: 0.4933 - accuracy: 0.8065 - val_loss: 1.0425 - val_accuracy: 0.7214\n",
            "Epoch 88/100\n",
            "202/202 [==============================] - 1s 5ms/step - loss: 0.5040 - accuracy: 0.8086 - val_loss: 0.9365 - val_accuracy: 0.6982\n",
            "Epoch 89/100\n",
            "202/202 [==============================] - 1s 5ms/step - loss: 0.5015 - accuracy: 0.8062 - val_loss: 1.2166 - val_accuracy: 0.4299\n",
            "Epoch 90/100\n",
            "202/202 [==============================] - 1s 5ms/step - loss: 0.4809 - accuracy: 0.8187 - val_loss: 1.0876 - val_accuracy: 0.7140\n",
            "Epoch 91/100\n",
            "202/202 [==============================] - 1s 5ms/step - loss: 0.4980 - accuracy: 0.8066 - val_loss: 0.8942 - val_accuracy: 0.7029\n",
            "Epoch 92/100\n",
            "202/202 [==============================] - 1s 5ms/step - loss: 0.4746 - accuracy: 0.8153 - val_loss: 1.1128 - val_accuracy: 0.6927\n",
            "Epoch 93/100\n",
            "202/202 [==============================] - 1s 4ms/step - loss: 0.4610 - accuracy: 0.8230 - val_loss: 0.9069 - val_accuracy: 0.7242\n",
            "Epoch 94/100\n",
            "202/202 [==============================] - 1s 5ms/step - loss: 0.4726 - accuracy: 0.8193 - val_loss: 0.8962 - val_accuracy: 0.7279\n",
            "Epoch 95/100\n",
            "202/202 [==============================] - 1s 5ms/step - loss: 0.4655 - accuracy: 0.8190 - val_loss: 0.9192 - val_accuracy: 0.7108\n",
            "Epoch 96/100\n",
            "202/202 [==============================] - 1s 5ms/step - loss: 0.4405 - accuracy: 0.8291 - val_loss: 0.8662 - val_accuracy: 0.7112\n",
            "Epoch 97/100\n",
            "202/202 [==============================] - 1s 5ms/step - loss: 0.4590 - accuracy: 0.8237 - val_loss: 0.9717 - val_accuracy: 0.7057\n",
            "Epoch 98/100\n",
            "202/202 [==============================] - 1s 5ms/step - loss: 0.4488 - accuracy: 0.8251 - val_loss: 0.9346 - val_accuracy: 0.7228\n",
            "Epoch 99/100\n",
            "202/202 [==============================] - 1s 5ms/step - loss: 0.4521 - accuracy: 0.8266 - val_loss: 0.9530 - val_accuracy: 0.7252\n",
            "Epoch 100/100\n",
            "202/202 [==============================] - 1s 5ms/step - loss: 0.4616 - accuracy: 0.8278 - val_loss: 1.0222 - val_accuracy: 0.7256\n"
          ]
        }
      ],
      "source": [
        "x_p = X_p.reshape(len(X_p), 32*32*3).astype(np.float32) / 255\n",
        "model_print.compile(\n",
        "    loss=keras.losses.CategoricalCrossentropy(from_logits=True),\n",
        "    optimizer=keras.optimizers.SGD(),\n",
        "    metrics=[\"accuracy\"],\n",
        ")\n",
        "\n",
        "history = model_print.fit(x_p, y_p1, batch_size=32, epochs=100, validation_split=0.25)"
      ]
    },
    {
      "cell_type": "markdown",
      "metadata": {
        "id": "Fr38rJmj-oZt"
      },
      "source": [
        "Save model to Google drive"
      ]
    },
    {
      "cell_type": "code",
      "execution_count": 55,
      "metadata": {
        "id": "6VG0CHeB-lT7"
      },
      "outputs": [],
      "source": [
        "model_multi.save(\"MyDrive/Multi_output_cloth_model.h5\")\n",
        "model_print.save(\"MyDrive/Print_predictor_model.h5\")\n"
      ]
    },
    {
      "cell_type": "code",
      "source": [
        "np.array([2,3,4]).tolist()"
      ],
      "metadata": {
        "colab": {
          "base_uri": "https://localhost:8080/"
        },
        "id": "7fxgQJNqZy70",
        "outputId": "1932b34f-ce36-4644-a2ba-a7570f860387"
      },
      "execution_count": 69,
      "outputs": [
        {
          "output_type": "execute_result",
          "data": {
            "text/plain": [
              "[2, 3, 4]"
            ]
          },
          "metadata": {},
          "execution_count": 69
        }
      ]
    },
    {
      "cell_type": "code",
      "source": [
        "df_images_preprocessed[\"image_resized_list\"]=df_images_preprocessed[\"image_resized\"].apply(lambda x: x.tolist())\n",
        "df_images_preprocessed.to_csv('MyDrive/Preprocessed_images.csv')\n"
      ],
      "metadata": {
        "id": "d3bCgqaaWGPZ"
      },
      "execution_count": null,
      "outputs": []
    },
    {
      "cell_type": "markdown",
      "metadata": {
        "id": "Tnl-dNU-wmIJ"
      },
      "source": [
        "Evaluation: Multi model"
      ]
    },
    {
      "cell_type": "code",
      "execution_count": null,
      "metadata": {
        "id": "9kWo1wganX_V"
      },
      "outputs": [],
      "source": [
        "####Evaluation"
      ]
    },
    {
      "cell_type": "code",
      "execution_count": null,
      "metadata": {
        "colab": {
          "base_uri": "https://localhost:8080/"
        },
        "id": "MOsYN3gvZbAT",
        "outputId": "528a5056-ce1f-47af-f1b7-b40894ffcc15"
      },
      "outputs": [
        {
          "data": {
            "text/plain": [
              "(0.29, 0.136, 0.29)"
            ]
          },
          "execution_count": 133,
          "metadata": {},
          "output_type": "execute_result"
        }
      ],
      "source": [
        "from sklearn.metrics import accuracy_score, confusion_matrix\n",
        "accuracy_score(y_predict_val1,y_val1),accuracy_score(y_predict_val2,y_val2),accuracy_score(y_predict_val3,y_val3)"
      ]
    },
    {
      "cell_type": "code",
      "execution_count": null,
      "metadata": {
        "colab": {
          "base_uri": "https://localhost:8080/"
        },
        "id": "jFEKN16cpdTl",
        "outputId": "8c46911c-b60a-45d3-9eab-e8330d879b00"
      },
      "outputs": [
        {
          "data": {
            "text/plain": [
              "array([[351, 124,  58],\n",
              "       [125, 502,  54],\n",
              "       [190, 209, 387]])"
            ]
          },
          "execution_count": 80,
          "metadata": {},
          "output_type": "execute_result"
        }
      ],
      "source": [
        "confusion_matrix(df_validation[\"dress_type\"],df_validation[\"y_predict_val_dress_type\"])"
      ]
    },
    {
      "cell_type": "code",
      "execution_count": null,
      "metadata": {
        "colab": {
          "base_uri": "https://localhost:8080/",
          "height": 300
        },
        "id": "gLR8TfFbqaXI",
        "outputId": "300a0842-fa55-4858-912d-95e7858d5974"
      },
      "outputs": [
        {
          "data": {
            "text/plain": [
              "Text(33.0, 0.5, 'Predicted')"
            ]
          },
          "execution_count": 81,
          "metadata": {},
          "output_type": "execute_result"
        },
        {
          "data": {
            "image/png": "[encoded data removed]",
            "text/plain": [
              "<Figure size 432x288 with 2 Axes>"
            ]
          },
          "metadata": {},
          "output_type": "display_data"
        }
      ],
      "source": [
        "import seaborn as sns\n",
        "import matplotlib.pyplot as plt\n",
        "\n",
        "sns.heatmap(confusion_matrix(df_validation[\"dress_type\"],df_validation[\"y_predict_val_dress_type\"]), annot=True,fmt='.3g')\n",
        "plt.xlabel('True') # x-axis label with fontsize 15\n",
        "plt.ylabel('Predicted')#, fontsize = 15)"
      ]
    },
    {
      "cell_type": "code",
      "execution_count": null,
      "metadata": {
        "id": "bf-VLEz0qJ8d"
      },
      "outputs": [],
      "source": [
        "sns.heatmap(confusion_matrix(df_validation[\"dress_ocassion\"],df_validation[\"y_predict_val_dress_occassion\"]), annot=True, fmt='.3g')\n",
        "plt.xlabel('True') # x-axis label with fontsize 15\n",
        "plt.ylabel('Predicted')\n"
      ]
    },
    {
      "cell_type": "code",
      "execution_count": null,
      "metadata": {
        "id": "ta02i1qh15bi"
      },
      "outputs": [],
      "source": [
        "sns.heatmap(confusion_matrix(df_validation[\"broad_design\"],df_validation[\"y_predict_val_broad_design\"]), annot=True, fmt='.3g')\n",
        "plt.xlabel('True') # x-axis label with fontsize 15\n",
        "plt.ylabel('Predicted')\n"
      ]
    },
    {
      "cell_type": "code",
      "execution_count": null,
      "metadata": {
        "id": "pZY4Iy3E3bG-"
      },
      "outputs": [],
      "source": [
        "##Show result\n",
        "n=np.random.randint(2000)\n",
        "print(\"Predicted label: \"+list(df_validation[\"y_predict_val_dress_type\"])[n]+\" while real label: \"+list(df_validation[\"dress_type\"])[n])\n",
        "print(\"--------------------------------------------------------------------------------------------------------------------------------------\")\n",
        "\n",
        "print(\"Predicted label: \"+list(df_validation[\"y_predict_val_dress_occassion\"])[n]+\" while real label: \"+list(df_validation[\"dress_ocassion\"])[n])\n",
        "print(\"--------------------------------------------------------------------------------------------------------------------------------------\")\n",
        "print(\"Predicted label: \"+list(df_validation[\"y_predict_val_broad_design\"])[n]+\" while real label: \"+list(df_validation[\"broad_design\"])[n],\"Full name: \"+list(df_validation[\"image_path\"])[n].split(\"/\")[3])\n",
        "print(\"--------------------------------------------------------------------------------------------------------------------------------------\")\n",
        "\n",
        "PIL.Image.open(list(df_validation[\"image_path\"])[n])\n"
      ]
    },
    {
      "cell_type": "code",
      "execution_count": null,
      "metadata": {
        "colab": {
          "background_save": true
        },
        "id": "HXyzVbgL3ld6",
        "outputId": "ee6ada11-c2a8-4754-9d4a-cb05372d7b96"
      },
      "outputs": [
        {
          "ename": "IndexError",
          "evalue": "ignored",
          "output_type": "error",
          "traceback": [
            "\u001b[0;31m---------------------------------------------------------------------------\u001b[0m",
            "\u001b[0;31mIndexError\u001b[0m                                Traceback (most recent call last)",
            "\u001b[0;32m<ipython-input-147-dd86332b7703>\u001b[0m in \u001b[0;36m<module>\u001b[0;34m()\u001b[0m\n\u001b[0;32m----> 1\u001b[0;31m \u001b[0mPIL\u001b[0m\u001b[0;34m.\u001b[0m\u001b[0mImage\u001b[0m\u001b[0;34m.\u001b[0m\u001b[0mopen\u001b[0m\u001b[0;34m(\u001b[0m\u001b[0mlist\u001b[0m\u001b[0;34m(\u001b[0m\u001b[0mdf_validation\u001b[0m\u001b[0;34m[\u001b[0m\u001b[0mdf_validation\u001b[0m\u001b[0;34m[\u001b[0m\u001b[0;34m\"y_predict_val_broad_design\"\u001b[0m\u001b[0;34m]\u001b[0m\u001b[0;34m==\u001b[0m\u001b[0;34m\"Striped\"\u001b[0m\u001b[0;34m]\u001b[0m\u001b[0;34m[\u001b[0m\u001b[0;34m\"image_path\"\u001b[0m\u001b[0;34m]\u001b[0m\u001b[0;34m)\u001b[0m\u001b[0;34m[\u001b[0m\u001b[0;36m4\u001b[0m\u001b[0;34m]\u001b[0m\u001b[0;34m)\u001b[0m\u001b[0;34m\u001b[0m\u001b[0;34m\u001b[0m\u001b[0m\n\u001b[0m",
            "\u001b[0;31mIndexError\u001b[0m: list index out of range"
          ]
        }
      ],
      "source": [
        "PIL.Image.open(list(df_validation[df_validation[\"y_predict_val_broad_design\"]==\"Striped\"][\"image_path\"])[4])\n"
      ]
    },
    {
      "cell_type": "markdown",
      "metadata": {
        "id": "Uop1BkpfYOsN"
      },
      "source": [
        "Evaluation: Print model"
      ]
    },
    {
      "cell_type": "code",
      "execution_count": null,
      "metadata": {
        "id": "sZ2nQfznYQsY"
      },
      "outputs": [],
      "source": [
        "df_validation_print=df_validation[df_validation[\"y_predict_val_broad_design\"]==\"Print\"]\n",
        "X_val_p=df_validation_print[\"image_resized\"].array\n",
        "X_val_p=np.asarray(list(X_val_p)).astype(np.float32)\n",
        "X_val_p=X_val_p.reshape(len(X_val_p), 32*32*3).astype(np.float32) / 255\n",
        "df_validation_print[\"print_type_num\"]=df_validation_print[\"print_type\"].replace(['Floral', 'Dotted', 'Graphic', 'Boxed','Other prints'],[0,1,2,3,4])\n",
        "\n",
        "y_valp1=df_validation_print[\"print_type_num\"]\n",
        "y_predict_p=model_print.predict(X_val_p)\n",
        "\n"
      ]
    },
    {
      "cell_type": "code",
      "execution_count": null,
      "metadata": {
        "id": "T5XvuaVHaaLw"
      },
      "outputs": [],
      "source": [
        "y_predict1_p=y_predict_p\n",
        "y_predict_val1_p=np.array([list(y).index(max(list(y))) for y in list(y_predict1_p)])\n",
        "df_validation_print[\"y_predict_val_p\"]=y_predict_val1_p\n",
        "df_validation_print[\"y_predict_val_print_type\"]=df_validation_print[\"y_predict_val_p\"].replace([0,1,2,3,4],['Floral', 'Dotted', 'Graphic', 'Boxed','Other prints'])"
      ]
    },
    {
      "cell_type": "code",
      "execution_count": null,
      "metadata": {
        "id": "aCKkr8LTbI5q"
      },
      "outputs": [],
      "source": [
        "accuracy_score(y_predict_val1_p,y_valp1.replace(\"NA\",5))#,accuracy_score(y_predict_val2,y_val2),accuracy_score(y_predict_val3,y_val3)"
      ]
    },
    {
      "cell_type": "code",
      "execution_count": null,
      "metadata": {
        "id": "azmgnbhgiO0s"
      },
      "outputs": [],
      "source": []
    }
  ],
  "metadata": {
    "colab": {
      "collapsed_sections": [],
      "name": "Multi_output_dnn.ipynb",
      "provenance": [],
      "include_colab_link": true
    },
    "kernelspec": {
      "display_name": "Python 3",
      "name": "python3"
    },
    "language_info": {
      "name": "python"
    }
  },
  "nbformat": 4,
  "nbformat_minor": 0
}