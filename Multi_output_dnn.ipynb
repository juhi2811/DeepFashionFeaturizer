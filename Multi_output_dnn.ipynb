{
  "cells": [
    {
      "cell_type": "markdown",
      "metadata": {
        "id": "view-in-github",
        "colab_type": "text"
      },
      "source": [
        "<a href=\"https://colab.research.google.com/github/juhi2811/DeepFashion/blob/df_v1/Multi_output_dnn.ipynb\" target=\"_parent\"><img src=\"https://colab.research.google.com/assets/colab-badge.svg\" alt=\"Open In Colab\"/></a>"
      ]
    },
    {
      "cell_type": "code",
      "execution_count": null,
      "metadata": {
        "colab": {
          "base_uri": "https://localhost:8080/"
        },
        "id": "1i3rYDzNv7_o",
        "outputId": "a49b602b-01bd-4fff-9879-db1537a6611e"
      },
      "outputs": [
        {
          "name": "stdout",
          "output_type": "stream",
          "text": [
            "Collecting tensorflow-estimator==2.1.*\n",
            "  Downloading tensorflow_estimator-2.1.0-py2.py3-none-any.whl (448 kB)\n",
            "\u001b[?25l\r\u001b[K     |▊                               | 10 kB 21.0 MB/s eta 0:00:01\r\u001b[K     |█▌                              | 20 kB 30.4 MB/s eta 0:00:01\r\u001b[K     |██▏                             | 30 kB 24.3 MB/s eta 0:00:01\r\u001b[K     |███                             | 40 kB 11.3 MB/s eta 0:00:01\r\u001b[K     |███▋                            | 51 kB 12.4 MB/s eta 0:00:01\r\u001b[K     |████▍                           | 61 kB 14.4 MB/s eta 0:00:01\r\u001b[K     |█████                           | 71 kB 10.8 MB/s eta 0:00:01\r\u001b[K     |█████▉                          | 81 kB 11.9 MB/s eta 0:00:01\r\u001b[K     |██████▋                         | 92 kB 13.1 MB/s eta 0:00:01\r\u001b[K     |███████▎                        | 102 kB 12.9 MB/s eta 0:00:01\r\u001b[K     |████████                        | 112 kB 12.9 MB/s eta 0:00:01\r\u001b[K     |████████▊                       | 122 kB 12.9 MB/s eta 0:00:01\r\u001b[K     |█████████▌                      | 133 kB 12.9 MB/s eta 0:00:01\r\u001b[K     |██████████▏                     | 143 kB 12.9 MB/s eta 0:00:01\r\u001b[K     |███████████                     | 153 kB 12.9 MB/s eta 0:00:01\r\u001b[K     |███████████▊                    | 163 kB 12.9 MB/s eta 0:00:01\r\u001b[K     |████████████▍                   | 174 kB 12.9 MB/s eta 0:00:01\r\u001b[K     |█████████████▏                  | 184 kB 12.9 MB/s eta 0:00:01\r\u001b[K     |█████████████▉                  | 194 kB 12.9 MB/s eta 0:00:01\r\u001b[K     |██████████████▋                 | 204 kB 12.9 MB/s eta 0:00:01\r\u001b[K     |███████████████▎                | 215 kB 12.9 MB/s eta 0:00:01\r\u001b[K     |████████████████                | 225 kB 12.9 MB/s eta 0:00:01\r\u001b[K     |████████████████▉               | 235 kB 12.9 MB/s eta 0:00:01\r\u001b[K     |█████████████████▌              | 245 kB 12.9 MB/s eta 0:00:01\r\u001b[K     |██████████████████▎             | 256 kB 12.9 MB/s eta 0:00:01\r\u001b[K     |███████████████████             | 266 kB 12.9 MB/s eta 0:00:01\r\u001b[K     |███████████████████▊            | 276 kB 12.9 MB/s eta 0:00:01\r\u001b[K     |████████████████████▍           | 286 kB 12.9 MB/s eta 0:00:01\r\u001b[K     |█████████████████████▏          | 296 kB 12.9 MB/s eta 0:00:01\r\u001b[K     |██████████████████████          | 307 kB 12.9 MB/s eta 0:00:01\r\u001b[K     |██████████████████████▋         | 317 kB 12.9 MB/s eta 0:00:01\r\u001b[K     |███████████████████████▍        | 327 kB 12.9 MB/s eta 0:00:01\r\u001b[K     |████████████████████████        | 337 kB 12.9 MB/s eta 0:00:01\r\u001b[K     |████████████████████████▉       | 348 kB 12.9 MB/s eta 0:00:01\r\u001b[K     |█████████████████████████▌      | 358 kB 12.9 MB/s eta 0:00:01\r\u001b[K     |██████████████████████████▎     | 368 kB 12.9 MB/s eta 0:00:01\r\u001b[K     |███████████████████████████     | 378 kB 12.9 MB/s eta 0:00:01\r\u001b[K     |███████████████████████████▊    | 389 kB 12.9 MB/s eta 0:00:01\r\u001b[K     |████████████████████████████▌   | 399 kB 12.9 MB/s eta 0:00:01\r\u001b[K     |█████████████████████████████▏  | 409 kB 12.9 MB/s eta 0:00:01\r\u001b[K     |██████████████████████████████  | 419 kB 12.9 MB/s eta 0:00:01\r\u001b[K     |██████████████████████████████▋ | 430 kB 12.9 MB/s eta 0:00:01\r\u001b[K     |███████████████████████████████▍| 440 kB 12.9 MB/s eta 0:00:01\r\u001b[K     |████████████████████████████████| 448 kB 12.9 MB/s \n",
            "\u001b[?25hInstalling collected packages: tensorflow-estimator\n",
            "  Attempting uninstall: tensorflow-estimator\n",
            "    Found existing installation: tensorflow-estimator 2.8.0\n",
            "    Uninstalling tensorflow-estimator-2.8.0:\n",
            "      Successfully uninstalled tensorflow-estimator-2.8.0\n",
            "Successfully installed tensorflow-estimator-2.1.0\n"
          ]
        }
      ],
      "source": [
        "\n",
        "!pip install tensorflow-estimator==2.1.*"
      ]
    },
    {
      "cell_type": "code",
      "execution_count": null,
      "metadata": {
        "colab": {
          "base_uri": "https://localhost:8080/"
        },
        "id": "Vla7BajAaVCL",
        "outputId": "29a16c0f-a569-4531-eee2-507bfc740a78"
      },
      "outputs": [
        {
          "name": "stdout",
          "output_type": "stream",
          "text": [
            "Collecting webcolors\n",
            "  Downloading webcolors-1.11.1-py3-none-any.whl (9.9 kB)\n",
            "Installing collected packages: webcolors\n",
            "Successfully installed webcolors-1.11.1\n"
          ]
        }
      ],
      "source": [
        "!pip install webcolors"
      ]
    },
    {
      "cell_type": "code",
      "execution_count": null,
      "metadata": {
        "colab": {
          "base_uri": "https://localhost:8080/"
        },
        "id": "xicGkeDVC6sK",
        "outputId": "9bfdad57-2fea-4de0-d037-c33b996d0797"
      },
      "outputs": [
        {
          "name": "stdout",
          "output_type": "stream",
          "text": [
            "Collecting colorthief\n",
            "  Downloading colorthief-0.2.1-py2.py3-none-any.whl (6.1 kB)\n",
            "Requirement already satisfied: Pillow in /usr/local/lib/python3.7/dist-packages (from colorthief) (7.1.2)\n",
            "Installing collected packages: colorthief\n",
            "Successfully installed colorthief-0.2.1\n"
          ]
        }
      ],
      "source": [
        "!pip install colorthief"
      ]
    },
    {
      "cell_type": "code",
      "execution_count": null,
      "metadata": {
        "id": "pQev6HXEZ3C8"
      },
      "outputs": [],
      "source": [
        "try:\n",
        "  # %tensorflow_version only exists in Colab.\n",
        "  %tensorflow_version 2.x\n",
        "except Exception:\n",
        "  pass\n",
        "\n",
        "import tensorflow as tf\n",
        "\n",
        "import numpy as np\n",
        "import matplotlib.pyplot as plt\n",
        "import pandas as pd\n",
        "from tensorflow.keras.models import Model\n",
        "from tensorflow.keras.layers import Dense, Input\n",
        "from sklearn.model_selection import train_test_split\n",
        "from tensorflow.keras.layers import Input, Flatten, Dense, Dropout, Lambda\n",
        "from tensorflow.keras.optimizers import RMSprop\n",
        "from tensorflow.keras.datasets import fashion_mnist\n",
        "from tensorflow.python.keras.utils.vis_utils import plot_model\n",
        "from tensorflow.keras import backend as K\n",
        "import numpy as np\n",
        "import tensorflow as tf\n",
        "from tensorflow import keras\n",
        "from tensorflow.keras import layers\n",
        "from skimage import io\n",
        "import numpy as np\n",
        "from sklearn.model_selection import train_test_split\n",
        "import pandas as pd\n",
        "import matplotlib.pyplot as plt\n",
        "import PIL\n",
        "from colorthief import ColorThief\n",
        "import scipy\n",
        "from scipy.spatial import KDTree\n",
        "from webcolors import CSS3_HEX_TO_NAMES,hex_to_rgb\n",
        "from PIL import Image, ImageFont, ImageDraw\n",
        "import random\n",
        "import pathlib\n",
        "import os\n",
        "import cv2"
      ]
    },
    {
      "cell_type": "code",
      "execution_count": null,
      "metadata": {
        "colab": {
          "base_uri": "https://localhost:8080/"
        },
        "id": "MABoWfufaaEY",
        "outputId": "a0131b20-13e4-46a3-83d5-401d1a0961f3"
      },
      "outputs": [
        {
          "name": "stdout",
          "output_type": "stream",
          "text": [
            "Mounted at /content/gdrive\n"
          ]
        }
      ],
      "source": [
        "from google.colab import drive\n",
        "drive.mount('/content/gdrive')"
      ]
    },
    {
      "cell_type": "code",
      "execution_count": null,
      "metadata": {
        "id": "PiY-skmg_Qgl"
      },
      "outputs": [],
      "source": [
        "#os.listdir(\"gdrive/MyDrive\")"
      ]
    },
    {
      "cell_type": "code",
      "execution_count": null,
      "metadata": {
        "id": "IjE8BaXO1bxf"
      },
      "outputs": [],
      "source": [
        "df_images=pd.DataFrame(columns=[\"image_folder\",\"image_name\"])\n"
      ]
    },
    {
      "cell_type": "code",
      "execution_count": null,
      "metadata": {
        "id": "lfA1Jtl545la"
      },
      "outputs": [],
      "source": [
        "folders_images=[\"gdrive/MyDrive/img/\"+f for f in os.listdir(\"gdrive/MyDrive/img\") if \".\" not in f]"
      ]
    },
    {
      "cell_type": "code",
      "execution_count": null,
      "metadata": {
        "colab": {
          "base_uri": "https://localhost:8080/"
        },
        "id": "2l3sqhUmrRSw",
        "outputId": "03f64169-edf8-492e-d99e-aa07137ad00d"
      },
      "outputs": [
        {
          "data": {
            "text/plain": [
              "5592"
            ]
          },
          "execution_count": 9,
          "metadata": {},
          "output_type": "execute_result"
        }
      ],
      "source": [
        "len(folders_images)"
      ]
    },
    {
      "cell_type": "code",
      "execution_count": null,
      "metadata": {
        "colab": {
          "background_save": true
        },
        "id": "JAbDOuNLMV_T"
      },
      "outputs": [],
      "source": [
        "for l in folders_images:\n",
        "  if len(l)>0:\n",
        "    df_append=pd.DataFrame(columns=[\"image_folder\",\"image_path\"])\n",
        "    df_append[\"image_folder\"]=[l for idx in range(len(os.listdir(l)))]\n",
        "    df_append[\"image_name\"]=os.listdir(l)\n",
        "    df_images=df_images.append(df_append,ignore_index=True)"
      ]
    },
    {
      "cell_type": "code",
      "execution_count": null,
      "metadata": {
        "colab": {
          "background_save": true
        },
        "id": "8yNiQjNrMYMy"
      },
      "outputs": [],
      "source": [
        "df_images[\"image_path\"]=df_images[\"image_folder\"]+\"/\"+df_images[\"image_name\"]"
      ]
    },
    {
      "cell_type": "code",
      "execution_count": null,
      "metadata": {
        "colab": {
          "background_save": true
        },
        "id": "KfAYOni6x2yo"
      },
      "outputs": [],
      "source": [
        "df_images[\"item_class\"]=df_images[\"image_path\"].apply(lambda x: x.split(\"/\")[-2].split(\"_\")[-1])\n",
        "df_images[\"design_class\"]=df_images[\"image_path\"].apply(lambda x: x.split(\"/\")[-2].split(\"_\")[-2])\n",
        "df_images[\"design_pre\"]=df_images[\"image_path\"].apply(lambda x: [x.split(\"/\")[-2].split(\"_\")[-3] if len(x.split(\"/\")[-2].split(\"_\"))>3 else \"\"][0])\n",
        "df_images[\"design_type\"]=df_images[\"design_pre\"]+\" \"+df_images[\"design_class\"]"
      ]
    },
    {
      "cell_type": "code",
      "execution_count": null,
      "metadata": {
        "colab": {
          "background_save": true
        },
        "id": "LG44DAHIMpon",
        "outputId": "e0d5338a-c55d-4ab7-a731-af228c88ad17"
      },
      "outputs": [
        {
          "name": "stdout",
          "output_type": "stream",
          "text": [
            "Triangle_Print_Chiffon_Blouse\n"
          ]
        },
        {
          "data": {
            "image/png": "[encoded data removed]",
            "text/plain": [
              "<PIL.JpegImagePlugin.JpegImageFile image mode=RGB size=226x300 at 0x7FE474337090>"
            ]
          },
          "execution_count": null,
          "metadata": {},
          "output_type": "execute_result"
        }
      ],
      "source": [
        "print(list(df_images[df_images[\"item_class\"]==\"Blouse\"][\"image_path\"])[1].split(\"/\")[3])\n",
        "PIL.Image.open(list(df_images[df_images[\"design_type\"].str.contains(\"Rose\")][\"image_path\"])[34])\n",
        "#list(df_images[df_images[\"item_class\"]==\"Jumpsuit\"][\"image_path\"])[3].split(\"/\")[3]"
      ]
    },
    {
      "cell_type": "code",
      "execution_count": null,
      "metadata": {
        "colab": {
          "background_save": true
        },
        "id": "NBmf8bdmfglg"
      },
      "outputs": [],
      "source": [
        "\n",
        "def convert_rgb_to_names(rgb_tuple):\n",
        "    \n",
        "    # a dictionary of all the hex and their respective names in css3\n",
        "    css3_db = CSS3_HEX_TO_NAMES\n",
        "    names = []\n",
        "    rgb_values = []\n",
        "    for color_hex, color_name in css3_db.items():\n",
        "        names.append(color_name)\n",
        "        rgb_values.append(hex_to_rgb(color_hex))\n",
        "    \n",
        "    kdt_db = KDTree(rgb_values)\n",
        "    distance, index = kdt_db.query(rgb_tuple)\n",
        "    return f'closest match: {names[index]}'"
      ]
    },
    {
      "cell_type": "code",
      "execution_count": null,
      "metadata": {
        "id": "FPCIUzd8EpZi"
      },
      "outputs": [],
      "source": [
        "color_thief = ColorThief(list(df_images[df_images[\"item_class\"]==\"Hoodie\"][\"image_path\"])[2])\n",
        "# get the dominant color\n",
        "dominant_color = color_thief.get_color(quality=1)"
      ]
    },
    {
      "cell_type": "code",
      "execution_count": null,
      "metadata": {
        "colab": {
          "base_uri": "https://localhost:8080/",
          "height": 35
        },
        "id": "g6O_fC9upH4G",
        "outputId": "cc4fef66-f7d0-4e17-a637-8cb6c030819f"
      },
      "outputs": [
        {
          "data": {
            "application/vnd.google.colaboratory.intrinsic+json": {
              "type": "string"
            },
            "text/plain": [
              "'closest match: darkslategray'"
            ]
          },
          "execution_count": 19,
          "metadata": {},
          "output_type": "execute_result"
        }
      ],
      "source": [
        "closest_dominant_name=convert_rgb_to_names(dominant_color)\n",
        "closest_dominant_name"
      ]
    },
    {
      "cell_type": "code",
      "execution_count": null,
      "metadata": {
        "id": "JJKeBDyyhM0E"
      },
      "outputs": [],
      "source": [
        "tops=['Cardigan', 'Tee', 'Top', 'Sweater', 'Halter',\n",
        "       'Tank', 'Hoodie', 'Blazer', 'Jacket',\n",
        "       'Blouse', 'Coat', \n",
        "        'Button-Down','Turtleneck', 'Kaftan', 'Flannel',\n",
        "       'Parka', 'Henley', 'Poncho', 'Jersey',\n",
        "       'Anorak', 'Jodhpurs', 'Caftan']\n",
        "bottoms=['Skirt', 'Leggings', 'Sweatpants', \n",
        "       'Shorts', 'Jeans', 'Joggers',   'Chinos',\n",
        "       'Cutoffs', 'Culottes', \n",
        "       'Jeggings', 'Sweatshorts', 'Capris', 'Trunks',\n",
        "       'Gauchos']\n",
        "one_pieces=['Dress',\n",
        "       'Kimono', 'Jumpsuit', 'Coverup', 'Robe', 'Onesie','Romper']\n",
        "formals=['Blazer','Blouse','Jumpsuit','Turtleneck','Skirt','Dress','Coat','Chinos']\n",
        "casuals=[ 'Tee', 'Top', 'Sweater', 'Halter',   'Jacket',\n",
        "        'Button-Down','Kaftan', 'Flannel',\n",
        "       'Parka', 'Henley', 'Poncho','Anorak', 'Jodhpurs', 'Caftan','Leggings','Sweatpants', \n",
        "       'Shorts', 'Jeans', \n",
        "       'Cutoffs', 'Culottes', \n",
        "       'Jeggings', 'Sweatshorts', 'Capris', 'Trunks',\n",
        "       'Gauchos','Kimono','Onesie','Coverup','Romper']\n",
        "# spring=[\"Dress\",\"Jumpsuit\",\"Skirt\"]\n",
        "sporty=['Hoodie','Tank','Jersey','Joggers',  'Hoodie']\n",
        "df_images[\"dress_type\"]=df_images[\"item_class\"].apply(lambda x: [\"top\" if x in tops else \"bottom\" if x in bottoms else \"one_piece\"][0])\n",
        "df_images[\"dress_ocassion\"]=df_images[\"item_class\"].apply(lambda x: [\"sporty\" if x in sporty else \"formal\" if x in formals else \"casual\"][0])\n",
        "df_images[\"broad_design\"]=df_images[\"design_type\"].apply(lambda x: [\"Print\" if (\"print\" in x.lower() or \"floral\" in x.lower() or \"dot\" in x.lower() or \"embroidere\" in x.lower() or \"stripe\" in x.lower() or \"boxy\" in x.lower()) else \"Washed\" if (\"dye\" in x.lower() or \"wash\" in x.lower() or \"tulip\" in x.lower()) else \"Knit\" if (\"knit\" in x.lower() or \"embroidere\" in x.lower() or \"woven\" in x.lower() or \"crochet\" in x.lower() or \"texture\" in x.lower()) else \"Classic\"][0])"
      ]
    },
    {
      "cell_type": "code",
      "execution_count": null,
      "metadata": {
        "id": "p0dfhAegapty"
      },
      "outputs": [],
      "source": [
        "df_images[\"print_type\"]=df_images[\"design_type\"].apply(lambda x: [\"Dotted\" if \"dot\" in x.lower() else \"Floral\" if  (\"floral\" in x.lower() or \"embroidere\" in x.lower()) else \"Striped\" if \"stripe\" in x.lower() else \"Lined\"  if \"boxy\" in x.lower() else \"Graphic\" if \"graphic\" in x.lower() else \"NA\"][0])\n",
        "df_images[\"print_type\"]=df_images.apply(lambda dfx: [\"Other prints\" if (dfx[\"broad_design\"]==\"Print\" and dfx[\"print_type\"]==\"NA\") else dfx[\"print_type\"]],axis=1)"
      ]
    },
    {
      "cell_type": "code",
      "execution_count": null,
      "metadata": {
        "colab": {
          "base_uri": "https://localhost:8080/"
        },
        "id": "-YtyScF_Olto",
        "outputId": "8e896d80-d5b2-407e-9d75-6d58e61a8a68"
      },
      "outputs": [
        {
          "data": {
            "text/plain": [
              "507"
            ]
          },
          "execution_count": 26,
          "metadata": {},
          "output_type": "execute_result"
        }
      ],
      "source": [
        "len(list(df_images[\"design_type\"].unique())[1000:])"
      ]
    },
    {
      "cell_type": "code",
      "execution_count": null,
      "metadata": {
        "colab": {
          "base_uri": "https://localhost:8080/",
          "height": 487
        },
        "id": "JLxe_l7hs4BI",
        "outputId": "612d3c36-39f6-465e-e145-2fbdfb09fae5"
      },
      "outputs": [
        {
          "data": {
            "text/html": [
              "\n",
              "  <div id=\"df-c88dd344-d4d9-4e52-a881-4125b751be03\">\n",
              "    <div class=\"colab-df-container\">\n",
              "      <div>\n",
              "<style scoped>\n",
              "    .dataframe tbody tr th:only-of-type {\n",
              "        vertical-align: middle;\n",
              "    }\n",
              "\n",
              "    .dataframe tbody tr th {\n",
              "        vertical-align: top;\n",
              "    }\n",
              "\n",
              "    .dataframe thead th {\n",
              "        text-align: right;\n",
              "    }\n",
              "</style>\n",
              "<table border=\"1\" class=\"dataframe\">\n",
              "  <thead>\n",
              "    <tr style=\"text-align: right;\">\n",
              "      <th></th>\n",
              "      <th>image_folder</th>\n",
              "      <th>image_name</th>\n",
              "      <th>image_path</th>\n",
              "      <th>item_class</th>\n",
              "      <th>design_class</th>\n",
              "      <th>design_pre</th>\n",
              "      <th>design_type</th>\n",
              "      <th>dress_type</th>\n",
              "      <th>dress_ocassion</th>\n",
              "      <th>broad_design</th>\n",
              "      <th>print_type</th>\n",
              "    </tr>\n",
              "  </thead>\n",
              "  <tbody>\n",
              "    <tr>\n",
              "      <th>3105</th>\n",
              "      <td>gdrive/MyDrive/img/Faded_Baroque_Print_Dress</td>\n",
              "      <td>img_00000001.jpg</td>\n",
              "      <td>gdrive/MyDrive/img/Faded_Baroque_Print_Dress/i...</td>\n",
              "      <td>Dress</td>\n",
              "      <td>Print</td>\n",
              "      <td>Baroque</td>\n",
              "      <td>Baroque Print</td>\n",
              "      <td>one_piece</td>\n",
              "      <td>formal</td>\n",
              "      <td>Print</td>\n",
              "      <td>NA</td>\n",
              "    </tr>\n",
              "    <tr>\n",
              "      <th>3106</th>\n",
              "      <td>gdrive/MyDrive/img/Faded_Baroque_Print_Dress</td>\n",
              "      <td>img_00000041.jpg</td>\n",
              "      <td>gdrive/MyDrive/img/Faded_Baroque_Print_Dress/i...</td>\n",
              "      <td>Dress</td>\n",
              "      <td>Print</td>\n",
              "      <td>Baroque</td>\n",
              "      <td>Baroque Print</td>\n",
              "      <td>one_piece</td>\n",
              "      <td>formal</td>\n",
              "      <td>Print</td>\n",
              "      <td>NA</td>\n",
              "    </tr>\n",
              "    <tr>\n",
              "      <th>3107</th>\n",
              "      <td>gdrive/MyDrive/img/Faded_Baroque_Print_Dress</td>\n",
              "      <td>img_00000045.jpg</td>\n",
              "      <td>gdrive/MyDrive/img/Faded_Baroque_Print_Dress/i...</td>\n",
              "      <td>Dress</td>\n",
              "      <td>Print</td>\n",
              "      <td>Baroque</td>\n",
              "      <td>Baroque Print</td>\n",
              "      <td>one_piece</td>\n",
              "      <td>formal</td>\n",
              "      <td>Print</td>\n",
              "      <td>NA</td>\n",
              "    </tr>\n",
              "    <tr>\n",
              "      <th>3108</th>\n",
              "      <td>gdrive/MyDrive/img/Faded_Baroque_Print_Dress</td>\n",
              "      <td>img_00000029.jpg</td>\n",
              "      <td>gdrive/MyDrive/img/Faded_Baroque_Print_Dress/i...</td>\n",
              "      <td>Dress</td>\n",
              "      <td>Print</td>\n",
              "      <td>Baroque</td>\n",
              "      <td>Baroque Print</td>\n",
              "      <td>one_piece</td>\n",
              "      <td>formal</td>\n",
              "      <td>Print</td>\n",
              "      <td>NA</td>\n",
              "    </tr>\n",
              "    <tr>\n",
              "      <th>3109</th>\n",
              "      <td>gdrive/MyDrive/img/Faded_Baroque_Print_Dress</td>\n",
              "      <td>img_00000052.jpg</td>\n",
              "      <td>gdrive/MyDrive/img/Faded_Baroque_Print_Dress/i...</td>\n",
              "      <td>Dress</td>\n",
              "      <td>Print</td>\n",
              "      <td>Baroque</td>\n",
              "      <td>Baroque Print</td>\n",
              "      <td>one_piece</td>\n",
              "      <td>formal</td>\n",
              "      <td>Print</td>\n",
              "      <td>NA</td>\n",
              "    </tr>\n",
              "    <tr>\n",
              "      <th>...</th>\n",
              "      <td>...</td>\n",
              "      <td>...</td>\n",
              "      <td>...</td>\n",
              "      <td>...</td>\n",
              "      <td>...</td>\n",
              "      <td>...</td>\n",
              "      <td>...</td>\n",
              "      <td>...</td>\n",
              "      <td>...</td>\n",
              "      <td>...</td>\n",
              "      <td>...</td>\n",
              "    </tr>\n",
              "    <tr>\n",
              "      <th>165214</th>\n",
              "      <td>gdrive/MyDrive/img/Pleated_Baroque_Print_Shorts</td>\n",
              "      <td>img_00000011.jpg</td>\n",
              "      <td>gdrive/MyDrive/img/Pleated_Baroque_Print_Short...</td>\n",
              "      <td>Shorts</td>\n",
              "      <td>Print</td>\n",
              "      <td>Baroque</td>\n",
              "      <td>Baroque Print</td>\n",
              "      <td>bottom</td>\n",
              "      <td>casual</td>\n",
              "      <td>Print</td>\n",
              "      <td>NA</td>\n",
              "    </tr>\n",
              "    <tr>\n",
              "      <th>165215</th>\n",
              "      <td>gdrive/MyDrive/img/Pleated_Baroque_Print_Shorts</td>\n",
              "      <td>img_00000008.jpg</td>\n",
              "      <td>gdrive/MyDrive/img/Pleated_Baroque_Print_Short...</td>\n",
              "      <td>Shorts</td>\n",
              "      <td>Print</td>\n",
              "      <td>Baroque</td>\n",
              "      <td>Baroque Print</td>\n",
              "      <td>bottom</td>\n",
              "      <td>casual</td>\n",
              "      <td>Print</td>\n",
              "      <td>NA</td>\n",
              "    </tr>\n",
              "    <tr>\n",
              "      <th>165216</th>\n",
              "      <td>gdrive/MyDrive/img/Pleated_Baroque_Print_Shorts</td>\n",
              "      <td>img_00000013.jpg</td>\n",
              "      <td>gdrive/MyDrive/img/Pleated_Baroque_Print_Short...</td>\n",
              "      <td>Shorts</td>\n",
              "      <td>Print</td>\n",
              "      <td>Baroque</td>\n",
              "      <td>Baroque Print</td>\n",
              "      <td>bottom</td>\n",
              "      <td>casual</td>\n",
              "      <td>Print</td>\n",
              "      <td>NA</td>\n",
              "    </tr>\n",
              "    <tr>\n",
              "      <th>165217</th>\n",
              "      <td>gdrive/MyDrive/img/Pleated_Baroque_Print_Shorts</td>\n",
              "      <td>img_00000014.jpg</td>\n",
              "      <td>gdrive/MyDrive/img/Pleated_Baroque_Print_Short...</td>\n",
              "      <td>Shorts</td>\n",
              "      <td>Print</td>\n",
              "      <td>Baroque</td>\n",
              "      <td>Baroque Print</td>\n",
              "      <td>bottom</td>\n",
              "      <td>casual</td>\n",
              "      <td>Print</td>\n",
              "      <td>NA</td>\n",
              "    </tr>\n",
              "    <tr>\n",
              "      <th>165218</th>\n",
              "      <td>gdrive/MyDrive/img/Pleated_Baroque_Print_Shorts</td>\n",
              "      <td>img_00000004.jpg</td>\n",
              "      <td>gdrive/MyDrive/img/Pleated_Baroque_Print_Short...</td>\n",
              "      <td>Shorts</td>\n",
              "      <td>Print</td>\n",
              "      <td>Baroque</td>\n",
              "      <td>Baroque Print</td>\n",
              "      <td>bottom</td>\n",
              "      <td>casual</td>\n",
              "      <td>Print</td>\n",
              "      <td>NA</td>\n",
              "    </tr>\n",
              "  </tbody>\n",
              "</table>\n",
              "<p>235 rows × 11 columns</p>\n",
              "</div>\n",
              "      <button class=\"colab-df-convert\" onclick=\"convertToInteractive('df-c88dd344-d4d9-4e52-a881-4125b751be03')\"\n",
              "              title=\"Convert this dataframe to an interactive table.\"\n",
              "              style=\"display:none;\">\n",
              "        \n",
              "  <svg xmlns=\"http://www.w3.org/2000/svg\" height=\"24px\"viewBox=\"0 0 24 24\"\n",
              "       width=\"24px\">\n",
              "    <path d=\"M0 0h24v24H0V0z\" fill=\"none\"/>\n",
              "    <path d=\"M18.56 5.44l.94 2.06.94-2.06 2.06-.94-2.06-.94-.94-2.06-.94 2.06-2.06.94zm-11 1L8.5 8.5l.94-2.06 2.06-.94-2.06-.94L8.5 2.5l-.94 2.06-2.06.94zm10 10l.94 2.06.94-2.06 2.06-.94-2.06-.94-.94-2.06-.94 2.06-2.06.94z\"/><path d=\"M17.41 7.96l-1.37-1.37c-.4-.4-.92-.59-1.43-.59-.52 0-1.04.2-1.43.59L10.3 9.45l-7.72 7.72c-.78.78-.78 2.05 0 2.83L4 21.41c.39.39.9.59 1.41.59.51 0 1.02-.2 1.41-.59l7.78-7.78 2.81-2.81c.8-.78.8-2.07 0-2.86zM5.41 20L4 18.59l7.72-7.72 1.47 1.35L5.41 20z\"/>\n",
              "  </svg>\n",
              "      </button>\n",
              "      \n",
              "  <style>\n",
              "    .colab-df-container {\n",
              "      display:flex;\n",
              "      flex-wrap:wrap;\n",
              "      gap: 12px;\n",
              "    }\n",
              "\n",
              "    .colab-df-convert {\n",
              "      background-color: #E8F0FE;\n",
              "      border: none;\n",
              "      border-radius: 50%;\n",
              "      cursor: pointer;\n",
              "      display: none;\n",
              "      fill: #1967D2;\n",
              "      height: 32px;\n",
              "      padding: 0 0 0 0;\n",
              "      width: 32px;\n",
              "    }\n",
              "\n",
              "    .colab-df-convert:hover {\n",
              "      background-color: #E2EBFA;\n",
              "      box-shadow: 0px 1px 2px rgba(60, 64, 67, 0.3), 0px 1px 3px 1px rgba(60, 64, 67, 0.15);\n",
              "      fill: #174EA6;\n",
              "    }\n",
              "\n",
              "    [theme=dark] .colab-df-convert {\n",
              "      background-color: #3B4455;\n",
              "      fill: #D2E3FC;\n",
              "    }\n",
              "\n",
              "    [theme=dark] .colab-df-convert:hover {\n",
              "      background-color: #434B5C;\n",
              "      box-shadow: 0px 1px 3px 1px rgba(0, 0, 0, 0.15);\n",
              "      filter: drop-shadow(0px 1px 2px rgba(0, 0, 0, 0.3));\n",
              "      fill: #FFFFFF;\n",
              "    }\n",
              "  </style>\n",
              "\n",
              "      <script>\n",
              "        const buttonEl =\n",
              "          document.querySelector('#df-c88dd344-d4d9-4e52-a881-4125b751be03 button.colab-df-convert');\n",
              "        buttonEl.style.display =\n",
              "          google.colab.kernel.accessAllowed ? 'block' : 'none';\n",
              "\n",
              "        async function convertToInteractive(key) {\n",
              "          const element = document.querySelector('#df-c88dd344-d4d9-4e52-a881-4125b751be03');\n",
              "          const dataTable =\n",
              "            await google.colab.kernel.invokeFunction('convertToInteractive',\n",
              "                                                     [key], {});\n",
              "          if (!dataTable) return;\n",
              "\n",
              "          const docLinkHtml = 'Like what you see? Visit the ' +\n",
              "            '<a target=\"_blank\" href=https://colab.research.google.com/notebooks/data_table.ipynb>data table notebook</a>'\n",
              "            + ' to learn more about interactive tables.';\n",
              "          element.innerHTML = '';\n",
              "          dataTable['output_type'] = 'display_data';\n",
              "          await google.colab.output.renderOutput(dataTable, element);\n",
              "          const docLink = document.createElement('div');\n",
              "          docLink.innerHTML = docLinkHtml;\n",
              "          element.appendChild(docLink);\n",
              "        }\n",
              "      </script>\n",
              "    </div>\n",
              "  </div>\n",
              "  "
            ],
            "text/plain": [
              "                                           image_folder        image_name  \\\n",
              "3105       gdrive/MyDrive/img/Faded_Baroque_Print_Dress  img_00000001.jpg   \n",
              "3106       gdrive/MyDrive/img/Faded_Baroque_Print_Dress  img_00000041.jpg   \n",
              "3107       gdrive/MyDrive/img/Faded_Baroque_Print_Dress  img_00000045.jpg   \n",
              "3108       gdrive/MyDrive/img/Faded_Baroque_Print_Dress  img_00000029.jpg   \n",
              "3109       gdrive/MyDrive/img/Faded_Baroque_Print_Dress  img_00000052.jpg   \n",
              "...                                                 ...               ...   \n",
              "165214  gdrive/MyDrive/img/Pleated_Baroque_Print_Shorts  img_00000011.jpg   \n",
              "165215  gdrive/MyDrive/img/Pleated_Baroque_Print_Shorts  img_00000008.jpg   \n",
              "165216  gdrive/MyDrive/img/Pleated_Baroque_Print_Shorts  img_00000013.jpg   \n",
              "165217  gdrive/MyDrive/img/Pleated_Baroque_Print_Shorts  img_00000014.jpg   \n",
              "165218  gdrive/MyDrive/img/Pleated_Baroque_Print_Shorts  img_00000004.jpg   \n",
              "\n",
              "                                               image_path item_class  \\\n",
              "3105    gdrive/MyDrive/img/Faded_Baroque_Print_Dress/i...      Dress   \n",
              "3106    gdrive/MyDrive/img/Faded_Baroque_Print_Dress/i...      Dress   \n",
              "3107    gdrive/MyDrive/img/Faded_Baroque_Print_Dress/i...      Dress   \n",
              "3108    gdrive/MyDrive/img/Faded_Baroque_Print_Dress/i...      Dress   \n",
              "3109    gdrive/MyDrive/img/Faded_Baroque_Print_Dress/i...      Dress   \n",
              "...                                                   ...        ...   \n",
              "165214  gdrive/MyDrive/img/Pleated_Baroque_Print_Short...     Shorts   \n",
              "165215  gdrive/MyDrive/img/Pleated_Baroque_Print_Short...     Shorts   \n",
              "165216  gdrive/MyDrive/img/Pleated_Baroque_Print_Short...     Shorts   \n",
              "165217  gdrive/MyDrive/img/Pleated_Baroque_Print_Short...     Shorts   \n",
              "165218  gdrive/MyDrive/img/Pleated_Baroque_Print_Short...     Shorts   \n",
              "\n",
              "       design_class design_pre    design_type dress_type dress_ocassion  \\\n",
              "3105          Print    Baroque  Baroque Print  one_piece         formal   \n",
              "3106          Print    Baroque  Baroque Print  one_piece         formal   \n",
              "3107          Print    Baroque  Baroque Print  one_piece         formal   \n",
              "3108          Print    Baroque  Baroque Print  one_piece         formal   \n",
              "3109          Print    Baroque  Baroque Print  one_piece         formal   \n",
              "...             ...        ...            ...        ...            ...   \n",
              "165214        Print    Baroque  Baroque Print     bottom         casual   \n",
              "165215        Print    Baroque  Baroque Print     bottom         casual   \n",
              "165216        Print    Baroque  Baroque Print     bottom         casual   \n",
              "165217        Print    Baroque  Baroque Print     bottom         casual   \n",
              "165218        Print    Baroque  Baroque Print     bottom         casual   \n",
              "\n",
              "       broad_design print_type  \n",
              "3105          Print         NA  \n",
              "3106          Print         NA  \n",
              "3107          Print         NA  \n",
              "3108          Print         NA  \n",
              "3109          Print         NA  \n",
              "...             ...        ...  \n",
              "165214        Print         NA  \n",
              "165215        Print         NA  \n",
              "165216        Print         NA  \n",
              "165217        Print         NA  \n",
              "165218        Print         NA  \n",
              "\n",
              "[235 rows x 11 columns]"
            ]
          },
          "execution_count": 24,
          "metadata": {},
          "output_type": "execute_result"
        }
      ],
      "source": [
        "df_images[df_images[\"design_type\"].str.contains(\"Baroque\")]"
      ]
    },
    {
      "cell_type": "code",
      "execution_count": null,
      "metadata": {
        "colab": {
          "base_uri": "https://localhost:8080/",
          "height": 592
        },
        "id": "6tlih1Iz4KJb",
        "outputId": "63b82044-4748-4039-cdb6-962158ffe370"
      },
      "outputs": [
        {
          "data": {
            "text/html": [
              "\n",
              "  <div id=\"df-4e13786a-9615-427d-b7f0-23ed0d2f3828\">\n",
              "    <div class=\"colab-df-container\">\n",
              "      <div>\n",
              "<style scoped>\n",
              "    .dataframe tbody tr th:only-of-type {\n",
              "        vertical-align: middle;\n",
              "    }\n",
              "\n",
              "    .dataframe tbody tr th {\n",
              "        vertical-align: top;\n",
              "    }\n",
              "\n",
              "    .dataframe thead th {\n",
              "        text-align: right;\n",
              "    }\n",
              "</style>\n",
              "<table border=\"1\" class=\"dataframe\">\n",
              "  <thead>\n",
              "    <tr style=\"text-align: right;\">\n",
              "      <th></th>\n",
              "      <th>image_folder</th>\n",
              "      <th>image_name</th>\n",
              "      <th>image_path</th>\n",
              "      <th>item_class</th>\n",
              "      <th>design_class</th>\n",
              "      <th>design_pre</th>\n",
              "      <th>design_type</th>\n",
              "      <th>dress_type</th>\n",
              "      <th>dress_ocassion</th>\n",
              "      <th>broad_design</th>\n",
              "      <th>print_type</th>\n",
              "    </tr>\n",
              "  </thead>\n",
              "  <tbody>\n",
              "    <tr>\n",
              "      <th>0</th>\n",
              "      <td>gdrive/MyDrive/img/Everyday_Linen-Blend_Tee</td>\n",
              "      <td>img_00000042.jpg</td>\n",
              "      <td>gdrive/MyDrive/img/Everyday_Linen-Blend_Tee/im...</td>\n",
              "      <td>Tee</td>\n",
              "      <td>Linen-Blend</td>\n",
              "      <td></td>\n",
              "      <td>Linen-Blend</td>\n",
              "      <td>top</td>\n",
              "      <td>casual</td>\n",
              "      <td>Classic</td>\n",
              "      <td>[NA]</td>\n",
              "    </tr>\n",
              "    <tr>\n",
              "      <th>1</th>\n",
              "      <td>gdrive/MyDrive/img/Floral-Embroidered_A-Line_D...</td>\n",
              "      <td>img_00000060.jpg</td>\n",
              "      <td>gdrive/MyDrive/img/Floral-Embroidered_A-Line_D...</td>\n",
              "      <td>Dress</td>\n",
              "      <td>A-Line</td>\n",
              "      <td></td>\n",
              "      <td>A-Line</td>\n",
              "      <td>one_piece</td>\n",
              "      <td>formal</td>\n",
              "      <td>Classic</td>\n",
              "      <td>[NA]</td>\n",
              "    </tr>\n",
              "    <tr>\n",
              "      <th>2</th>\n",
              "      <td>gdrive/MyDrive/img/Drape-Front_Shawl_Collar_Ja...</td>\n",
              "      <td>img_00000026.jpg</td>\n",
              "      <td>gdrive/MyDrive/img/Drape-Front_Shawl_Collar_Ja...</td>\n",
              "      <td>Jacket</td>\n",
              "      <td>Collar</td>\n",
              "      <td>Shawl</td>\n",
              "      <td>Shawl Collar</td>\n",
              "      <td>top</td>\n",
              "      <td>casual</td>\n",
              "      <td>Classic</td>\n",
              "      <td>[NA]</td>\n",
              "    </tr>\n",
              "    <tr>\n",
              "      <th>3</th>\n",
              "      <td>gdrive/MyDrive/img/Woven_Suit_Joggers</td>\n",
              "      <td>img_00000013.jpg</td>\n",
              "      <td>gdrive/MyDrive/img/Woven_Suit_Joggers/img_0000...</td>\n",
              "      <td>Joggers</td>\n",
              "      <td>Suit</td>\n",
              "      <td></td>\n",
              "      <td>Suit</td>\n",
              "      <td>bottom</td>\n",
              "      <td>sporty</td>\n",
              "      <td>Classic</td>\n",
              "      <td>[NA]</td>\n",
              "    </tr>\n",
              "    <tr>\n",
              "      <th>4</th>\n",
              "      <td>gdrive/MyDrive/img/Boxy_Chambray_Tank_Top</td>\n",
              "      <td>img_00000028.jpg</td>\n",
              "      <td>gdrive/MyDrive/img/Boxy_Chambray_Tank_Top/img_...</td>\n",
              "      <td>Top</td>\n",
              "      <td>Tank</td>\n",
              "      <td>Chambray</td>\n",
              "      <td>Chambray Tank</td>\n",
              "      <td>top</td>\n",
              "      <td>casual</td>\n",
              "      <td>Classic</td>\n",
              "      <td>[NA]</td>\n",
              "    </tr>\n",
              "    <tr>\n",
              "      <th>...</th>\n",
              "      <td>...</td>\n",
              "      <td>...</td>\n",
              "      <td>...</td>\n",
              "      <td>...</td>\n",
              "      <td>...</td>\n",
              "      <td>...</td>\n",
              "      <td>...</td>\n",
              "      <td>...</td>\n",
              "      <td>...</td>\n",
              "      <td>...</td>\n",
              "      <td>...</td>\n",
              "    </tr>\n",
              "    <tr>\n",
              "      <th>39995</th>\n",
              "      <td>gdrive/MyDrive/img/Dotted_Tulip-Sleeve_Blouse</td>\n",
              "      <td>img_00000012.jpg</td>\n",
              "      <td>gdrive/MyDrive/img/Dotted_Tulip-Sleeve_Blouse/...</td>\n",
              "      <td>Blouse</td>\n",
              "      <td>Tulip-Sleeve</td>\n",
              "      <td></td>\n",
              "      <td>Tulip-Sleeve</td>\n",
              "      <td>top</td>\n",
              "      <td>formal</td>\n",
              "      <td>Washed</td>\n",
              "      <td>[NA]</td>\n",
              "    </tr>\n",
              "    <tr>\n",
              "      <th>39996</th>\n",
              "      <td>gdrive/MyDrive/img/Clean_Wash_Slim_Jeans</td>\n",
              "      <td>img_00000026.jpg</td>\n",
              "      <td>gdrive/MyDrive/img/Clean_Wash_Slim_Jeans/img_0...</td>\n",
              "      <td>Jeans</td>\n",
              "      <td>Slim</td>\n",
              "      <td>Wash</td>\n",
              "      <td>Wash Slim</td>\n",
              "      <td>bottom</td>\n",
              "      <td>casual</td>\n",
              "      <td>Washed</td>\n",
              "      <td>[NA]</td>\n",
              "    </tr>\n",
              "    <tr>\n",
              "      <th>39997</th>\n",
              "      <td>gdrive/MyDrive/img/Mineral_Wash_Pencil_Skirt</td>\n",
              "      <td>img_00000007.jpg</td>\n",
              "      <td>gdrive/MyDrive/img/Mineral_Wash_Pencil_Skirt/i...</td>\n",
              "      <td>Skirt</td>\n",
              "      <td>Pencil</td>\n",
              "      <td>Wash</td>\n",
              "      <td>Wash Pencil</td>\n",
              "      <td>bottom</td>\n",
              "      <td>formal</td>\n",
              "      <td>Washed</td>\n",
              "      <td>[NA]</td>\n",
              "    </tr>\n",
              "    <tr>\n",
              "      <th>39998</th>\n",
              "      <td>gdrive/MyDrive/img/Floral_Tie-Dye_Dress</td>\n",
              "      <td>img_00000032.jpg</td>\n",
              "      <td>gdrive/MyDrive/img/Floral_Tie-Dye_Dress/img_00...</td>\n",
              "      <td>Dress</td>\n",
              "      <td>Tie-Dye</td>\n",
              "      <td></td>\n",
              "      <td>Tie-Dye</td>\n",
              "      <td>one_piece</td>\n",
              "      <td>formal</td>\n",
              "      <td>Washed</td>\n",
              "      <td>[NA]</td>\n",
              "    </tr>\n",
              "    <tr>\n",
              "      <th>39999</th>\n",
              "      <td>gdrive/MyDrive/img/Heathered_Tulip-Back_Tank</td>\n",
              "      <td>img_00000016.jpg</td>\n",
              "      <td>gdrive/MyDrive/img/Heathered_Tulip-Back_Tank/i...</td>\n",
              "      <td>Tank</td>\n",
              "      <td>Tulip-Back</td>\n",
              "      <td></td>\n",
              "      <td>Tulip-Back</td>\n",
              "      <td>top</td>\n",
              "      <td>sporty</td>\n",
              "      <td>Washed</td>\n",
              "      <td>[NA]</td>\n",
              "    </tr>\n",
              "  </tbody>\n",
              "</table>\n",
              "<p>40000 rows × 11 columns</p>\n",
              "</div>\n",
              "      <button class=\"colab-df-convert\" onclick=\"convertToInteractive('df-4e13786a-9615-427d-b7f0-23ed0d2f3828')\"\n",
              "              title=\"Convert this dataframe to an interactive table.\"\n",
              "              style=\"display:none;\">\n",
              "        \n",
              "  <svg xmlns=\"http://www.w3.org/2000/svg\" height=\"24px\"viewBox=\"0 0 24 24\"\n",
              "       width=\"24px\">\n",
              "    <path d=\"M0 0h24v24H0V0z\" fill=\"none\"/>\n",
              "    <path d=\"M18.56 5.44l.94 2.06.94-2.06 2.06-.94-2.06-.94-.94-2.06-.94 2.06-2.06.94zm-11 1L8.5 8.5l.94-2.06 2.06-.94-2.06-.94L8.5 2.5l-.94 2.06-2.06.94zm10 10l.94 2.06.94-2.06 2.06-.94-2.06-.94-.94-2.06-.94 2.06-2.06.94z\"/><path d=\"M17.41 7.96l-1.37-1.37c-.4-.4-.92-.59-1.43-.59-.52 0-1.04.2-1.43.59L10.3 9.45l-7.72 7.72c-.78.78-.78 2.05 0 2.83L4 21.41c.39.39.9.59 1.41.59.51 0 1.02-.2 1.41-.59l7.78-7.78 2.81-2.81c.8-.78.8-2.07 0-2.86zM5.41 20L4 18.59l7.72-7.72 1.47 1.35L5.41 20z\"/>\n",
              "  </svg>\n",
              "      </button>\n",
              "      \n",
              "  <style>\n",
              "    .colab-df-container {\n",
              "      display:flex;\n",
              "      flex-wrap:wrap;\n",
              "      gap: 12px;\n",
              "    }\n",
              "\n",
              "    .colab-df-convert {\n",
              "      background-color: #E8F0FE;\n",
              "      border: none;\n",
              "      border-radius: 50%;\n",
              "      cursor: pointer;\n",
              "      display: none;\n",
              "      fill: #1967D2;\n",
              "      height: 32px;\n",
              "      padding: 0 0 0 0;\n",
              "      width: 32px;\n",
              "    }\n",
              "\n",
              "    .colab-df-convert:hover {\n",
              "      background-color: #E2EBFA;\n",
              "      box-shadow: 0px 1px 2px rgba(60, 64, 67, 0.3), 0px 1px 3px 1px rgba(60, 64, 67, 0.15);\n",
              "      fill: #174EA6;\n",
              "    }\n",
              "\n",
              "    [theme=dark] .colab-df-convert {\n",
              "      background-color: #3B4455;\n",
              "      fill: #D2E3FC;\n",
              "    }\n",
              "\n",
              "    [theme=dark] .colab-df-convert:hover {\n",
              "      background-color: #434B5C;\n",
              "      box-shadow: 0px 1px 3px 1px rgba(0, 0, 0, 0.15);\n",
              "      filter: drop-shadow(0px 1px 2px rgba(0, 0, 0, 0.3));\n",
              "      fill: #FFFFFF;\n",
              "    }\n",
              "  </style>\n",
              "\n",
              "      <script>\n",
              "        const buttonEl =\n",
              "          document.querySelector('#df-4e13786a-9615-427d-b7f0-23ed0d2f3828 button.colab-df-convert');\n",
              "        buttonEl.style.display =\n",
              "          google.colab.kernel.accessAllowed ? 'block' : 'none';\n",
              "\n",
              "        async function convertToInteractive(key) {\n",
              "          const element = document.querySelector('#df-4e13786a-9615-427d-b7f0-23ed0d2f3828');\n",
              "          const dataTable =\n",
              "            await google.colab.kernel.invokeFunction('convertToInteractive',\n",
              "                                                     [key], {});\n",
              "          if (!dataTable) return;\n",
              "\n",
              "          const docLinkHtml = 'Like what you see? Visit the ' +\n",
              "            '<a target=\"_blank\" href=https://colab.research.google.com/notebooks/data_table.ipynb>data table notebook</a>'\n",
              "            + ' to learn more about interactive tables.';\n",
              "          element.innerHTML = '';\n",
              "          dataTable['output_type'] = 'display_data';\n",
              "          await google.colab.output.renderOutput(dataTable, element);\n",
              "          const docLink = document.createElement('div');\n",
              "          docLink.innerHTML = docLinkHtml;\n",
              "          element.appendChild(docLink);\n",
              "        }\n",
              "      </script>\n",
              "    </div>\n",
              "  </div>\n",
              "  "
            ],
            "text/plain": [
              "                                            image_folder        image_name  \\\n",
              "0            gdrive/MyDrive/img/Everyday_Linen-Blend_Tee  img_00000042.jpg   \n",
              "1      gdrive/MyDrive/img/Floral-Embroidered_A-Line_D...  img_00000060.jpg   \n",
              "2      gdrive/MyDrive/img/Drape-Front_Shawl_Collar_Ja...  img_00000026.jpg   \n",
              "3                  gdrive/MyDrive/img/Woven_Suit_Joggers  img_00000013.jpg   \n",
              "4              gdrive/MyDrive/img/Boxy_Chambray_Tank_Top  img_00000028.jpg   \n",
              "...                                                  ...               ...   \n",
              "39995      gdrive/MyDrive/img/Dotted_Tulip-Sleeve_Blouse  img_00000012.jpg   \n",
              "39996           gdrive/MyDrive/img/Clean_Wash_Slim_Jeans  img_00000026.jpg   \n",
              "39997       gdrive/MyDrive/img/Mineral_Wash_Pencil_Skirt  img_00000007.jpg   \n",
              "39998            gdrive/MyDrive/img/Floral_Tie-Dye_Dress  img_00000032.jpg   \n",
              "39999       gdrive/MyDrive/img/Heathered_Tulip-Back_Tank  img_00000016.jpg   \n",
              "\n",
              "                                              image_path item_class  \\\n",
              "0      gdrive/MyDrive/img/Everyday_Linen-Blend_Tee/im...        Tee   \n",
              "1      gdrive/MyDrive/img/Floral-Embroidered_A-Line_D...      Dress   \n",
              "2      gdrive/MyDrive/img/Drape-Front_Shawl_Collar_Ja...     Jacket   \n",
              "3      gdrive/MyDrive/img/Woven_Suit_Joggers/img_0000...    Joggers   \n",
              "4      gdrive/MyDrive/img/Boxy_Chambray_Tank_Top/img_...        Top   \n",
              "...                                                  ...        ...   \n",
              "39995  gdrive/MyDrive/img/Dotted_Tulip-Sleeve_Blouse/...     Blouse   \n",
              "39996  gdrive/MyDrive/img/Clean_Wash_Slim_Jeans/img_0...      Jeans   \n",
              "39997  gdrive/MyDrive/img/Mineral_Wash_Pencil_Skirt/i...      Skirt   \n",
              "39998  gdrive/MyDrive/img/Floral_Tie-Dye_Dress/img_00...      Dress   \n",
              "39999  gdrive/MyDrive/img/Heathered_Tulip-Back_Tank/i...       Tank   \n",
              "\n",
              "       design_class design_pre    design_type dress_type dress_ocassion  \\\n",
              "0       Linen-Blend               Linen-Blend        top         casual   \n",
              "1            A-Line                    A-Line  one_piece         formal   \n",
              "2            Collar      Shawl   Shawl Collar        top         casual   \n",
              "3              Suit                      Suit     bottom         sporty   \n",
              "4              Tank   Chambray  Chambray Tank        top         casual   \n",
              "...             ...        ...            ...        ...            ...   \n",
              "39995  Tulip-Sleeve              Tulip-Sleeve        top         formal   \n",
              "39996          Slim       Wash      Wash Slim     bottom         casual   \n",
              "39997        Pencil       Wash    Wash Pencil     bottom         formal   \n",
              "39998       Tie-Dye                   Tie-Dye  one_piece         formal   \n",
              "39999    Tulip-Back                Tulip-Back        top         sporty   \n",
              "\n",
              "      broad_design print_type  \n",
              "0          Classic       [NA]  \n",
              "1          Classic       [NA]  \n",
              "2          Classic       [NA]  \n",
              "3          Classic       [NA]  \n",
              "4          Classic       [NA]  \n",
              "...            ...        ...  \n",
              "39995       Washed       [NA]  \n",
              "39996       Washed       [NA]  \n",
              "39997       Washed       [NA]  \n",
              "39998       Washed       [NA]  \n",
              "39999       Washed       [NA]  \n",
              "\n",
              "[40000 rows x 11 columns]"
            ]
          },
          "execution_count": 35,
          "metadata": {},
          "output_type": "execute_result"
        }
      ],
      "source": [
        "df_images_rel_des=pd.DataFrame()\n",
        "for dt in df_images[\"broad_design\"].unique():\n",
        "  df_append=df_images[df_images[\"broad_design\"]==dt].sample(n=10000, replace=True, random_state=44)\n",
        "  df_images_rel_des=df_images_rel_des.append(df_append,ignore_index=True)\n",
        "df_images_rel_des"
      ]
    },
    {
      "cell_type": "code",
      "execution_count": null,
      "metadata": {
        "colab": {
          "base_uri": "https://localhost:8080/",
          "height": 540
        },
        "id": "vEoZw5Y7PW10",
        "outputId": "dc597cdb-62b1-44ee-ec30-c3b7761b672b"
      },
      "outputs": [
        {
          "data": {
            "text/html": [
              "\n",
              "  <div id=\"df-9457d89a-56dc-4e4b-955a-2c16ea88abff\">\n",
              "    <div class=\"colab-df-container\">\n",
              "      <div>\n",
              "<style scoped>\n",
              "    .dataframe tbody tr th:only-of-type {\n",
              "        vertical-align: middle;\n",
              "    }\n",
              "\n",
              "    .dataframe tbody tr th {\n",
              "        vertical-align: top;\n",
              "    }\n",
              "\n",
              "    .dataframe thead th {\n",
              "        text-align: right;\n",
              "    }\n",
              "</style>\n",
              "<table border=\"1\" class=\"dataframe\">\n",
              "  <thead>\n",
              "    <tr style=\"text-align: right;\">\n",
              "      <th></th>\n",
              "      <th>image_folder</th>\n",
              "      <th>image_name</th>\n",
              "      <th>image_path</th>\n",
              "      <th>item_class</th>\n",
              "      <th>design_class</th>\n",
              "      <th>design_pre</th>\n",
              "      <th>design_type</th>\n",
              "      <th>dress_type</th>\n",
              "      <th>dress_ocassion</th>\n",
              "      <th>broad_design</th>\n",
              "      <th>print_type</th>\n",
              "    </tr>\n",
              "  </thead>\n",
              "  <tbody>\n",
              "    <tr>\n",
              "      <th>0</th>\n",
              "      <td>gdrive/MyDrive/img/Floral_Crochet_Shift_Dress</td>\n",
              "      <td>img_00000031.jpg</td>\n",
              "      <td>gdrive/MyDrive/img/Floral_Crochet_Shift_Dress/...</td>\n",
              "      <td>Dress</td>\n",
              "      <td>Shift</td>\n",
              "      <td>Crochet</td>\n",
              "      <td>Crochet Shift</td>\n",
              "      <td>one_piece</td>\n",
              "      <td>formal</td>\n",
              "      <td>Knit</td>\n",
              "      <td>[NA]</td>\n",
              "    </tr>\n",
              "    <tr>\n",
              "      <th>1</th>\n",
              "      <td>gdrive/MyDrive/img/Striped_Chiffon_Shirt_Dress</td>\n",
              "      <td>img_00000059.jpg</td>\n",
              "      <td>gdrive/MyDrive/img/Striped_Chiffon_Shirt_Dress...</td>\n",
              "      <td>Dress</td>\n",
              "      <td>Shirt</td>\n",
              "      <td>Chiffon</td>\n",
              "      <td>Chiffon Shirt</td>\n",
              "      <td>one_piece</td>\n",
              "      <td>formal</td>\n",
              "      <td>Classic</td>\n",
              "      <td>[NA]</td>\n",
              "    </tr>\n",
              "    <tr>\n",
              "      <th>2</th>\n",
              "      <td>gdrive/MyDrive/img/Paisley_Print_Denim_Jumpsuit</td>\n",
              "      <td>img_00000027.jpg</td>\n",
              "      <td>gdrive/MyDrive/img/Paisley_Print_Denim_Jumpsui...</td>\n",
              "      <td>Jumpsuit</td>\n",
              "      <td>Denim</td>\n",
              "      <td>Print</td>\n",
              "      <td>Print Denim</td>\n",
              "      <td>one_piece</td>\n",
              "      <td>formal</td>\n",
              "      <td>Print</td>\n",
              "      <td>[Other prints]</td>\n",
              "    </tr>\n",
              "    <tr>\n",
              "      <th>3</th>\n",
              "      <td>gdrive/MyDrive/img/Paisley_Print_Halter_Maxi_D...</td>\n",
              "      <td>img_00000008.jpg</td>\n",
              "      <td>gdrive/MyDrive/img/Paisley_Print_Halter_Maxi_D...</td>\n",
              "      <td>Dress</td>\n",
              "      <td>Maxi</td>\n",
              "      <td>Halter</td>\n",
              "      <td>Halter Maxi</td>\n",
              "      <td>one_piece</td>\n",
              "      <td>formal</td>\n",
              "      <td>Classic</td>\n",
              "      <td>[NA]</td>\n",
              "    </tr>\n",
              "    <tr>\n",
              "      <th>4</th>\n",
              "      <td>gdrive/MyDrive/img/V-Cut_Bodycon_Dress</td>\n",
              "      <td>img_00000048.jpg</td>\n",
              "      <td>gdrive/MyDrive/img/V-Cut_Bodycon_Dress/img_000...</td>\n",
              "      <td>Dress</td>\n",
              "      <td>Bodycon</td>\n",
              "      <td></td>\n",
              "      <td>Bodycon</td>\n",
              "      <td>one_piece</td>\n",
              "      <td>formal</td>\n",
              "      <td>Classic</td>\n",
              "      <td>[NA]</td>\n",
              "    </tr>\n",
              "    <tr>\n",
              "      <th>...</th>\n",
              "      <td>...</td>\n",
              "      <td>...</td>\n",
              "      <td>...</td>\n",
              "      <td>...</td>\n",
              "      <td>...</td>\n",
              "      <td>...</td>\n",
              "      <td>...</td>\n",
              "      <td>...</td>\n",
              "      <td>...</td>\n",
              "      <td>...</td>\n",
              "      <td>...</td>\n",
              "    </tr>\n",
              "    <tr>\n",
              "      <th>14995</th>\n",
              "      <td>gdrive/MyDrive/img/Floral_Print_PJ_Shorts</td>\n",
              "      <td>img_00000055.jpg</td>\n",
              "      <td>gdrive/MyDrive/img/Floral_Print_PJ_Shorts/img_...</td>\n",
              "      <td>Shorts</td>\n",
              "      <td>PJ</td>\n",
              "      <td>Print</td>\n",
              "      <td>Print PJ</td>\n",
              "      <td>bottom</td>\n",
              "      <td>casual</td>\n",
              "      <td>Print</td>\n",
              "      <td>[Other prints]</td>\n",
              "    </tr>\n",
              "    <tr>\n",
              "      <th>14996</th>\n",
              "      <td>gdrive/MyDrive/img/Mineral_Wash_Denim_Shorts</td>\n",
              "      <td>img_00000024.jpg</td>\n",
              "      <td>gdrive/MyDrive/img/Mineral_Wash_Denim_Shorts/i...</td>\n",
              "      <td>Shorts</td>\n",
              "      <td>Denim</td>\n",
              "      <td>Wash</td>\n",
              "      <td>Wash Denim</td>\n",
              "      <td>bottom</td>\n",
              "      <td>casual</td>\n",
              "      <td>Washed</td>\n",
              "      <td>[NA]</td>\n",
              "    </tr>\n",
              "    <tr>\n",
              "      <th>14997</th>\n",
              "      <td>gdrive/MyDrive/img/Abstract_Chevron_Print_Shorts</td>\n",
              "      <td>img_00000017.jpg</td>\n",
              "      <td>gdrive/MyDrive/img/Abstract_Chevron_Print_Shor...</td>\n",
              "      <td>Shorts</td>\n",
              "      <td>Print</td>\n",
              "      <td>Chevron</td>\n",
              "      <td>Chevron Print</td>\n",
              "      <td>bottom</td>\n",
              "      <td>casual</td>\n",
              "      <td>Print</td>\n",
              "      <td>[Other prints]</td>\n",
              "    </tr>\n",
              "    <tr>\n",
              "      <th>14998</th>\n",
              "      <td>gdrive/MyDrive/img/Mid-Rise_-_Acid_Wash_Jeggings</td>\n",
              "      <td>img_00000048.jpg</td>\n",
              "      <td>gdrive/MyDrive/img/Mid-Rise_-_Acid_Wash_Jeggin...</td>\n",
              "      <td>Jeggings</td>\n",
              "      <td>Wash</td>\n",
              "      <td>Acid</td>\n",
              "      <td>Acid Wash</td>\n",
              "      <td>bottom</td>\n",
              "      <td>casual</td>\n",
              "      <td>Washed</td>\n",
              "      <td>[NA]</td>\n",
              "    </tr>\n",
              "    <tr>\n",
              "      <th>14999</th>\n",
              "      <td>gdrive/MyDrive/img/Dark_Wash_-_Paneled_Skinny_...</td>\n",
              "      <td>img_00000030.jpg</td>\n",
              "      <td>gdrive/MyDrive/img/Dark_Wash_-_Paneled_Skinny_...</td>\n",
              "      <td>Jeans</td>\n",
              "      <td>Skinny</td>\n",
              "      <td>Paneled</td>\n",
              "      <td>Paneled Skinny</td>\n",
              "      <td>bottom</td>\n",
              "      <td>casual</td>\n",
              "      <td>Classic</td>\n",
              "      <td>[NA]</td>\n",
              "    </tr>\n",
              "  </tbody>\n",
              "</table>\n",
              "<p>15000 rows × 11 columns</p>\n",
              "</div>\n",
              "      <button class=\"colab-df-convert\" onclick=\"convertToInteractive('df-9457d89a-56dc-4e4b-955a-2c16ea88abff')\"\n",
              "              title=\"Convert this dataframe to an interactive table.\"\n",
              "              style=\"display:none;\">\n",
              "        \n",
              "  <svg xmlns=\"http://www.w3.org/2000/svg\" height=\"24px\"viewBox=\"0 0 24 24\"\n",
              "       width=\"24px\">\n",
              "    <path d=\"M0 0h24v24H0V0z\" fill=\"none\"/>\n",
              "    <path d=\"M18.56 5.44l.94 2.06.94-2.06 2.06-.94-2.06-.94-.94-2.06-.94 2.06-2.06.94zm-11 1L8.5 8.5l.94-2.06 2.06-.94-2.06-.94L8.5 2.5l-.94 2.06-2.06.94zm10 10l.94 2.06.94-2.06 2.06-.94-2.06-.94-.94-2.06-.94 2.06-2.06.94z\"/><path d=\"M17.41 7.96l-1.37-1.37c-.4-.4-.92-.59-1.43-.59-.52 0-1.04.2-1.43.59L10.3 9.45l-7.72 7.72c-.78.78-.78 2.05 0 2.83L4 21.41c.39.39.9.59 1.41.59.51 0 1.02-.2 1.41-.59l7.78-7.78 2.81-2.81c.8-.78.8-2.07 0-2.86zM5.41 20L4 18.59l7.72-7.72 1.47 1.35L5.41 20z\"/>\n",
              "  </svg>\n",
              "      </button>\n",
              "      \n",
              "  <style>\n",
              "    .colab-df-container {\n",
              "      display:flex;\n",
              "      flex-wrap:wrap;\n",
              "      gap: 12px;\n",
              "    }\n",
              "\n",
              "    .colab-df-convert {\n",
              "      background-color: #E8F0FE;\n",
              "      border: none;\n",
              "      border-radius: 50%;\n",
              "      cursor: pointer;\n",
              "      display: none;\n",
              "      fill: #1967D2;\n",
              "      height: 32px;\n",
              "      padding: 0 0 0 0;\n",
              "      width: 32px;\n",
              "    }\n",
              "\n",
              "    .colab-df-convert:hover {\n",
              "      background-color: #E2EBFA;\n",
              "      box-shadow: 0px 1px 2px rgba(60, 64, 67, 0.3), 0px 1px 3px 1px rgba(60, 64, 67, 0.15);\n",
              "      fill: #174EA6;\n",
              "    }\n",
              "\n",
              "    [theme=dark] .colab-df-convert {\n",
              "      background-color: #3B4455;\n",
              "      fill: #D2E3FC;\n",
              "    }\n",
              "\n",
              "    [theme=dark] .colab-df-convert:hover {\n",
              "      background-color: #434B5C;\n",
              "      box-shadow: 0px 1px 3px 1px rgba(0, 0, 0, 0.15);\n",
              "      filter: drop-shadow(0px 1px 2px rgba(0, 0, 0, 0.3));\n",
              "      fill: #FFFFFF;\n",
              "    }\n",
              "  </style>\n",
              "\n",
              "      <script>\n",
              "        const buttonEl =\n",
              "          document.querySelector('#df-9457d89a-56dc-4e4b-955a-2c16ea88abff button.colab-df-convert');\n",
              "        buttonEl.style.display =\n",
              "          google.colab.kernel.accessAllowed ? 'block' : 'none';\n",
              "\n",
              "        async function convertToInteractive(key) {\n",
              "          const element = document.querySelector('#df-9457d89a-56dc-4e4b-955a-2c16ea88abff');\n",
              "          const dataTable =\n",
              "            await google.colab.kernel.invokeFunction('convertToInteractive',\n",
              "                                                     [key], {});\n",
              "          if (!dataTable) return;\n",
              "\n",
              "          const docLinkHtml = 'Like what you see? Visit the ' +\n",
              "            '<a target=\"_blank\" href=https://colab.research.google.com/notebooks/data_table.ipynb>data table notebook</a>'\n",
              "            + ' to learn more about interactive tables.';\n",
              "          element.innerHTML = '';\n",
              "          dataTable['output_type'] = 'display_data';\n",
              "          await google.colab.output.renderOutput(dataTable, element);\n",
              "          const docLink = document.createElement('div');\n",
              "          docLink.innerHTML = docLinkHtml;\n",
              "          element.appendChild(docLink);\n",
              "        }\n",
              "      </script>\n",
              "    </div>\n",
              "  </div>\n",
              "  "
            ],
            "text/plain": [
              "                                            image_folder        image_name  \\\n",
              "0          gdrive/MyDrive/img/Floral_Crochet_Shift_Dress  img_00000031.jpg   \n",
              "1         gdrive/MyDrive/img/Striped_Chiffon_Shirt_Dress  img_00000059.jpg   \n",
              "2        gdrive/MyDrive/img/Paisley_Print_Denim_Jumpsuit  img_00000027.jpg   \n",
              "3      gdrive/MyDrive/img/Paisley_Print_Halter_Maxi_D...  img_00000008.jpg   \n",
              "4                 gdrive/MyDrive/img/V-Cut_Bodycon_Dress  img_00000048.jpg   \n",
              "...                                                  ...               ...   \n",
              "14995          gdrive/MyDrive/img/Floral_Print_PJ_Shorts  img_00000055.jpg   \n",
              "14996       gdrive/MyDrive/img/Mineral_Wash_Denim_Shorts  img_00000024.jpg   \n",
              "14997   gdrive/MyDrive/img/Abstract_Chevron_Print_Shorts  img_00000017.jpg   \n",
              "14998   gdrive/MyDrive/img/Mid-Rise_-_Acid_Wash_Jeggings  img_00000048.jpg   \n",
              "14999  gdrive/MyDrive/img/Dark_Wash_-_Paneled_Skinny_...  img_00000030.jpg   \n",
              "\n",
              "                                              image_path item_class  \\\n",
              "0      gdrive/MyDrive/img/Floral_Crochet_Shift_Dress/...      Dress   \n",
              "1      gdrive/MyDrive/img/Striped_Chiffon_Shirt_Dress...      Dress   \n",
              "2      gdrive/MyDrive/img/Paisley_Print_Denim_Jumpsui...   Jumpsuit   \n",
              "3      gdrive/MyDrive/img/Paisley_Print_Halter_Maxi_D...      Dress   \n",
              "4      gdrive/MyDrive/img/V-Cut_Bodycon_Dress/img_000...      Dress   \n",
              "...                                                  ...        ...   \n",
              "14995  gdrive/MyDrive/img/Floral_Print_PJ_Shorts/img_...     Shorts   \n",
              "14996  gdrive/MyDrive/img/Mineral_Wash_Denim_Shorts/i...     Shorts   \n",
              "14997  gdrive/MyDrive/img/Abstract_Chevron_Print_Shor...     Shorts   \n",
              "14998  gdrive/MyDrive/img/Mid-Rise_-_Acid_Wash_Jeggin...   Jeggings   \n",
              "14999  gdrive/MyDrive/img/Dark_Wash_-_Paneled_Skinny_...      Jeans   \n",
              "\n",
              "      design_class design_pre     design_type dress_type dress_ocassion  \\\n",
              "0            Shift    Crochet   Crochet Shift  one_piece         formal   \n",
              "1            Shirt    Chiffon   Chiffon Shirt  one_piece         formal   \n",
              "2            Denim      Print     Print Denim  one_piece         formal   \n",
              "3             Maxi     Halter     Halter Maxi  one_piece         formal   \n",
              "4          Bodycon                    Bodycon  one_piece         formal   \n",
              "...            ...        ...             ...        ...            ...   \n",
              "14995           PJ      Print        Print PJ     bottom         casual   \n",
              "14996        Denim       Wash      Wash Denim     bottom         casual   \n",
              "14997        Print    Chevron   Chevron Print     bottom         casual   \n",
              "14998         Wash       Acid       Acid Wash     bottom         casual   \n",
              "14999       Skinny    Paneled  Paneled Skinny     bottom         casual   \n",
              "\n",
              "      broad_design      print_type  \n",
              "0             Knit            [NA]  \n",
              "1          Classic            [NA]  \n",
              "2            Print  [Other prints]  \n",
              "3          Classic            [NA]  \n",
              "4          Classic            [NA]  \n",
              "...            ...             ...  \n",
              "14995        Print  [Other prints]  \n",
              "14996       Washed            [NA]  \n",
              "14997        Print  [Other prints]  \n",
              "14998       Washed            [NA]  \n",
              "14999      Classic            [NA]  \n",
              "\n",
              "[15000 rows x 11 columns]"
            ]
          },
          "execution_count": 36,
          "metadata": {},
          "output_type": "execute_result"
        }
      ],
      "source": [
        "df_images_rel=pd.DataFrame()\n",
        "for dt in df_images[\"dress_type\"].unique():\n",
        "  df_append=df_images_rel_des[df_images_rel_des[\"dress_type\"]==dt].sample(n=5000, replace=True, random_state=33)\n",
        "  df_images_rel=df_images_rel.append(df_append,ignore_index=True)\n",
        "df_images_rel"
      ]
    },
    {
      "cell_type": "code",
      "execution_count": null,
      "metadata": {
        "colab": {
          "base_uri": "https://localhost:8080/",
          "height": 175
        },
        "id": "VYTvqD0y4oTG",
        "outputId": "bc0796aa-5ec9-4b47-834b-26409d05bb1d"
      },
      "outputs": [
        {
          "data": {
            "text/html": [
              "\n",
              "  <div id=\"df-16932c72-b571-403f-aef1-5811e20addf6\">\n",
              "    <div class=\"colab-df-container\">\n",
              "      <div>\n",
              "<style scoped>\n",
              "    .dataframe tbody tr th:only-of-type {\n",
              "        vertical-align: middle;\n",
              "    }\n",
              "\n",
              "    .dataframe tbody tr th {\n",
              "        vertical-align: top;\n",
              "    }\n",
              "\n",
              "    .dataframe thead th {\n",
              "        text-align: right;\n",
              "    }\n",
              "</style>\n",
              "<table border=\"1\" class=\"dataframe\">\n",
              "  <thead>\n",
              "    <tr style=\"text-align: right;\">\n",
              "      <th></th>\n",
              "      <th>image_folder</th>\n",
              "      <th>image_name</th>\n",
              "      <th>image_path</th>\n",
              "      <th>item_class</th>\n",
              "      <th>design_class</th>\n",
              "      <th>design_pre</th>\n",
              "      <th>design_type</th>\n",
              "      <th>dress_type</th>\n",
              "      <th>broad_design</th>\n",
              "    </tr>\n",
              "    <tr>\n",
              "      <th>dress_ocassion</th>\n",
              "      <th></th>\n",
              "      <th></th>\n",
              "      <th></th>\n",
              "      <th></th>\n",
              "      <th></th>\n",
              "      <th></th>\n",
              "      <th></th>\n",
              "      <th></th>\n",
              "      <th></th>\n",
              "    </tr>\n",
              "  </thead>\n",
              "  <tbody>\n",
              "    <tr>\n",
              "      <th>casual</th>\n",
              "      <td>6954</td>\n",
              "      <td>6954</td>\n",
              "      <td>6954</td>\n",
              "      <td>6954</td>\n",
              "      <td>6954</td>\n",
              "      <td>6954</td>\n",
              "      <td>6954</td>\n",
              "      <td>6954</td>\n",
              "      <td>6954</td>\n",
              "    </tr>\n",
              "    <tr>\n",
              "      <th>formal</th>\n",
              "      <td>6891</td>\n",
              "      <td>6891</td>\n",
              "      <td>6891</td>\n",
              "      <td>6891</td>\n",
              "      <td>6891</td>\n",
              "      <td>6891</td>\n",
              "      <td>6891</td>\n",
              "      <td>6891</td>\n",
              "      <td>6891</td>\n",
              "    </tr>\n",
              "    <tr>\n",
              "      <th>sporty</th>\n",
              "      <td>1155</td>\n",
              "      <td>1155</td>\n",
              "      <td>1155</td>\n",
              "      <td>1155</td>\n",
              "      <td>1155</td>\n",
              "      <td>1155</td>\n",
              "      <td>1155</td>\n",
              "      <td>1155</td>\n",
              "      <td>1155</td>\n",
              "    </tr>\n",
              "  </tbody>\n",
              "</table>\n",
              "</div>\n",
              "      <button class=\"colab-df-convert\" onclick=\"convertToInteractive('df-16932c72-b571-403f-aef1-5811e20addf6')\"\n",
              "              title=\"Convert this dataframe to an interactive table.\"\n",
              "              style=\"display:none;\">\n",
              "        \n",
              "  <svg xmlns=\"http://www.w3.org/2000/svg\" height=\"24px\"viewBox=\"0 0 24 24\"\n",
              "       width=\"24px\">\n",
              "    <path d=\"M0 0h24v24H0V0z\" fill=\"none\"/>\n",
              "    <path d=\"M18.56 5.44l.94 2.06.94-2.06 2.06-.94-2.06-.94-.94-2.06-.94 2.06-2.06.94zm-11 1L8.5 8.5l.94-2.06 2.06-.94-2.06-.94L8.5 2.5l-.94 2.06-2.06.94zm10 10l.94 2.06.94-2.06 2.06-.94-2.06-.94-.94-2.06-.94 2.06-2.06.94z\"/><path d=\"M17.41 7.96l-1.37-1.37c-.4-.4-.92-.59-1.43-.59-.52 0-1.04.2-1.43.59L10.3 9.45l-7.72 7.72c-.78.78-.78 2.05 0 2.83L4 21.41c.39.39.9.59 1.41.59.51 0 1.02-.2 1.41-.59l7.78-7.78 2.81-2.81c.8-.78.8-2.07 0-2.86zM5.41 20L4 18.59l7.72-7.72 1.47 1.35L5.41 20z\"/>\n",
              "  </svg>\n",
              "      </button>\n",
              "      \n",
              "  <style>\n",
              "    .colab-df-container {\n",
              "      display:flex;\n",
              "      flex-wrap:wrap;\n",
              "      gap: 12px;\n",
              "    }\n",
              "\n",
              "    .colab-df-convert {\n",
              "      background-color: #E8F0FE;\n",
              "      border: none;\n",
              "      border-radius: 50%;\n",
              "      cursor: pointer;\n",
              "      display: none;\n",
              "      fill: #1967D2;\n",
              "      height: 32px;\n",
              "      padding: 0 0 0 0;\n",
              "      width: 32px;\n",
              "    }\n",
              "\n",
              "    .colab-df-convert:hover {\n",
              "      background-color: #E2EBFA;\n",
              "      box-shadow: 0px 1px 2px rgba(60, 64, 67, 0.3), 0px 1px 3px 1px rgba(60, 64, 67, 0.15);\n",
              "      fill: #174EA6;\n",
              "    }\n",
              "\n",
              "    [theme=dark] .colab-df-convert {\n",
              "      background-color: #3B4455;\n",
              "      fill: #D2E3FC;\n",
              "    }\n",
              "\n",
              "    [theme=dark] .colab-df-convert:hover {\n",
              "      background-color: #434B5C;\n",
              "      box-shadow: 0px 1px 3px 1px rgba(0, 0, 0, 0.15);\n",
              "      filter: drop-shadow(0px 1px 2px rgba(0, 0, 0, 0.3));\n",
              "      fill: #FFFFFF;\n",
              "    }\n",
              "  </style>\n",
              "\n",
              "      <script>\n",
              "        const buttonEl =\n",
              "          document.querySelector('#df-16932c72-b571-403f-aef1-5811e20addf6 button.colab-df-convert');\n",
              "        buttonEl.style.display =\n",
              "          google.colab.kernel.accessAllowed ? 'block' : 'none';\n",
              "\n",
              "        async function convertToInteractive(key) {\n",
              "          const element = document.querySelector('#df-16932c72-b571-403f-aef1-5811e20addf6');\n",
              "          const dataTable =\n",
              "            await google.colab.kernel.invokeFunction('convertToInteractive',\n",
              "                                                     [key], {});\n",
              "          if (!dataTable) return;\n",
              "\n",
              "          const docLinkHtml = 'Like what you see? Visit the ' +\n",
              "            '<a target=\"_blank\" href=https://colab.research.google.com/notebooks/data_table.ipynb>data table notebook</a>'\n",
              "            + ' to learn more about interactive tables.';\n",
              "          element.innerHTML = '';\n",
              "          dataTable['output_type'] = 'display_data';\n",
              "          await google.colab.output.renderOutput(dataTable, element);\n",
              "          const docLink = document.createElement('div');\n",
              "          docLink.innerHTML = docLinkHtml;\n",
              "          element.appendChild(docLink);\n",
              "        }\n",
              "      </script>\n",
              "    </div>\n",
              "  </div>\n",
              "  "
            ],
            "text/plain": [
              "                image_folder  image_name  image_path  item_class  \\\n",
              "dress_ocassion                                                     \n",
              "casual                  6954        6954        6954        6954   \n",
              "formal                  6891        6891        6891        6891   \n",
              "sporty                  1155        1155        1155        1155   \n",
              "\n",
              "                design_class  design_pre  design_type  dress_type  \\\n",
              "dress_ocassion                                                      \n",
              "casual                  6954        6954         6954        6954   \n",
              "formal                  6891        6891         6891        6891   \n",
              "sporty                  1155        1155         1155        1155   \n",
              "\n",
              "                broad_design  \n",
              "dress_ocassion                \n",
              "casual                  6954  \n",
              "formal                  6891  \n",
              "sporty                  1155  "
            ]
          },
          "execution_count": 122,
          "metadata": {},
          "output_type": "execute_result"
        }
      ],
      "source": [
        "df_images_rel.groupby(\"dress_ocassion\").count()"
      ]
    },
    {
      "cell_type": "code",
      "execution_count": null,
      "metadata": {
        "id": "RZ1m46sggfne"
      },
      "outputs": [],
      "source": [
        "\n",
        "##Preprocessing images"
      ]
    },
    {
      "cell_type": "code",
      "execution_count": null,
      "metadata": {
        "id": "UnXTt0tAw_WW"
      },
      "outputs": [],
      "source": [
        "batch_size = 32\n",
        "img_height = 32\n",
        "img_width = 32"
      ]
    },
    {
      "cell_type": "code",
      "execution_count": null,
      "metadata": {
        "id": "TOOs6rHDcRX1"
      },
      "outputs": [],
      "source": [
        "def preprocess_resize(df):\n",
        "  df[\"content\"] = df[\"image_path\"].apply(lambda x: cv2.imread(x))\n",
        "\n",
        "  df[\"image_resized\"] = df[\"content\"].apply(lambda x: np.array(cv2.resize(x, (32,32))))\n",
        "    # Resize the image to the desired size\n",
        "  #df[\"image_resized\"] = df[\"image_raw\"].apply(lambda x: tf.image.resize(x, [img_height, img_width]))\n",
        "  return df"
      ]
    },
    {
      "cell_type": "code",
      "execution_count": null,
      "metadata": {
        "id": "KESc9Ef-z1Ze"
      },
      "outputs": [],
      "source": [
        "dense = layers.Dense(64, activation=\"relu\")\n",
        "inputs = keras.Input(shape=(32*32*3,))\n",
        "x = dense(inputs)\n",
        "x = layers.Dense(64, activation=\"relu\")(x)\n",
        "x = layers.Dense(64, activation=\"relu\")(x)\n",
        "x = layers.Dense(64, activation=\"relu\")(x)\n",
        "outputs1 = layers.Dense(3,activation=\"softmax\")(x)\n",
        "outputs2 = layers.Dense(3,activation=\"softmax\")(x)\n",
        "outputs3 = layers.Dense(3,activation=\"softmax\")(x)\n",
        "\n",
        "model_multi = keras.Model(inputs=inputs, outputs=[outputs1,outputs2,outputs3], name=\"cloth_design_categorizer\")\n",
        "model = keras.Model(inputs=inputs, outputs=outputs1, name=\"cloth_categorizer\")\n"
      ]
    },
    {
      "cell_type": "code",
      "execution_count": null,
      "metadata": {
        "id": "Dx4aX4GIdfKb"
      },
      "outputs": [],
      "source": [
        "df_images_preprocessed=preprocess_resize(df_images_rel)\n",
        "df_images_preprocessed[\"image_resized\"]"
      ]
    },
    {
      "cell_type": "code",
      "execution_count": null,
      "metadata": {
        "id": "vZIEfA_Xd6eA"
      },
      "outputs": [],
      "source": [
        "X=df_images_preprocessed[\"image_resized\"].array\n",
        "X=np.asarray(list(X)).astype(np.float32)\n",
        "df_images_preprocessed[\"dress_type_num\"]=df_images_preprocessed[\"dress_type\"].replace([\"top\",\"bottom\",\"one_piece\"],[0,1,2])\n",
        "df_images_preprocessed[\"broad_design_num\"]=df_images_preprocessed[\"broad_design\"].replace([\"Print\",\"Knit\",\"Classic\"],[0,1,2])\n",
        "df_images_preprocessed[\"dress_occasion_num\"]=df_images_preprocessed[\"dress_ocassion\"].replace([\"formal\",\"casual\",\"sporty\"],[0,1,2])\n",
        "\n",
        "y=df_images_preprocessed[[\"dress_type_num\",\"broad_design_num\",\"dress_occasion_num\"]]\n",
        "X_train, X_test, y_train, y_test = train_test_split(X, y, test_size=0.33, random_state=44)\n",
        "\n",
        "y_train1=y_train[\"dress_type_num\"]\n",
        "y_test1=y_test[\"dress_type_num\"]\n",
        "\n",
        "y_train2=y_train[\"broad_design_num\"]\n",
        "y_test2=y_test[\"broad_design_num\"]\n",
        "\n",
        "\n",
        "y_train3=y_train[\"dress_occasion_num\"]\n",
        "y_test3=y_test[\"dress_occasion_num\"]"
      ]
    },
    {
      "cell_type": "code",
      "execution_count": null,
      "metadata": {
        "colab": {
          "background_save": true
        },
        "id": "P8o7NUeIKUl0",
        "outputId": "7f49cdec-a56e-4bde-c260-4713d0a7ad29"
      },
      "outputs": [
        {
          "data": {
            "text/plain": [
              "{0, 1, 2}"
            ]
          },
          "execution_count": null,
          "metadata": {},
          "output_type": "execute_result"
        }
      ],
      "source": [
        "set(y_test2)"
      ]
    },
    {
      "cell_type": "code",
      "execution_count": null,
      "metadata": {
        "id": "NRdel-lGHsyc"
      },
      "outputs": [],
      "source": [
        "model_multi.summary()"
      ]
    },
    {
      "cell_type": "code",
      "execution_count": null,
      "metadata": {
        "id": "_kD4lcoZ-6lq"
      },
      "outputs": [],
      "source": [
        "keras.utils.plot_model(model_multi, \"my_first_model.png\")\n"
      ]
    },
    {
      "cell_type": "code",
      "execution_count": null,
      "metadata": {
        "id": "EzDUqfCC-ypp"
      },
      "outputs": [],
      "source": [
        "X_train.shape,y_train1.shape"
      ]
    },
    {
      "cell_type": "code",
      "execution_count": null,
      "metadata": {
        "id": "msLcLodjj4Ra"
      },
      "outputs": [],
      "source": [
        "x_train = X_train.reshape(len(X_train), 32*32*3).astype(np.float32) / 255\n",
        "x_test = X_test.reshape(len(X_test), 32*32*3).astype(np.float32) / 255\n",
        "\n",
        "model_multi.compile(\n",
        "    loss=keras.losses.SparseCategoricalCrossentropy(from_logits=True),\n",
        "    optimizer=keras.optimizers.RMSprop(),\n",
        "    metrics=[\"accuracy\"],\n",
        ")\n",
        "\n",
        "history = model_multi.fit(x_train, [y_train1,y_train2,y_train3], batch_size=32, epochs=100, validation_split=0.2)\n",
        "\n",
        "test_scores = model_multi.evaluate(x_test, [y_test1,y_test2,y_test3],verbose=2)\n",
        "print(\"Test loss:\", test_scores[0])\n",
        "print(\"Test accuracy:\", test_scores[1])"
      ]
    },
    {
      "cell_type": "code",
      "execution_count": null,
      "metadata": {
        "colab": {
          "background_save": true
        },
        "id": "TsQ1vdnb9-Fw"
      },
      "outputs": [],
      "source": [
        "# ##Testing the model"
      ]
    },
    {
      "cell_type": "code",
      "execution_count": null,
      "metadata": {
        "id": "y7NtuQnXZ0wn"
      },
      "outputs": [],
      "source": [
        "df_validation=df_images[df_images[\"image_path\"].isin(df_images_rel[\"image_path\"].unique())].sample(n=2000)\n",
        "df_validation=preprocess_resize(df_validation)"
      ]
    },
    {
      "cell_type": "code",
      "execution_count": null,
      "metadata": {
        "id": "95Me9AAE97II"
      },
      "outputs": [],
      "source": [
        "\n",
        "X_val=df_validation[\"image_resized\"].array\n",
        "X_val=np.asarray(list(X_val)).astype(np.float32)\n",
        "X_val=X_val.reshape(len(X_val), 32*32*3).astype(np.float32) / 255\n",
        "df_validation[\"dress_type_num\"]=df_validation[\"dress_type\"].replace([\"top\",\"bottom\",\"one_piece\"],[0,1,2])\n",
        "df_validation[\"broad_design_num\"]=df_validation[\"broad_design\"].replace([\"Print\",\"Knit\",\"Classic\"],[0,1,2])\n",
        "df_validation[\"dress_occasion_num\"]=df_validation[\"dress_ocassion\"].replace([\"formal\",\"casual\",\"sporty\"],[0,1,2])\n",
        "\n",
        "y_val1=df_validation[\"dress_type_num\"]\n",
        "y_val2=df_validation[\"broad_design_num\"]\n",
        "y_val3=df_validation[\"dress_occasion_num\"]\n",
        "\n",
        "y_predict=model_multi.predict(X_val)\n"
      ]
    },
    {
      "cell_type": "code",
      "execution_count": null,
      "metadata": {
        "colab": {
          "background_save": true
        },
        "id": "YhNd_tp0h_2W"
      },
      "outputs": [],
      "source": [
        "\n",
        "# X_val=df_validation[\"image_resized\"].array\n",
        "# X_val=np.asarray(list(X_val)).astype(np.float32)\n",
        "# X_val=X_val.reshape(len(X_val), 32*32*3).astype(np.float32) / 255\n",
        "# df_validation[\"dress_type_num\"]=df_validation[\"dress_type\"].replace([\"top\",\"bottom\",\"one_piece\"],[0,1,2])\n",
        "# df_validation[\"broad_design_num\"]=df_validation[\"broad_design\"].replace([\"Print\",\"Knit\",\"Classic\"],[0,1,2])\n",
        "\n",
        "# y_val1=np.array(df_validation[\"dress_type_num\"])\n",
        "# y_val2=np.array(df_images_preprocessed[\"broad_design_num\"])\n",
        "# y_predict=model_multi.predict(X_val)\n"
      ]
    },
    {
      "cell_type": "code",
      "execution_count": null,
      "metadata": {
        "id": "xLAWJCVXeRLI"
      },
      "outputs": [],
      "source": [
        "y_predict1=y_predict[0]\n",
        "y_predict_val1=np.array([list(y).index(max(list(y))) for y in list(y_predict1)])\n",
        "\n",
        "\n",
        "y_predict2=y_predict[1]\n",
        "y_predict_val2=np.array([list(y).index(max(list(y))) for y in list(y_predict2)])\n",
        "\n",
        "\n",
        "y_predict3=y_predict[2]\n",
        "y_predict_val3=np.array([list(y).index(max(list(y))) for y in list(y_predict3)])\n",
        "\n",
        "df_validation[\"y_predict_val1\"]=y_predict_val1\n",
        "df_validation[\"y_predict_val2\"]=y_predict_val2\n",
        "df_validation[\"y_predict_val3\"]=y_predict_val3\n",
        "\n",
        "df_validation[\"y_predict_val_dress_type\"]=df_validation[\"y_predict_val1\"].replace([0,1,2],[\"top\",\"bottom\",\"one_piece\"])\n",
        "df_validation[\"y_predict_val_broad_design\"]=df_validation[\"y_predict_val2\"].replace([0,1,2],[\"Print\",\"Knit\",\"Classic\"])\n",
        "df_validation[\"y_predict_val_dress_occassion\"]=df_validation[\"y_predict_val3\"].replace([0,1,2],[\"formal\",\"casual\",\"sporty\"])\n"
      ]
    },
    {
      "cell_type": "code",
      "execution_count": null,
      "metadata": {
        "id": "hQAajCQSeYZV"
      },
      "outputs": [],
      "source": [
        "df_validation[\"\"]"
      ]
    },
    {
      "cell_type": "code",
      "execution_count": null,
      "metadata": {
        "id": "9kWo1wganX_V"
      },
      "outputs": [],
      "source": [
        "####Evaluation"
      ]
    },
    {
      "cell_type": "code",
      "execution_count": null,
      "metadata": {
        "id": "MOsYN3gvZbAT"
      },
      "outputs": [],
      "source": [
        "from sklearn.metrics import accuracy_score, confusion_matrix\n",
        "accuracy_score(y_predict_val1,y_val1),accuracy_score(y_predict_val2,y_val2),accuracy_score(y_predict_val3,y_val3)"
      ]
    },
    {
      "cell_type": "code",
      "execution_count": null,
      "metadata": {
        "id": "jFEKN16cpdTl"
      },
      "outputs": [],
      "source": [
        "confusion_matrix(df_validation[\"dress_type\"],df_validation[\"y_predict_val_dress_type\"])"
      ]
    },
    {
      "cell_type": "code",
      "execution_count": null,
      "metadata": {
        "id": "gLR8TfFbqaXI"
      },
      "outputs": [],
      "source": [
        "import seaborn as sns\n",
        "import matplotlib.pyplot as plt\n",
        "\n",
        "sns.heatmap(confusion_matrix(df_validation[\"dress_type\"],df_validation[\"y_predict_val_dress_type\"]), annot=True,fmt='.3g')\n",
        "plt.xlabel('True') # x-axis label with fontsize 15\n",
        "plt.ylabel('Predicted')#, fontsize = 15)"
      ]
    },
    {
      "cell_type": "code",
      "execution_count": null,
      "metadata": {
        "id": "bf-VLEz0qJ8d"
      },
      "outputs": [],
      "source": [
        "sns.heatmap(confusion_matrix(df_validation[\"dress_ocassion\"],df_validation[\"y_predict_val_dress_occassion\"]), annot=True, fmt='.3g')\n",
        "plt.xlabel('True') # x-axis label with fontsize 15\n",
        "plt.ylabel('Predicted')\n"
      ]
    },
    {
      "cell_type": "code",
      "execution_count": null,
      "metadata": {
        "colab": {
          "background_save": true
        },
        "id": "ta02i1qh15bi",
        "outputId": "4e109b60-5fd5-4671-b7c4-220e9a6a0f93"
      },
      "outputs": [
        {
          "data": {
            "text/plain": [
              "Text(33.0, 0.5, 'Predicted')"
            ]
          },
          "execution_count": null,
          "metadata": {},
          "output_type": "execute_result"
        },
        {
          "data": {
            "image/png": "[encoded data removed]",
            "text/plain": [
              "<Figure size 432x288 with 2 Axes>"
            ]
          },
          "metadata": {},
          "output_type": "display_data"
        }
      ],
      "source": [
        "sns.heatmap(confusion_matrix(df_validation[\"broad_design\"],df_validation[\"y_predict_val_broad_design\"]), annot=True, fmt='.3g')\n",
        "plt.xlabel('True') # x-axis label with fontsize 15\n",
        "plt.ylabel('Predicted')\n"
      ]
    },
    {
      "cell_type": "code",
      "execution_count": null,
      "metadata": {
        "colab": {
          "background_save": true
        },
        "id": "pZY4Iy3E3bG-",
        "outputId": "fc87a3bb-8e82-44c8-e20b-dbbc0cb81a98"
      },
      "outputs": [
        {
          "name": "stdout",
          "output_type": "stream",
          "text": [
            "Predicted label: one_piece while real label: one_piece\n",
            "--------------------------------------------------------------------------------------------------------------------------------------\n",
            "Predicted label: formal while real label: formal\n",
            "--------------------------------------------------------------------------------------------------------------------------------------\n",
            "Predicted label: Print while real label: Knit Full name: Perforated_Knit_Dress\n",
            "--------------------------------------------------------------------------------------------------------------------------------------\n"
          ]
        },
        {
          "data": {
            "image/png": "[encoded data removed]",
            "text/plain": [
              "<PIL.JpegImagePlugin.JpegImageFile image mode=RGB size=188x300 at 0x7F9878C935D0>"
            ]
          },
          "execution_count": null,
          "metadata": {},
          "output_type": "execute_result"
        }
      ],
      "source": [
        "##Show result\n",
        "n=np.random.randint(2000)\n",
        "print(\"Predicted label: \"+list(df_validation[\"y_predict_val_dress_type\"])[n]+\" while real label: \"+list(df_validation[\"dress_type\"])[n])\n",
        "print(\"--------------------------------------------------------------------------------------------------------------------------------------\")\n",
        "\n",
        "print(\"Predicted label: \"+list(df_validation[\"y_predict_val_dress_occassion\"])[n]+\" while real label: \"+list(df_validation[\"dress_ocassion\"])[n])\n",
        "print(\"--------------------------------------------------------------------------------------------------------------------------------------\")\n",
        "print(\"Predicted label: \"+list(df_validation[\"y_predict_val_broad_design\"])[n]+\" while real label: \"+list(df_validation[\"broad_design\"])[n],\"Full name: \"+list(df_validation[\"image_path\"])[n].split(\"/\")[3])\n",
        "print(\"--------------------------------------------------------------------------------------------------------------------------------------\")\n",
        "\n",
        "PIL.Image.open(list(df_validation[\"image_path\"])[n])\n"
      ]
    },
    {
      "cell_type": "code",
      "execution_count": null,
      "metadata": {
        "colab": {
          "background_save": true
        },
        "id": "RjyUPH4n3du8",
        "outputId": "20da921d-680a-46b3-b060-d4e02ff9257a"
      },
      "outputs": [
        {
          "data": {
            "text/plain": [
              "array([0, 2, 1])"
            ]
          },
          "execution_count": null,
          "metadata": {},
          "output_type": "execute_result"
        }
      ],
      "source": [
        "df_validation[\"y_predict_val1\"].unique()"
      ]
    },
    {
      "cell_type": "code",
      "execution_count": null,
      "metadata": {
        "colab": {
          "background_save": true
        },
        "id": "HXyzVbgL3ld6",
        "outputId": "ee6ada11-c2a8-4754-9d4a-cb05372d7b96"
      },
      "outputs": [
        {
          "ename": "IndexError",
          "evalue": "ignored",
          "output_type": "error",
          "traceback": [
            "\u001b[0;31m---------------------------------------------------------------------------\u001b[0m",
            "\u001b[0;31mIndexError\u001b[0m                                Traceback (most recent call last)",
            "\u001b[0;32m<ipython-input-147-dd86332b7703>\u001b[0m in \u001b[0;36m<module>\u001b[0;34m()\u001b[0m\n\u001b[0;32m----> 1\u001b[0;31m \u001b[0mPIL\u001b[0m\u001b[0;34m.\u001b[0m\u001b[0mImage\u001b[0m\u001b[0;34m.\u001b[0m\u001b[0mopen\u001b[0m\u001b[0;34m(\u001b[0m\u001b[0mlist\u001b[0m\u001b[0;34m(\u001b[0m\u001b[0mdf_validation\u001b[0m\u001b[0;34m[\u001b[0m\u001b[0mdf_validation\u001b[0m\u001b[0;34m[\u001b[0m\u001b[0;34m\"y_predict_val_broad_design\"\u001b[0m\u001b[0;34m]\u001b[0m\u001b[0;34m==\u001b[0m\u001b[0;34m\"Striped\"\u001b[0m\u001b[0;34m]\u001b[0m\u001b[0;34m[\u001b[0m\u001b[0;34m\"image_path\"\u001b[0m\u001b[0;34m]\u001b[0m\u001b[0;34m)\u001b[0m\u001b[0;34m[\u001b[0m\u001b[0;36m4\u001b[0m\u001b[0;34m]\u001b[0m\u001b[0;34m)\u001b[0m\u001b[0;34m\u001b[0m\u001b[0;34m\u001b[0m\u001b[0m\n\u001b[0m",
            "\u001b[0;31mIndexError\u001b[0m: list index out of range"
          ]
        }
      ],
      "source": [
        "PIL.Image.open(list(df_validation[df_validation[\"y_predict_val_broad_design\"]==\"Striped\"][\"image_path\"])[4])\n"
      ]
    },
    {
      "cell_type": "code",
      "execution_count": null,
      "metadata": {
        "id": "8H-oIYUQgYAQ"
      },
      "outputs": [],
      "source": [
        ""
      ]
    }
  ],
  "metadata": {
    "colab": {
      "collapsed_sections": [],
      "name": "Multi_output_dnn.ipynb",
      "provenance": [],
      "include_colab_link": true
    },
    "kernelspec": {
      "display_name": "Python 3",
      "name": "python3"
    },
    "language_info": {
      "name": "python"
    }
  },
  "nbformat": 4,
  "nbformat_minor": 0
}