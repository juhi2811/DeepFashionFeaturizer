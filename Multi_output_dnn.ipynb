{
  "cells": [
    {
      "cell_type": "markdown",
      "metadata": {
        "id": "view-in-github",
        "colab_type": "text"
      },
      "source": [
        "<a href=\"https://colab.research.google.com/github/juhi2811/DeepFashion/blob/df_v1/Multi_output_dnn.ipynb\" target=\"_parent\"><img src=\"https://colab.research.google.com/assets/colab-badge.svg\" alt=\"Open In Colab\"/></a>"
      ]
    },
    {
      "cell_type": "markdown",
      "metadata": {
        "id": "sxvEA-mNaoGQ"
      },
      "source": [
        "Install libraries"
      ]
    },
    {
      "cell_type": "code",
      "execution_count": 1,
      "metadata": {
        "colab": {
          "base_uri": "https://localhost:8080/"
        },
        "id": "1i3rYDzNv7_o",
        "outputId": "66405bdd-0a18-457f-c0fe-a7405bd3c90a"
      },
      "outputs": [
        {
          "output_type": "stream",
          "name": "stdout",
          "text": [
            "Looking in indexes: https://pypi.org/simple, https://us-python.pkg.dev/colab-wheels/public/simple/\n",
            "Collecting tensorflow-estimator==2.1.*\n",
            "  Downloading tensorflow_estimator-2.1.0-py2.py3-none-any.whl (448 kB)\n",
            "\u001b[K     |████████████████████████████████| 448 kB 18.1 MB/s \n",
            "\u001b[?25hInstalling collected packages: tensorflow-estimator\n",
            "  Attempting uninstall: tensorflow-estimator\n",
            "    Found existing installation: tensorflow-estimator 2.8.0\n",
            "    Uninstalling tensorflow-estimator-2.8.0:\n",
            "      Successfully uninstalled tensorflow-estimator-2.8.0\n",
            "\u001b[31mERROR: pip's dependency resolver does not currently take into account all the packages that are installed. This behaviour is the source of the following dependency conflicts.\n",
            "tensorflow 2.8.2+zzzcolab20220719082949 requires tensorflow-estimator<2.9,>=2.8, but you have tensorflow-estimator 2.1.0 which is incompatible.\u001b[0m\n",
            "Successfully installed tensorflow-estimator-2.1.0\n"
          ]
        }
      ],
      "source": [
        "!pip install tensorflow-estimator==2.1.*"
      ]
    },
    {
      "cell_type": "code",
      "execution_count": 2,
      "metadata": {
        "colab": {
          "base_uri": "https://localhost:8080/"
        },
        "id": "Vla7BajAaVCL",
        "outputId": "89faf288-82e5-46a3-e45e-0f0a706d64c0"
      },
      "outputs": [
        {
          "output_type": "stream",
          "name": "stdout",
          "text": [
            "Looking in indexes: https://pypi.org/simple, https://us-python.pkg.dev/colab-wheels/public/simple/\n",
            "Collecting webcolors\n",
            "  Downloading webcolors-1.12-py3-none-any.whl (9.9 kB)\n",
            "Installing collected packages: webcolors\n",
            "Successfully installed webcolors-1.12\n"
          ]
        }
      ],
      "source": [
        "!pip install webcolors"
      ]
    },
    {
      "cell_type": "code",
      "execution_count": 3,
      "metadata": {
        "colab": {
          "base_uri": "https://localhost:8080/"
        },
        "id": "xicGkeDVC6sK",
        "outputId": "9dc6cee8-eb9f-4fd2-c6c3-65c348ad3b39"
      },
      "outputs": [
        {
          "output_type": "stream",
          "name": "stdout",
          "text": [
            "Looking in indexes: https://pypi.org/simple, https://us-python.pkg.dev/colab-wheels/public/simple/\n",
            "Collecting colorthief\n",
            "  Downloading colorthief-0.2.1-py2.py3-none-any.whl (6.1 kB)\n",
            "Requirement already satisfied: Pillow in /usr/local/lib/python3.7/dist-packages (from colorthief) (7.1.2)\n",
            "Installing collected packages: colorthief\n",
            "Successfully installed colorthief-0.2.1\n"
          ]
        }
      ],
      "source": [
        "!pip install colorthief"
      ]
    },
    {
      "cell_type": "markdown",
      "metadata": {
        "id": "EgA_0AL6ueC_"
      },
      "source": [
        "Import modules"
      ]
    },
    {
      "cell_type": "code",
      "execution_count": 4,
      "metadata": {
        "colab": {
          "base_uri": "https://localhost:8080/"
        },
        "id": "pQev6HXEZ3C8",
        "outputId": "40b8a71d-03f7-4f4c-c487-3bc49638e4ff"
      },
      "outputs": [
        {
          "output_type": "stream",
          "name": "stdout",
          "text": [
            "Colab only includes TensorFlow 2.x; %tensorflow_version has no effect.\n"
          ]
        }
      ],
      "source": [
        "try:\n",
        "  # %tensorflow_version only exists in Colab.\n",
        "  %tensorflow_version 2.x\n",
        "except Exception:\n",
        "  pass\n",
        "\n",
        "import tensorflow as tf\n",
        "\n",
        "import numpy as np\n",
        "import matplotlib.pyplot as plt\n",
        "import pandas as pd\n",
        "import ast \n",
        "from tensorflow.keras.models import Model\n",
        "from tensorflow.keras.layers import Dense, Input\n",
        "from sklearn.model_selection import train_test_split\n",
        "from tensorflow.keras.layers import Input, Flatten, Dense, Dropout, Lambda\n",
        "from tensorflow.keras.optimizers import RMSprop\n",
        "from tensorflow.keras.datasets import fashion_mnist\n",
        "from tensorflow.python.keras.utils.vis_utils import plot_model\n",
        "from tensorflow.keras import backend as K\n",
        "from tensorflow.keras.utils import to_categorical\n",
        "import numpy as np\n",
        "import tensorflow as tf\n",
        "from tensorflow import keras\n",
        "from tensorflow.keras import layers\n",
        "from skimage import io\n",
        "import numpy as np\n",
        "from sklearn.model_selection import train_test_split\n",
        "import pandas as pd\n",
        "import matplotlib.pyplot as plt\n",
        "import PIL\n",
        "from colorthief import ColorThief\n",
        "import scipy\n",
        "from scipy.spatial import KDTree\n",
        "from webcolors import CSS3_HEX_TO_NAMES,hex_to_rgb\n",
        "from PIL import Image, ImageFont, ImageDraw\n",
        "import random\n",
        "import pathlib\n",
        "import os\n",
        "import cv2"
      ]
    },
    {
      "cell_type": "markdown",
      "metadata": {
        "id": "fWiW05Ahaxl8"
      },
      "source": [
        "Mount Google drive"
      ]
    },
    {
      "cell_type": "code",
      "execution_count": 5,
      "metadata": {
        "colab": {
          "base_uri": "https://localhost:8080/"
        },
        "id": "MABoWfufaaEY",
        "outputId": "55ec1a1a-706d-41a1-c951-3f1f3fcb89dd"
      },
      "outputs": [
        {
          "output_type": "stream",
          "name": "stdout",
          "text": [
            "Mounted at /content/gdrive\n"
          ]
        }
      ],
      "source": [
        "from google.colab import drive\n",
        "drive.mount('/content/gdrive')"
      ]
    },
    {
      "cell_type": "code",
      "execution_count": 6,
      "metadata": {
        "id": "7-Hx9esUYCRH"
      },
      "outputs": [],
      "source": [
        "os.chdir(\"gdrive\")#/Colab Notebooks/DeepFashionCode\")"
      ]
    },
    {
      "cell_type": "code",
      "execution_count": 7,
      "metadata": {
        "colab": {
          "base_uri": "https://localhost:8080/"
        },
        "id": "PiY-skmg_Qgl",
        "outputId": "a20ac0ec-890f-44d0-d5b9-95eca7c5246f"
      },
      "outputs": [
        {
          "output_type": "execute_result",
          "data": {
            "text/plain": [
              "['.file-revisions-by-id', 'MyDrive', '.shortcut-targets-by-id', '.Trash-0']"
            ]
          },
          "metadata": {},
          "execution_count": 7
        }
      ],
      "source": [
        "os.listdir()"
      ]
    },
    {
      "cell_type": "code",
      "execution_count": 8,
      "metadata": {
        "id": "IjE8BaXO1bxf"
      },
      "outputs": [],
      "source": [
        "df_images=pd.DataFrame(columns=[\"image_folder\",\"image_name\"])\n"
      ]
    },
    {
      "cell_type": "markdown",
      "metadata": {
        "id": "b3ATECDZa5pF"
      },
      "source": [
        "Read images into a dataframe"
      ]
    },
    {
      "cell_type": "code",
      "execution_count": 9,
      "metadata": {
        "id": "lfA1Jtl545la"
      },
      "outputs": [],
      "source": [
        "folders_images=[\"MyDrive/img/\"+f for f in os.listdir(\"MyDrive/img\") if \".\" not in f]"
      ]
    },
    {
      "cell_type": "code",
      "execution_count": 10,
      "metadata": {
        "id": "JAbDOuNLMV_T"
      },
      "outputs": [],
      "source": [
        "for l in folders_images:\n",
        "  if len(l)>0:\n",
        "    df_append=pd.DataFrame(columns=[\"image_folder\",\"image_path\"])\n",
        "    df_append[\"image_folder\"]=[l for idx in range(len(os.listdir(l)))]\n",
        "    df_append[\"image_name\"]=os.listdir(l)\n",
        "    df_images=df_images.append(df_append,ignore_index=True)"
      ]
    },
    {
      "cell_type": "code",
      "execution_count": 11,
      "metadata": {
        "id": "8yNiQjNrMYMy"
      },
      "outputs": [],
      "source": [
        "df_images[\"image_path\"]=df_images[\"image_folder\"]+\"/\"+df_images[\"image_name\"]"
      ]
    },
    {
      "cell_type": "code",
      "execution_count": 12,
      "metadata": {
        "id": "KfAYOni6x2yo"
      },
      "outputs": [],
      "source": [
        "df_images[\"item_class\"]=df_images[\"image_path\"].apply(lambda x: x.split(\"/\")[-2].split(\"_\")[-1])\n",
        "df_images[\"design_class\"]=df_images[\"image_path\"].apply(lambda x: x.split(\"/\")[-2].split(\"_\")[-2])\n",
        "df_images[\"design_pre\"]=df_images[\"image_path\"].apply(lambda x: [x.split(\"/\")[-2].split(\"_\")[-3] if len(x.split(\"/\")[-2].split(\"_\"))>3 else \"\"][0])\n",
        "df_images[\"design_type\"]=df_images[\"design_pre\"]+\" \"+df_images[\"design_class\"]"
      ]
    },
    {
      "cell_type": "code",
      "execution_count": 13,
      "metadata": {
        "id": "LG44DAHIMpon",
        "colab": {
          "base_uri": "https://localhost:8080/",
          "height": 335
        },
        "outputId": "e420bebc-aab8-4427-f5a3-0ffc502ee419"
      },
      "outputs": [
        {
          "output_type": "stream",
          "name": "stdout",
          "text": [
            "img_00000008.jpg\n"
          ]
        },
        {
          "output_type": "execute_result",
          "data": {
            "text/plain": [
              "<PIL.JpegImagePlugin.JpegImageFile image mode=RGB size=226x300 at 0x7F18B1FDDB10>"
            ],
            "image/png": "[encoded data removed]"
          },
          "metadata": {},
          "execution_count": 13
        }
      ],
      "source": [
        "print(list(df_images[df_images[\"item_class\"]==\"Blouse\"][\"image_path\"])[1].split(\"/\")[3])\n",
        "PIL.Image.open(list(df_images[df_images[\"design_type\"].str.contains(\"Rose\")][\"image_path\"])[34])"
      ]
    },
    {
      "cell_type": "code",
      "execution_count": 14,
      "metadata": {
        "id": "y-qoVVPB1dLr",
        "colab": {
          "base_uri": "https://localhost:8080/"
        },
        "outputId": "569035eb-37fb-4563-b0f2-6b616feea157"
      },
      "outputs": [
        {
          "output_type": "stream",
          "name": "stdout",
          "text": [
            "cp: missing destination file operand after '/content/drive/MyDrive/ColabNotebooks/DeepFashionCode/preprocess_images.py'\n",
            "Try 'cp --help' for more information.\n"
          ]
        }
      ],
      "source": [
        "from google.colab import files\n",
        "#import preprocess_images\n",
        "!cp /content/drive/MyDrive/ColabNotebooks/DeepFashionCode/preprocess_images.py"
      ]
    },
    {
      "cell_type": "markdown",
      "metadata": {
        "id": "BJoq7iSebUBz"
      },
      "source": [
        "Preprocessing images"
      ]
    },
    {
      "cell_type": "code",
      "execution_count": 18,
      "metadata": {
        "id": "NBmf8bdmfglg"
      },
      "outputs": [],
      "source": [
        "\n",
        "def convert_rgb_to_names(rgb_tuple):\n",
        "  \"\"\"Convert rgb tuples to color name\"\"\"\n",
        "    # a dictionary of all the hex and their respective names in css3\n",
        "  css3_db = CSS3_HEX_TO_NAMES\n",
        "  names = []\n",
        "  rgb_values = []\n",
        "  for color_hex, color_name in css3_db.items():\n",
        "      names.append(color_name)\n",
        "      rgb_values.append(hex_to_rgb(color_hex))\n",
        "  \n",
        "  kdt_db = KDTree(rgb_values)\n",
        "  distance, index = kdt_db.query(rgb_tuple)\n",
        "  return f'closest match: {names[index]}'\n",
        "\n",
        "def preprocess_resize(df):\n",
        "  \"\"\"Preprocess and resize images to create RGB array of pixels\"\"\"\n",
        "  df[\"content\"] = df[\"image_path\"].apply(lambda x: cv2.imread(x))\n",
        "  df[\"image_resized\"] = df[\"content\"].apply(lambda x: np.array(cv2.resize(x, (32,32))))\n",
        "    # Resize the image to the desired size\n",
        "  #df[\"image_resized\"] = df[\"image_raw\"].apply(lambda x: tf.image.resize(x, [img_height, img_width]))\n",
        "  return df"
      ]
    },
    {
      "cell_type": "code",
      "execution_count": 19,
      "metadata": {
        "id": "FPCIUzd8EpZi",
        "colab": {
          "base_uri": "https://localhost:8080/",
          "height": 35
        },
        "outputId": "aa21fd37-88ed-4fe5-f808-7f2a84b4c08d"
      },
      "outputs": [
        {
          "output_type": "execute_result",
          "data": {
            "text/plain": [
              "'closest match: darkslategray'"
            ],
            "application/vnd.google.colaboratory.intrinsic+json": {
              "type": "string"
            }
          },
          "metadata": {},
          "execution_count": 19
        }
      ],
      "source": [
        "color_thief = ColorThief(list(df_images[df_images[\"item_class\"]==\"Hoodie\"][\"image_path\"])[2])\n",
        "# get the dominant color\n",
        "dominant_color = color_thief.get_color(quality=1)\n",
        "closest_dominant_name=convert_rgb_to_names(dominant_color)\n",
        "closest_dominant_name"
      ]
    },
    {
      "cell_type": "markdown",
      "metadata": {
        "id": "sq6a2HJwcER9"
      },
      "source": [
        "Create category mapping for different attributes"
      ]
    },
    {
      "cell_type": "code",
      "execution_count": 20,
      "metadata": {
        "id": "JJKeBDyyhM0E"
      },
      "outputs": [],
      "source": [
        "tops=['Cardigan', 'Tee', 'Top', 'Sweater', 'Halter',\n",
        "       'Tank', 'Hoodie', 'Blazer', 'Jacket',\n",
        "       'Blouse', 'Coat', \n",
        "        'Button-Down','Turtleneck', 'Kaftan', 'Flannel',\n",
        "       'Parka', 'Henley', 'Poncho', 'Jersey',\n",
        "       'Anorak', 'Jodhpurs', 'Caftan']\n",
        "bottoms=['Skirt', 'Leggings', 'Sweatpants', \n",
        "       'Shorts', 'Jeans', 'Joggers',   'Chinos',\n",
        "       'Cutoffs', 'Culottes', \n",
        "       'Jeggings', 'Sweatshorts', 'Capris', 'Trunks',\n",
        "       'Gauchos']\n",
        "one_pieces=['Dress',\n",
        "       'Kimono', 'Jumpsuit', 'Coverup', 'Robe', 'Onesie','Romper']\n",
        "formals=['Blazer','Blouse','Jumpsuit','Turtleneck','Skirt','Dress','Coat','Chinos']\n",
        "casuals=[ 'Tee', 'Top', 'Sweater', 'Halter',   'Jacket',\n",
        "        'Button-Down','Kaftan', 'Flannel',\n",
        "       'Parka', 'Henley', 'Poncho','Anorak', 'Jodhpurs', 'Caftan','Leggings','Sweatpants', \n",
        "       'Shorts', 'Jeans', \n",
        "       'Cutoffs', 'Culottes', \n",
        "       'Jeggings', 'Sweatshorts', 'Capris', 'Trunks',\n",
        "       'Gauchos','Kimono','Onesie','Coverup','Romper']\n",
        "# spring=[\"Dress\",\"Jumpsuit\",\"Skirt\"]\n",
        "sporty=['Hoodie','Tank','Jersey','Joggers',  'Hoodie']\n",
        "df_images[\"dress_type\"]=df_images[\"item_class\"].apply(lambda x: [\"top\" if x in tops else \"bottom\" if x in bottoms else \"one_piece\"][0])\n",
        "df_images[\"dress_ocassion\"]=df_images[\"item_class\"].apply(lambda x: [\"sporty\" if x in sporty else \"formal\" if x in formals else \"casual\"][0])\n",
        "df_images[\"broad_design\"]=df_images[\"design_type\"].apply(lambda x: [\"Print\" if (\"print\" in x.lower() or \"floral\" in x.lower() or \"dot\" in x.lower() or \"tulip\" in x.lower() or \"stripe\" in x.lower() or \"boxy\" in x.lower() or \"tulip\" in x.lower() or \"rose\" in x.lower()) else \"Knit\" if (\"knit\" in x.lower()  or \"embroidere\" in x.lower() or \"woven\" in x.lower() or \"crochet\" in x.lower() or \"texture\" in x.lower()) else \"Classic\"][0])"
      ]
    },
    {
      "cell_type": "markdown",
      "metadata": {
        "id": "ZgNwE5A7jL0J"
      },
      "source": []
    },
    {
      "cell_type": "code",
      "execution_count": 21,
      "metadata": {
        "id": "p0dfhAegapty"
      },
      "outputs": [],
      "source": [
        "df_images[\"print_type\"]=df_images[\"design_type\"].apply(lambda x: [\"Dotted\" if (\"dot\" in x.lower() or \"spot\" in x.lower()) else \"Floral\" if  (\"floral\" in x.lower() or \"rose\" in x.lower()) else \"Striped\" if (\"stripe\" in x.lower() and \"lined\" in x.lower()) else \"Boxed\"  if \"boxy\" in x.lower() else \"Graphic\" if \"graphic\" in x.lower() else \"NA\"][0])\n",
        "df_images[\"print_type\"]=df_images.apply(lambda dfx: [\"Other prints\" if (dfx[\"broad_design\"]==\"Print\" and dfx[\"print_type\"]==\"NA\") else dfx[\"print_type\"]][0],axis=1)"
      ]
    },
    {
      "cell_type": "code",
      "execution_count": 22,
      "metadata": {
        "colab": {
          "base_uri": "https://localhost:8080/"
        },
        "id": "HLBkON2NVVNE",
        "outputId": "902277a4-a453-4aa0-d615-4641386fa11d"
      },
      "outputs": [
        {
          "output_type": "execute_result",
          "data": {
            "text/plain": [
              "array(['NA', 'Other prints', 'Floral', 'Dotted', 'Graphic', 'Boxed'],\n",
              "      dtype=object)"
            ]
          },
          "metadata": {},
          "execution_count": 22
        }
      ],
      "source": [
        "df_images[\"print_type\"].unique()"
      ]
    },
    {
      "cell_type": "code",
      "execution_count": 23,
      "metadata": {
        "colab": {
          "base_uri": "https://localhost:8080/",
          "height": 175
        },
        "id": "JLxe_l7hs4BI",
        "outputId": "06f3bcb1-5f1c-4631-c778-6fc2f51912d7"
      },
      "outputs": [
        {
          "output_type": "execute_result",
          "data": {
            "text/plain": [
              "            image_folder  image_name  image_path  item_class  design_class  \\\n",
              "dress_type                                                                   \n",
              "bottom             32655       32655       32655       32655         32655   \n",
              "one_piece          51329       51329       51329       51329         51329   \n",
              "top                81883       81883       81883       81883         81883   \n",
              "\n",
              "            design_pre  design_type  dress_ocassion  broad_design  print_type  \n",
              "dress_type                                                                     \n",
              "bottom           32655        32655           32655         32655       32655  \n",
              "one_piece        51329        51329           51329         51329       51329  \n",
              "top              81883        81883           81883         81883       81883  "
            ],
            "text/html": [
              "\n",
              "  <div id=\"df-dd8f5c84-deb1-473a-825e-b02ea90b4248\">\n",
              "    <div class=\"colab-df-container\">\n",
              "      <div>\n",
              "<style scoped>\n",
              "    .dataframe tbody tr th:only-of-type {\n",
              "        vertical-align: middle;\n",
              "    }\n",
              "\n",
              "    .dataframe tbody tr th {\n",
              "        vertical-align: top;\n",
              "    }\n",
              "\n",
              "    .dataframe thead th {\n",
              "        text-align: right;\n",
              "    }\n",
              "</style>\n",
              "<table border=\"1\" class=\"dataframe\">\n",
              "  <thead>\n",
              "    <tr style=\"text-align: right;\">\n",
              "      <th></th>\n",
              "      <th>image_folder</th>\n",
              "      <th>image_name</th>\n",
              "      <th>image_path</th>\n",
              "      <th>item_class</th>\n",
              "      <th>design_class</th>\n",
              "      <th>design_pre</th>\n",
              "      <th>design_type</th>\n",
              "      <th>dress_ocassion</th>\n",
              "      <th>broad_design</th>\n",
              "      <th>print_type</th>\n",
              "    </tr>\n",
              "    <tr>\n",
              "      <th>dress_type</th>\n",
              "      <th></th>\n",
              "      <th></th>\n",
              "      <th></th>\n",
              "      <th></th>\n",
              "      <th></th>\n",
              "      <th></th>\n",
              "      <th></th>\n",
              "      <th></th>\n",
              "      <th></th>\n",
              "      <th></th>\n",
              "    </tr>\n",
              "  </thead>\n",
              "  <tbody>\n",
              "    <tr>\n",
              "      <th>bottom</th>\n",
              "      <td>32655</td>\n",
              "      <td>32655</td>\n",
              "      <td>32655</td>\n",
              "      <td>32655</td>\n",
              "      <td>32655</td>\n",
              "      <td>32655</td>\n",
              "      <td>32655</td>\n",
              "      <td>32655</td>\n",
              "      <td>32655</td>\n",
              "      <td>32655</td>\n",
              "    </tr>\n",
              "    <tr>\n",
              "      <th>one_piece</th>\n",
              "      <td>51329</td>\n",
              "      <td>51329</td>\n",
              "      <td>51329</td>\n",
              "      <td>51329</td>\n",
              "      <td>51329</td>\n",
              "      <td>51329</td>\n",
              "      <td>51329</td>\n",
              "      <td>51329</td>\n",
              "      <td>51329</td>\n",
              "      <td>51329</td>\n",
              "    </tr>\n",
              "    <tr>\n",
              "      <th>top</th>\n",
              "      <td>81883</td>\n",
              "      <td>81883</td>\n",
              "      <td>81883</td>\n",
              "      <td>81883</td>\n",
              "      <td>81883</td>\n",
              "      <td>81883</td>\n",
              "      <td>81883</td>\n",
              "      <td>81883</td>\n",
              "      <td>81883</td>\n",
              "      <td>81883</td>\n",
              "    </tr>\n",
              "  </tbody>\n",
              "</table>\n",
              "</div>\n",
              "      <button class=\"colab-df-convert\" onclick=\"convertToInteractive('df-dd8f5c84-deb1-473a-825e-b02ea90b4248')\"\n",
              "              title=\"Convert this dataframe to an interactive table.\"\n",
              "              style=\"display:none;\">\n",
              "        \n",
              "  <svg xmlns=\"http://www.w3.org/2000/svg\" height=\"24px\"viewBox=\"0 0 24 24\"\n",
              "       width=\"24px\">\n",
              "    <path d=\"M0 0h24v24H0V0z\" fill=\"none\"/>\n",
              "    <path d=\"M18.56 5.44l.94 2.06.94-2.06 2.06-.94-2.06-.94-.94-2.06-.94 2.06-2.06.94zm-11 1L8.5 8.5l.94-2.06 2.06-.94-2.06-.94L8.5 2.5l-.94 2.06-2.06.94zm10 10l.94 2.06.94-2.06 2.06-.94-2.06-.94-.94-2.06-.94 2.06-2.06.94z\"/><path d=\"M17.41 7.96l-1.37-1.37c-.4-.4-.92-.59-1.43-.59-.52 0-1.04.2-1.43.59L10.3 9.45l-7.72 7.72c-.78.78-.78 2.05 0 2.83L4 21.41c.39.39.9.59 1.41.59.51 0 1.02-.2 1.41-.59l7.78-7.78 2.81-2.81c.8-.78.8-2.07 0-2.86zM5.41 20L4 18.59l7.72-7.72 1.47 1.35L5.41 20z\"/>\n",
              "  </svg>\n",
              "      </button>\n",
              "      \n",
              "  <style>\n",
              "    .colab-df-container {\n",
              "      display:flex;\n",
              "      flex-wrap:wrap;\n",
              "      gap: 12px;\n",
              "    }\n",
              "\n",
              "    .colab-df-convert {\n",
              "      background-color: #E8F0FE;\n",
              "      border: none;\n",
              "      border-radius: 50%;\n",
              "      cursor: pointer;\n",
              "      display: none;\n",
              "      fill: #1967D2;\n",
              "      height: 32px;\n",
              "      padding: 0 0 0 0;\n",
              "      width: 32px;\n",
              "    }\n",
              "\n",
              "    .colab-df-convert:hover {\n",
              "      background-color: #E2EBFA;\n",
              "      box-shadow: 0px 1px 2px rgba(60, 64, 67, 0.3), 0px 1px 3px 1px rgba(60, 64, 67, 0.15);\n",
              "      fill: #174EA6;\n",
              "    }\n",
              "\n",
              "    [theme=dark] .colab-df-convert {\n",
              "      background-color: #3B4455;\n",
              "      fill: #D2E3FC;\n",
              "    }\n",
              "\n",
              "    [theme=dark] .colab-df-convert:hover {\n",
              "      background-color: #434B5C;\n",
              "      box-shadow: 0px 1px 3px 1px rgba(0, 0, 0, 0.15);\n",
              "      filter: drop-shadow(0px 1px 2px rgba(0, 0, 0, 0.3));\n",
              "      fill: #FFFFFF;\n",
              "    }\n",
              "  </style>\n",
              "\n",
              "      <script>\n",
              "        const buttonEl =\n",
              "          document.querySelector('#df-dd8f5c84-deb1-473a-825e-b02ea90b4248 button.colab-df-convert');\n",
              "        buttonEl.style.display =\n",
              "          google.colab.kernel.accessAllowed ? 'block' : 'none';\n",
              "\n",
              "        async function convertToInteractive(key) {\n",
              "          const element = document.querySelector('#df-dd8f5c84-deb1-473a-825e-b02ea90b4248');\n",
              "          const dataTable =\n",
              "            await google.colab.kernel.invokeFunction('convertToInteractive',\n",
              "                                                     [key], {});\n",
              "          if (!dataTable) return;\n",
              "\n",
              "          const docLinkHtml = 'Like what you see? Visit the ' +\n",
              "            '<a target=\"_blank\" href=https://colab.research.google.com/notebooks/data_table.ipynb>data table notebook</a>'\n",
              "            + ' to learn more about interactive tables.';\n",
              "          element.innerHTML = '';\n",
              "          dataTable['output_type'] = 'display_data';\n",
              "          await google.colab.output.renderOutput(dataTable, element);\n",
              "          const docLink = document.createElement('div');\n",
              "          docLink.innerHTML = docLinkHtml;\n",
              "          element.appendChild(docLink);\n",
              "        }\n",
              "      </script>\n",
              "    </div>\n",
              "  </div>\n",
              "  "
            ]
          },
          "metadata": {},
          "execution_count": 23
        }
      ],
      "source": [
        "df_images.groupby(\"dress_type\").count()"
      ]
    },
    {
      "cell_type": "code",
      "execution_count": 24,
      "metadata": {
        "colab": {
          "base_uri": "https://localhost:8080/",
          "height": 175
        },
        "id": "8M571X0YuGdX",
        "outputId": "d906e2c2-86ce-40cb-d4e9-14ec07a724a7"
      },
      "outputs": [
        {
          "output_type": "execute_result",
          "data": {
            "text/plain": [
              "                image_folder  image_name  image_path  item_class  \\\n",
              "dress_ocassion                                                     \n",
              "casual                 75867       75867       75867       75867   \n",
              "formal                 75457       75457       75457       75457   \n",
              "sporty                 14543       14543       14543       14543   \n",
              "\n",
              "                design_class  design_pre  design_type  dress_type  \\\n",
              "dress_ocassion                                                      \n",
              "casual                 75867       75867        75867       75867   \n",
              "formal                 75457       75457        75457       75457   \n",
              "sporty                 14543       14543        14543       14543   \n",
              "\n",
              "                broad_design  print_type  \n",
              "dress_ocassion                            \n",
              "casual                 75867       75867  \n",
              "formal                 75457       75457  \n",
              "sporty                 14543       14543  "
            ],
            "text/html": [
              "\n",
              "  <div id=\"df-7ea68066-c9eb-4104-8c27-36c75bd602bf\">\n",
              "    <div class=\"colab-df-container\">\n",
              "      <div>\n",
              "<style scoped>\n",
              "    .dataframe tbody tr th:only-of-type {\n",
              "        vertical-align: middle;\n",
              "    }\n",
              "\n",
              "    .dataframe tbody tr th {\n",
              "        vertical-align: top;\n",
              "    }\n",
              "\n",
              "    .dataframe thead th {\n",
              "        text-align: right;\n",
              "    }\n",
              "</style>\n",
              "<table border=\"1\" class=\"dataframe\">\n",
              "  <thead>\n",
              "    <tr style=\"text-align: right;\">\n",
              "      <th></th>\n",
              "      <th>image_folder</th>\n",
              "      <th>image_name</th>\n",
              "      <th>image_path</th>\n",
              "      <th>item_class</th>\n",
              "      <th>design_class</th>\n",
              "      <th>design_pre</th>\n",
              "      <th>design_type</th>\n",
              "      <th>dress_type</th>\n",
              "      <th>broad_design</th>\n",
              "      <th>print_type</th>\n",
              "    </tr>\n",
              "    <tr>\n",
              "      <th>dress_ocassion</th>\n",
              "      <th></th>\n",
              "      <th></th>\n",
              "      <th></th>\n",
              "      <th></th>\n",
              "      <th></th>\n",
              "      <th></th>\n",
              "      <th></th>\n",
              "      <th></th>\n",
              "      <th></th>\n",
              "      <th></th>\n",
              "    </tr>\n",
              "  </thead>\n",
              "  <tbody>\n",
              "    <tr>\n",
              "      <th>casual</th>\n",
              "      <td>75867</td>\n",
              "      <td>75867</td>\n",
              "      <td>75867</td>\n",
              "      <td>75867</td>\n",
              "      <td>75867</td>\n",
              "      <td>75867</td>\n",
              "      <td>75867</td>\n",
              "      <td>75867</td>\n",
              "      <td>75867</td>\n",
              "      <td>75867</td>\n",
              "    </tr>\n",
              "    <tr>\n",
              "      <th>formal</th>\n",
              "      <td>75457</td>\n",
              "      <td>75457</td>\n",
              "      <td>75457</td>\n",
              "      <td>75457</td>\n",
              "      <td>75457</td>\n",
              "      <td>75457</td>\n",
              "      <td>75457</td>\n",
              "      <td>75457</td>\n",
              "      <td>75457</td>\n",
              "      <td>75457</td>\n",
              "    </tr>\n",
              "    <tr>\n",
              "      <th>sporty</th>\n",
              "      <td>14543</td>\n",
              "      <td>14543</td>\n",
              "      <td>14543</td>\n",
              "      <td>14543</td>\n",
              "      <td>14543</td>\n",
              "      <td>14543</td>\n",
              "      <td>14543</td>\n",
              "      <td>14543</td>\n",
              "      <td>14543</td>\n",
              "      <td>14543</td>\n",
              "    </tr>\n",
              "  </tbody>\n",
              "</table>\n",
              "</div>\n",
              "      <button class=\"colab-df-convert\" onclick=\"convertToInteractive('df-7ea68066-c9eb-4104-8c27-36c75bd602bf')\"\n",
              "              title=\"Convert this dataframe to an interactive table.\"\n",
              "              style=\"display:none;\">\n",
              "        \n",
              "  <svg xmlns=\"http://www.w3.org/2000/svg\" height=\"24px\"viewBox=\"0 0 24 24\"\n",
              "       width=\"24px\">\n",
              "    <path d=\"M0 0h24v24H0V0z\" fill=\"none\"/>\n",
              "    <path d=\"M18.56 5.44l.94 2.06.94-2.06 2.06-.94-2.06-.94-.94-2.06-.94 2.06-2.06.94zm-11 1L8.5 8.5l.94-2.06 2.06-.94-2.06-.94L8.5 2.5l-.94 2.06-2.06.94zm10 10l.94 2.06.94-2.06 2.06-.94-2.06-.94-.94-2.06-.94 2.06-2.06.94z\"/><path d=\"M17.41 7.96l-1.37-1.37c-.4-.4-.92-.59-1.43-.59-.52 0-1.04.2-1.43.59L10.3 9.45l-7.72 7.72c-.78.78-.78 2.05 0 2.83L4 21.41c.39.39.9.59 1.41.59.51 0 1.02-.2 1.41-.59l7.78-7.78 2.81-2.81c.8-.78.8-2.07 0-2.86zM5.41 20L4 18.59l7.72-7.72 1.47 1.35L5.41 20z\"/>\n",
              "  </svg>\n",
              "      </button>\n",
              "      \n",
              "  <style>\n",
              "    .colab-df-container {\n",
              "      display:flex;\n",
              "      flex-wrap:wrap;\n",
              "      gap: 12px;\n",
              "    }\n",
              "\n",
              "    .colab-df-convert {\n",
              "      background-color: #E8F0FE;\n",
              "      border: none;\n",
              "      border-radius: 50%;\n",
              "      cursor: pointer;\n",
              "      display: none;\n",
              "      fill: #1967D2;\n",
              "      height: 32px;\n",
              "      padding: 0 0 0 0;\n",
              "      width: 32px;\n",
              "    }\n",
              "\n",
              "    .colab-df-convert:hover {\n",
              "      background-color: #E2EBFA;\n",
              "      box-shadow: 0px 1px 2px rgba(60, 64, 67, 0.3), 0px 1px 3px 1px rgba(60, 64, 67, 0.15);\n",
              "      fill: #174EA6;\n",
              "    }\n",
              "\n",
              "    [theme=dark] .colab-df-convert {\n",
              "      background-color: #3B4455;\n",
              "      fill: #D2E3FC;\n",
              "    }\n",
              "\n",
              "    [theme=dark] .colab-df-convert:hover {\n",
              "      background-color: #434B5C;\n",
              "      box-shadow: 0px 1px 3px 1px rgba(0, 0, 0, 0.15);\n",
              "      filter: drop-shadow(0px 1px 2px rgba(0, 0, 0, 0.3));\n",
              "      fill: #FFFFFF;\n",
              "    }\n",
              "  </style>\n",
              "\n",
              "      <script>\n",
              "        const buttonEl =\n",
              "          document.querySelector('#df-7ea68066-c9eb-4104-8c27-36c75bd602bf button.colab-df-convert');\n",
              "        buttonEl.style.display =\n",
              "          google.colab.kernel.accessAllowed ? 'block' : 'none';\n",
              "\n",
              "        async function convertToInteractive(key) {\n",
              "          const element = document.querySelector('#df-7ea68066-c9eb-4104-8c27-36c75bd602bf');\n",
              "          const dataTable =\n",
              "            await google.colab.kernel.invokeFunction('convertToInteractive',\n",
              "                                                     [key], {});\n",
              "          if (!dataTable) return;\n",
              "\n",
              "          const docLinkHtml = 'Like what you see? Visit the ' +\n",
              "            '<a target=\"_blank\" href=https://colab.research.google.com/notebooks/data_table.ipynb>data table notebook</a>'\n",
              "            + ' to learn more about interactive tables.';\n",
              "          element.innerHTML = '';\n",
              "          dataTable['output_type'] = 'display_data';\n",
              "          await google.colab.output.renderOutput(dataTable, element);\n",
              "          const docLink = document.createElement('div');\n",
              "          docLink.innerHTML = docLinkHtml;\n",
              "          element.appendChild(docLink);\n",
              "        }\n",
              "      </script>\n",
              "    </div>\n",
              "  </div>\n",
              "  "
            ]
          },
          "metadata": {},
          "execution_count": 24
        }
      ],
      "source": [
        "df_images.groupby(\"dress_ocassion\").count()"
      ]
    },
    {
      "cell_type": "code",
      "execution_count": 25,
      "metadata": {
        "colab": {
          "base_uri": "https://localhost:8080/",
          "height": 175
        },
        "id": "fxhOIHpueuTF",
        "outputId": "92550340-fca6-4a2a-f864-45c0e31f55d9"
      },
      "outputs": [
        {
          "output_type": "execute_result",
          "data": {
            "text/plain": [
              "              image_folder  image_name  image_path  item_class  design_class  \\\n",
              "broad_design                                                                   \n",
              "Classic             115157      115157      115157      115157        115157   \n",
              "Knit                 15707       15707       15707       15707         15707   \n",
              "Print                35003       35003       35003       35003         35003   \n",
              "\n",
              "              design_pre  design_type  dress_type  dress_ocassion  print_type  \n",
              "broad_design                                                                   \n",
              "Classic           115157       115157      115157          115157      115157  \n",
              "Knit               15707        15707       15707           15707       15707  \n",
              "Print              35003        35003       35003           35003       35003  "
            ],
            "text/html": [
              "\n",
              "  <div id=\"df-f32ed7d8-4623-4c2d-851a-040df34b32c6\">\n",
              "    <div class=\"colab-df-container\">\n",
              "      <div>\n",
              "<style scoped>\n",
              "    .dataframe tbody tr th:only-of-type {\n",
              "        vertical-align: middle;\n",
              "    }\n",
              "\n",
              "    .dataframe tbody tr th {\n",
              "        vertical-align: top;\n",
              "    }\n",
              "\n",
              "    .dataframe thead th {\n",
              "        text-align: right;\n",
              "    }\n",
              "</style>\n",
              "<table border=\"1\" class=\"dataframe\">\n",
              "  <thead>\n",
              "    <tr style=\"text-align: right;\">\n",
              "      <th></th>\n",
              "      <th>image_folder</th>\n",
              "      <th>image_name</th>\n",
              "      <th>image_path</th>\n",
              "      <th>item_class</th>\n",
              "      <th>design_class</th>\n",
              "      <th>design_pre</th>\n",
              "      <th>design_type</th>\n",
              "      <th>dress_type</th>\n",
              "      <th>dress_ocassion</th>\n",
              "      <th>print_type</th>\n",
              "    </tr>\n",
              "    <tr>\n",
              "      <th>broad_design</th>\n",
              "      <th></th>\n",
              "      <th></th>\n",
              "      <th></th>\n",
              "      <th></th>\n",
              "      <th></th>\n",
              "      <th></th>\n",
              "      <th></th>\n",
              "      <th></th>\n",
              "      <th></th>\n",
              "      <th></th>\n",
              "    </tr>\n",
              "  </thead>\n",
              "  <tbody>\n",
              "    <tr>\n",
              "      <th>Classic</th>\n",
              "      <td>115157</td>\n",
              "      <td>115157</td>\n",
              "      <td>115157</td>\n",
              "      <td>115157</td>\n",
              "      <td>115157</td>\n",
              "      <td>115157</td>\n",
              "      <td>115157</td>\n",
              "      <td>115157</td>\n",
              "      <td>115157</td>\n",
              "      <td>115157</td>\n",
              "    </tr>\n",
              "    <tr>\n",
              "      <th>Knit</th>\n",
              "      <td>15707</td>\n",
              "      <td>15707</td>\n",
              "      <td>15707</td>\n",
              "      <td>15707</td>\n",
              "      <td>15707</td>\n",
              "      <td>15707</td>\n",
              "      <td>15707</td>\n",
              "      <td>15707</td>\n",
              "      <td>15707</td>\n",
              "      <td>15707</td>\n",
              "    </tr>\n",
              "    <tr>\n",
              "      <th>Print</th>\n",
              "      <td>35003</td>\n",
              "      <td>35003</td>\n",
              "      <td>35003</td>\n",
              "      <td>35003</td>\n",
              "      <td>35003</td>\n",
              "      <td>35003</td>\n",
              "      <td>35003</td>\n",
              "      <td>35003</td>\n",
              "      <td>35003</td>\n",
              "      <td>35003</td>\n",
              "    </tr>\n",
              "  </tbody>\n",
              "</table>\n",
              "</div>\n",
              "      <button class=\"colab-df-convert\" onclick=\"convertToInteractive('df-f32ed7d8-4623-4c2d-851a-040df34b32c6')\"\n",
              "              title=\"Convert this dataframe to an interactive table.\"\n",
              "              style=\"display:none;\">\n",
              "        \n",
              "  <svg xmlns=\"http://www.w3.org/2000/svg\" height=\"24px\"viewBox=\"0 0 24 24\"\n",
              "       width=\"24px\">\n",
              "    <path d=\"M0 0h24v24H0V0z\" fill=\"none\"/>\n",
              "    <path d=\"M18.56 5.44l.94 2.06.94-2.06 2.06-.94-2.06-.94-.94-2.06-.94 2.06-2.06.94zm-11 1L8.5 8.5l.94-2.06 2.06-.94-2.06-.94L8.5 2.5l-.94 2.06-2.06.94zm10 10l.94 2.06.94-2.06 2.06-.94-2.06-.94-.94-2.06-.94 2.06-2.06.94z\"/><path d=\"M17.41 7.96l-1.37-1.37c-.4-.4-.92-.59-1.43-.59-.52 0-1.04.2-1.43.59L10.3 9.45l-7.72 7.72c-.78.78-.78 2.05 0 2.83L4 21.41c.39.39.9.59 1.41.59.51 0 1.02-.2 1.41-.59l7.78-7.78 2.81-2.81c.8-.78.8-2.07 0-2.86zM5.41 20L4 18.59l7.72-7.72 1.47 1.35L5.41 20z\"/>\n",
              "  </svg>\n",
              "      </button>\n",
              "      \n",
              "  <style>\n",
              "    .colab-df-container {\n",
              "      display:flex;\n",
              "      flex-wrap:wrap;\n",
              "      gap: 12px;\n",
              "    }\n",
              "\n",
              "    .colab-df-convert {\n",
              "      background-color: #E8F0FE;\n",
              "      border: none;\n",
              "      border-radius: 50%;\n",
              "      cursor: pointer;\n",
              "      display: none;\n",
              "      fill: #1967D2;\n",
              "      height: 32px;\n",
              "      padding: 0 0 0 0;\n",
              "      width: 32px;\n",
              "    }\n",
              "\n",
              "    .colab-df-convert:hover {\n",
              "      background-color: #E2EBFA;\n",
              "      box-shadow: 0px 1px 2px rgba(60, 64, 67, 0.3), 0px 1px 3px 1px rgba(60, 64, 67, 0.15);\n",
              "      fill: #174EA6;\n",
              "    }\n",
              "\n",
              "    [theme=dark] .colab-df-convert {\n",
              "      background-color: #3B4455;\n",
              "      fill: #D2E3FC;\n",
              "    }\n",
              "\n",
              "    [theme=dark] .colab-df-convert:hover {\n",
              "      background-color: #434B5C;\n",
              "      box-shadow: 0px 1px 3px 1px rgba(0, 0, 0, 0.15);\n",
              "      filter: drop-shadow(0px 1px 2px rgba(0, 0, 0, 0.3));\n",
              "      fill: #FFFFFF;\n",
              "    }\n",
              "  </style>\n",
              "\n",
              "      <script>\n",
              "        const buttonEl =\n",
              "          document.querySelector('#df-f32ed7d8-4623-4c2d-851a-040df34b32c6 button.colab-df-convert');\n",
              "        buttonEl.style.display =\n",
              "          google.colab.kernel.accessAllowed ? 'block' : 'none';\n",
              "\n",
              "        async function convertToInteractive(key) {\n",
              "          const element = document.querySelector('#df-f32ed7d8-4623-4c2d-851a-040df34b32c6');\n",
              "          const dataTable =\n",
              "            await google.colab.kernel.invokeFunction('convertToInteractive',\n",
              "                                                     [key], {});\n",
              "          if (!dataTable) return;\n",
              "\n",
              "          const docLinkHtml = 'Like what you see? Visit the ' +\n",
              "            '<a target=\"_blank\" href=https://colab.research.google.com/notebooks/data_table.ipynb>data table notebook</a>'\n",
              "            + ' to learn more about interactive tables.';\n",
              "          element.innerHTML = '';\n",
              "          dataTable['output_type'] = 'display_data';\n",
              "          await google.colab.output.renderOutput(dataTable, element);\n",
              "          const docLink = document.createElement('div');\n",
              "          docLink.innerHTML = docLinkHtml;\n",
              "          element.appendChild(docLink);\n",
              "        }\n",
              "      </script>\n",
              "    </div>\n",
              "  </div>\n",
              "  "
            ]
          },
          "metadata": {},
          "execution_count": 25
        }
      ],
      "source": [
        "df_images.groupby(\"broad_design\").count()"
      ]
    },
    {
      "cell_type": "code",
      "execution_count": 26,
      "metadata": {
        "colab": {
          "base_uri": "https://localhost:8080/",
          "height": 522
        },
        "id": "6tlih1Iz4KJb",
        "outputId": "afb9c5bf-aa78-4c60-ab63-85d13dcf2ae7"
      },
      "outputs": [
        {
          "output_type": "execute_result",
          "data": {
            "text/plain": [
              "                                image_folder        image_name  \\\n",
              "0        MyDrive/img/Classic_Pullover_Hoodie  img_00000054.jpg   \n",
              "1      MyDrive/img/Striped_V-Neck_Cotton_Tee  img_00000032.jpg   \n",
              "2          MyDrive/img/Striped_Cami_Jumpsuit  img_00000009.jpg   \n",
              "3             MyDrive/img/Denim_Skater_Skirt  img_00000065.jpg   \n",
              "4          MyDrive/img/Floral_Chiffon_Blouse  img_00000095.jpg   \n",
              "...                                      ...               ...   \n",
              "44995     MyDrive/img/Boxy_Soft-Knit_Sweater  img_00000035.jpg   \n",
              "44996        MyDrive/img/Heathered_Knit_Coat  img_00000023.jpg   \n",
              "44997       MyDrive/img/Striped_Knit_Sweater  img_00000011.jpg   \n",
              "44998  MyDrive/img/High-Waisted_Woven_Shorts  img_00000002.jpg   \n",
              "44999      MyDrive/img/Textured_Woven_Blazer  img_00000052.jpg   \n",
              "\n",
              "                                              image_path item_class  \\\n",
              "0      MyDrive/img/Classic_Pullover_Hoodie/img_000000...     Hoodie   \n",
              "1      MyDrive/img/Striped_V-Neck_Cotton_Tee/img_0000...        Tee   \n",
              "2      MyDrive/img/Striped_Cami_Jumpsuit/img_00000009...   Jumpsuit   \n",
              "3        MyDrive/img/Denim_Skater_Skirt/img_00000065.jpg      Skirt   \n",
              "4      MyDrive/img/Floral_Chiffon_Blouse/img_00000095...     Blouse   \n",
              "...                                                  ...        ...   \n",
              "44995  MyDrive/img/Boxy_Soft-Knit_Sweater/img_0000003...    Sweater   \n",
              "44996   MyDrive/img/Heathered_Knit_Coat/img_00000023.jpg       Coat   \n",
              "44997  MyDrive/img/Striped_Knit_Sweater/img_00000011.jpg    Sweater   \n",
              "44998  MyDrive/img/High-Waisted_Woven_Shorts/img_0000...     Shorts   \n",
              "44999  MyDrive/img/Textured_Woven_Blazer/img_00000052...     Blazer   \n",
              "\n",
              "      design_class design_pre    design_type dress_type dress_ocassion  \\\n",
              "0         Pullover                  Pullover        top         sporty   \n",
              "1           Cotton     V-Neck  V-Neck Cotton        top         casual   \n",
              "2             Cami                      Cami  one_piece         formal   \n",
              "3           Skater                    Skater     bottom         formal   \n",
              "4          Chiffon                   Chiffon        top         formal   \n",
              "...            ...        ...            ...        ...            ...   \n",
              "44995    Soft-Knit                 Soft-Knit        top         casual   \n",
              "44996         Knit                      Knit        top         formal   \n",
              "44997         Knit                      Knit        top         casual   \n",
              "44998        Woven                     Woven     bottom         casual   \n",
              "44999        Woven                     Woven        top         formal   \n",
              "\n",
              "      broad_design print_type  \n",
              "0          Classic         NA  \n",
              "1          Classic         NA  \n",
              "2          Classic         NA  \n",
              "3          Classic         NA  \n",
              "4          Classic         NA  \n",
              "...            ...        ...  \n",
              "44995         Knit         NA  \n",
              "44996         Knit         NA  \n",
              "44997         Knit         NA  \n",
              "44998         Knit         NA  \n",
              "44999         Knit         NA  \n",
              "\n",
              "[45000 rows x 11 columns]"
            ],
            "text/html": [
              "\n",
              "  <div id=\"df-a5bce7f1-2b62-4953-890b-8f11f07d0d43\">\n",
              "    <div class=\"colab-df-container\">\n",
              "      <div>\n",
              "<style scoped>\n",
              "    .dataframe tbody tr th:only-of-type {\n",
              "        vertical-align: middle;\n",
              "    }\n",
              "\n",
              "    .dataframe tbody tr th {\n",
              "        vertical-align: top;\n",
              "    }\n",
              "\n",
              "    .dataframe thead th {\n",
              "        text-align: right;\n",
              "    }\n",
              "</style>\n",
              "<table border=\"1\" class=\"dataframe\">\n",
              "  <thead>\n",
              "    <tr style=\"text-align: right;\">\n",
              "      <th></th>\n",
              "      <th>image_folder</th>\n",
              "      <th>image_name</th>\n",
              "      <th>image_path</th>\n",
              "      <th>item_class</th>\n",
              "      <th>design_class</th>\n",
              "      <th>design_pre</th>\n",
              "      <th>design_type</th>\n",
              "      <th>dress_type</th>\n",
              "      <th>dress_ocassion</th>\n",
              "      <th>broad_design</th>\n",
              "      <th>print_type</th>\n",
              "    </tr>\n",
              "  </thead>\n",
              "  <tbody>\n",
              "    <tr>\n",
              "      <th>0</th>\n",
              "      <td>MyDrive/img/Classic_Pullover_Hoodie</td>\n",
              "      <td>img_00000054.jpg</td>\n",
              "      <td>MyDrive/img/Classic_Pullover_Hoodie/img_000000...</td>\n",
              "      <td>Hoodie</td>\n",
              "      <td>Pullover</td>\n",
              "      <td></td>\n",
              "      <td>Pullover</td>\n",
              "      <td>top</td>\n",
              "      <td>sporty</td>\n",
              "      <td>Classic</td>\n",
              "      <td>NA</td>\n",
              "    </tr>\n",
              "    <tr>\n",
              "      <th>1</th>\n",
              "      <td>MyDrive/img/Striped_V-Neck_Cotton_Tee</td>\n",
              "      <td>img_00000032.jpg</td>\n",
              "      <td>MyDrive/img/Striped_V-Neck_Cotton_Tee/img_0000...</td>\n",
              "      <td>Tee</td>\n",
              "      <td>Cotton</td>\n",
              "      <td>V-Neck</td>\n",
              "      <td>V-Neck Cotton</td>\n",
              "      <td>top</td>\n",
              "      <td>casual</td>\n",
              "      <td>Classic</td>\n",
              "      <td>NA</td>\n",
              "    </tr>\n",
              "    <tr>\n",
              "      <th>2</th>\n",
              "      <td>MyDrive/img/Striped_Cami_Jumpsuit</td>\n",
              "      <td>img_00000009.jpg</td>\n",
              "      <td>MyDrive/img/Striped_Cami_Jumpsuit/img_00000009...</td>\n",
              "      <td>Jumpsuit</td>\n",
              "      <td>Cami</td>\n",
              "      <td></td>\n",
              "      <td>Cami</td>\n",
              "      <td>one_piece</td>\n",
              "      <td>formal</td>\n",
              "      <td>Classic</td>\n",
              "      <td>NA</td>\n",
              "    </tr>\n",
              "    <tr>\n",
              "      <th>3</th>\n",
              "      <td>MyDrive/img/Denim_Skater_Skirt</td>\n",
              "      <td>img_00000065.jpg</td>\n",
              "      <td>MyDrive/img/Denim_Skater_Skirt/img_00000065.jpg</td>\n",
              "      <td>Skirt</td>\n",
              "      <td>Skater</td>\n",
              "      <td></td>\n",
              "      <td>Skater</td>\n",
              "      <td>bottom</td>\n",
              "      <td>formal</td>\n",
              "      <td>Classic</td>\n",
              "      <td>NA</td>\n",
              "    </tr>\n",
              "    <tr>\n",
              "      <th>4</th>\n",
              "      <td>MyDrive/img/Floral_Chiffon_Blouse</td>\n",
              "      <td>img_00000095.jpg</td>\n",
              "      <td>MyDrive/img/Floral_Chiffon_Blouse/img_00000095...</td>\n",
              "      <td>Blouse</td>\n",
              "      <td>Chiffon</td>\n",
              "      <td></td>\n",
              "      <td>Chiffon</td>\n",
              "      <td>top</td>\n",
              "      <td>formal</td>\n",
              "      <td>Classic</td>\n",
              "      <td>NA</td>\n",
              "    </tr>\n",
              "    <tr>\n",
              "      <th>...</th>\n",
              "      <td>...</td>\n",
              "      <td>...</td>\n",
              "      <td>...</td>\n",
              "      <td>...</td>\n",
              "      <td>...</td>\n",
              "      <td>...</td>\n",
              "      <td>...</td>\n",
              "      <td>...</td>\n",
              "      <td>...</td>\n",
              "      <td>...</td>\n",
              "      <td>...</td>\n",
              "    </tr>\n",
              "    <tr>\n",
              "      <th>44995</th>\n",
              "      <td>MyDrive/img/Boxy_Soft-Knit_Sweater</td>\n",
              "      <td>img_00000035.jpg</td>\n",
              "      <td>MyDrive/img/Boxy_Soft-Knit_Sweater/img_0000003...</td>\n",
              "      <td>Sweater</td>\n",
              "      <td>Soft-Knit</td>\n",
              "      <td></td>\n",
              "      <td>Soft-Knit</td>\n",
              "      <td>top</td>\n",
              "      <td>casual</td>\n",
              "      <td>Knit</td>\n",
              "      <td>NA</td>\n",
              "    </tr>\n",
              "    <tr>\n",
              "      <th>44996</th>\n",
              "      <td>MyDrive/img/Heathered_Knit_Coat</td>\n",
              "      <td>img_00000023.jpg</td>\n",
              "      <td>MyDrive/img/Heathered_Knit_Coat/img_00000023.jpg</td>\n",
              "      <td>Coat</td>\n",
              "      <td>Knit</td>\n",
              "      <td></td>\n",
              "      <td>Knit</td>\n",
              "      <td>top</td>\n",
              "      <td>formal</td>\n",
              "      <td>Knit</td>\n",
              "      <td>NA</td>\n",
              "    </tr>\n",
              "    <tr>\n",
              "      <th>44997</th>\n",
              "      <td>MyDrive/img/Striped_Knit_Sweater</td>\n",
              "      <td>img_00000011.jpg</td>\n",
              "      <td>MyDrive/img/Striped_Knit_Sweater/img_00000011.jpg</td>\n",
              "      <td>Sweater</td>\n",
              "      <td>Knit</td>\n",
              "      <td></td>\n",
              "      <td>Knit</td>\n",
              "      <td>top</td>\n",
              "      <td>casual</td>\n",
              "      <td>Knit</td>\n",
              "      <td>NA</td>\n",
              "    </tr>\n",
              "    <tr>\n",
              "      <th>44998</th>\n",
              "      <td>MyDrive/img/High-Waisted_Woven_Shorts</td>\n",
              "      <td>img_00000002.jpg</td>\n",
              "      <td>MyDrive/img/High-Waisted_Woven_Shorts/img_0000...</td>\n",
              "      <td>Shorts</td>\n",
              "      <td>Woven</td>\n",
              "      <td></td>\n",
              "      <td>Woven</td>\n",
              "      <td>bottom</td>\n",
              "      <td>casual</td>\n",
              "      <td>Knit</td>\n",
              "      <td>NA</td>\n",
              "    </tr>\n",
              "    <tr>\n",
              "      <th>44999</th>\n",
              "      <td>MyDrive/img/Textured_Woven_Blazer</td>\n",
              "      <td>img_00000052.jpg</td>\n",
              "      <td>MyDrive/img/Textured_Woven_Blazer/img_00000052...</td>\n",
              "      <td>Blazer</td>\n",
              "      <td>Woven</td>\n",
              "      <td></td>\n",
              "      <td>Woven</td>\n",
              "      <td>top</td>\n",
              "      <td>formal</td>\n",
              "      <td>Knit</td>\n",
              "      <td>NA</td>\n",
              "    </tr>\n",
              "  </tbody>\n",
              "</table>\n",
              "<p>45000 rows × 11 columns</p>\n",
              "</div>\n",
              "      <button class=\"colab-df-convert\" onclick=\"convertToInteractive('df-a5bce7f1-2b62-4953-890b-8f11f07d0d43')\"\n",
              "              title=\"Convert this dataframe to an interactive table.\"\n",
              "              style=\"display:none;\">\n",
              "        \n",
              "  <svg xmlns=\"http://www.w3.org/2000/svg\" height=\"24px\"viewBox=\"0 0 24 24\"\n",
              "       width=\"24px\">\n",
              "    <path d=\"M0 0h24v24H0V0z\" fill=\"none\"/>\n",
              "    <path d=\"M18.56 5.44l.94 2.06.94-2.06 2.06-.94-2.06-.94-.94-2.06-.94 2.06-2.06.94zm-11 1L8.5 8.5l.94-2.06 2.06-.94-2.06-.94L8.5 2.5l-.94 2.06-2.06.94zm10 10l.94 2.06.94-2.06 2.06-.94-2.06-.94-.94-2.06-.94 2.06-2.06.94z\"/><path d=\"M17.41 7.96l-1.37-1.37c-.4-.4-.92-.59-1.43-.59-.52 0-1.04.2-1.43.59L10.3 9.45l-7.72 7.72c-.78.78-.78 2.05 0 2.83L4 21.41c.39.39.9.59 1.41.59.51 0 1.02-.2 1.41-.59l7.78-7.78 2.81-2.81c.8-.78.8-2.07 0-2.86zM5.41 20L4 18.59l7.72-7.72 1.47 1.35L5.41 20z\"/>\n",
              "  </svg>\n",
              "      </button>\n",
              "      \n",
              "  <style>\n",
              "    .colab-df-container {\n",
              "      display:flex;\n",
              "      flex-wrap:wrap;\n",
              "      gap: 12px;\n",
              "    }\n",
              "\n",
              "    .colab-df-convert {\n",
              "      background-color: #E8F0FE;\n",
              "      border: none;\n",
              "      border-radius: 50%;\n",
              "      cursor: pointer;\n",
              "      display: none;\n",
              "      fill: #1967D2;\n",
              "      height: 32px;\n",
              "      padding: 0 0 0 0;\n",
              "      width: 32px;\n",
              "    }\n",
              "\n",
              "    .colab-df-convert:hover {\n",
              "      background-color: #E2EBFA;\n",
              "      box-shadow: 0px 1px 2px rgba(60, 64, 67, 0.3), 0px 1px 3px 1px rgba(60, 64, 67, 0.15);\n",
              "      fill: #174EA6;\n",
              "    }\n",
              "\n",
              "    [theme=dark] .colab-df-convert {\n",
              "      background-color: #3B4455;\n",
              "      fill: #D2E3FC;\n",
              "    }\n",
              "\n",
              "    [theme=dark] .colab-df-convert:hover {\n",
              "      background-color: #434B5C;\n",
              "      box-shadow: 0px 1px 3px 1px rgba(0, 0, 0, 0.15);\n",
              "      filter: drop-shadow(0px 1px 2px rgba(0, 0, 0, 0.3));\n",
              "      fill: #FFFFFF;\n",
              "    }\n",
              "  </style>\n",
              "\n",
              "      <script>\n",
              "        const buttonEl =\n",
              "          document.querySelector('#df-a5bce7f1-2b62-4953-890b-8f11f07d0d43 button.colab-df-convert');\n",
              "        buttonEl.style.display =\n",
              "          google.colab.kernel.accessAllowed ? 'block' : 'none';\n",
              "\n",
              "        async function convertToInteractive(key) {\n",
              "          const element = document.querySelector('#df-a5bce7f1-2b62-4953-890b-8f11f07d0d43');\n",
              "          const dataTable =\n",
              "            await google.colab.kernel.invokeFunction('convertToInteractive',\n",
              "                                                     [key], {});\n",
              "          if (!dataTable) return;\n",
              "\n",
              "          const docLinkHtml = 'Like what you see? Visit the ' +\n",
              "            '<a target=\"_blank\" href=https://colab.research.google.com/notebooks/data_table.ipynb>data table notebook</a>'\n",
              "            + ' to learn more about interactive tables.';\n",
              "          element.innerHTML = '';\n",
              "          dataTable['output_type'] = 'display_data';\n",
              "          await google.colab.output.renderOutput(dataTable, element);\n",
              "          const docLink = document.createElement('div');\n",
              "          docLink.innerHTML = docLinkHtml;\n",
              "          element.appendChild(docLink);\n",
              "        }\n",
              "      </script>\n",
              "    </div>\n",
              "  </div>\n",
              "  "
            ]
          },
          "metadata": {},
          "execution_count": 26
        }
      ],
      "source": [
        "###Sampling for equal number of samples per design \n",
        "df_images_rel_des=pd.DataFrame()\n",
        "for dt in df_images[\"broad_design\"].unique():\n",
        "  df_append=df_images[df_images[\"broad_design\"]==dt].sample(n=15000, replace=True, random_state=44)\n",
        "  df_images_rel_des=df_images_rel_des.append(df_append,ignore_index=True)\n",
        "df_images_rel_des"
      ]
    },
    {
      "cell_type": "code",
      "execution_count": 27,
      "metadata": {
        "colab": {
          "base_uri": "https://localhost:8080/",
          "height": 505
        },
        "id": "vEoZw5Y7PW10",
        "outputId": "b916a5b7-4eb3-4379-9468-11987e755831"
      },
      "outputs": [
        {
          "output_type": "execute_result",
          "data": {
            "text/plain": [
              "                                      image_folder        image_name  \\\n",
              "0        MyDrive/img/Free_Spirit_Floral_Maxi_Dress  img_00000046.jpg   \n",
              "1          MyDrive/img/Sequined_Chiffon_Maxi_Dress  img_00000048.jpg   \n",
              "2       MyDrive/img/Belted_Tribal_Print_Maxi_Dress  img_00000019.jpg   \n",
              "3         MyDrive/img/Crisscross-Back_Skater_Dress  img_00000006.jpg   \n",
              "4      MyDrive/img/Floral_Crochet_Racerback_Romper  img_00000024.jpg   \n",
              "...                                            ...               ...   \n",
              "23995      MyDrive/img/High-Waisted_Capri_Leggings  img_00000024.jpg   \n",
              "23996            MyDrive/img/Textured_Woven_Shorts  img_00000017.jpg   \n",
              "23997       MyDrive/img/Diamond_Embroidered_Shorts  img_00000035.jpg   \n",
              "23998           MyDrive/img/Bleached_Denim_Joggers  img_00000058.jpg   \n",
              "23999          MyDrive/img/Tropical_Print_Leggings  img_00000020.jpg   \n",
              "\n",
              "                                              image_path item_class  \\\n",
              "0      MyDrive/img/Free_Spirit_Floral_Maxi_Dress/img_...      Dress   \n",
              "1      MyDrive/img/Sequined_Chiffon_Maxi_Dress/img_00...      Dress   \n",
              "2      MyDrive/img/Belted_Tribal_Print_Maxi_Dress/img...      Dress   \n",
              "3      MyDrive/img/Crisscross-Back_Skater_Dress/img_0...      Dress   \n",
              "4      MyDrive/img/Floral_Crochet_Racerback_Romper/im...     Romper   \n",
              "...                                                  ...        ...   \n",
              "23995  MyDrive/img/High-Waisted_Capri_Leggings/img_00...   Leggings   \n",
              "23996  MyDrive/img/Textured_Woven_Shorts/img_00000017...     Shorts   \n",
              "23997  MyDrive/img/Diamond_Embroidered_Shorts/img_000...     Shorts   \n",
              "23998  MyDrive/img/Bleached_Denim_Joggers/img_0000005...    Joggers   \n",
              "23999  MyDrive/img/Tropical_Print_Leggings/img_000000...   Leggings   \n",
              "\n",
              "      design_class design_pre        design_type dress_type dress_ocassion  \\\n",
              "0             Maxi     Floral        Floral Maxi  one_piece         formal   \n",
              "1             Maxi    Chiffon       Chiffon Maxi  one_piece         formal   \n",
              "2             Maxi      Print         Print Maxi  one_piece         formal   \n",
              "3           Skater                        Skater  one_piece         formal   \n",
              "4        Racerback    Crochet  Crochet Racerback  one_piece         casual   \n",
              "...            ...        ...                ...        ...            ...   \n",
              "23995        Capri                         Capri     bottom         casual   \n",
              "23996        Woven                         Woven     bottom         casual   \n",
              "23997  Embroidered                   Embroidered     bottom         casual   \n",
              "23998        Denim                         Denim     bottom         sporty   \n",
              "23999        Print                         Print     bottom         casual   \n",
              "\n",
              "      broad_design    print_type  \n",
              "0            Print        Floral  \n",
              "1          Classic            NA  \n",
              "2            Print  Other prints  \n",
              "3          Classic            NA  \n",
              "4             Knit            NA  \n",
              "...            ...           ...  \n",
              "23995      Classic            NA  \n",
              "23996         Knit            NA  \n",
              "23997         Knit            NA  \n",
              "23998      Classic            NA  \n",
              "23999        Print  Other prints  \n",
              "\n",
              "[24000 rows x 11 columns]"
            ],
            "text/html": [
              "\n",
              "  <div id=\"df-ecca6ace-111f-4a02-bbc2-708881faaf84\">\n",
              "    <div class=\"colab-df-container\">\n",
              "      <div>\n",
              "<style scoped>\n",
              "    .dataframe tbody tr th:only-of-type {\n",
              "        vertical-align: middle;\n",
              "    }\n",
              "\n",
              "    .dataframe tbody tr th {\n",
              "        vertical-align: top;\n",
              "    }\n",
              "\n",
              "    .dataframe thead th {\n",
              "        text-align: right;\n",
              "    }\n",
              "</style>\n",
              "<table border=\"1\" class=\"dataframe\">\n",
              "  <thead>\n",
              "    <tr style=\"text-align: right;\">\n",
              "      <th></th>\n",
              "      <th>image_folder</th>\n",
              "      <th>image_name</th>\n",
              "      <th>image_path</th>\n",
              "      <th>item_class</th>\n",
              "      <th>design_class</th>\n",
              "      <th>design_pre</th>\n",
              "      <th>design_type</th>\n",
              "      <th>dress_type</th>\n",
              "      <th>dress_ocassion</th>\n",
              "      <th>broad_design</th>\n",
              "      <th>print_type</th>\n",
              "    </tr>\n",
              "  </thead>\n",
              "  <tbody>\n",
              "    <tr>\n",
              "      <th>0</th>\n",
              "      <td>MyDrive/img/Free_Spirit_Floral_Maxi_Dress</td>\n",
              "      <td>img_00000046.jpg</td>\n",
              "      <td>MyDrive/img/Free_Spirit_Floral_Maxi_Dress/img_...</td>\n",
              "      <td>Dress</td>\n",
              "      <td>Maxi</td>\n",
              "      <td>Floral</td>\n",
              "      <td>Floral Maxi</td>\n",
              "      <td>one_piece</td>\n",
              "      <td>formal</td>\n",
              "      <td>Print</td>\n",
              "      <td>Floral</td>\n",
              "    </tr>\n",
              "    <tr>\n",
              "      <th>1</th>\n",
              "      <td>MyDrive/img/Sequined_Chiffon_Maxi_Dress</td>\n",
              "      <td>img_00000048.jpg</td>\n",
              "      <td>MyDrive/img/Sequined_Chiffon_Maxi_Dress/img_00...</td>\n",
              "      <td>Dress</td>\n",
              "      <td>Maxi</td>\n",
              "      <td>Chiffon</td>\n",
              "      <td>Chiffon Maxi</td>\n",
              "      <td>one_piece</td>\n",
              "      <td>formal</td>\n",
              "      <td>Classic</td>\n",
              "      <td>NA</td>\n",
              "    </tr>\n",
              "    <tr>\n",
              "      <th>2</th>\n",
              "      <td>MyDrive/img/Belted_Tribal_Print_Maxi_Dress</td>\n",
              "      <td>img_00000019.jpg</td>\n",
              "      <td>MyDrive/img/Belted_Tribal_Print_Maxi_Dress/img...</td>\n",
              "      <td>Dress</td>\n",
              "      <td>Maxi</td>\n",
              "      <td>Print</td>\n",
              "      <td>Print Maxi</td>\n",
              "      <td>one_piece</td>\n",
              "      <td>formal</td>\n",
              "      <td>Print</td>\n",
              "      <td>Other prints</td>\n",
              "    </tr>\n",
              "    <tr>\n",
              "      <th>3</th>\n",
              "      <td>MyDrive/img/Crisscross-Back_Skater_Dress</td>\n",
              "      <td>img_00000006.jpg</td>\n",
              "      <td>MyDrive/img/Crisscross-Back_Skater_Dress/img_0...</td>\n",
              "      <td>Dress</td>\n",
              "      <td>Skater</td>\n",
              "      <td></td>\n",
              "      <td>Skater</td>\n",
              "      <td>one_piece</td>\n",
              "      <td>formal</td>\n",
              "      <td>Classic</td>\n",
              "      <td>NA</td>\n",
              "    </tr>\n",
              "    <tr>\n",
              "      <th>4</th>\n",
              "      <td>MyDrive/img/Floral_Crochet_Racerback_Romper</td>\n",
              "      <td>img_00000024.jpg</td>\n",
              "      <td>MyDrive/img/Floral_Crochet_Racerback_Romper/im...</td>\n",
              "      <td>Romper</td>\n",
              "      <td>Racerback</td>\n",
              "      <td>Crochet</td>\n",
              "      <td>Crochet Racerback</td>\n",
              "      <td>one_piece</td>\n",
              "      <td>casual</td>\n",
              "      <td>Knit</td>\n",
              "      <td>NA</td>\n",
              "    </tr>\n",
              "    <tr>\n",
              "      <th>...</th>\n",
              "      <td>...</td>\n",
              "      <td>...</td>\n",
              "      <td>...</td>\n",
              "      <td>...</td>\n",
              "      <td>...</td>\n",
              "      <td>...</td>\n",
              "      <td>...</td>\n",
              "      <td>...</td>\n",
              "      <td>...</td>\n",
              "      <td>...</td>\n",
              "      <td>...</td>\n",
              "    </tr>\n",
              "    <tr>\n",
              "      <th>23995</th>\n",
              "      <td>MyDrive/img/High-Waisted_Capri_Leggings</td>\n",
              "      <td>img_00000024.jpg</td>\n",
              "      <td>MyDrive/img/High-Waisted_Capri_Leggings/img_00...</td>\n",
              "      <td>Leggings</td>\n",
              "      <td>Capri</td>\n",
              "      <td></td>\n",
              "      <td>Capri</td>\n",
              "      <td>bottom</td>\n",
              "      <td>casual</td>\n",
              "      <td>Classic</td>\n",
              "      <td>NA</td>\n",
              "    </tr>\n",
              "    <tr>\n",
              "      <th>23996</th>\n",
              "      <td>MyDrive/img/Textured_Woven_Shorts</td>\n",
              "      <td>img_00000017.jpg</td>\n",
              "      <td>MyDrive/img/Textured_Woven_Shorts/img_00000017...</td>\n",
              "      <td>Shorts</td>\n",
              "      <td>Woven</td>\n",
              "      <td></td>\n",
              "      <td>Woven</td>\n",
              "      <td>bottom</td>\n",
              "      <td>casual</td>\n",
              "      <td>Knit</td>\n",
              "      <td>NA</td>\n",
              "    </tr>\n",
              "    <tr>\n",
              "      <th>23997</th>\n",
              "      <td>MyDrive/img/Diamond_Embroidered_Shorts</td>\n",
              "      <td>img_00000035.jpg</td>\n",
              "      <td>MyDrive/img/Diamond_Embroidered_Shorts/img_000...</td>\n",
              "      <td>Shorts</td>\n",
              "      <td>Embroidered</td>\n",
              "      <td></td>\n",
              "      <td>Embroidered</td>\n",
              "      <td>bottom</td>\n",
              "      <td>casual</td>\n",
              "      <td>Knit</td>\n",
              "      <td>NA</td>\n",
              "    </tr>\n",
              "    <tr>\n",
              "      <th>23998</th>\n",
              "      <td>MyDrive/img/Bleached_Denim_Joggers</td>\n",
              "      <td>img_00000058.jpg</td>\n",
              "      <td>MyDrive/img/Bleached_Denim_Joggers/img_0000005...</td>\n",
              "      <td>Joggers</td>\n",
              "      <td>Denim</td>\n",
              "      <td></td>\n",
              "      <td>Denim</td>\n",
              "      <td>bottom</td>\n",
              "      <td>sporty</td>\n",
              "      <td>Classic</td>\n",
              "      <td>NA</td>\n",
              "    </tr>\n",
              "    <tr>\n",
              "      <th>23999</th>\n",
              "      <td>MyDrive/img/Tropical_Print_Leggings</td>\n",
              "      <td>img_00000020.jpg</td>\n",
              "      <td>MyDrive/img/Tropical_Print_Leggings/img_000000...</td>\n",
              "      <td>Leggings</td>\n",
              "      <td>Print</td>\n",
              "      <td></td>\n",
              "      <td>Print</td>\n",
              "      <td>bottom</td>\n",
              "      <td>casual</td>\n",
              "      <td>Print</td>\n",
              "      <td>Other prints</td>\n",
              "    </tr>\n",
              "  </tbody>\n",
              "</table>\n",
              "<p>24000 rows × 11 columns</p>\n",
              "</div>\n",
              "      <button class=\"colab-df-convert\" onclick=\"convertToInteractive('df-ecca6ace-111f-4a02-bbc2-708881faaf84')\"\n",
              "              title=\"Convert this dataframe to an interactive table.\"\n",
              "              style=\"display:none;\">\n",
              "        \n",
              "  <svg xmlns=\"http://www.w3.org/2000/svg\" height=\"24px\"viewBox=\"0 0 24 24\"\n",
              "       width=\"24px\">\n",
              "    <path d=\"M0 0h24v24H0V0z\" fill=\"none\"/>\n",
              "    <path d=\"M18.56 5.44l.94 2.06.94-2.06 2.06-.94-2.06-.94-.94-2.06-.94 2.06-2.06.94zm-11 1L8.5 8.5l.94-2.06 2.06-.94-2.06-.94L8.5 2.5l-.94 2.06-2.06.94zm10 10l.94 2.06.94-2.06 2.06-.94-2.06-.94-.94-2.06-.94 2.06-2.06.94z\"/><path d=\"M17.41 7.96l-1.37-1.37c-.4-.4-.92-.59-1.43-.59-.52 0-1.04.2-1.43.59L10.3 9.45l-7.72 7.72c-.78.78-.78 2.05 0 2.83L4 21.41c.39.39.9.59 1.41.59.51 0 1.02-.2 1.41-.59l7.78-7.78 2.81-2.81c.8-.78.8-2.07 0-2.86zM5.41 20L4 18.59l7.72-7.72 1.47 1.35L5.41 20z\"/>\n",
              "  </svg>\n",
              "      </button>\n",
              "      \n",
              "  <style>\n",
              "    .colab-df-container {\n",
              "      display:flex;\n",
              "      flex-wrap:wrap;\n",
              "      gap: 12px;\n",
              "    }\n",
              "\n",
              "    .colab-df-convert {\n",
              "      background-color: #E8F0FE;\n",
              "      border: none;\n",
              "      border-radius: 50%;\n",
              "      cursor: pointer;\n",
              "      display: none;\n",
              "      fill: #1967D2;\n",
              "      height: 32px;\n",
              "      padding: 0 0 0 0;\n",
              "      width: 32px;\n",
              "    }\n",
              "\n",
              "    .colab-df-convert:hover {\n",
              "      background-color: #E2EBFA;\n",
              "      box-shadow: 0px 1px 2px rgba(60, 64, 67, 0.3), 0px 1px 3px 1px rgba(60, 64, 67, 0.15);\n",
              "      fill: #174EA6;\n",
              "    }\n",
              "\n",
              "    [theme=dark] .colab-df-convert {\n",
              "      background-color: #3B4455;\n",
              "      fill: #D2E3FC;\n",
              "    }\n",
              "\n",
              "    [theme=dark] .colab-df-convert:hover {\n",
              "      background-color: #434B5C;\n",
              "      box-shadow: 0px 1px 3px 1px rgba(0, 0, 0, 0.15);\n",
              "      filter: drop-shadow(0px 1px 2px rgba(0, 0, 0, 0.3));\n",
              "      fill: #FFFFFF;\n",
              "    }\n",
              "  </style>\n",
              "\n",
              "      <script>\n",
              "        const buttonEl =\n",
              "          document.querySelector('#df-ecca6ace-111f-4a02-bbc2-708881faaf84 button.colab-df-convert');\n",
              "        buttonEl.style.display =\n",
              "          google.colab.kernel.accessAllowed ? 'block' : 'none';\n",
              "\n",
              "        async function convertToInteractive(key) {\n",
              "          const element = document.querySelector('#df-ecca6ace-111f-4a02-bbc2-708881faaf84');\n",
              "          const dataTable =\n",
              "            await google.colab.kernel.invokeFunction('convertToInteractive',\n",
              "                                                     [key], {});\n",
              "          if (!dataTable) return;\n",
              "\n",
              "          const docLinkHtml = 'Like what you see? Visit the ' +\n",
              "            '<a target=\"_blank\" href=https://colab.research.google.com/notebooks/data_table.ipynb>data table notebook</a>'\n",
              "            + ' to learn more about interactive tables.';\n",
              "          element.innerHTML = '';\n",
              "          dataTable['output_type'] = 'display_data';\n",
              "          await google.colab.output.renderOutput(dataTable, element);\n",
              "          const docLink = document.createElement('div');\n",
              "          docLink.innerHTML = docLinkHtml;\n",
              "          element.appendChild(docLink);\n",
              "        }\n",
              "      </script>\n",
              "    </div>\n",
              "  </div>\n",
              "  "
            ]
          },
          "metadata": {},
          "execution_count": 27
        }
      ],
      "source": [
        "###Sampling for equal number of samples per dress type \n",
        "df_images_rel=pd.DataFrame()\n",
        "for dt in df_images[\"dress_type\"].unique():\n",
        "  df_append=df_images_rel_des[df_images_rel_des[\"dress_type\"]==dt].sample(n=8000, replace=True, random_state=33)\n",
        "  df_images_rel=df_images_rel.append(df_append,ignore_index=True)\n",
        "df_images_rel"
      ]
    },
    {
      "cell_type": "markdown",
      "metadata": {
        "id": "cZCG1vUwc3Gl"
      },
      "source": []
    },
    {
      "cell_type": "markdown",
      "metadata": {
        "id": "_AFXAuAadJBD"
      },
      "source": [
        "Declare image variables"
      ]
    },
    {
      "cell_type": "code",
      "execution_count": 28,
      "metadata": {
        "id": "UnXTt0tAw_WW"
      },
      "outputs": [],
      "source": [
        "batch_size = 32\n",
        "img_height = 32\n",
        "img_width = 32"
      ]
    },
    {
      "cell_type": "code",
      "execution_count": 29,
      "metadata": {
        "colab": {
          "base_uri": "https://localhost:8080/"
        },
        "id": "FFWOFpDSPm46",
        "outputId": "8dd9eff4-afe1-44ab-b03f-8c76d071eba0"
      },
      "outputs": [
        {
          "output_type": "execute_result",
          "data": {
            "text/plain": [
              "['.file-revisions-by-id', 'MyDrive', '.shortcut-targets-by-id', '.Trash-0']"
            ]
          },
          "metadata": {},
          "execution_count": 29
        }
      ],
      "source": [
        "os.listdir()"
      ]
    },
    {
      "cell_type": "markdown",
      "metadata": {
        "id": "8BqrDKepdO9K"
      },
      "source": [
        "**Create models**"
      ]
    },
    {
      "cell_type": "markdown",
      "metadata": {
        "id": "8dMc3xFQg4if"
      },
      "source": [
        "Cloth categorizer"
      ]
    },
    {
      "cell_type": "code",
      "execution_count": 30,
      "metadata": {
        "id": "KESc9Ef-z1Ze"
      },
      "outputs": [],
      "source": [
        "dense = layers.Dense(64, activation=\"relu\")\n",
        "inputs = keras.Input(shape=(32*32*3,))\n",
        "x = dense(inputs)\n",
        "x = layers.Dense(64, activation=\"relu\")(x)\n",
        "x = layers.Dense(64, activation=\"relu\")(x)\n",
        "x = layers.Dense(64, activation=\"relu\")(x)\n",
        "outputs1 = layers.Dense(3,activation=\"softmax\")(x)\n",
        "outputs2 = layers.Dense(3,activation=\"softmax\")(x)\n",
        "outputs3 = layers.Dense(3,activation=\"softmax\")(x)\n",
        "\n",
        "model_multi = keras.Model(inputs=inputs, outputs=[outputs1,outputs2,outputs3], name=\"cloth_design_categorizer\")\n",
        "model = keras.Model(inputs=inputs, outputs=outputs1, name=\"cloth_categorizer\")\n"
      ]
    },
    {
      "cell_type": "markdown",
      "metadata": {
        "id": "vVfT2nJahFGP"
      },
      "source": [
        "Print categorizer"
      ]
    },
    {
      "cell_type": "code",
      "execution_count": 31,
      "metadata": {
        "id": "SBC6UY2IhDzP"
      },
      "outputs": [],
      "source": [
        "dense = layers.Dense(64, activation=\"relu\")\n",
        "inputs = keras.Input(shape=(32*32*3,))\n",
        "x = dense(inputs)\n",
        "x = layers.Dense(64, activation=\"relu\")(x)\n",
        "x = layers.Dense(64, activation=\"relu\")(x)\n",
        "x = layers.Dense(64, activation=\"relu\")(x)\n",
        "outputs = layers.Dense(5,activation=\"softmax\")(x)\n",
        "\n",
        "model_print = keras.Model(inputs=inputs, outputs=outputs, name=\"cloth_print_categorizer\")\n"
      ]
    },
    {
      "cell_type": "code",
      "execution_count": 32,
      "metadata": {
        "colab": {
          "base_uri": "https://localhost:8080/"
        },
        "id": "ZB2BJkkZ5T_Z",
        "outputId": "daca7f32-d6b0-49eb-a1a4-7588f88107c4"
      },
      "outputs": [
        {
          "output_type": "execute_result",
          "data": {
            "text/plain": [
              "24000"
            ]
          },
          "metadata": {},
          "execution_count": 32
        }
      ],
      "source": [
        "len(df_images_rel)"
      ]
    },
    {
      "cell_type": "markdown",
      "metadata": {
        "id": "eU__bPFpdnS0"
      },
      "source": [
        "**Preprocessing images**"
      ]
    },
    {
      "cell_type": "code",
      "execution_count": 33,
      "metadata": {
        "colab": {
          "base_uri": "https://localhost:8080/"
        },
        "id": "Dx4aX4GIdfKb",
        "outputId": "ea1ae0a3-c60c-49f2-9937-0e09e894de10"
      },
      "outputs": [
        {
          "metadata": {
            "tags": null
          },
          "name": "stdout",
          "output_type": "stream",
          "text": [
            "if 0\n"
          ]
        },
        {
          "metadata": {
            "tags": null
          },
          "name": "stderr",
          "output_type": "stream",
          "text": [
            "/usr/local/lib/python3.7/dist-packages/ipykernel_launcher.py:17: SettingWithCopyWarning: \n",
            "A value is trying to be set on a copy of a slice from a DataFrame.\n",
            "Try using .loc[row_indexer,col_indexer] = value instead\n",
            "\n",
            "See the caveats in the documentation: https://pandas.pydata.org/pandas-docs/stable/user_guide/indexing.html#returning-a-view-versus-a-copy\n",
            "/usr/local/lib/python3.7/dist-packages/ipykernel_launcher.py:18: SettingWithCopyWarning: \n",
            "A value is trying to be set on a copy of a slice from a DataFrame.\n",
            "Try using .loc[row_indexer,col_indexer] = value instead\n",
            "\n",
            "See the caveats in the documentation: https://pandas.pydata.org/pandas-docs/stable/user_guide/indexing.html#returning-a-view-versus-a-copy\n"
          ]
        },
        {
          "output_type": "stream",
          "name": "stdout",
          "text": [
            "if 5000\n",
            "if 10000\n",
            "if 15000\n",
            "else 20000\n",
            "now last few idx: 20000\n"
          ]
        }
      ],
      "source": [
        "df_images_preprocessed=pd.DataFrame()\n",
        "idx=0\n",
        "for idx in range(idx,len(df_images_rel),5000):\n",
        "  if idx+5000<len(df_images_rel):\n",
        "    print(\"if\", idx)\n",
        "    df_images_preprocessed_sub=preprocess_resize(df_images_rel[idx:idx+5000])\n",
        "    df_images_preprocessed=df_images_preprocessed.append(df_images_preprocessed_sub,ignore_index=True)\n",
        "    idx=idx+5000\n",
        "  elif idx==len(df_images_rel):\n",
        "    print(\"elif\", idx)\n",
        "    df_images_preprocessed=df_images_preprocessed\n",
        "  else:\n",
        "    print(\"else\", idx)\n",
        "    print(\"now last few idx:\",idx)\n",
        "    df_images_preprocessed_sub=preprocess_resize(df_images_rel[idx:])\n",
        "    df_images_preprocessed=df_images_preprocessed.append(df_images_preprocessed_sub,ignore_index=True)\n",
        "    idx=idx+5000\n",
        "\n",
        "  #df_images_preprocessed[\"image_resized\"]"
      ]
    },
    {
      "cell_type": "code",
      "execution_count": 34,
      "metadata": {
        "id": "xFO-_nYYVJMW",
        "colab": {
          "base_uri": "https://localhost:8080/",
          "height": 240
        },
        "outputId": "2751d58b-0c59-4e26-e53a-f45f15f3dbb6"
      },
      "outputs": [
        {
          "output_type": "error",
          "ename": "FileNotFoundError",
          "evalue": "ignored",
          "traceback": [
            "\u001b[0;31m---------------------------------------------------------------------------\u001b[0m",
            "\u001b[0;31mFileNotFoundError\u001b[0m                         Traceback (most recent call last)",
            "\u001b[0;32m<ipython-input-34-fba7c1086ff2>\u001b[0m in \u001b[0;36m<module>\u001b[0;34m\u001b[0m\n\u001b[1;32m      5\u001b[0m \u001b[0mpath\u001b[0m \u001b[0;34m=\u001b[0m \u001b[0;34m'My Drive/Colab Noteboooks/Preprocessed_images.csv'\u001b[0m\u001b[0;34m\u001b[0m\u001b[0;34m\u001b[0m\u001b[0m\n\u001b[1;32m      6\u001b[0m \u001b[0;34m\u001b[0m\u001b[0m\n\u001b[0;32m----> 7\u001b[0;31m \u001b[0;32mwith\u001b[0m \u001b[0mopen\u001b[0m\u001b[0;34m(\u001b[0m\u001b[0mpath\u001b[0m\u001b[0;34m,\u001b[0m \u001b[0;34m'w'\u001b[0m\u001b[0;34m,\u001b[0m \u001b[0mencoding\u001b[0m \u001b[0;34m=\u001b[0m \u001b[0;34m'utf-8-sig'\u001b[0m\u001b[0;34m)\u001b[0m \u001b[0;32mas\u001b[0m \u001b[0mf\u001b[0m\u001b[0;34m:\u001b[0m\u001b[0;34m\u001b[0m\u001b[0;34m\u001b[0m\u001b[0m\n\u001b[0m\u001b[1;32m      8\u001b[0m   \u001b[0mdf_images_preprocessed\u001b[0m\u001b[0;34m.\u001b[0m\u001b[0mto_csv\u001b[0m\u001b[0;34m(\u001b[0m\u001b[0mf\u001b[0m\u001b[0;34m)\u001b[0m\u001b[0;34m\u001b[0m\u001b[0;34m\u001b[0m\u001b[0m\n\u001b[1;32m      9\u001b[0m \u001b[0;34m\u001b[0m\u001b[0m\n",
            "\u001b[0;31mFileNotFoundError\u001b[0m: [Errno 2] No such file or directory: 'My Drive/Colab Noteboooks/Preprocessed_images.csv'"
          ]
        }
      ],
      "source": [
        "###One time export\n",
        "from google.colab import drive\n",
        "\n",
        "# drive.mount('/content/drive')\n",
        "path = 'My Drive/Colab Noteboooks/Preprocessed_images.csv'\n",
        "\n",
        "with open(path, 'w', encoding = 'utf-8-sig') as f:\n",
        "  df_images_preprocessed.to_csv(f)\n",
        "\n",
        "# df_images_preprocessed.to_csv(\"Preprocessed_images.csv\")"
      ]
    },
    {
      "cell_type": "markdown",
      "metadata": {
        "id": "bPHucaWcdva3"
      },
      "source": [
        "Save preprocessed images"
      ]
    },
    {
      "cell_type": "code",
      "execution_count": null,
      "metadata": {
        "id": "zus35Bd4Rkju"
      },
      "outputs": [],
      "source": [
        "path = 'My Drive/Preprocessed_images.csv'\n",
        "import ast\n",
        "import numpy as np\n",
        "def from_np_array(array_string):\n",
        "    array_string = ','.join(array_string.replace(\"\\n\",\"\").replace('[ ', '[').split())\n",
        "    #print(array_string)\n",
        "    return array_string\n",
        "    # return np.array(ast.literal_eval(array_string))"
      ]
    },
    {
      "cell_type": "code",
      "execution_count": null,
      "metadata": {
        "id": "dC4spYUuXSyl"
      },
      "outputs": [],
      "source": [
        "df_in=pd.read_csv(path)\n",
        "df_in.head()"
      ]
    },
    {
      "cell_type": "code",
      "execution_count": null,
      "metadata": {
        "id": "aZ_TxRPgqT0k"
      },
      "outputs": [],
      "source": [
        "# df_in[\"image_resized\"]=df_in[\"image_resized\"].apply(lambda x: np.array(ast.literal_eval(x.replace('[ ', '[').replace(' ', ',').replace(',,', '').replace('..', ''))))\n",
        "#new_df['array_col'] = new_df['sample'].apply(lambda x: np.array(literal_eval(x.replace('[ ', '[').replace(' ', ','))))\n"
      ]
    },
    {
      "cell_type": "code",
      "execution_count": null,
      "metadata": {
        "id": "3bGD8IbSSXpY"
      },
      "outputs": [],
      "source": [
        "# df_in[\"image_resized\"]=df_in[\"image_resized\"].apply(lambda x: np.fromstring(x, sep='\\n'))\n",
        "# df_images_preprocessed=df_in.copy()"
      ]
    },
    {
      "cell_type": "markdown",
      "metadata": {
        "id": "lNXCjup3lo4h"
      },
      "source": [
        "Training sets: Multi **model**"
      ]
    },
    {
      "cell_type": "code",
      "execution_count": null,
      "metadata": {
        "id": "Can7KSxrR6UX"
      },
      "outputs": [],
      "source": [
        "X=df_images_preprocessed[\"image_resized\"].array\n",
        "X=np.asarray(list(X)).astype(np.float32)\n",
        "df_images_preprocessed[\"dress_type_num\"]=df_images_preprocessed[\"dress_type\"].replace([\"top\",\"bottom\",\"one_piece\"],[0,1,2])\n",
        "df_images_preprocessed[\"broad_design_num\"]=df_images_preprocessed[\"broad_design\"].replace([\"Print\",\"Knit\",\"Classic\"],[0,1,2])\n",
        "df_images_preprocessed[\"dress_occasion_num\"]=df_images_preprocessed[\"dress_ocassion\"].replace([\"formal\",\"casual\",\"sporty\"],[0,1,2])\n",
        "\n",
        "y=df_images_preprocessed[[\"dress_type_num\",\"broad_design_num\",\"dress_occasion_num\"]]\n",
        "\n",
        "y_1=to_categorical(y[\"dress_type_num\"])\n",
        "\n",
        "y_2=to_categorical(y[\"broad_design_num\"])\n",
        "\n",
        "y_3=to_categorical(y[\"dress_occasion_num\"])"
      ]
    },
    {
      "cell_type": "code",
      "execution_count": null,
      "metadata": {
        "id": "Ow5HOtFrbARK"
      },
      "outputs": [],
      "source": [
        "len(X)"
      ]
    },
    {
      "cell_type": "markdown",
      "metadata": {
        "id": "cYWE9y_GltWl"
      },
      "source": [
        "raining sets: Print model 2"
      ]
    },
    {
      "cell_type": "code",
      "execution_count": null,
      "metadata": {
        "id": "7_VtCC0Elvmw"
      },
      "outputs": [],
      "source": [
        "df_images_prep_model2=df_images_preprocessed[df_images_preprocessed[\"broad_design\"]==\"Print\"]\n",
        "X_p=df_images_prep_model2[\"image_resized\"].array\n",
        "X_p=np.asarray(list(X_p)).astype(np.float32)\n",
        "#'Other prints', 'Floral', 'Dotted', 'Graphic', 'Boxed'\n",
        "df_images_prep_model2[\"print_type_num\"]=df_images_prep_model2[\"print_type\"].replace(['Floral', 'Dotted', 'Graphic', 'Boxed','Other prints'],[0,1,2,3,4])\n",
        "\n",
        "y_p=df_images_prep_model2[[\"print_type_num\"]]\n",
        "\n",
        "y_p1=to_categorical(y_p[\"print_type_num\"])\n"
      ]
    },
    {
      "cell_type": "code",
      "execution_count": null,
      "metadata": {
        "id": "NRdel-lGHsyc"
      },
      "outputs": [],
      "source": [
        "model_multi.summary()"
      ]
    },
    {
      "cell_type": "code",
      "execution_count": null,
      "metadata": {
        "id": "ytgfHgMNdvMS"
      },
      "outputs": [],
      "source": [
        "model_print.summary()"
      ]
    },
    {
      "cell_type": "markdown",
      "metadata": {
        "id": "QKV3cON9ehkA"
      },
      "source": [
        "Save architecture diagrams"
      ]
    },
    {
      "cell_type": "code",
      "execution_count": null,
      "metadata": {
        "id": "_kD4lcoZ-6lq"
      },
      "outputs": [],
      "source": [
        "keras.utils.plot_model(model_multi, \"MyDrive/my_first_model.png\")\n",
        "keras.utils.plot_model(model_print, \"MyDrive/My_print_model.png\")"
      ]
    },
    {
      "cell_type": "code",
      "execution_count": null,
      "metadata": {
        "id": "7d4K_38tvKk8"
      },
      "outputs": [],
      "source": []
    },
    {
      "cell_type": "code",
      "execution_count": null,
      "metadata": {
        "id": "EzDUqfCC-ypp"
      },
      "outputs": [],
      "source": [
        "X.shape,y_1.shape,y_2.shape,y_3.shape"
      ]
    },
    {
      "cell_type": "markdown",
      "metadata": {
        "id": "qgDGxGWuepUt"
      },
      "source": [
        "**Train models**"
      ]
    },
    {
      "cell_type": "markdown",
      "metadata": {
        "id": "K6YPWhA6vhRj"
      },
      "source": [
        "Train multioutput model"
      ]
    },
    {
      "cell_type": "code",
      "execution_count": null,
      "metadata": {
        "id": "iegmPqYCUi3C"
      },
      "outputs": [],
      "source": [
        "x = X.reshape(len(X), 32*32*3).astype(np.float32) / 255\n",
        "\n",
        "model_multi.compile(\n",
        "    loss=keras.losses.CategoricalCrossentropy(from_logits=True),\n",
        "    optimizer=keras.optimizers.SGD(),\n",
        "    metrics=[\"accuracy\"],\n",
        ")\n",
        "\n",
        "history = model_multi.fit(x, [y_1,y_2,y_3], batch_size=32, epochs=100, validation_split=0.25)"
      ]
    },
    {
      "cell_type": "markdown",
      "metadata": {
        "id": "u4aKTBlyeyo-"
      },
      "source": [
        "Predicting the multi- labels from multi output model"
      ]
    },
    {
      "cell_type": "code",
      "execution_count": null,
      "metadata": {
        "id": "TsQ1vdnb9-Fw"
      },
      "outputs": [],
      "source": [
        "# ##Testing the model"
      ]
    },
    {
      "cell_type": "code",
      "execution_count": null,
      "metadata": {
        "id": "y7NtuQnXZ0wn"
      },
      "outputs": [],
      "source": [
        "df_validation=df_images[~df_images[\"image_path\"].isin(df_images_rel[\"image_path\"].unique())].sample(n=2000)\n",
        "df_validation=preprocess_resize(df_validation)"
      ]
    },
    {
      "cell_type": "code",
      "execution_count": null,
      "metadata": {
        "id": "BodLwkfAjE1z"
      },
      "outputs": [],
      "source": [
        "X_val=df_validation[\"image_resized\"].array\n",
        "X_val=np.asarray(list(X_val)).astype(np.float32)\n",
        "X_val=X_val.reshape(len(X_val), 32*32*3).astype(np.float32) / 255\n",
        "df_validation[\"dress_type_num\"]=df_validation[\"dress_type\"].replace([\"top\",\"bottom\",\"one_piece\"],[0,1,2])\n",
        "df_validation[\"broad_design_num\"]=df_validation[\"broad_design\"].replace([\"Print\",\"Knit\",\"Classic\"],[0,1,2])\n",
        "df_validation[\"dress_occasion_num\"]=df_validation[\"dress_ocassion\"].replace([\"formal\",\"casual\",\"sporty\"],[0,1,2])\n",
        "\n",
        "y_val1=df_validation[\"dress_type_num\"]\n",
        "y_val2=df_validation[\"broad_design_num\"]\n",
        "y_val3=df_validation[\"dress_occasion_num\"]"
      ]
    },
    {
      "cell_type": "code",
      "execution_count": null,
      "metadata": {
        "id": "0WAR2MPehGcK"
      },
      "outputs": [],
      "source": [
        "predictions = model_multi.predict(X_val)"
      ]
    },
    {
      "cell_type": "code",
      "execution_count": null,
      "metadata": {
        "id": "5bpx2KFohh9O"
      },
      "outputs": [],
      "source": [
        "[argmax(to_categorical(x, k))) for x in predictions]"
      ]
    },
    {
      "cell_type": "markdown",
      "metadata": {
        "id": "EulI7rzovmS5"
      },
      "source": []
    },
    {
      "cell_type": "code",
      "execution_count": null,
      "metadata": {
        "id": "YhNd_tp0h_2W"
      },
      "outputs": [],
      "source": [
        "\n",
        "# X_val=df_validation[\"image_resized\"].array\n",
        "# X_val=np.asarray(list(X_val)).astype(np.float32)\n",
        "# X_val=X_val.reshape(len(X_val), 32*32*3).astype(np.float32) / 255\n",
        "# df_validation[\"dress_type_num\"]=df_validation[\"dress_type\"].replace([\"top\",\"bottom\",\"one_piece\"],[0,1,2])\n",
        "# df_validation[\"broad_design_num\"]=df_validation[\"broad_design\"].replace([\"Print\",\"Knit\",\"Classic\"],[0,1,2])\n",
        "\n",
        "# y_val1=np.array(df_validation[\"dress_type_num\"])\n",
        "# y_val2=np.array(df_images_preprocessed[\"broad_design_num\"])\n",
        "# y_predict=model_multi.predict(X_val)\n"
      ]
    },
    {
      "cell_type": "code",
      "execution_count": null,
      "metadata": {
        "id": "xLAWJCVXeRLI"
      },
      "outputs": [],
      "source": [
        "y_predict1=predictions[0]\n",
        "y_predict_val1=np.array([list(y).index(max(list(y))) for y in list(y_predict1)])\n",
        "##argmax(to_categorical(x, k)))\n",
        "\n",
        "y_predict2=predictions[1]\n",
        "y_predict_val2=np.array([list(y).index(max(list(y))) for y in list(y_predict2)])\n",
        "\n",
        "\n",
        "y_predict3=predictions[2]\n",
        "y_predict_val3=np.array([list(y).index(max(list(y))) for y in list(y_predict3)])\n",
        "\n",
        "df_validation[\"y_predict_val1\"]=y_predict_val1\n",
        "df_validation[\"y_predict_val2\"]=y_predict_val2\n",
        "df_validation[\"y_predict_val3\"]=y_predict_val3\n",
        "\n",
        "df_validation[\"y_predict_val_dress_type\"]=df_validation[\"y_predict_val1\"].replace([0,1,2],[\"top\",\"bottom\",\"one_piece\"])\n",
        "df_validation[\"y_predict_val_broad_design\"]=df_validation[\"y_predict_val2\"].replace([0,1,2],[\"Print\",\"Knit\",\"Classic\"])\n",
        "df_validation[\"y_predict_val_dress_occassion\"]=df_validation[\"y_predict_val3\"].replace([0,1,2],[\"formal\",\"casual\",\"sporty\"])\n"
      ]
    },
    {
      "cell_type": "markdown",
      "metadata": {
        "id": "UIMv9OQLgVAp"
      },
      "source": [
        "Next part of the model: if broad_design: Print"
      ]
    },
    {
      "cell_type": "markdown",
      "metadata": {
        "id": "FRm517JovzVT"
      },
      "source": [
        "Train print model"
      ]
    },
    {
      "cell_type": "code",
      "execution_count": null,
      "metadata": {
        "id": "hQAajCQSeYZV"
      },
      "outputs": [],
      "source": [
        "x_p = X_p.reshape(len(X_p), 32*32*3).astype(np.float32) / 255\n",
        "model_print.compile(\n",
        "    loss=keras.losses.CategoricalCrossentropy(from_logits=True),\n",
        "    optimizer=keras.optimizers.SGD(),\n",
        "    metrics=[\"accuracy\"],\n",
        ")\n",
        "\n",
        "history = model_print.fit(x_p, y_p1, batch_size=32, epochs=100, validation_split=0.25)"
      ]
    },
    {
      "cell_type": "markdown",
      "metadata": {
        "id": "Fr38rJmj-oZt"
      },
      "source": [
        "Save model to Google drive"
      ]
    },
    {
      "cell_type": "code",
      "execution_count": null,
      "metadata": {
        "id": "6VG0CHeB-lT7"
      },
      "outputs": [],
      "source": [
        "model_multi.save(\"MyDrive/Multi_output_cloth_model.h5\")\n",
        "model_print.save(\"MyDrive/Print_predictor_model.h5\")\n"
      ]
    },
    {
      "cell_type": "code",
      "execution_count": null,
      "metadata": {
        "id": "7fxgQJNqZy70"
      },
      "outputs": [],
      "source": [
        "np.array([2,3,4]).tolist()"
      ]
    },
    {
      "cell_type": "code",
      "execution_count": null,
      "metadata": {
        "id": "d3bCgqaaWGPZ"
      },
      "outputs": [],
      "source": [
        "df_images_preprocessed[\"image_resized_list\"]=df_images_preprocessed[\"image_resized\"].apply(lambda x: x.tolist())\n",
        "df_images_preprocessed.to_csv('MyDrive/Preprocessed_images.csv')\n"
      ]
    },
    {
      "cell_type": "markdown",
      "metadata": {
        "id": "Tnl-dNU-wmIJ"
      },
      "source": [
        "Evaluation: Multi model"
      ]
    },
    {
      "cell_type": "code",
      "execution_count": null,
      "metadata": {
        "id": "9kWo1wganX_V"
      },
      "outputs": [],
      "source": [
        "####Evaluation"
      ]
    },
    {
      "cell_type": "code",
      "execution_count": null,
      "metadata": {
        "id": "MOsYN3gvZbAT"
      },
      "outputs": [],
      "source": [
        "from sklearn.metrics import accuracy_score, confusion_matrix\n",
        "accuracy_score(y_predict_val1,y_val1),accuracy_score(y_predict_val2,y_val2),accuracy_score(y_predict_val3,y_val3)"
      ]
    },
    {
      "cell_type": "code",
      "execution_count": null,
      "metadata": {
        "id": "jFEKN16cpdTl"
      },
      "outputs": [],
      "source": [
        "confusion_matrix(df_validation[\"dress_type\"],df_validation[\"y_predict_val_dress_type\"])"
      ]
    },
    {
      "cell_type": "code",
      "execution_count": null,
      "metadata": {
        "id": "gLR8TfFbqaXI"
      },
      "outputs": [],
      "source": [
        "import seaborn as sns\n",
        "import matplotlib.pyplot as plt\n",
        "\n",
        "sns.heatmap(confusion_matrix(df_validation[\"dress_type\"],df_validation[\"y_predict_val_dress_type\"]), annot=True,fmt='.3g')\n",
        "plt.xlabel('True') # x-axis label with fontsize 15\n",
        "plt.ylabel('Predicted')#, fontsize = 15)"
      ]
    },
    {
      "cell_type": "code",
      "execution_count": null,
      "metadata": {
        "id": "bf-VLEz0qJ8d"
      },
      "outputs": [],
      "source": [
        "sns.heatmap(confusion_matrix(df_validation[\"dress_ocassion\"],df_validation[\"y_predict_val_dress_occassion\"]), annot=True, fmt='.3g')\n",
        "plt.xlabel('True') # x-axis label with fontsize 15\n",
        "plt.ylabel('Predicted')\n"
      ]
    },
    {
      "cell_type": "code",
      "execution_count": null,
      "metadata": {
        "id": "ta02i1qh15bi"
      },
      "outputs": [],
      "source": [
        "sns.heatmap(confusion_matrix(df_validation[\"broad_design\"],df_validation[\"y_predict_val_broad_design\"]), annot=True, fmt='.3g')\n",
        "plt.xlabel('True') # x-axis label with fontsize 15\n",
        "plt.ylabel('Predicted')"
      ]
    },
    {
      "cell_type": "code",
      "execution_count": null,
      "metadata": {
        "id": "pZY4Iy3E3bG-"
      },
      "outputs": [],
      "source": [
        "##Show result\n",
        "n=np.random.randint(2000)\n",
        "print(\"Predicted label: \"+list(df_validation[\"y_predict_val_dress_type\"])[n]+\" while real label: \"+list(df_validation[\"dress_type\"])[n])\n",
        "print(\"--------------------------------------------------------------------------------------------------------------------------------------\")\n",
        "\n",
        "print(\"Predicted label: \"+list(df_validation[\"y_predict_val_dress_occassion\"])[n]+\" while real label: \"+list(df_validation[\"dress_ocassion\"])[n])\n",
        "print(\"--------------------------------------------------------------------------------------------------------------------------------------\")\n",
        "print(\"Predicted label: \"+list(df_validation[\"y_predict_val_broad_design\"])[n]+\" while real label: \"+list(df_validation[\"broad_design\"])[n],\"Full name: \"+list(df_validation[\"image_path\"])[n].split(\"/\")[3])\n",
        "print(\"--------------------------------------------------------------------------------------------------------------------------------------\")\n",
        "\n",
        "PIL.Image.open(list(df_validation[\"image_path\"])[n])\n"
      ]
    },
    {
      "cell_type": "code",
      "execution_count": null,
      "metadata": {
        "id": "HXyzVbgL3ld6"
      },
      "outputs": [],
      "source": [
        "PIL.Image.open(list(df_validation[df_validation[\"y_predict_val_broad_design\"]==\"Striped\"][\"image_path\"])[4])\n"
      ]
    },
    {
      "cell_type": "markdown",
      "metadata": {
        "id": "Uop1BkpfYOsN"
      },
      "source": [
        "Evaluation: Print model"
      ]
    },
    {
      "cell_type": "code",
      "execution_count": null,
      "metadata": {
        "id": "sZ2nQfznYQsY"
      },
      "outputs": [],
      "source": [
        "df_validation_print=df_validation[df_validation[\"y_predict_val_broad_design\"]==\"Print\"]\n",
        "X_val_p=df_validation_print[\"image_resized\"].array\n",
        "X_val_p=np.asarray(list(X_val_p)).astype(np.float32)\n",
        "X_val_p=X_val_p.reshape(len(X_val_p), 32*32*3).astype(np.float32) / 255\n",
        "df_validation_print[\"print_type_num\"]=df_validation_print[\"print_type\"].replace(['Floral', 'Dotted', 'Graphic', 'Boxed','Other prints'],[0,1,2,3,4])\n",
        "\n",
        "y_valp1=df_validation_print[\"print_type_num\"]\n",
        "y_predict_p=model_print.predict(X_val_p)"
      ]
    },
    {
      "cell_type": "code",
      "execution_count": null,
      "metadata": {
        "id": "T5XvuaVHaaLw"
      },
      "outputs": [],
      "source": [
        "y_predict1_p=y_predict_p\n",
        "y_predict_val1_p=np.array([list(y).index(max(list(y))) for y in list(y_predict1_p)])\n",
        "df_validation_print[\"y_predict_val_p\"]=y_predict_val1_p\n",
        "df_validation_print[\"y_predict_val_print_type\"]=df_validation_print[\"y_predict_val_p\"].replace([0,1,2,3,4],['Floral', 'Dotted', 'Graphic', 'Boxed','Other prints'])"
      ]
    },
    {
      "cell_type": "code",
      "execution_count": null,
      "metadata": {
        "id": "aCKkr8LTbI5q"
      },
      "outputs": [],
      "source": [
        "accuracy_score(y_predict_val1_p,y_valp1.replace(\"NA\",5))#,accuracy_score(y_predict_val2,y_val2),accuracy_score(y_predict_val3,y_val3)"
      ]
    },
    {
      "cell_type": "code",
      "execution_count": null,
      "metadata": {
        "id": "azmgnbhgiO0s"
      },
      "outputs": [],
      "source": []
    }
  ],
  "metadata": {
    "colab": {
      "collapsed_sections": [],
      "name": "Multi_output_dnn.ipynb",
      "provenance": [],
      "include_colab_link": true
    },
    "kernelspec": {
      "display_name": "Python 3",
      "name": "python3"
    },
    "language_info": {
      "name": "python"
    }
  },
  "nbformat": 4,
  "nbformat_minor": 0
}